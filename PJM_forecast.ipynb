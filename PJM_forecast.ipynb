{
 "cells": [
  {
   "cell_type": "code",
   "execution_count": null,
   "metadata": {},
   "outputs": [],
   "source": [
    "import pandas as pd\n",
    "import numpy as np\n",
    "import plotly.express as px\n",
    "from bs4 import BeautifulSoup \n",
    "import requests\n",
    "\n",
    "from RGGI_plant_analysis import RGGI_capacity"
   ]
  },
  {
   "cell_type": "code",
   "execution_count": null,
   "metadata": {},
   "outputs": [],
   "source": [
    "next_update_time,recent_report,report_month,report_year,date_of_last_report  =RGGI_capacity().scrape_recent_EIA_860m(lagged_report=1)"
   ]
  },
  {
   "cell_type": "code",
   "execution_count": null,
   "metadata": {},
   "outputs": [],
   "source": [
    "plants = pd.read_excel(recent_report,sheet_name='Operating')\n",
    "header_col = plants[(plants.iloc[:,0]=='Entity ID')==True].index[0]\n",
    "plants = pd.read_excel(recent_report,sheet_name='Operating',header=header_col+1)\n",
    "plants['report_month'] = report_month\n",
    "plants['report_year'] = report_year\n",
    "plants = plants.dropna(subset=['Plant Name'])\n",
    "PJM_plants =  plants.query(f'`Balancing Authority Code`==\"PJM\" ')\n",
    "full_tech_list = plants.Technology.unique()\n",
    "\n",
    "PJM_plants = RGGI_capacity().analyse_RGGI_capacity(PJM_plants)"
   ]
  },
  {
   "cell_type": "code",
   "execution_count": null,
   "metadata": {},
   "outputs": [],
   "source": [
    "planned = pd.read_excel(recent_report,sheet_name='Planned',header=2)\n",
    "PJM_planned = planned.query(f'`Balancing Authority Code`==\"PJM\"')\n",
    "PJM_planned['rggi_state'] = np.where(PJM_planned['Plant State'].isin(RGGI_capacity().RGGI_states),1,0)\n",
    "RGGI_PJM_planned = PJM_planned.query('rggi_state==1 and `Nameplate Capacity (MW)`>25') \n",
    "additions,approved_additions,not_yet_approved_additions = RGGI_capacity().analyse_RGGI_planned_capacity(PJM_planned)\n",
    "pjm_rggi_additions,pjm_rggi_approved_additions,pjm_rggi_not_yet_approved_additions = RGGI_capacity().analyse_RGGI_planned_capacity(RGGI_PJM_planned)"
   ]
  },
  {
   "cell_type": "code",
   "execution_count": null,
   "metadata": {},
   "outputs": [],
   "source": []
  },
  {
   "cell_type": "code",
   "execution_count": null,
   "metadata": {},
   "outputs": [],
   "source": [
    "planned_fossil_retirments_fig,all_planned_capacity_fig,approved_capacity_fig, not_yet_approved_capacity_fig = RGGI_capacity().RGGI_capacity_charts(PJM_plants,additions,approved_additions,not_yet_approved_additions)"
   ]
  },
  {
   "cell_type": "code",
   "execution_count": null,
   "metadata": {},
   "outputs": [],
   "source": [
    "planned_fossil_retirments_fig"
   ]
  },
  {
   "cell_type": "code",
   "execution_count": null,
   "metadata": {},
   "outputs": [],
   "source": [
    "all_planned_capacity_fig"
   ]
  },
  {
   "cell_type": "code",
   "execution_count": null,
   "metadata": {},
   "outputs": [],
   "source": [
    "approved_capacity_fig"
   ]
  },
  {
   "cell_type": "code",
   "execution_count": null,
   "metadata": {},
   "outputs": [],
   "source": [
    "not_yet_approved_capacity_fig"
   ]
  },
  {
   "cell_type": "code",
   "execution_count": null,
   "metadata": {},
   "outputs": [],
   "source": [
    "PJM_plants['rggi_state'] = np.where(PJM_plants['Plant State'].isin(RGGI_capacity().RGGI_states),1,0)\n",
    "\n",
    "PJM_RGGI_plants = PJM_plants.query('rggi_state==1 and `Nameplate Capacity (MW)`>25')"
   ]
  },
  {
   "cell_type": "code",
   "execution_count": null,
   "metadata": {},
   "outputs": [],
   "source": [
    "rggi_plus_retirements_plus_additions_timeseries, time_series_capacity_fig = RGGI_capacity().estimated_timeseries_capacity(PJM_plants,full_tech_list,additions,date_of_last_report,PJM_retiredates=True)"
   ]
  },
  {
   "cell_type": "code",
   "execution_count": null,
   "metadata": {},
   "outputs": [],
   "source": [
    "rggi_pjm_rggi_plus_retirements_plus_additions_timeseries, rggi_pjm_time_series_capacity_fig = RGGI_capacity().estimated_timeseries_capacity(PJM_RGGI_plants,full_tech_list,pjm_rggi_additions,date_of_last_report,PJM_retiredates=True)"
   ]
  },
  {
   "cell_type": "code",
   "execution_count": null,
   "metadata": {},
   "outputs": [],
   "source": [
    "rggi_share_pjm = rggi_plus_retirements_plus_additions_timeseries.stack().to_frame('PJM').join(rggi_pjm_rggi_plus_retirements_plus_additions_timeseries.stack().to_frame('RGGI_PJM'))"
   ]
  },
  {
   "cell_type": "code",
   "execution_count": null,
   "metadata": {},
   "outputs": [],
   "source": [
    "tech_convert_dict = {'Petroleum Liquids':'Oil',\n",
    "                    'Onshore Wind Turbine':'Wind',\n",
    "       'Conventional Hydroelectric':'Hydro', \n",
    "       'Conventional Steam Coal':'Coal',\n",
    "       'Natural Gas Fired Combined Cycle':'Gas', \n",
    "       'Natural Gas Steam Turbine':'Gas',\n",
    "       'Natural Gas Fired Combustion Turbine':'Gas', \n",
    "       'Nuclear':'Nuclear',\n",
    "       'Hydroelectric Pumped Storage':'Storage',\n",
    "       'Natural Gas Internal Combustion Engine':'Gas', \n",
    "       'Batteries':'Storage',\n",
    "       'Solar Photovoltaic':'Solar', \n",
    "       'Geothermal':'Other Renewables', \n",
    "       'Wood/Wood Waste Biomass':'Other Renewables',\n",
    "       'Coal Integrated Gasification Combined Cycle':'Gas',\n",
    "        'Other Gases':'Gas',\n",
    "       'Petroleum Coke':'Coal', \n",
    "       'Municipal Solid Waste':'Other', \n",
    "       'Landfill Gas':'Other Renewables',\n",
    "       'Natural Gas with Compressed Air Storage':'Gas', \n",
    "       'All Other':'Other',\n",
    "       'Other Waste Biomass':'Other Renewables', \n",
    "       'Solar Thermal without Energy Storage':'Solar',\n",
    "       'Other Natural Gas':'Gas', \n",
    "       'Solar Thermal with Energy Storage':'Solar',\n",
    "       'Flywheels':'Other', \n",
    "       'Offshore Wind Turbine':'Wind', \n",
    "       'Hydrokinetic':'Hydro',\n",
    "       'Other Energy Storage':'Storage'}\n",
    "\n",
    "\n",
    "Fossil_tech = ['Coal','Gas','Oil']"
   ]
  },
  {
   "cell_type": "code",
   "execution_count": null,
   "metadata": {},
   "outputs": [],
   "source": [
    "rggi_share_pjm = rggi_share_pjm.reset_index()#.loc['']"
   ]
  },
  {
   "cell_type": "code",
   "execution_count": null,
   "metadata": {},
   "outputs": [],
   "source": [
    "rggi_share_pjm"
   ]
  },
  {
   "cell_type": "code",
   "execution_count": null,
   "metadata": {},
   "outputs": [],
   "source": []
  },
  {
   "cell_type": "code",
   "execution_count": null,
   "metadata": {},
   "outputs": [],
   "source": [
    "rggi_share_pjm['PJM_tech'] = rggi_share_pjm['level_1'].map(tech_convert_dict)"
   ]
  },
  {
   "cell_type": "code",
   "execution_count": null,
   "metadata": {},
   "outputs": [],
   "source": [
    "rggi_share_pjm = rggi_share_pjm.groupby(['level_0','PJM_tech'])[['PJM','RGGI_PJM']].sum()"
   ]
  },
  {
   "cell_type": "code",
   "execution_count": null,
   "metadata": {},
   "outputs": [],
   "source": [
    "rggi_share_pjm['RGGI_share_PJM'] = rggi_share_pjm['RGGI_PJM']/rggi_share_pjm['PJM']\n",
    "rggi_share_pjm['RGGI_share_PJM'] = rggi_share_pjm['RGGI_share_PJM'].fillna(0)"
   ]
  },
  {
   "cell_type": "code",
   "execution_count": null,
   "metadata": {},
   "outputs": [],
   "source": [
    "rggi_share_pjm"
   ]
  },
  {
   "cell_type": "code",
   "execution_count": null,
   "metadata": {},
   "outputs": [],
   "source": [
    "px.line(rggi_share_pjm.reset_index(),x='level_0',y='RGGI_share_PJM',color='PJM_tech')"
   ]
  },
  {
   "cell_type": "code",
   "execution_count": null,
   "metadata": {},
   "outputs": [],
   "source": [
    "px.line(rggi_share_pjm.loc[:,'Gas',:]['RGGI_share_PJM'])"
   ]
  },
  {
   "cell_type": "code",
   "execution_count": null,
   "metadata": {},
   "outputs": [],
   "source": [
    "time_series_capacity_fig.update_layout(width=1000)"
   ]
  },
  {
   "cell_type": "code",
   "execution_count": null,
   "metadata": {},
   "outputs": [],
   "source": [
    "rggi_pjm_time_series_capacity_fig"
   ]
  },
  {
   "cell_type": "code",
   "execution_count": null,
   "metadata": {},
   "outputs": [],
   "source": []
  }
 ],
 "metadata": {
  "kernelspec": {
   "display_name": "Python 3",
   "language": "python",
   "name": "python3"
  },
  "language_info": {
   "codemirror_mode": {
    "name": "ipython",
    "version": 3
   },
   "file_extension": ".py",
   "mimetype": "text/x-python",
   "name": "python",
   "nbconvert_exporter": "python",
   "pygments_lexer": "ipython3",
   "version": "3.9.13"
  }
 },
 "nbformat": 4,
 "nbformat_minor": 2
}
