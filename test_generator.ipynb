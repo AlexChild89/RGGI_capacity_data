{
 "cells": [
  {
   "cell_type": "code",
   "execution_count": 1,
   "metadata": {},
   "outputs": [],
   "source": [
    "import pandas as pd\n",
    "import numpy as np\n",
    "import plotly.express as px\n",
    "from bs4 import BeautifulSoup \n",
    "import requests\n",
    "from datetime import datetime as dt\n",
    "import plotly.subplots as sp\n",
    "from pandas.tseries.offsets import MonthEnd"
   ]
  },
  {
   "cell_type": "code",
   "execution_count": 2,
   "metadata": {},
   "outputs": [],
   "source": [
    "eia_html = requests.get('https://www.eia.gov/electricity/data/eia923/')\n",
    "soup = BeautifulSoup(eia_html.content,'html.parser')\n",
    "release_dates= soup.find_all('div',class_='release-dates')\n"
   ]
  },
  {
   "cell_type": "code",
   "execution_count": 3,
   "metadata": {},
   "outputs": [],
   "source": [
    "next_update_time = release_dates[0].find_all('span',class_='date')[-1].text"
   ]
  },
  {
   "cell_type": "code",
   "execution_count": 4,
   "metadata": {},
   "outputs": [],
   "source": [
    "monthly_report_links = {}"
   ]
  },
  {
   "cell_type": "code",
   "execution_count": 5,
   "metadata": {},
   "outputs": [],
   "source": [
    "this_year =dt.today().year"
   ]
  },
  {
   "cell_type": "code",
   "execution_count": 6,
   "metadata": {},
   "outputs": [],
   "source": [
    "dates_to_observe = range(this_year-5,this_year+1)"
   ]
  },
  {
   "cell_type": "code",
   "execution_count": 7,
   "metadata": {},
   "outputs": [],
   "source": [
    "for x in soup.find_all('a', href=True):\n",
    "    try:\n",
    "        if int(x.attrs['title']) in dates_to_observe:\n",
    "            monthly_report_links[x.attrs['title']] = x.attrs['href']\n",
    "    except:\n",
    "        pass"
   ]
  },
  {
   "cell_type": "code",
   "execution_count": 8,
   "metadata": {},
   "outputs": [],
   "source": [
    "link_df = pd.DataFrame.from_dict(monthly_report_links,orient='index').sort_index()"
   ]
  },
  {
   "cell_type": "code",
   "execution_count": 9,
   "metadata": {},
   "outputs": [],
   "source": [
    "from zipfile import ZipFile\n",
    "from io import BytesIO\n",
    "from urllib.request import urlopen\n",
    "\n",
    "from RGGI_plant_analysis import RGGI_capacity"
   ]
  },
  {
   "cell_type": "code",
   "execution_count": 10,
   "metadata": {},
   "outputs": [
    {
     "name": "stdout",
     "output_type": "stream",
     "text": [
      "EIA923_Schedules_2_3_4_5_M_12_2019_Final_Revision.xlsx\n",
      "Page 1 Energy Storage\n",
      "Page 1 Generation and Fuel Data\n",
      "Page 1 Puerto Rico\n",
      "Page 2 Coal Stocks Data\n",
      "Page 2 Oil Stocks Data\n",
      "Page 2 Petcoke Stocks Data\n",
      "Page 2 Stocks Data\n",
      "Page 3 Boiler Fuel Data\n",
      "Page 4 Generator Data\n",
      "Page 5 Fuel Receipts and Costs\n",
      "Page 6 Plant Frame\n",
      "Page 6 Plant Frame Puerto Rico\n",
      "EIA923_Schedules_2_3_4_5_M_12_2020_Final_Revision.xlsx\n",
      "Page 1 Generation and Fuel Data\n",
      "Page 1 Energy Storage\n",
      "Page 1 Puerto Rico\n",
      "Page 2 Coal Stocks Data\n",
      "Page 2 Oil Stocks Data\n",
      "Page 2 Petcoke Stocks Data\n",
      "Page 2 Stocks Data\n",
      "Page 3 Boiler Fuel Data\n",
      "Page 4 Generator Data\n",
      "Page 5 Fuel Receipts and Costs\n",
      "Page 6 Plant Frame\n",
      "Page 6 Plant Frame Puerto Rico\n",
      "EIA923_Schedules_2_3_4_5_M_12_2021_Final_Revision.xlsx\n",
      "Page 1 Energy Storage\n",
      "Page 1 Generation and Fuel Data\n",
      "Page 1 Puerto Rico\n",
      "Page 2 Coal Stocks Data\n",
      "Page 2 Oil Stocks Data\n",
      "Page 2 Petcoke Stocks Data\n",
      "Page 2 Stocks Data\n",
      "Page 3 Boiler Fuel Data\n",
      "Page 4 Generator Data\n",
      "Page 5 Fuel Receipts and Costs\n",
      "Page 6 Plant Frame\n",
      "Page 6 Plant Frame Puerto Rico\n",
      "EIA923_Schedules_2_3_4_5_M_12_2022_Final_Revision.xlsx\n",
      "Page 1 Energy Storage\n",
      "Page 1 Generation and Fuel Data\n",
      "Page 1 Puerto Rico\n",
      "Page 2 Coal Stocks Data\n",
      "Page 2 Oil Stocks Data\n",
      "Page 2 Stocks Data\n",
      "Page 3 Boiler Fuel Data\n",
      "Page 4 Generator Data\n",
      "Page 5 Fuel Receipts and Costs\n",
      "Page 6 Plant Frame\n",
      "Page 6 Plant Frame Puerto Rico\n",
      "EIA923_Schedules_2_3_4_5_M_12_2023_Final.xlsx\n",
      "Page 1 Energy Storage\n",
      "Page 1 Generation and Fuel Data\n",
      "Page 1 Puerto Rico\n",
      "Page 2 Oil Stocks Data\n",
      "Page 2 Stocks Data\n",
      "Page 3 Boiler Fuel Data\n",
      "Page 4 Generator Data\n",
      "Page 5 Fuel Receipts and Costs\n",
      "Page 6 Plant Frame\n",
      "Page 6 Plant Frame Puerto Rico\n",
      "EIA923_Schedules_2_3_4_5_M_09_2024_19NOV2024.xlsx\n",
      "Page 1 Energy Storage\n",
      "Page 1 Generation and Fuel Data\n",
      "Page 1 Puerto Rico\n",
      "Page 2 Oil Stocks Data\n",
      "Page 2 Stocks Data\n",
      "Page 3 Boiler Fuel Data\n",
      "Page 4 Generator Data\n",
      "Page 5 Fuel Receipts and Costs\n",
      "Page 6 Plant Frame\n",
      "Page 6 Plant Frame Puerto Rico\n"
     ]
    }
   ],
   "source": [
    "mega_gen_fuel_df = pd.DataFrame()\n",
    "for year in link_df.index:\n",
    "    resp = urlopen('https://www.eia.gov/electricity/data/eia923/'+link_df.loc[year][0])\n",
    "    myzip = ZipFile(BytesIO(resp.read()))\n",
    "    for  x in myzip.filelist:\n",
    "        if 'EIA923_Schedules_2_3_4_5_M' in x.filename:\n",
    "            print(x.filename)\n",
    "            gen_file = pd.ExcelFile(myzip.open(x))\n",
    "            gen_fuel_df = pd.read_excel(gen_file,sheet_name='Page 1 Generation and Fuel Data',header=5)\n",
    "            gen_fuel_df = gen_fuel_df.dropna(subset=['Plant Name'])\n",
    "\n",
    "            mega_gen_fuel_df = pd.concat([mega_gen_fuel_df,gen_fuel_df],axis=0)"
   ]
  },
  {
   "cell_type": "code",
   "execution_count": 11,
   "metadata": {},
   "outputs": [],
   "source": [
    "### Capacity\n",
    "def save_historical_capacity_per_plant():\n",
    "    time_series_historical_capacity = pd.DataFrame()\n",
    "    for x in range(1,12*6):\n",
    "        next_update_time,recent_report,report_month,report_year  =RGGI_capacity().scrape_recent_EIA_860m(lagged_report=x)\n",
    "        capacity = RGGI_capacity().analyse_all_capacity(recent_report,report_month,report_year)\n",
    "        time_series_historical_capacity = pd.concat([time_series_historical_capacity,capacity],axis=0)\n",
    "\n",
    "    time_series_historical_capacity.to_pickle('full_capacity_series.pkl')\n",
    "\n",
    "    return time_series_historical_capacity"
   ]
  },
  {
   "cell_type": "code",
   "execution_count": 12,
   "metadata": {},
   "outputs": [],
   "source": [
    "#time_series_historical_capacity = save_historical_capacity_per_plant()"
   ]
  },
  {
   "cell_type": "code",
   "execution_count": 13,
   "metadata": {},
   "outputs": [],
   "source": [
    "time_series_historical_capacity = pd.read_pickle('full_capacity_series.pkl')"
   ]
  },
  {
   "cell_type": "code",
   "execution_count": 14,
   "metadata": {},
   "outputs": [
    {
     "data": {
      "text/html": [
       "<div>\n",
       "<style scoped>\n",
       "    .dataframe tbody tr th:only-of-type {\n",
       "        vertical-align: middle;\n",
       "    }\n",
       "\n",
       "    .dataframe tbody tr th {\n",
       "        vertical-align: top;\n",
       "    }\n",
       "\n",
       "    .dataframe thead th {\n",
       "        text-align: right;\n",
       "    }\n",
       "</style>\n",
       "<table border=\"1\" class=\"dataframe\">\n",
       "  <thead>\n",
       "    <tr style=\"text-align: right;\">\n",
       "      <th></th>\n",
       "      <th></th>\n",
       "      <th></th>\n",
       "      <th></th>\n",
       "      <th></th>\n",
       "      <th></th>\n",
       "      <th>Nameplate Capacity (MW)</th>\n",
       "    </tr>\n",
       "    <tr>\n",
       "      <th>Plant ID</th>\n",
       "      <th>Energy Source Code</th>\n",
       "      <th>Prime Mover Code</th>\n",
       "      <th>Plant State</th>\n",
       "      <th>report_month</th>\n",
       "      <th>report_year</th>\n",
       "      <th></th>\n",
       "    </tr>\n",
       "  </thead>\n",
       "  <tbody>\n",
       "    <tr>\n",
       "      <th rowspan=\"2\" valign=\"top\">1.0</th>\n",
       "      <th>DFO</th>\n",
       "      <th>IC</th>\n",
       "      <th>AK</th>\n",
       "      <th>9</th>\n",
       "      <th>2024</th>\n",
       "      <td>2.7</td>\n",
       "    </tr>\n",
       "    <tr>\n",
       "      <th>WND</th>\n",
       "      <th>WT</th>\n",
       "      <th>AK</th>\n",
       "      <th>9</th>\n",
       "      <th>2024</th>\n",
       "      <td>1.0</td>\n",
       "    </tr>\n",
       "    <tr>\n",
       "      <th>2.0</th>\n",
       "      <th>WAT</th>\n",
       "      <th>HY</th>\n",
       "      <th>AL</th>\n",
       "      <th>9</th>\n",
       "      <th>2024</th>\n",
       "      <td>53.9</td>\n",
       "    </tr>\n",
       "    <tr>\n",
       "      <th rowspan=\"2\" valign=\"top\">3.0</th>\n",
       "      <th>BIT</th>\n",
       "      <th>ST</th>\n",
       "      <th>AL</th>\n",
       "      <th>9</th>\n",
       "      <th>2024</th>\n",
       "      <td>1192.5</td>\n",
       "    </tr>\n",
       "    <tr>\n",
       "      <th>NG</th>\n",
       "      <th>CA</th>\n",
       "      <th>AL</th>\n",
       "      <th>9</th>\n",
       "      <th>2024</th>\n",
       "      <td>700.4</td>\n",
       "    </tr>\n",
       "    <tr>\n",
       "      <th>...</th>\n",
       "      <th>...</th>\n",
       "      <th>...</th>\n",
       "      <th>...</th>\n",
       "      <th>...</th>\n",
       "      <th>...</th>\n",
       "      <td>...</td>\n",
       "    </tr>\n",
       "    <tr>\n",
       "      <th>62264.0</th>\n",
       "      <th>SUN</th>\n",
       "      <th>PV</th>\n",
       "      <th>MA</th>\n",
       "      <th>11</th>\n",
       "      <th>2018</th>\n",
       "      <td>1.2</td>\n",
       "    </tr>\n",
       "    <tr>\n",
       "      <th>62265.0</th>\n",
       "      <th>SUN</th>\n",
       "      <th>PV</th>\n",
       "      <th>MA</th>\n",
       "      <th>11</th>\n",
       "      <th>2018</th>\n",
       "      <td>1.9</td>\n",
       "    </tr>\n",
       "    <tr>\n",
       "      <th>62266.0</th>\n",
       "      <th>SUN</th>\n",
       "      <th>PV</th>\n",
       "      <th>MA</th>\n",
       "      <th>11</th>\n",
       "      <th>2018</th>\n",
       "      <td>1.1</td>\n",
       "    </tr>\n",
       "    <tr>\n",
       "      <th>62270.0</th>\n",
       "      <th>DFO</th>\n",
       "      <th>IC</th>\n",
       "      <th>NY</th>\n",
       "      <th>11</th>\n",
       "      <th>2018</th>\n",
       "      <td>8.0</td>\n",
       "    </tr>\n",
       "    <tr>\n",
       "      <th>62271.0</th>\n",
       "      <th>DFO</th>\n",
       "      <th>IC</th>\n",
       "      <th>NY</th>\n",
       "      <th>11</th>\n",
       "      <th>2018</th>\n",
       "      <td>4.5</td>\n",
       "    </tr>\n",
       "  </tbody>\n",
       "</table>\n",
       "<p>879099 rows × 1 columns</p>\n",
       "</div>"
      ],
      "text/plain": [
       "                                                                                   Nameplate Capacity (MW)\n",
       "Plant ID Energy Source Code Prime Mover Code Plant State report_month report_year                         \n",
       "1.0      DFO                IC               AK          9            2024                             2.7\n",
       "         WND                WT               AK          9            2024                             1.0\n",
       "2.0      WAT                HY               AL          9            2024                            53.9\n",
       "3.0      BIT                ST               AL          9            2024                          1192.5\n",
       "         NG                 CA               AL          9            2024                           700.4\n",
       "...                                                                                                    ...\n",
       "62264.0  SUN                PV               MA          11           2018                             1.2\n",
       "62265.0  SUN                PV               MA          11           2018                             1.9\n",
       "62266.0  SUN                PV               MA          11           2018                             1.1\n",
       "62270.0  DFO                IC               NY          11           2018                             8.0\n",
       "62271.0  DFO                IC               NY          11           2018                             4.5\n",
       "\n",
       "[879099 rows x 1 columns]"
      ]
     },
     "execution_count": 14,
     "metadata": {},
     "output_type": "execute_result"
    }
   ],
   "source": [
    "time_series_historical_capacity"
   ]
  },
  {
   "cell_type": "code",
   "execution_count": 15,
   "metadata": {},
   "outputs": [],
   "source": [
    "gen_cols = list(mega_gen_fuel_df.columns[['Netgen' in x for x in mega_gen_fuel_df.columns]])"
   ]
  },
  {
   "cell_type": "code",
   "execution_count": 16,
   "metadata": {},
   "outputs": [
    {
     "data": {
      "text/html": [
       "<div>\n",
       "<style scoped>\n",
       "    .dataframe tbody tr th:only-of-type {\n",
       "        vertical-align: middle;\n",
       "    }\n",
       "\n",
       "    .dataframe tbody tr th {\n",
       "        vertical-align: top;\n",
       "    }\n",
       "\n",
       "    .dataframe thead th {\n",
       "        text-align: right;\n",
       "    }\n",
       "</style>\n",
       "<table border=\"1\" class=\"dataframe\">\n",
       "  <thead>\n",
       "    <tr style=\"text-align: right;\">\n",
       "      <th></th>\n",
       "      <th>Plant Id</th>\n",
       "      <th>Combined Heat And\\nPower Plant</th>\n",
       "      <th>Nuclear Unit Id</th>\n",
       "      <th>Plant Name</th>\n",
       "      <th>Operator Name</th>\n",
       "      <th>Operator Id</th>\n",
       "      <th>Plant State</th>\n",
       "      <th>Census Region</th>\n",
       "      <th>NERC Region</th>\n",
       "      <th>Reserved</th>\n",
       "      <th>...</th>\n",
       "      <th>Netgen\\nNovember</th>\n",
       "      <th>Netgen\\nDecember</th>\n",
       "      <th>Total Fuel Consumption\\nQuantity</th>\n",
       "      <th>Electric Fuel Consumption\\nQuantity</th>\n",
       "      <th>Total Fuel Consumption\\nMMBtu</th>\n",
       "      <th>Elec Fuel Consumption\\nMMBtu</th>\n",
       "      <th>Net Generation\\n(Megawatthours)</th>\n",
       "      <th>YEAR</th>\n",
       "      <th>MER\\nFuel Type Code</th>\n",
       "      <th>Reserved.1</th>\n",
       "    </tr>\n",
       "  </thead>\n",
       "  <tbody>\n",
       "    <tr>\n",
       "      <th>1286</th>\n",
       "      <td>1353</td>\n",
       "      <td>N</td>\n",
       "      <td>.</td>\n",
       "      <td>Big Sandy</td>\n",
       "      <td>Kentucky Power Co</td>\n",
       "      <td>22053</td>\n",
       "      <td>KY</td>\n",
       "      <td>ESC</td>\n",
       "      <td>RFC</td>\n",
       "      <td>NaN</td>\n",
       "      <td>...</td>\n",
       "      <td>42322</td>\n",
       "      <td>101435</td>\n",
       "      <td>8664644</td>\n",
       "      <td>8664644</td>\n",
       "      <td>10603604</td>\n",
       "      <td>10603604</td>\n",
       "      <td>1062894.0</td>\n",
       "      <td>2019</td>\n",
       "      <td>NaN</td>\n",
       "      <td>NaN</td>\n",
       "    </tr>\n",
       "    <tr>\n",
       "      <th>1234</th>\n",
       "      <td>1353</td>\n",
       "      <td>N</td>\n",
       "      <td>.</td>\n",
       "      <td>Big Sandy</td>\n",
       "      <td>Kentucky Power Co</td>\n",
       "      <td>22053</td>\n",
       "      <td>KY</td>\n",
       "      <td>ESC</td>\n",
       "      <td>RFC</td>\n",
       "      <td>NaN</td>\n",
       "      <td>...</td>\n",
       "      <td>89953</td>\n",
       "      <td>71690</td>\n",
       "      <td>7349536</td>\n",
       "      <td>7349536</td>\n",
       "      <td>9042027</td>\n",
       "      <td>9042027</td>\n",
       "      <td>912638.0</td>\n",
       "      <td>2020</td>\n",
       "      <td>NaN</td>\n",
       "      <td>NaN</td>\n",
       "    </tr>\n",
       "    <tr>\n",
       "      <th>1219</th>\n",
       "      <td>1353</td>\n",
       "      <td>N</td>\n",
       "      <td>.</td>\n",
       "      <td>Big Sandy</td>\n",
       "      <td>Kentucky Power Co</td>\n",
       "      <td>22053</td>\n",
       "      <td>KY</td>\n",
       "      <td>ESC</td>\n",
       "      <td>RFC</td>\n",
       "      <td>NaN</td>\n",
       "      <td>...</td>\n",
       "      <td>0</td>\n",
       "      <td>33581</td>\n",
       "      <td>4662496</td>\n",
       "      <td>4662496</td>\n",
       "      <td>5668700</td>\n",
       "      <td>5668700</td>\n",
       "      <td>550541.0</td>\n",
       "      <td>2021</td>\n",
       "      <td>NaN</td>\n",
       "      <td>NaN</td>\n",
       "    </tr>\n",
       "    <tr>\n",
       "      <th>1209</th>\n",
       "      <td>1353</td>\n",
       "      <td>N</td>\n",
       "      <td>.</td>\n",
       "      <td>Big Sandy</td>\n",
       "      <td>Kentucky Power Co</td>\n",
       "      <td>22053</td>\n",
       "      <td>KY</td>\n",
       "      <td>ESC</td>\n",
       "      <td>RFC</td>\n",
       "      <td>NaN</td>\n",
       "      <td>...</td>\n",
       "      <td>0</td>\n",
       "      <td>0</td>\n",
       "      <td>4362565</td>\n",
       "      <td>4362565</td>\n",
       "      <td>5256316</td>\n",
       "      <td>5256316</td>\n",
       "      <td>509951.0</td>\n",
       "      <td>2022</td>\n",
       "      <td>NG</td>\n",
       "      <td>NaN</td>\n",
       "    </tr>\n",
       "    <tr>\n",
       "      <th>1200</th>\n",
       "      <td>1353</td>\n",
       "      <td>N</td>\n",
       "      <td>.</td>\n",
       "      <td>Big Sandy</td>\n",
       "      <td>Kentucky Power Co</td>\n",
       "      <td>22053</td>\n",
       "      <td>KY</td>\n",
       "      <td>ESC</td>\n",
       "      <td>RFC</td>\n",
       "      <td>NaN</td>\n",
       "      <td>...</td>\n",
       "      <td>85554</td>\n",
       "      <td>74131</td>\n",
       "      <td>9881288</td>\n",
       "      <td>9881288</td>\n",
       "      <td>11922022</td>\n",
       "      <td>11922022</td>\n",
       "      <td>1172392.0</td>\n",
       "      <td>2023</td>\n",
       "      <td>NG</td>\n",
       "      <td>NaN</td>\n",
       "    </tr>\n",
       "  </tbody>\n",
       "</table>\n",
       "<p>5 rows × 99 columns</p>\n",
       "</div>"
      ],
      "text/plain": [
       "      Plant Id Combined Heat And\\nPower Plant Nuclear Unit Id Plant Name  \\\n",
       "1286      1353                              N               .  Big Sandy   \n",
       "1234      1353                              N               .  Big Sandy   \n",
       "1219      1353                              N               .  Big Sandy   \n",
       "1209      1353                              N               .  Big Sandy   \n",
       "1200      1353                              N               .  Big Sandy   \n",
       "\n",
       "          Operator Name Operator Id Plant State Census Region NERC Region  \\\n",
       "1286  Kentucky Power Co       22053          KY           ESC         RFC   \n",
       "1234  Kentucky Power Co       22053          KY           ESC         RFC   \n",
       "1219  Kentucky Power Co       22053          KY           ESC         RFC   \n",
       "1209  Kentucky Power Co       22053          KY           ESC         RFC   \n",
       "1200  Kentucky Power Co       22053          KY           ESC         RFC   \n",
       "\n",
       "      Reserved  ...  Netgen\\nNovember  Netgen\\nDecember  \\\n",
       "1286       NaN  ...             42322            101435   \n",
       "1234       NaN  ...             89953             71690   \n",
       "1219       NaN  ...                 0             33581   \n",
       "1209       NaN  ...                 0                 0   \n",
       "1200       NaN  ...             85554             74131   \n",
       "\n",
       "     Total Fuel Consumption\\nQuantity Electric Fuel Consumption\\nQuantity  \\\n",
       "1286                          8664644                             8664644   \n",
       "1234                          7349536                             7349536   \n",
       "1219                          4662496                             4662496   \n",
       "1209                          4362565                             4362565   \n",
       "1200                          9881288                             9881288   \n",
       "\n",
       "     Total Fuel Consumption\\nMMBtu Elec Fuel Consumption\\nMMBtu  \\\n",
       "1286                      10603604                     10603604   \n",
       "1234                       9042027                      9042027   \n",
       "1219                       5668700                      5668700   \n",
       "1209                       5256316                      5256316   \n",
       "1200                      11922022                     11922022   \n",
       "\n",
       "     Net Generation\\n(Megawatthours)  YEAR MER\\nFuel Type Code Reserved.1  \n",
       "1286                       1062894.0  2019                 NaN        NaN  \n",
       "1234                        912638.0  2020                 NaN        NaN  \n",
       "1219                        550541.0  2021                 NaN        NaN  \n",
       "1209                        509951.0  2022                  NG        NaN  \n",
       "1200                       1172392.0  2023                  NG        NaN  \n",
       "\n",
       "[5 rows x 99 columns]"
      ]
     },
     "execution_count": 16,
     "metadata": {},
     "output_type": "execute_result"
    }
   ],
   "source": [
    "mega_gen_fuel_df.query('`Plant Id`==1353')"
   ]
  },
  {
   "cell_type": "code",
   "execution_count": 17,
   "metadata": {},
   "outputs": [],
   "source": [
    "#gen_cols.append('YEAR')"
   ]
  },
  {
   "cell_type": "code",
   "execution_count": 18,
   "metadata": {},
   "outputs": [
    {
     "data": {
      "text/plain": [
       "['Netgen\\nJanuary',\n",
       " 'Netgen\\nFebruary',\n",
       " 'Netgen\\nMarch',\n",
       " 'Netgen\\nApril',\n",
       " 'Netgen\\nMay',\n",
       " 'Netgen\\nJune',\n",
       " 'Netgen\\nJuly',\n",
       " 'Netgen\\nAugust',\n",
       " 'Netgen\\nSeptember',\n",
       " 'Netgen\\nOctober',\n",
       " 'Netgen\\nNovember',\n",
       " 'Netgen\\nDecember']"
      ]
     },
     "execution_count": 18,
     "metadata": {},
     "output_type": "execute_result"
    }
   ],
   "source": [
    "gen_cols"
   ]
  },
  {
   "cell_type": "code",
   "execution_count": 19,
   "metadata": {},
   "outputs": [],
   "source": [
    "RGGI_states = ['CT', 'DE', 'ME', 'MD', 'MA', 'NH', 'NJ', 'NY', 'RI', 'VT'] "
   ]
  },
  {
   "cell_type": "code",
   "execution_count": 20,
   "metadata": {},
   "outputs": [],
   "source": [
    "mega_gen_fuel_df['RGGI_state'] = np.where(mega_gen_fuel_df['Plant State'].isin(RGGI_states),1,0)"
   ]
  },
  {
   "cell_type": "code",
   "execution_count": 21,
   "metadata": {},
   "outputs": [
    {
     "data": {
      "text/plain": [
       "array(['IC', 'WT', 'HY', 'CA', 'CT', 'ST', 'GT', 'PS', 'CS', 'PV', 'BA',\n",
       "       'CE', 'BT', 'OT', 'FC', 'CP', 'FW', 'WS', 'WY'], dtype=object)"
      ]
     },
     "execution_count": 21,
     "metadata": {},
     "output_type": "execute_result"
    }
   ],
   "source": [
    "mega_gen_fuel_df['Reported\\nPrime Mover'].unique()"
   ]
  },
  {
   "cell_type": "code",
   "execution_count": 22,
   "metadata": {},
   "outputs": [
    {
     "data": {
      "text/plain": [
       "array(['DFO', 'WND', 'WAT', 'NG', 'BIT', 'SUB', 'NUC', 'LIG', 'PG', 'RC',\n",
       "       'AB', 'WDS', 'RFO', 'LFG', 'PC', 'SUN', 'OBG', 'GEO', 'MWH', 'OG',\n",
       "       'WO', 'JF', 'KER', 'OTH', 'WC', 'SGC', 'OBS', 'TDF', 'BFG', 'MSB',\n",
       "       'MSN', 'SC', 'BLQ', 'WH', 'OBL', 'SLW', 'PUR', 'WDL', 'SGP', 'ANT',\n",
       "       'H2'], dtype=object)"
      ]
     },
     "execution_count": 22,
     "metadata": {},
     "output_type": "execute_result"
    }
   ],
   "source": [
    "mega_gen_fuel_df['Reported\\nFuel Type Code'].unique()"
   ]
  },
  {
   "cell_type": "code",
   "execution_count": 23,
   "metadata": {},
   "outputs": [
    {
     "data": {
      "text/plain": [
       "array(['DFO', 'WND', 'HYC', 'NG', 'COL', 'NUC', 'WOO', 'ORW', 'WWW',\n",
       "       'HPS', 'RFO', 'MLG', 'PC', 'SUN', 'GEO', 'OTH', 'OOG', 'WOC', nan],\n",
       "      dtype=object)"
      ]
     },
     "execution_count": 23,
     "metadata": {},
     "output_type": "execute_result"
    }
   ],
   "source": [
    "mega_gen_fuel_df['AER\\nFuel Type Code'].unique()"
   ]
  },
  {
   "cell_type": "code",
   "execution_count": 24,
   "metadata": {},
   "outputs": [],
   "source": [
    "rggi_or_pjm = mega_gen_fuel_df[(mega_gen_fuel_df['RGGI_state']==1)| (mega_gen_fuel_df['Balancing\\nAuthority Code']=='PJM')]"
   ]
  },
  {
   "cell_type": "code",
   "execution_count": 25,
   "metadata": {},
   "outputs": [
    {
     "data": {
      "text/plain": [
       "array(['KY', 'NY', 'IL', 'CT', 'MA', 'VT', 'DE', 'MD', 'ME', 'IN', 'MI',\n",
       "       'NH', 'NJ', 'NC', 'OH', 'PA', 'RI', 'VA', 'WV', 'TN', 'DC', 'MN'],\n",
       "      dtype=object)"
      ]
     },
     "execution_count": 25,
     "metadata": {},
     "output_type": "execute_result"
    }
   ],
   "source": [
    "rggi_or_pjm['Plant State'].unique()"
   ]
  },
  {
   "cell_type": "code",
   "execution_count": 26,
   "metadata": {},
   "outputs": [
    {
     "data": {
      "text/plain": [
       "['Netgen\\nJanuary',\n",
       " 'Netgen\\nFebruary',\n",
       " 'Netgen\\nMarch',\n",
       " 'Netgen\\nApril',\n",
       " 'Netgen\\nMay',\n",
       " 'Netgen\\nJune',\n",
       " 'Netgen\\nJuly',\n",
       " 'Netgen\\nAugust',\n",
       " 'Netgen\\nSeptember',\n",
       " 'Netgen\\nOctober',\n",
       " 'Netgen\\nNovember',\n",
       " 'Netgen\\nDecember']"
      ]
     },
     "execution_count": 26,
     "metadata": {},
     "output_type": "execute_result"
    }
   ],
   "source": [
    "gen_cols"
   ]
  },
  {
   "cell_type": "code",
   "execution_count": 27,
   "metadata": {},
   "outputs": [
    {
     "data": {
      "text/plain": [
       "Index(['Plant Id', 'Combined Heat And\\nPower Plant', 'Nuclear Unit Id',\n",
       "       'Plant Name', 'Operator Name', 'Operator Id', 'Plant State',\n",
       "       'Census Region', 'NERC Region', 'Reserved', 'NAICS Code',\n",
       "       'EIA Sector Number', 'Sector Name', 'Reported\\nPrime Mover',\n",
       "       'Reported\\nFuel Type Code', 'AER\\nFuel Type Code',\n",
       "       'Balancing\\nAuthority Code', 'Respondent\\nFrequency',\n",
       "       'Physical\\nUnit Label', 'Quantity\\nJanuary', 'Quantity\\nFebruary',\n",
       "       'Quantity\\nMarch', 'Quantity\\nApril', 'Quantity\\nMay', 'Quantity\\nJune',\n",
       "       'Quantity\\nJuly', 'Quantity\\nAugust', 'Quantity\\nSeptember',\n",
       "       'Quantity\\nOctober', 'Quantity\\nNovember', 'Quantity\\nDecember',\n",
       "       'Elec_Quantity\\nJanuary', 'Elec_Quantity\\nFebruary',\n",
       "       'Elec_Quantity\\nMarch', 'Elec_Quantity\\nApril', 'Elec_Quantity\\nMay',\n",
       "       'Elec_Quantity\\nJune', 'Elec_Quantity\\nJuly', 'Elec_Quantity\\nAugust',\n",
       "       'Elec_Quantity\\nSeptember', 'Elec_Quantity\\nOctober',\n",
       "       'Elec_Quantity\\nNovember', 'Elec_Quantity\\nDecember',\n",
       "       'MMBtuPer_Unit\\nJanuary', 'MMBtuPer_Unit\\nFebruary',\n",
       "       'MMBtuPer_Unit\\nMarch', 'MMBtuPer_Unit\\nApril', 'MMBtuPer_Unit\\nMay',\n",
       "       'MMBtuPer_Unit\\nJune', 'MMBtuPer_Unit\\nJuly', 'MMBtuPer_Unit\\nAugust',\n",
       "       'MMBtuPer_Unit\\nSeptember', 'MMBtuPer_Unit\\nOctober',\n",
       "       'MMBtuPer_Unit\\nNovember', 'MMBtuPer_Unit\\nDecember',\n",
       "       'Tot_MMBtu\\nJanuary', 'Tot_MMBtu\\nFebruary', 'Tot_MMBtu\\nMarch',\n",
       "       'Tot_MMBtu\\nApril', 'Tot_MMBtu\\nMay', 'Tot_MMBtu\\nJune',\n",
       "       'Tot_MMBtu\\nJuly', 'Tot_MMBtu\\nAugust', 'Tot_MMBtu\\nSeptember',\n",
       "       'Tot_MMBtu\\nOctober', 'Tot_MMBtu\\nNovember', 'Tot_MMBtu\\nDecember',\n",
       "       'Elec_MMBtu\\nJanuary', 'Elec_MMBtu\\nFebruary', 'Elec_MMBtu\\nMarch',\n",
       "       'Elec_MMBtu\\nApril', 'Elec_MMBtu\\nMay', 'Elec_MMBtu\\nJune',\n",
       "       'Elec_MMBtu\\nJuly', 'Elec_MMBtu\\nAugust', 'Elec_MMBtu\\nSeptember',\n",
       "       'Elec_MMBtu\\nOctober', 'Elec_MMBtu\\nNovember', 'Elec_MMBtu\\nDecember',\n",
       "       'Netgen\\nJanuary', 'Netgen\\nFebruary', 'Netgen\\nMarch', 'Netgen\\nApril',\n",
       "       'Netgen\\nMay', 'Netgen\\nJune', 'Netgen\\nJuly', 'Netgen\\nAugust',\n",
       "       'Netgen\\nSeptember', 'Netgen\\nOctober', 'Netgen\\nNovember',\n",
       "       'Netgen\\nDecember', 'Total Fuel Consumption\\nQuantity',\n",
       "       'Electric Fuel Consumption\\nQuantity', 'Total Fuel Consumption\\nMMBtu',\n",
       "       'Elec Fuel Consumption\\nMMBtu', 'Net Generation\\n(Megawatthours)',\n",
       "       'YEAR', 'MER\\nFuel Type Code', 'Reserved.1', 'RGGI_state'],\n",
       "      dtype='object')"
      ]
     },
     "execution_count": 27,
     "metadata": {},
     "output_type": "execute_result"
    }
   ],
   "source": [
    "rggi_or_pjm.columns"
   ]
  },
  {
   "cell_type": "code",
   "execution_count": 28,
   "metadata": {},
   "outputs": [],
   "source": [
    "fuel_cons_columns = ['Quantity\\nJanuary', 'Quantity\\nFebruary',\n",
    "       'Quantity\\nMarch', 'Quantity\\nApril', 'Quantity\\nMay', 'Quantity\\nJune',\n",
    "       'Quantity\\nJuly', 'Quantity\\nAugust', 'Quantity\\nSeptember',\n",
    "       'Quantity\\nOctober', 'Quantity\\nNovember', 'Quantity\\nDecember']\n",
    "\n",
    "mmbtu_cols = ['Tot_MMBtu\\nJanuary', 'Tot_MMBtu\\nFebruary', 'Tot_MMBtu\\nMarch',\n",
    "       'Tot_MMBtu\\nApril', 'Tot_MMBtu\\nMay', 'Tot_MMBtu\\nJune',\n",
    "       'Tot_MMBtu\\nJuly', 'Tot_MMBtu\\nAugust', 'Tot_MMBtu\\nSeptember',\n",
    "       'Tot_MMBtu\\nOctober', 'Tot_MMBtu\\nNovember', 'Tot_MMBtu\\nDecember']"
   ]
  },
  {
   "cell_type": "code",
   "execution_count": 29,
   "metadata": {},
   "outputs": [
    {
     "name": "stderr",
     "output_type": "stream",
     "text": [
      "C:\\Users\\Alex Child\\AppData\\Local\\Temp\\ipykernel_19200\\3169541333.py:1: SettingWithCopyWarning: \n",
      "A value is trying to be set on a copy of a slice from a DataFrame.\n",
      "Try using .loc[row_indexer,col_indexer] = value instead\n",
      "\n",
      "See the caveats in the documentation: https://pandas.pydata.org/pandas-docs/stable/user_guide/indexing.html#returning-a-view-versus-a-copy\n",
      "  rggi_or_pjm[gen_cols] = rggi_or_pjm[gen_cols].replace('.',0)\n",
      "C:\\Users\\Alex Child\\AppData\\Local\\Temp\\ipykernel_19200\\3169541333.py:2: SettingWithCopyWarning: \n",
      "A value is trying to be set on a copy of a slice from a DataFrame.\n",
      "Try using .loc[row_indexer,col_indexer] = value instead\n",
      "\n",
      "See the caveats in the documentation: https://pandas.pydata.org/pandas-docs/stable/user_guide/indexing.html#returning-a-view-versus-a-copy\n",
      "  rggi_or_pjm[fuel_cons_columns] = rggi_or_pjm[fuel_cons_columns].replace('.',0)\n",
      "C:\\Users\\Alex Child\\AppData\\Local\\Temp\\ipykernel_19200\\3169541333.py:3: SettingWithCopyWarning: \n",
      "A value is trying to be set on a copy of a slice from a DataFrame.\n",
      "Try using .loc[row_indexer,col_indexer] = value instead\n",
      "\n",
      "See the caveats in the documentation: https://pandas.pydata.org/pandas-docs/stable/user_guide/indexing.html#returning-a-view-versus-a-copy\n",
      "  rggi_or_pjm[mmbtu_cols] = rggi_or_pjm[mmbtu_cols].replace('.',0)\n"
     ]
    }
   ],
   "source": [
    "rggi_or_pjm[gen_cols] = rggi_or_pjm[gen_cols].replace('.',0)\n",
    "rggi_or_pjm[fuel_cons_columns] = rggi_or_pjm[fuel_cons_columns].replace('.',0)\n",
    "rggi_or_pjm[mmbtu_cols] = rggi_or_pjm[mmbtu_cols].replace('.',0)"
   ]
  },
  {
   "cell_type": "code",
   "execution_count": 30,
   "metadata": {},
   "outputs": [],
   "source": [
    "mmbtu_df = rggi_or_pjm.groupby(['Plant Id','Plant State','Reported\\nPrime Mover','Reported\\nFuel Type Code','YEAR'])[mmbtu_cols].sum().stack().to_frame('Fuel_consumed_Mmbtu')\n",
    "mmbtu_df['month'] = [x[-1] for x in mmbtu_df.reset_index()['level_5'].str.split('\\n')]\n",
    "mmbtu_df=mmbtu_df.reset_index()\n",
    "mmbtu_df['Date'] = pd.to_datetime('01/'+mmbtu_df['month']+'/'+mmbtu_df['YEAR'].astype(str))+MonthEnd(0)\n",
    "mmbtu_df['month'] = mmbtu_df['Date'].dt.month"
   ]
  },
  {
   "cell_type": "code",
   "execution_count": 31,
   "metadata": {},
   "outputs": [
    {
     "data": {
      "text/plain": [
       "\"\\nfuel_cons_df = rggi_or_pjm.groupby(['Plant Id','Plant State','Reported\\nPrime Mover','Reported\\nFuel Type Code','Physical\\nUnit Label','YEAR'])[fuel_cons_columns].sum().stack().to_frame('Fuel_consumed_q')\\nfuel_cons_df['month'] = [x[-1] for x in fuel_cons_df.reset_index()['level_6'].str.split('\\n')]\\nfuel_cons_df=fuel_cons_df.reset_index()\\nfuel_cons_df['Date'] = pd.to_datetime('01/'+fuel_cons_df['month']+'/'+fuel_cons_df['YEAR'].astype(str))+MonthEnd(0)\\nfuel_cons_df['month'] = fuel_cons_df['Date'].dt.month\""
      ]
     },
     "execution_count": 31,
     "metadata": {},
     "output_type": "execute_result"
    }
   ],
   "source": [
    "\"\"\"\n",
    "fuel_cons_df = rggi_or_pjm.groupby(['Plant Id','Plant State','Reported\\nPrime Mover','Reported\\nFuel Type Code','Physical\\nUnit Label','YEAR'])[fuel_cons_columns].sum().stack().to_frame('Fuel_consumed_q')\n",
    "fuel_cons_df['month'] = [x[-1] for x in fuel_cons_df.reset_index()['level_6'].str.split('\\n')]\n",
    "fuel_cons_df=fuel_cons_df.reset_index()\n",
    "fuel_cons_df['Date'] = pd.to_datetime('01/'+fuel_cons_df['month']+'/'+fuel_cons_df['YEAR'].astype(str))+MonthEnd(0)\n",
    "fuel_cons_df['month'] = fuel_cons_df['Date'].dt.month\"\"\""
   ]
  },
  {
   "cell_type": "code",
   "execution_count": 32,
   "metadata": {},
   "outputs": [],
   "source": [
    "mmbtu_df = mmbtu_df.groupby(['Plant Id','Plant State','Reported\\nPrime Mover','Date','Reported\\nFuel Type Code'])['Fuel_consumed_Mmbtu'].sum().unstack('Reported\\nFuel Type Code').fillna(0)#.add_suffix('_mmbtu')"
   ]
  },
  {
   "cell_type": "code",
   "execution_count": 33,
   "metadata": {},
   "outputs": [
    {
     "data": {
      "text/html": [
       "<div>\n",
       "<style scoped>\n",
       "    .dataframe tbody tr th:only-of-type {\n",
       "        vertical-align: middle;\n",
       "    }\n",
       "\n",
       "    .dataframe tbody tr th {\n",
       "        vertical-align: top;\n",
       "    }\n",
       "\n",
       "    .dataframe thead th {\n",
       "        text-align: right;\n",
       "    }\n",
       "</style>\n",
       "<table border=\"1\" class=\"dataframe\">\n",
       "  <thead>\n",
       "    <tr style=\"text-align: right;\">\n",
       "      <th></th>\n",
       "      <th>Reported\n",
       "Fuel Type Code</th>\n",
       "      <th>NG</th>\n",
       "      <th>DFO</th>\n",
       "    </tr>\n",
       "    <tr>\n",
       "      <th>Plant State</th>\n",
       "      <th>Reported\n",
       "Prime Mover</th>\n",
       "      <th></th>\n",
       "      <th></th>\n",
       "    </tr>\n",
       "  </thead>\n",
       "  <tbody>\n",
       "    <tr>\n",
       "      <th rowspan=\"2\" valign=\"top\">NY</th>\n",
       "      <th>CA</th>\n",
       "      <td>160903.0</td>\n",
       "      <td>0.0</td>\n",
       "    </tr>\n",
       "    <tr>\n",
       "      <th>CT</th>\n",
       "      <td>2424223.0</td>\n",
       "      <td>203.0</td>\n",
       "    </tr>\n",
       "  </tbody>\n",
       "</table>\n",
       "</div>"
      ],
      "text/plain": [
       "Reported\n",
       "Fuel Type Code                   NG    DFO\n",
       "Plant State Reported\\nPrime Mover                  \n",
       "NY          CA                      160903.0    0.0\n",
       "            CT                     2424223.0  203.0"
      ]
     },
     "execution_count": 33,
     "metadata": {},
     "output_type": "execute_result"
    }
   ],
   "source": [
    "mmbtu_df.loc[55375,:].loc[:,:,'2024-09-30'][['NG','DFO']]"
   ]
  },
  {
   "cell_type": "code",
   "execution_count": 34,
   "metadata": {},
   "outputs": [
    {
     "data": {
      "text/plain": [
       "55375"
      ]
     },
     "execution_count": 34,
     "metadata": {},
     "output_type": "execute_result"
    }
   ],
   "source": [
    "55375"
   ]
  },
  {
   "cell_type": "code",
   "execution_count": 35,
   "metadata": {},
   "outputs": [],
   "source": [
    "from EIA_emissions_factors import download_EF_from_EIA"
   ]
  },
  {
   "cell_type": "code",
   "execution_count": 36,
   "metadata": {},
   "outputs": [],
   "source": [
    "EF_df = download_EF_from_EIA(fuels_list=mmbtu_df.columns)"
   ]
  },
  {
   "cell_type": "code",
   "execution_count": 37,
   "metadata": {},
   "outputs": [],
   "source": [
    "plant_emissions = mmbtu_df.dot(EF_df.astype(float))"
   ]
  },
  {
   "cell_type": "code",
   "execution_count": 38,
   "metadata": {},
   "outputs": [],
   "source": [
    "plant_emissions['Emissions_stCO2']=(plant_emissions/1000)* 0.9071847"
   ]
  },
  {
   "cell_type": "code",
   "execution_count": 39,
   "metadata": {},
   "outputs": [
    {
     "data": {
      "text/html": [
       "<div>\n",
       "<style scoped>\n",
       "    .dataframe tbody tr th:only-of-type {\n",
       "        vertical-align: middle;\n",
       "    }\n",
       "\n",
       "    .dataframe tbody tr th {\n",
       "        vertical-align: top;\n",
       "    }\n",
       "\n",
       "    .dataframe thead th {\n",
       "        text-align: right;\n",
       "    }\n",
       "</style>\n",
       "<table border=\"1\" class=\"dataframe\">\n",
       "  <thead>\n",
       "    <tr style=\"text-align: right;\">\n",
       "      <th></th>\n",
       "      <th></th>\n",
       "      <th>KgCO2_perMmbtu</th>\n",
       "      <th>Emissions_stCO2</th>\n",
       "    </tr>\n",
       "    <tr>\n",
       "      <th>Plant State</th>\n",
       "      <th>Reported\n",
       "Prime Mover</th>\n",
       "      <th></th>\n",
       "      <th></th>\n",
       "    </tr>\n",
       "  </thead>\n",
       "  <tbody>\n",
       "    <tr>\n",
       "      <th rowspan=\"2\" valign=\"top\">NY</th>\n",
       "      <th>CA</th>\n",
       "      <td>8.513378e+06</td>\n",
       "      <td>7723.206022</td>\n",
       "    </tr>\n",
       "    <tr>\n",
       "      <th>CT</th>\n",
       "      <td>1.282807e+08</td>\n",
       "      <td>116374.278684</td>\n",
       "    </tr>\n",
       "  </tbody>\n",
       "</table>\n",
       "</div>"
      ],
      "text/plain": [
       "                                   KgCO2_perMmbtu  Emissions_stCO2\n",
       "Plant State Reported\\nPrime Mover                                 \n",
       "NY          CA                       8.513378e+06      7723.206022\n",
       "            CT                       1.282807e+08    116374.278684"
      ]
     },
     "execution_count": 39,
     "metadata": {},
     "output_type": "execute_result"
    }
   ],
   "source": [
    "plant_emissions.loc[55375,:].loc[:,:,'2024-09-30']"
   ]
  },
  {
   "cell_type": "code",
   "execution_count": 40,
   "metadata": {},
   "outputs": [],
   "source": [
    "rggi_or_pjm = rggi_or_pjm.groupby(['Plant Id','Plant Name','Reported\\nPrime Mover','Plant State', 'Balancing\\nAuthority Code','RGGI_state','YEAR'])[gen_cols].sum().stack().to_frame('Generation MWh')"
   ]
  },
  {
   "cell_type": "code",
   "execution_count": 42,
   "metadata": {},
   "outputs": [
    {
     "data": {
      "text/html": [
       "<div>\n",
       "<style scoped>\n",
       "    .dataframe tbody tr th:only-of-type {\n",
       "        vertical-align: middle;\n",
       "    }\n",
       "\n",
       "    .dataframe tbody tr th {\n",
       "        vertical-align: top;\n",
       "    }\n",
       "\n",
       "    .dataframe thead th {\n",
       "        text-align: right;\n",
       "    }\n",
       "</style>\n",
       "<table border=\"1\" class=\"dataframe\">\n",
       "  <thead>\n",
       "    <tr style=\"text-align: right;\">\n",
       "      <th></th>\n",
       "      <th></th>\n",
       "      <th></th>\n",
       "      <th></th>\n",
       "      <th></th>\n",
       "      <th></th>\n",
       "      <th></th>\n",
       "      <th></th>\n",
       "      <th>Generation MWh</th>\n",
       "    </tr>\n",
       "    <tr>\n",
       "      <th>Plant Id</th>\n",
       "      <th>Plant Name</th>\n",
       "      <th>Reported\n",
       "Prime Mover</th>\n",
       "      <th>Plant State</th>\n",
       "      <th>Balancing\n",
       "Authority Code</th>\n",
       "      <th>RGGI_state</th>\n",
       "      <th>YEAR</th>\n",
       "      <th></th>\n",
       "      <th></th>\n",
       "    </tr>\n",
       "  </thead>\n",
       "  <tbody>\n",
       "    <tr>\n",
       "      <th rowspan=\"5\" valign=\"top\">54</th>\n",
       "      <th rowspan=\"5\" valign=\"top\">J K Smith</th>\n",
       "      <th rowspan=\"5\" valign=\"top\">GT</th>\n",
       "      <th rowspan=\"5\" valign=\"top\">KY</th>\n",
       "      <th rowspan=\"5\" valign=\"top\">PJM</th>\n",
       "      <th rowspan=\"5\" valign=\"top\">0</th>\n",
       "      <th rowspan=\"5\" valign=\"top\">2019</th>\n",
       "      <th>Netgen\\nJanuary</th>\n",
       "      <td>53058.000</td>\n",
       "    </tr>\n",
       "    <tr>\n",
       "      <th>Netgen\\nFebruary</th>\n",
       "      <td>22469.000</td>\n",
       "    </tr>\n",
       "    <tr>\n",
       "      <th>Netgen\\nMarch</th>\n",
       "      <td>21959.000</td>\n",
       "    </tr>\n",
       "    <tr>\n",
       "      <th>Netgen\\nApril</th>\n",
       "      <td>10545.000</td>\n",
       "    </tr>\n",
       "    <tr>\n",
       "      <th>Netgen\\nMay</th>\n",
       "      <td>4981.000</td>\n",
       "    </tr>\n",
       "    <tr>\n",
       "      <th>...</th>\n",
       "      <th>...</th>\n",
       "      <th>...</th>\n",
       "      <th>...</th>\n",
       "      <th>...</th>\n",
       "      <th>...</th>\n",
       "      <th>...</th>\n",
       "      <th>...</th>\n",
       "      <td>...</td>\n",
       "    </tr>\n",
       "    <tr>\n",
       "      <th rowspan=\"5\" valign=\"top\">99999</th>\n",
       "      <th rowspan=\"5\" valign=\"top\">State-Fuel Level Increment</th>\n",
       "      <th rowspan=\"5\" valign=\"top\">WT</th>\n",
       "      <th rowspan=\"5\" valign=\"top\">RI</th>\n",
       "      <th rowspan=\"5\" valign=\"top\">State-Fuel Level Increment</th>\n",
       "      <th rowspan=\"5\" valign=\"top\">1</th>\n",
       "      <th rowspan=\"5\" valign=\"top\">2024</th>\n",
       "      <th>Netgen\\nAugust</th>\n",
       "      <td>2886.634</td>\n",
       "    </tr>\n",
       "    <tr>\n",
       "      <th>Netgen\\nSeptember</th>\n",
       "      <td>3108.214</td>\n",
       "    </tr>\n",
       "    <tr>\n",
       "      <th>Netgen\\nOctober</th>\n",
       "      <td>0.000</td>\n",
       "    </tr>\n",
       "    <tr>\n",
       "      <th>Netgen\\nNovember</th>\n",
       "      <td>0.000</td>\n",
       "    </tr>\n",
       "    <tr>\n",
       "      <th>Netgen\\nDecember</th>\n",
       "      <td>0.000</td>\n",
       "    </tr>\n",
       "  </tbody>\n",
       "</table>\n",
       "<p>231396 rows × 1 columns</p>\n",
       "</div>"
      ],
      "text/plain": [
       "                                                                                                                                    Generation MWh\n",
       "Plant Id Plant Name                 Reported\\nPrime Mover Plant State Balancing\\nAuthority Code  RGGI_state YEAR                                  \n",
       "54       J K Smith                  GT                    KY          PJM                        0          2019 Netgen\\nJanuary         53058.000\n",
       "                                                                                                                 Netgen\\nFebruary        22469.000\n",
       "                                                                                                                 Netgen\\nMarch           21959.000\n",
       "                                                                                                                 Netgen\\nApril           10545.000\n",
       "                                                                                                                 Netgen\\nMay              4981.000\n",
       "...                                                                                                                                            ...\n",
       "99999    State-Fuel Level Increment WT                    RI          State-Fuel Level Increment 1          2024 Netgen\\nAugust           2886.634\n",
       "                                                                                                                 Netgen\\nSeptember        3108.214\n",
       "                                                                                                                 Netgen\\nOctober             0.000\n",
       "                                                                                                                 Netgen\\nNovember            0.000\n",
       "                                                                                                                 Netgen\\nDecember            0.000\n",
       "\n",
       "[231396 rows x 1 columns]"
      ]
     },
     "execution_count": 42,
     "metadata": {},
     "output_type": "execute_result"
    }
   ],
   "source": [
    "rggi_or_pjm"
   ]
  },
  {
   "cell_type": "code",
   "execution_count": 43,
   "metadata": {},
   "outputs": [],
   "source": [
    "rggi_or_pjm['month'] = [x[-1] for x in rggi_or_pjm.reset_index()['level_7'].str.split('\\n')]"
   ]
  },
  {
   "cell_type": "code",
   "execution_count": 44,
   "metadata": {},
   "outputs": [],
   "source": [
    "rggi_or_pjm = rggi_or_pjm.reset_index()"
   ]
  },
  {
   "cell_type": "code",
   "execution_count": 45,
   "metadata": {},
   "outputs": [],
   "source": [
    "rggi_or_pjm['Date'] = pd.to_datetime('01/'+rggi_or_pjm['month']+'/'+rggi_or_pjm['YEAR'].astype(str),format='%d/%B/%Y')+MonthEnd(0)"
   ]
  },
  {
   "cell_type": "code",
   "execution_count": 46,
   "metadata": {},
   "outputs": [
    {
     "data": {
      "text/html": [
       "<div>\n",
       "<style scoped>\n",
       "    .dataframe tbody tr th:only-of-type {\n",
       "        vertical-align: middle;\n",
       "    }\n",
       "\n",
       "    .dataframe tbody tr th {\n",
       "        vertical-align: top;\n",
       "    }\n",
       "\n",
       "    .dataframe thead th {\n",
       "        text-align: right;\n",
       "    }\n",
       "</style>\n",
       "<table border=\"1\" class=\"dataframe\">\n",
       "  <thead>\n",
       "    <tr style=\"text-align: right;\">\n",
       "      <th></th>\n",
       "      <th>Plant Id</th>\n",
       "      <th>Plant Name</th>\n",
       "      <th>Reported\\nPrime Mover</th>\n",
       "      <th>Plant State</th>\n",
       "      <th>Balancing\\nAuthority Code</th>\n",
       "      <th>RGGI_state</th>\n",
       "      <th>YEAR</th>\n",
       "      <th>level_7</th>\n",
       "      <th>Generation MWh</th>\n",
       "      <th>month</th>\n",
       "      <th>Date</th>\n",
       "    </tr>\n",
       "  </thead>\n",
       "  <tbody>\n",
       "    <tr>\n",
       "      <th>0</th>\n",
       "      <td>54</td>\n",
       "      <td>J K Smith</td>\n",
       "      <td>GT</td>\n",
       "      <td>KY</td>\n",
       "      <td>PJM</td>\n",
       "      <td>0</td>\n",
       "      <td>2019</td>\n",
       "      <td>Netgen\\nJanuary</td>\n",
       "      <td>53058.000</td>\n",
       "      <td>January</td>\n",
       "      <td>2019-01-31</td>\n",
       "    </tr>\n",
       "    <tr>\n",
       "      <th>1</th>\n",
       "      <td>54</td>\n",
       "      <td>J K Smith</td>\n",
       "      <td>GT</td>\n",
       "      <td>KY</td>\n",
       "      <td>PJM</td>\n",
       "      <td>0</td>\n",
       "      <td>2019</td>\n",
       "      <td>Netgen\\nFebruary</td>\n",
       "      <td>22469.000</td>\n",
       "      <td>February</td>\n",
       "      <td>2019-02-28</td>\n",
       "    </tr>\n",
       "    <tr>\n",
       "      <th>2</th>\n",
       "      <td>54</td>\n",
       "      <td>J K Smith</td>\n",
       "      <td>GT</td>\n",
       "      <td>KY</td>\n",
       "      <td>PJM</td>\n",
       "      <td>0</td>\n",
       "      <td>2019</td>\n",
       "      <td>Netgen\\nMarch</td>\n",
       "      <td>21959.000</td>\n",
       "      <td>March</td>\n",
       "      <td>2019-03-31</td>\n",
       "    </tr>\n",
       "    <tr>\n",
       "      <th>3</th>\n",
       "      <td>54</td>\n",
       "      <td>J K Smith</td>\n",
       "      <td>GT</td>\n",
       "      <td>KY</td>\n",
       "      <td>PJM</td>\n",
       "      <td>0</td>\n",
       "      <td>2019</td>\n",
       "      <td>Netgen\\nApril</td>\n",
       "      <td>10545.000</td>\n",
       "      <td>April</td>\n",
       "      <td>2019-04-30</td>\n",
       "    </tr>\n",
       "    <tr>\n",
       "      <th>4</th>\n",
       "      <td>54</td>\n",
       "      <td>J K Smith</td>\n",
       "      <td>GT</td>\n",
       "      <td>KY</td>\n",
       "      <td>PJM</td>\n",
       "      <td>0</td>\n",
       "      <td>2019</td>\n",
       "      <td>Netgen\\nMay</td>\n",
       "      <td>4981.000</td>\n",
       "      <td>May</td>\n",
       "      <td>2019-05-31</td>\n",
       "    </tr>\n",
       "    <tr>\n",
       "      <th>...</th>\n",
       "      <td>...</td>\n",
       "      <td>...</td>\n",
       "      <td>...</td>\n",
       "      <td>...</td>\n",
       "      <td>...</td>\n",
       "      <td>...</td>\n",
       "      <td>...</td>\n",
       "      <td>...</td>\n",
       "      <td>...</td>\n",
       "      <td>...</td>\n",
       "      <td>...</td>\n",
       "    </tr>\n",
       "    <tr>\n",
       "      <th>231391</th>\n",
       "      <td>99999</td>\n",
       "      <td>State-Fuel Level Increment</td>\n",
       "      <td>WT</td>\n",
       "      <td>RI</td>\n",
       "      <td>State-Fuel Level Increment</td>\n",
       "      <td>1</td>\n",
       "      <td>2024</td>\n",
       "      <td>Netgen\\nAugust</td>\n",
       "      <td>2886.634</td>\n",
       "      <td>August</td>\n",
       "      <td>2024-08-31</td>\n",
       "    </tr>\n",
       "    <tr>\n",
       "      <th>231392</th>\n",
       "      <td>99999</td>\n",
       "      <td>State-Fuel Level Increment</td>\n",
       "      <td>WT</td>\n",
       "      <td>RI</td>\n",
       "      <td>State-Fuel Level Increment</td>\n",
       "      <td>1</td>\n",
       "      <td>2024</td>\n",
       "      <td>Netgen\\nSeptember</td>\n",
       "      <td>3108.214</td>\n",
       "      <td>September</td>\n",
       "      <td>2024-09-30</td>\n",
       "    </tr>\n",
       "    <tr>\n",
       "      <th>231393</th>\n",
       "      <td>99999</td>\n",
       "      <td>State-Fuel Level Increment</td>\n",
       "      <td>WT</td>\n",
       "      <td>RI</td>\n",
       "      <td>State-Fuel Level Increment</td>\n",
       "      <td>1</td>\n",
       "      <td>2024</td>\n",
       "      <td>Netgen\\nOctober</td>\n",
       "      <td>0.000</td>\n",
       "      <td>October</td>\n",
       "      <td>2024-10-31</td>\n",
       "    </tr>\n",
       "    <tr>\n",
       "      <th>231394</th>\n",
       "      <td>99999</td>\n",
       "      <td>State-Fuel Level Increment</td>\n",
       "      <td>WT</td>\n",
       "      <td>RI</td>\n",
       "      <td>State-Fuel Level Increment</td>\n",
       "      <td>1</td>\n",
       "      <td>2024</td>\n",
       "      <td>Netgen\\nNovember</td>\n",
       "      <td>0.000</td>\n",
       "      <td>November</td>\n",
       "      <td>2024-11-30</td>\n",
       "    </tr>\n",
       "    <tr>\n",
       "      <th>231395</th>\n",
       "      <td>99999</td>\n",
       "      <td>State-Fuel Level Increment</td>\n",
       "      <td>WT</td>\n",
       "      <td>RI</td>\n",
       "      <td>State-Fuel Level Increment</td>\n",
       "      <td>1</td>\n",
       "      <td>2024</td>\n",
       "      <td>Netgen\\nDecember</td>\n",
       "      <td>0.000</td>\n",
       "      <td>December</td>\n",
       "      <td>2024-12-31</td>\n",
       "    </tr>\n",
       "  </tbody>\n",
       "</table>\n",
       "<p>231396 rows × 11 columns</p>\n",
       "</div>"
      ],
      "text/plain": [
       "        Plant Id                  Plant Name Reported\\nPrime Mover  \\\n",
       "0             54                   J K Smith                    GT   \n",
       "1             54                   J K Smith                    GT   \n",
       "2             54                   J K Smith                    GT   \n",
       "3             54                   J K Smith                    GT   \n",
       "4             54                   J K Smith                    GT   \n",
       "...          ...                         ...                   ...   \n",
       "231391     99999  State-Fuel Level Increment                    WT   \n",
       "231392     99999  State-Fuel Level Increment                    WT   \n",
       "231393     99999  State-Fuel Level Increment                    WT   \n",
       "231394     99999  State-Fuel Level Increment                    WT   \n",
       "231395     99999  State-Fuel Level Increment                    WT   \n",
       "\n",
       "       Plant State   Balancing\\nAuthority Code  RGGI_state  YEAR  \\\n",
       "0               KY                         PJM           0  2019   \n",
       "1               KY                         PJM           0  2019   \n",
       "2               KY                         PJM           0  2019   \n",
       "3               KY                         PJM           0  2019   \n",
       "4               KY                         PJM           0  2019   \n",
       "...            ...                         ...         ...   ...   \n",
       "231391          RI  State-Fuel Level Increment           1  2024   \n",
       "231392          RI  State-Fuel Level Increment           1  2024   \n",
       "231393          RI  State-Fuel Level Increment           1  2024   \n",
       "231394          RI  State-Fuel Level Increment           1  2024   \n",
       "231395          RI  State-Fuel Level Increment           1  2024   \n",
       "\n",
       "                  level_7  Generation MWh      month       Date  \n",
       "0         Netgen\\nJanuary       53058.000    January 2019-01-31  \n",
       "1        Netgen\\nFebruary       22469.000   February 2019-02-28  \n",
       "2           Netgen\\nMarch       21959.000      March 2019-03-31  \n",
       "3           Netgen\\nApril       10545.000      April 2019-04-30  \n",
       "4             Netgen\\nMay        4981.000        May 2019-05-31  \n",
       "...                   ...             ...        ...        ...  \n",
       "231391     Netgen\\nAugust        2886.634     August 2024-08-31  \n",
       "231392  Netgen\\nSeptember        3108.214  September 2024-09-30  \n",
       "231393    Netgen\\nOctober           0.000    October 2024-10-31  \n",
       "231394   Netgen\\nNovember           0.000   November 2024-11-30  \n",
       "231395   Netgen\\nDecember           0.000   December 2024-12-31  \n",
       "\n",
       "[231396 rows x 11 columns]"
      ]
     },
     "execution_count": 46,
     "metadata": {},
     "output_type": "execute_result"
    }
   ],
   "source": [
    "rggi_or_pjm#['Reported\\nPrime Mover'].unique()"
   ]
  },
  {
   "cell_type": "code",
   "execution_count": 47,
   "metadata": {},
   "outputs": [
    {
     "data": {
      "text/html": [
       "<div>\n",
       "<style scoped>\n",
       "    .dataframe tbody tr th:only-of-type {\n",
       "        vertical-align: middle;\n",
       "    }\n",
       "\n",
       "    .dataframe tbody tr th {\n",
       "        vertical-align: top;\n",
       "    }\n",
       "\n",
       "    .dataframe thead th {\n",
       "        text-align: right;\n",
       "    }\n",
       "</style>\n",
       "<table border=\"1\" class=\"dataframe\">\n",
       "  <thead>\n",
       "    <tr style=\"text-align: right;\">\n",
       "      <th></th>\n",
       "      <th>Generation MWh</th>\n",
       "    </tr>\n",
       "  </thead>\n",
       "  <tbody>\n",
       "    <tr>\n",
       "      <th>count</th>\n",
       "      <td>5.000000e+00</td>\n",
       "    </tr>\n",
       "    <tr>\n",
       "      <th>mean</th>\n",
       "      <td>3.807308e+07</td>\n",
       "    </tr>\n",
       "    <tr>\n",
       "      <th>std</th>\n",
       "      <td>1.781857e+06</td>\n",
       "    </tr>\n",
       "    <tr>\n",
       "      <th>min</th>\n",
       "      <td>3.581851e+07</td>\n",
       "    </tr>\n",
       "    <tr>\n",
       "      <th>25%</th>\n",
       "      <td>3.715907e+07</td>\n",
       "    </tr>\n",
       "    <tr>\n",
       "      <th>50%</th>\n",
       "      <td>3.795136e+07</td>\n",
       "    </tr>\n",
       "    <tr>\n",
       "      <th>75%</th>\n",
       "      <td>3.889553e+07</td>\n",
       "    </tr>\n",
       "    <tr>\n",
       "      <th>max</th>\n",
       "      <td>4.054093e+07</td>\n",
       "    </tr>\n",
       "  </tbody>\n",
       "</table>\n",
       "</div>"
      ],
      "text/plain": [
       "       Generation MWh\n",
       "count    5.000000e+00\n",
       "mean     3.807308e+07\n",
       "std      1.781857e+06\n",
       "min      3.581851e+07\n",
       "25%      3.715907e+07\n",
       "50%      3.795136e+07\n",
       "75%      3.889553e+07\n",
       "max      4.054093e+07"
      ]
     },
     "execution_count": 47,
     "metadata": {},
     "output_type": "execute_result"
    }
   ],
   "source": [
    "rggi_or_pjm[rggi_or_pjm['Reported\\nPrime Mover'].isin([\"HY\",'HK','HA','HB'])].query('RGGI_state==1').groupby('Date')['Generation MWh'].sum().resample('Y').sum().iloc[:-1].describe().to_frame()"
   ]
  },
  {
   "cell_type": "code",
   "execution_count": 48,
   "metadata": {},
   "outputs": [],
   "source": [
    "RGGI_annual_hydro = rggi_or_pjm[rggi_or_pjm['Reported\\nPrime Mover'].isin([\"HY\",'HK','HA','HB'])].query('RGGI_state==1').groupby('Date')['Generation MWh'].sum().resample('Y').sum().iloc[:-1]"
   ]
  },
  {
   "cell_type": "code",
   "execution_count": 49,
   "metadata": {},
   "outputs": [],
   "source": [
    "all_rggi_gen = rggi_or_pjm.query('RGGI_state==1').groupby('Date')['Generation MWh'].sum().resample('Y').sum().iloc[:-1]\n",
    "all_rggi_gen.index = all_rggi_gen.index.year"
   ]
  },
  {
   "cell_type": "code",
   "execution_count": 50,
   "metadata": {},
   "outputs": [],
   "source": [
    "RGGI_annual_hydro.index = RGGI_annual_hydro.index.year"
   ]
  },
  {
   "cell_type": "code",
   "execution_count": 51,
   "metadata": {},
   "outputs": [
    {
     "data": {
      "text/plain": [
       "Date\n",
       "2019    0.116906\n",
       "2020    0.115501\n",
       "2021    0.111980\n",
       "2022    0.105876\n",
       "2023    0.117278\n",
       "Name: Generation MWh, dtype: float64"
      ]
     },
     "execution_count": 51,
     "metadata": {},
     "output_type": "execute_result"
    }
   ],
   "source": [
    "RGGI_annual_hydro/all_rggi_gen"
   ]
  },
  {
   "cell_type": "code",
   "execution_count": null,
   "metadata": {},
   "outputs": [],
   "source": []
  },
  {
   "cell_type": "code",
   "execution_count": 52,
   "metadata": {},
   "outputs": [
    {
     "data": {
      "application/vnd.plotly.v1+json": {
       "config": {
        "plotlyServerURL": "https://plot.ly"
       },
       "data": [
        {
         "alignmentgroup": "True",
         "hovertemplate": "variable=Generation MWh<br>Date=%{x}<br>Generation (% of total)=%{y}<extra></extra>",
         "legendgroup": "Generation MWh",
         "marker": {
          "color": "#636efa",
          "pattern": {
           "shape": ""
          }
         },
         "name": "Generation MWh",
         "offsetgroup": "Generation MWh",
         "orientation": "v",
         "showlegend": true,
         "textposition": "auto",
         "texttemplate": "%{y}",
         "type": "bar",
         "x": [
          2019,
          2020,
          2021,
          2022,
          2023
         ],
         "xaxis": "x",
         "y": [
          0.11690613349150362,
          0.11550118696292577,
          0.11198044893191973,
          0.1058762994775526,
          0.11727812043025351
         ],
         "yaxis": "y"
        }
       ],
       "layout": {
        "barmode": "relative",
        "legend": {
         "title": {
          "text": "variable"
         },
         "tracegroupgap": 0
        },
        "template": {
         "data": {
          "bar": [
           {
            "error_x": {
             "color": "#2a3f5f"
            },
            "error_y": {
             "color": "#2a3f5f"
            },
            "marker": {
             "line": {
              "color": "#E5ECF6",
              "width": 0.5
             },
             "pattern": {
              "fillmode": "overlay",
              "size": 10,
              "solidity": 0.2
             }
            },
            "type": "bar"
           }
          ],
          "barpolar": [
           {
            "marker": {
             "line": {
              "color": "#E5ECF6",
              "width": 0.5
             },
             "pattern": {
              "fillmode": "overlay",
              "size": 10,
              "solidity": 0.2
             }
            },
            "type": "barpolar"
           }
          ],
          "carpet": [
           {
            "aaxis": {
             "endlinecolor": "#2a3f5f",
             "gridcolor": "white",
             "linecolor": "white",
             "minorgridcolor": "white",
             "startlinecolor": "#2a3f5f"
            },
            "baxis": {
             "endlinecolor": "#2a3f5f",
             "gridcolor": "white",
             "linecolor": "white",
             "minorgridcolor": "white",
             "startlinecolor": "#2a3f5f"
            },
            "type": "carpet"
           }
          ],
          "choropleth": [
           {
            "colorbar": {
             "outlinewidth": 0,
             "ticks": ""
            },
            "type": "choropleth"
           }
          ],
          "contour": [
           {
            "colorbar": {
             "outlinewidth": 0,
             "ticks": ""
            },
            "colorscale": [
             [
              0,
              "#0d0887"
             ],
             [
              0.1111111111111111,
              "#46039f"
             ],
             [
              0.2222222222222222,
              "#7201a8"
             ],
             [
              0.3333333333333333,
              "#9c179e"
             ],
             [
              0.4444444444444444,
              "#bd3786"
             ],
             [
              0.5555555555555556,
              "#d8576b"
             ],
             [
              0.6666666666666666,
              "#ed7953"
             ],
             [
              0.7777777777777778,
              "#fb9f3a"
             ],
             [
              0.8888888888888888,
              "#fdca26"
             ],
             [
              1,
              "#f0f921"
             ]
            ],
            "type": "contour"
           }
          ],
          "contourcarpet": [
           {
            "colorbar": {
             "outlinewidth": 0,
             "ticks": ""
            },
            "type": "contourcarpet"
           }
          ],
          "heatmap": [
           {
            "colorbar": {
             "outlinewidth": 0,
             "ticks": ""
            },
            "colorscale": [
             [
              0,
              "#0d0887"
             ],
             [
              0.1111111111111111,
              "#46039f"
             ],
             [
              0.2222222222222222,
              "#7201a8"
             ],
             [
              0.3333333333333333,
              "#9c179e"
             ],
             [
              0.4444444444444444,
              "#bd3786"
             ],
             [
              0.5555555555555556,
              "#d8576b"
             ],
             [
              0.6666666666666666,
              "#ed7953"
             ],
             [
              0.7777777777777778,
              "#fb9f3a"
             ],
             [
              0.8888888888888888,
              "#fdca26"
             ],
             [
              1,
              "#f0f921"
             ]
            ],
            "type": "heatmap"
           }
          ],
          "heatmapgl": [
           {
            "colorbar": {
             "outlinewidth": 0,
             "ticks": ""
            },
            "colorscale": [
             [
              0,
              "#0d0887"
             ],
             [
              0.1111111111111111,
              "#46039f"
             ],
             [
              0.2222222222222222,
              "#7201a8"
             ],
             [
              0.3333333333333333,
              "#9c179e"
             ],
             [
              0.4444444444444444,
              "#bd3786"
             ],
             [
              0.5555555555555556,
              "#d8576b"
             ],
             [
              0.6666666666666666,
              "#ed7953"
             ],
             [
              0.7777777777777778,
              "#fb9f3a"
             ],
             [
              0.8888888888888888,
              "#fdca26"
             ],
             [
              1,
              "#f0f921"
             ]
            ],
            "type": "heatmapgl"
           }
          ],
          "histogram": [
           {
            "marker": {
             "pattern": {
              "fillmode": "overlay",
              "size": 10,
              "solidity": 0.2
             }
            },
            "type": "histogram"
           }
          ],
          "histogram2d": [
           {
            "colorbar": {
             "outlinewidth": 0,
             "ticks": ""
            },
            "colorscale": [
             [
              0,
              "#0d0887"
             ],
             [
              0.1111111111111111,
              "#46039f"
             ],
             [
              0.2222222222222222,
              "#7201a8"
             ],
             [
              0.3333333333333333,
              "#9c179e"
             ],
             [
              0.4444444444444444,
              "#bd3786"
             ],
             [
              0.5555555555555556,
              "#d8576b"
             ],
             [
              0.6666666666666666,
              "#ed7953"
             ],
             [
              0.7777777777777778,
              "#fb9f3a"
             ],
             [
              0.8888888888888888,
              "#fdca26"
             ],
             [
              1,
              "#f0f921"
             ]
            ],
            "type": "histogram2d"
           }
          ],
          "histogram2dcontour": [
           {
            "colorbar": {
             "outlinewidth": 0,
             "ticks": ""
            },
            "colorscale": [
             [
              0,
              "#0d0887"
             ],
             [
              0.1111111111111111,
              "#46039f"
             ],
             [
              0.2222222222222222,
              "#7201a8"
             ],
             [
              0.3333333333333333,
              "#9c179e"
             ],
             [
              0.4444444444444444,
              "#bd3786"
             ],
             [
              0.5555555555555556,
              "#d8576b"
             ],
             [
              0.6666666666666666,
              "#ed7953"
             ],
             [
              0.7777777777777778,
              "#fb9f3a"
             ],
             [
              0.8888888888888888,
              "#fdca26"
             ],
             [
              1,
              "#f0f921"
             ]
            ],
            "type": "histogram2dcontour"
           }
          ],
          "mesh3d": [
           {
            "colorbar": {
             "outlinewidth": 0,
             "ticks": ""
            },
            "type": "mesh3d"
           }
          ],
          "parcoords": [
           {
            "line": {
             "colorbar": {
              "outlinewidth": 0,
              "ticks": ""
             }
            },
            "type": "parcoords"
           }
          ],
          "pie": [
           {
            "automargin": true,
            "type": "pie"
           }
          ],
          "scatter": [
           {
            "fillpattern": {
             "fillmode": "overlay",
             "size": 10,
             "solidity": 0.2
            },
            "type": "scatter"
           }
          ],
          "scatter3d": [
           {
            "line": {
             "colorbar": {
              "outlinewidth": 0,
              "ticks": ""
             }
            },
            "marker": {
             "colorbar": {
              "outlinewidth": 0,
              "ticks": ""
             }
            },
            "type": "scatter3d"
           }
          ],
          "scattercarpet": [
           {
            "marker": {
             "colorbar": {
              "outlinewidth": 0,
              "ticks": ""
             }
            },
            "type": "scattercarpet"
           }
          ],
          "scattergeo": [
           {
            "marker": {
             "colorbar": {
              "outlinewidth": 0,
              "ticks": ""
             }
            },
            "type": "scattergeo"
           }
          ],
          "scattergl": [
           {
            "marker": {
             "colorbar": {
              "outlinewidth": 0,
              "ticks": ""
             }
            },
            "type": "scattergl"
           }
          ],
          "scattermapbox": [
           {
            "marker": {
             "colorbar": {
              "outlinewidth": 0,
              "ticks": ""
             }
            },
            "type": "scattermapbox"
           }
          ],
          "scatterpolar": [
           {
            "marker": {
             "colorbar": {
              "outlinewidth": 0,
              "ticks": ""
             }
            },
            "type": "scatterpolar"
           }
          ],
          "scatterpolargl": [
           {
            "marker": {
             "colorbar": {
              "outlinewidth": 0,
              "ticks": ""
             }
            },
            "type": "scatterpolargl"
           }
          ],
          "scatterternary": [
           {
            "marker": {
             "colorbar": {
              "outlinewidth": 0,
              "ticks": ""
             }
            },
            "type": "scatterternary"
           }
          ],
          "surface": [
           {
            "colorbar": {
             "outlinewidth": 0,
             "ticks": ""
            },
            "colorscale": [
             [
              0,
              "#0d0887"
             ],
             [
              0.1111111111111111,
              "#46039f"
             ],
             [
              0.2222222222222222,
              "#7201a8"
             ],
             [
              0.3333333333333333,
              "#9c179e"
             ],
             [
              0.4444444444444444,
              "#bd3786"
             ],
             [
              0.5555555555555556,
              "#d8576b"
             ],
             [
              0.6666666666666666,
              "#ed7953"
             ],
             [
              0.7777777777777778,
              "#fb9f3a"
             ],
             [
              0.8888888888888888,
              "#fdca26"
             ],
             [
              1,
              "#f0f921"
             ]
            ],
            "type": "surface"
           }
          ],
          "table": [
           {
            "cells": {
             "fill": {
              "color": "#EBF0F8"
             },
             "line": {
              "color": "white"
             }
            },
            "header": {
             "fill": {
              "color": "#C8D4E3"
             },
             "line": {
              "color": "white"
             }
            },
            "type": "table"
           }
          ]
         },
         "layout": {
          "annotationdefaults": {
           "arrowcolor": "#2a3f5f",
           "arrowhead": 0,
           "arrowwidth": 1
          },
          "autotypenumbers": "strict",
          "coloraxis": {
           "colorbar": {
            "outlinewidth": 0,
            "ticks": ""
           }
          },
          "colorscale": {
           "diverging": [
            [
             0,
             "#8e0152"
            ],
            [
             0.1,
             "#c51b7d"
            ],
            [
             0.2,
             "#de77ae"
            ],
            [
             0.3,
             "#f1b6da"
            ],
            [
             0.4,
             "#fde0ef"
            ],
            [
             0.5,
             "#f7f7f7"
            ],
            [
             0.6,
             "#e6f5d0"
            ],
            [
             0.7,
             "#b8e186"
            ],
            [
             0.8,
             "#7fbc41"
            ],
            [
             0.9,
             "#4d9221"
            ],
            [
             1,
             "#276419"
            ]
           ],
           "sequential": [
            [
             0,
             "#0d0887"
            ],
            [
             0.1111111111111111,
             "#46039f"
            ],
            [
             0.2222222222222222,
             "#7201a8"
            ],
            [
             0.3333333333333333,
             "#9c179e"
            ],
            [
             0.4444444444444444,
             "#bd3786"
            ],
            [
             0.5555555555555556,
             "#d8576b"
            ],
            [
             0.6666666666666666,
             "#ed7953"
            ],
            [
             0.7777777777777778,
             "#fb9f3a"
            ],
            [
             0.8888888888888888,
             "#fdca26"
            ],
            [
             1,
             "#f0f921"
            ]
           ],
           "sequentialminus": [
            [
             0,
             "#0d0887"
            ],
            [
             0.1111111111111111,
             "#46039f"
            ],
            [
             0.2222222222222222,
             "#7201a8"
            ],
            [
             0.3333333333333333,
             "#9c179e"
            ],
            [
             0.4444444444444444,
             "#bd3786"
            ],
            [
             0.5555555555555556,
             "#d8576b"
            ],
            [
             0.6666666666666666,
             "#ed7953"
            ],
            [
             0.7777777777777778,
             "#fb9f3a"
            ],
            [
             0.8888888888888888,
             "#fdca26"
            ],
            [
             1,
             "#f0f921"
            ]
           ]
          },
          "colorway": [
           "#636efa",
           "#EF553B",
           "#00cc96",
           "#ab63fa",
           "#FFA15A",
           "#19d3f3",
           "#FF6692",
           "#B6E880",
           "#FF97FF",
           "#FECB52"
          ],
          "font": {
           "color": "#2a3f5f"
          },
          "geo": {
           "bgcolor": "white",
           "lakecolor": "white",
           "landcolor": "#E5ECF6",
           "showlakes": true,
           "showland": true,
           "subunitcolor": "white"
          },
          "hoverlabel": {
           "align": "left"
          },
          "hovermode": "closest",
          "mapbox": {
           "style": "light"
          },
          "paper_bgcolor": "white",
          "plot_bgcolor": "#E5ECF6",
          "polar": {
           "angularaxis": {
            "gridcolor": "white",
            "linecolor": "white",
            "ticks": ""
           },
           "bgcolor": "#E5ECF6",
           "radialaxis": {
            "gridcolor": "white",
            "linecolor": "white",
            "ticks": ""
           }
          },
          "scene": {
           "xaxis": {
            "backgroundcolor": "#E5ECF6",
            "gridcolor": "white",
            "gridwidth": 2,
            "linecolor": "white",
            "showbackground": true,
            "ticks": "",
            "zerolinecolor": "white"
           },
           "yaxis": {
            "backgroundcolor": "#E5ECF6",
            "gridcolor": "white",
            "gridwidth": 2,
            "linecolor": "white",
            "showbackground": true,
            "ticks": "",
            "zerolinecolor": "white"
           },
           "zaxis": {
            "backgroundcolor": "#E5ECF6",
            "gridcolor": "white",
            "gridwidth": 2,
            "linecolor": "white",
            "showbackground": true,
            "ticks": "",
            "zerolinecolor": "white"
           }
          },
          "shapedefaults": {
           "line": {
            "color": "#2a3f5f"
           }
          },
          "ternary": {
           "aaxis": {
            "gridcolor": "white",
            "linecolor": "white",
            "ticks": ""
           },
           "baxis": {
            "gridcolor": "white",
            "linecolor": "white",
            "ticks": ""
           },
           "bgcolor": "#E5ECF6",
           "caxis": {
            "gridcolor": "white",
            "linecolor": "white",
            "ticks": ""
           }
          },
          "title": {
           "x": 0.05
          },
          "xaxis": {
           "automargin": true,
           "gridcolor": "white",
           "linecolor": "white",
           "ticks": "",
           "title": {
            "standoff": 15
           },
           "zerolinecolor": "white",
           "zerolinewidth": 2
          },
          "yaxis": {
           "automargin": true,
           "gridcolor": "white",
           "linecolor": "white",
           "ticks": "",
           "title": {
            "standoff": 15
           },
           "zerolinecolor": "white",
           "zerolinewidth": 2
          }
         }
        },
        "title": {
         "text": "RGGI State Hydro Generation"
        },
        "width": 900,
        "xaxis": {
         "anchor": "y",
         "domain": [
          0,
          1
         ],
         "title": {
          "text": "Date"
         }
        },
        "yaxis": {
         "anchor": "x",
         "domain": [
          0,
          1
         ],
         "tickformat": "0.1%",
         "title": {
          "text": "Generation (% of total)"
         }
        }
       }
      }
     },
     "metadata": {},
     "output_type": "display_data"
    }
   ],
   "source": [
    "fig = px.bar((RGGI_annual_hydro/all_rggi_gen),labels={'value':'Generation (% of total)'},text_auto=True,title='RGGI State Hydro Generation',width=900)\n",
    "fig.update_layout(yaxis_tickformat='0.1%')"
   ]
  },
  {
   "cell_type": "code",
   "execution_count": 53,
   "metadata": {},
   "outputs": [],
   "source": [
    "rggi_or_pjm['Date'] = pd.to_datetime('01/'+rggi_or_pjm['month']+'/'+rggi_or_pjm['YEAR'].astype(str))+MonthEnd(0)"
   ]
  },
  {
   "cell_type": "code",
   "execution_count": 54,
   "metadata": {},
   "outputs": [
    {
     "data": {
      "text/html": [
       "<div>\n",
       "<style scoped>\n",
       "    .dataframe tbody tr th:only-of-type {\n",
       "        vertical-align: middle;\n",
       "    }\n",
       "\n",
       "    .dataframe tbody tr th {\n",
       "        vertical-align: top;\n",
       "    }\n",
       "\n",
       "    .dataframe thead th {\n",
       "        text-align: right;\n",
       "    }\n",
       "</style>\n",
       "<table border=\"1\" class=\"dataframe\">\n",
       "  <thead>\n",
       "    <tr style=\"text-align: right;\">\n",
       "      <th></th>\n",
       "      <th></th>\n",
       "      <th></th>\n",
       "      <th></th>\n",
       "      <th></th>\n",
       "      <th></th>\n",
       "      <th>Nameplate Capacity (MW)</th>\n",
       "    </tr>\n",
       "    <tr>\n",
       "      <th>Plant ID</th>\n",
       "      <th>Energy Source Code</th>\n",
       "      <th>Prime Mover Code</th>\n",
       "      <th>Plant State</th>\n",
       "      <th>report_month</th>\n",
       "      <th>report_year</th>\n",
       "      <th></th>\n",
       "    </tr>\n",
       "  </thead>\n",
       "  <tbody>\n",
       "    <tr>\n",
       "      <th rowspan=\"2\" valign=\"top\">1.0</th>\n",
       "      <th>DFO</th>\n",
       "      <th>IC</th>\n",
       "      <th>AK</th>\n",
       "      <th>9</th>\n",
       "      <th>2024</th>\n",
       "      <td>2.7</td>\n",
       "    </tr>\n",
       "    <tr>\n",
       "      <th>WND</th>\n",
       "      <th>WT</th>\n",
       "      <th>AK</th>\n",
       "      <th>9</th>\n",
       "      <th>2024</th>\n",
       "      <td>1.0</td>\n",
       "    </tr>\n",
       "    <tr>\n",
       "      <th>2.0</th>\n",
       "      <th>WAT</th>\n",
       "      <th>HY</th>\n",
       "      <th>AL</th>\n",
       "      <th>9</th>\n",
       "      <th>2024</th>\n",
       "      <td>53.9</td>\n",
       "    </tr>\n",
       "    <tr>\n",
       "      <th rowspan=\"2\" valign=\"top\">3.0</th>\n",
       "      <th>BIT</th>\n",
       "      <th>ST</th>\n",
       "      <th>AL</th>\n",
       "      <th>9</th>\n",
       "      <th>2024</th>\n",
       "      <td>1192.5</td>\n",
       "    </tr>\n",
       "    <tr>\n",
       "      <th>NG</th>\n",
       "      <th>CA</th>\n",
       "      <th>AL</th>\n",
       "      <th>9</th>\n",
       "      <th>2024</th>\n",
       "      <td>700.4</td>\n",
       "    </tr>\n",
       "    <tr>\n",
       "      <th>...</th>\n",
       "      <th>...</th>\n",
       "      <th>...</th>\n",
       "      <th>...</th>\n",
       "      <th>...</th>\n",
       "      <th>...</th>\n",
       "      <td>...</td>\n",
       "    </tr>\n",
       "    <tr>\n",
       "      <th>62264.0</th>\n",
       "      <th>SUN</th>\n",
       "      <th>PV</th>\n",
       "      <th>MA</th>\n",
       "      <th>11</th>\n",
       "      <th>2018</th>\n",
       "      <td>1.2</td>\n",
       "    </tr>\n",
       "    <tr>\n",
       "      <th>62265.0</th>\n",
       "      <th>SUN</th>\n",
       "      <th>PV</th>\n",
       "      <th>MA</th>\n",
       "      <th>11</th>\n",
       "      <th>2018</th>\n",
       "      <td>1.9</td>\n",
       "    </tr>\n",
       "    <tr>\n",
       "      <th>62266.0</th>\n",
       "      <th>SUN</th>\n",
       "      <th>PV</th>\n",
       "      <th>MA</th>\n",
       "      <th>11</th>\n",
       "      <th>2018</th>\n",
       "      <td>1.1</td>\n",
       "    </tr>\n",
       "    <tr>\n",
       "      <th>62270.0</th>\n",
       "      <th>DFO</th>\n",
       "      <th>IC</th>\n",
       "      <th>NY</th>\n",
       "      <th>11</th>\n",
       "      <th>2018</th>\n",
       "      <td>8.0</td>\n",
       "    </tr>\n",
       "    <tr>\n",
       "      <th>62271.0</th>\n",
       "      <th>DFO</th>\n",
       "      <th>IC</th>\n",
       "      <th>NY</th>\n",
       "      <th>11</th>\n",
       "      <th>2018</th>\n",
       "      <td>4.5</td>\n",
       "    </tr>\n",
       "  </tbody>\n",
       "</table>\n",
       "<p>879099 rows × 1 columns</p>\n",
       "</div>"
      ],
      "text/plain": [
       "                                                                                   Nameplate Capacity (MW)\n",
       "Plant ID Energy Source Code Prime Mover Code Plant State report_month report_year                         \n",
       "1.0      DFO                IC               AK          9            2024                             2.7\n",
       "         WND                WT               AK          9            2024                             1.0\n",
       "2.0      WAT                HY               AL          9            2024                            53.9\n",
       "3.0      BIT                ST               AL          9            2024                          1192.5\n",
       "         NG                 CA               AL          9            2024                           700.4\n",
       "...                                                                                                    ...\n",
       "62264.0  SUN                PV               MA          11           2018                             1.2\n",
       "62265.0  SUN                PV               MA          11           2018                             1.9\n",
       "62266.0  SUN                PV               MA          11           2018                             1.1\n",
       "62270.0  DFO                IC               NY          11           2018                             8.0\n",
       "62271.0  DFO                IC               NY          11           2018                             4.5\n",
       "\n",
       "[879099 rows x 1 columns]"
      ]
     },
     "execution_count": 54,
     "metadata": {},
     "output_type": "execute_result"
    }
   ],
   "source": [
    "time_series_historical_capacity"
   ]
  },
  {
   "cell_type": "code",
   "execution_count": 55,
   "metadata": {},
   "outputs": [],
   "source": [
    "rggi_or_pjm['month'] = rggi_or_pjm['Date'].dt.month"
   ]
  },
  {
   "cell_type": "code",
   "execution_count": 56,
   "metadata": {},
   "outputs": [
    {
     "name": "stderr",
     "output_type": "stream",
     "text": [
      "C:\\Users\\Alex Child\\AppData\\Local\\Temp\\ipykernel_19200\\1199171893.py:1: FutureWarning:\n",
      "\n",
      "The default value of numeric_only in DataFrameGroupBy.sum is deprecated. In a future version, numeric_only will default to False. Either specify numeric_only or select only columns which should be valid for the function.\n",
      "\n"
     ]
    }
   ],
   "source": [
    "time_series_historical_capacity_byprime_mover = time_series_historical_capacity.reset_index().groupby(['Plant ID', 'Prime Mover Code','Plant State','report_month','report_year']).sum()"
   ]
  },
  {
   "cell_type": "code",
   "execution_count": 57,
   "metadata": {},
   "outputs": [],
   "source": [
    "rggi_or_pjm_capacity = rggi_or_pjm.merge(time_series_historical_capacity_byprime_mover,left_on=['Plant Id','Reported\\nPrime Mover','Plant State','month','YEAR'],right_index=True,how='left')"
   ]
  },
  {
   "cell_type": "code",
   "execution_count": 58,
   "metadata": {},
   "outputs": [],
   "source": [
    "gap_fill = rggi_or_pjm_capacity.groupby(['Plant Id','Reported\\nPrime Mover','YEAR'])['Nameplate Capacity (MW)'].mean().to_frame('Gap_fill_capacity_year')"
   ]
  },
  {
   "cell_type": "code",
   "execution_count": 59,
   "metadata": {},
   "outputs": [],
   "source": [
    "rggi_or_pjm_capacity = rggi_or_pjm_capacity.merge(gap_fill,left_on=['Plant Id','Reported\\nPrime Mover','YEAR'],right_index=True,how='left')"
   ]
  },
  {
   "cell_type": "code",
   "execution_count": 60,
   "metadata": {},
   "outputs": [],
   "source": [
    "rggi_or_pjm_capacity['Nameplate Capacity (MW)'] = np.where((rggi_or_pjm_capacity['Generation MWh']>0) & (pd.isna(rggi_or_pjm_capacity['Nameplate Capacity (MW)'])),\n",
    "                                                           rggi_or_pjm_capacity['Gap_fill_capacity_year'],rggi_or_pjm_capacity['Nameplate Capacity (MW)'])\n"
   ]
  },
  {
   "cell_type": "code",
   "execution_count": 61,
   "metadata": {},
   "outputs": [],
   "source": [
    "gap_fill = rggi_or_pjm_capacity.groupby(['Plant Id','Reported\\nPrime Mover'])['Nameplate Capacity (MW)'].mean().to_frame('Gap_fill_capacity_overall')"
   ]
  },
  {
   "cell_type": "code",
   "execution_count": 62,
   "metadata": {},
   "outputs": [],
   "source": [
    "rggi_or_pjm_capacity = rggi_or_pjm_capacity.merge(gap_fill,left_on=['Plant Id','Reported\\nPrime Mover'],right_index=True,how='left')\n",
    "\n",
    "rggi_or_pjm_capacity['Nameplate Capacity (MW)'] = np.where((rggi_or_pjm_capacity['Generation MWh']>0) & (pd.isna(rggi_or_pjm_capacity['Nameplate Capacity (MW)'])),\n",
    "                                                           rggi_or_pjm_capacity['Gap_fill_capacity_overall'],rggi_or_pjm_capacity['Nameplate Capacity (MW)'])\n"
   ]
  },
  {
   "cell_type": "code",
   "execution_count": 63,
   "metadata": {},
   "outputs": [],
   "source": [
    "rggi_or_pjm_capacity = rggi_or_pjm_capacity.join(plant_emissions,on=['Plant Id','Plant State','Reported\\nPrime Mover','Date'])"
   ]
  },
  {
   "cell_type": "code",
   "execution_count": 64,
   "metadata": {},
   "outputs": [
    {
     "data": {
      "text/html": [
       "<div>\n",
       "<style scoped>\n",
       "    .dataframe tbody tr th:only-of-type {\n",
       "        vertical-align: middle;\n",
       "    }\n",
       "\n",
       "    .dataframe tbody tr th {\n",
       "        vertical-align: top;\n",
       "    }\n",
       "\n",
       "    .dataframe thead th {\n",
       "        text-align: right;\n",
       "    }\n",
       "</style>\n",
       "<table border=\"1\" class=\"dataframe\">\n",
       "  <thead>\n",
       "    <tr style=\"text-align: right;\">\n",
       "      <th></th>\n",
       "      <th>Plant Id</th>\n",
       "      <th>Plant Name</th>\n",
       "      <th>Reported\\nPrime Mover</th>\n",
       "      <th>Plant State</th>\n",
       "      <th>Balancing\\nAuthority Code</th>\n",
       "      <th>RGGI_state</th>\n",
       "      <th>YEAR</th>\n",
       "      <th>level_7</th>\n",
       "      <th>Generation MWh</th>\n",
       "      <th>month</th>\n",
       "      <th>Date</th>\n",
       "      <th>Nameplate Capacity (MW)</th>\n",
       "      <th>Gap_fill_capacity_year</th>\n",
       "      <th>Gap_fill_capacity_overall</th>\n",
       "      <th>KgCO2_perMmbtu</th>\n",
       "      <th>Emissions_stCO2</th>\n",
       "    </tr>\n",
       "  </thead>\n",
       "  <tbody>\n",
       "    <tr>\n",
       "      <th>78672</th>\n",
       "      <td>55375</td>\n",
       "      <td>Astoria Energy</td>\n",
       "      <td>CA</td>\n",
       "      <td>NY</td>\n",
       "      <td>NYIS</td>\n",
       "      <td>1</td>\n",
       "      <td>2020</td>\n",
       "      <td>Netgen\\nJanuary</td>\n",
       "      <td>100228.998</td>\n",
       "      <td>1</td>\n",
       "      <td>2020-01-31</td>\n",
       "      <td>255.0</td>\n",
       "      <td>255.0</td>\n",
       "      <td>255.0</td>\n",
       "      <td>3.271954e+05</td>\n",
       "      <td>296.826697</td>\n",
       "    </tr>\n",
       "    <tr>\n",
       "      <th>78673</th>\n",
       "      <td>55375</td>\n",
       "      <td>Astoria Energy</td>\n",
       "      <td>CA</td>\n",
       "      <td>NY</td>\n",
       "      <td>NYIS</td>\n",
       "      <td>1</td>\n",
       "      <td>2020</td>\n",
       "      <td>Netgen\\nFebruary</td>\n",
       "      <td>89244.000</td>\n",
       "      <td>2</td>\n",
       "      <td>2020-02-29</td>\n",
       "      <td>255.0</td>\n",
       "      <td>255.0</td>\n",
       "      <td>255.0</td>\n",
       "      <td>3.328039e+04</td>\n",
       "      <td>30.191461</td>\n",
       "    </tr>\n",
       "    <tr>\n",
       "      <th>78674</th>\n",
       "      <td>55375</td>\n",
       "      <td>Astoria Energy</td>\n",
       "      <td>CA</td>\n",
       "      <td>NY</td>\n",
       "      <td>NYIS</td>\n",
       "      <td>1</td>\n",
       "      <td>2020</td>\n",
       "      <td>Netgen\\nMarch</td>\n",
       "      <td>83470.000</td>\n",
       "      <td>3</td>\n",
       "      <td>2020-03-31</td>\n",
       "      <td>255.0</td>\n",
       "      <td>255.0</td>\n",
       "      <td>255.0</td>\n",
       "      <td>3.487298e+05</td>\n",
       "      <td>316.362348</td>\n",
       "    </tr>\n",
       "    <tr>\n",
       "      <th>78675</th>\n",
       "      <td>55375</td>\n",
       "      <td>Astoria Energy</td>\n",
       "      <td>CA</td>\n",
       "      <td>NY</td>\n",
       "      <td>NYIS</td>\n",
       "      <td>1</td>\n",
       "      <td>2020</td>\n",
       "      <td>Netgen\\nApril</td>\n",
       "      <td>78060.000</td>\n",
       "      <td>4</td>\n",
       "      <td>2020-04-30</td>\n",
       "      <td>255.0</td>\n",
       "      <td>255.0</td>\n",
       "      <td>255.0</td>\n",
       "      <td>5.253434e+05</td>\n",
       "      <td>476.583486</td>\n",
       "    </tr>\n",
       "    <tr>\n",
       "      <th>78676</th>\n",
       "      <td>55375</td>\n",
       "      <td>Astoria Energy</td>\n",
       "      <td>CA</td>\n",
       "      <td>NY</td>\n",
       "      <td>NYIS</td>\n",
       "      <td>1</td>\n",
       "      <td>2020</td>\n",
       "      <td>Netgen\\nMay</td>\n",
       "      <td>111394.000</td>\n",
       "      <td>5</td>\n",
       "      <td>2020-05-31</td>\n",
       "      <td>255.0</td>\n",
       "      <td>255.0</td>\n",
       "      <td>255.0</td>\n",
       "      <td>6.453962e+05</td>\n",
       "      <td>585.493540</td>\n",
       "    </tr>\n",
       "    <tr>\n",
       "      <th>78677</th>\n",
       "      <td>55375</td>\n",
       "      <td>Astoria Energy</td>\n",
       "      <td>CA</td>\n",
       "      <td>NY</td>\n",
       "      <td>NYIS</td>\n",
       "      <td>1</td>\n",
       "      <td>2020</td>\n",
       "      <td>Netgen\\nJune</td>\n",
       "      <td>117260.000</td>\n",
       "      <td>6</td>\n",
       "      <td>2020-06-30</td>\n",
       "      <td>255.0</td>\n",
       "      <td>255.0</td>\n",
       "      <td>255.0</td>\n",
       "      <td>2.310051e+06</td>\n",
       "      <td>2095.642561</td>\n",
       "    </tr>\n",
       "    <tr>\n",
       "      <th>78678</th>\n",
       "      <td>55375</td>\n",
       "      <td>Astoria Energy</td>\n",
       "      <td>CA</td>\n",
       "      <td>NY</td>\n",
       "      <td>NYIS</td>\n",
       "      <td>1</td>\n",
       "      <td>2020</td>\n",
       "      <td>Netgen\\nJuly</td>\n",
       "      <td>129515.000</td>\n",
       "      <td>7</td>\n",
       "      <td>2020-07-31</td>\n",
       "      <td>255.0</td>\n",
       "      <td>255.0</td>\n",
       "      <td>255.0</td>\n",
       "      <td>5.009201e+06</td>\n",
       "      <td>4544.270815</td>\n",
       "    </tr>\n",
       "    <tr>\n",
       "      <th>78679</th>\n",
       "      <td>55375</td>\n",
       "      <td>Astoria Energy</td>\n",
       "      <td>CA</td>\n",
       "      <td>NY</td>\n",
       "      <td>NYIS</td>\n",
       "      <td>1</td>\n",
       "      <td>2020</td>\n",
       "      <td>Netgen\\nAugust</td>\n",
       "      <td>133404.000</td>\n",
       "      <td>8</td>\n",
       "      <td>2020-08-31</td>\n",
       "      <td>255.0</td>\n",
       "      <td>255.0</td>\n",
       "      <td>255.0</td>\n",
       "      <td>5.898566e+06</td>\n",
       "      <td>5351.088401</td>\n",
       "    </tr>\n",
       "    <tr>\n",
       "      <th>78680</th>\n",
       "      <td>55375</td>\n",
       "      <td>Astoria Energy</td>\n",
       "      <td>CA</td>\n",
       "      <td>NY</td>\n",
       "      <td>NYIS</td>\n",
       "      <td>1</td>\n",
       "      <td>2020</td>\n",
       "      <td>Netgen\\nSeptember</td>\n",
       "      <td>119460.003</td>\n",
       "      <td>9</td>\n",
       "      <td>2020-09-30</td>\n",
       "      <td>255.0</td>\n",
       "      <td>255.0</td>\n",
       "      <td>255.0</td>\n",
       "      <td>2.717246e+06</td>\n",
       "      <td>2465.043961</td>\n",
       "    </tr>\n",
       "    <tr>\n",
       "      <th>78681</th>\n",
       "      <td>55375</td>\n",
       "      <td>Astoria Energy</td>\n",
       "      <td>CA</td>\n",
       "      <td>NY</td>\n",
       "      <td>NYIS</td>\n",
       "      <td>1</td>\n",
       "      <td>2020</td>\n",
       "      <td>Netgen\\nOctober</td>\n",
       "      <td>6323.000</td>\n",
       "      <td>10</td>\n",
       "      <td>2020-10-31</td>\n",
       "      <td>255.0</td>\n",
       "      <td>255.0</td>\n",
       "      <td>255.0</td>\n",
       "      <td>4.740736e+04</td>\n",
       "      <td>43.007232</td>\n",
       "    </tr>\n",
       "    <tr>\n",
       "      <th>78682</th>\n",
       "      <td>55375</td>\n",
       "      <td>Astoria Energy</td>\n",
       "      <td>CA</td>\n",
       "      <td>NY</td>\n",
       "      <td>NYIS</td>\n",
       "      <td>1</td>\n",
       "      <td>2020</td>\n",
       "      <td>Netgen\\nNovember</td>\n",
       "      <td>0.000</td>\n",
       "      <td>11</td>\n",
       "      <td>2020-11-30</td>\n",
       "      <td>255.0</td>\n",
       "      <td>255.0</td>\n",
       "      <td>255.0</td>\n",
       "      <td>0.000000e+00</td>\n",
       "      <td>0.000000</td>\n",
       "    </tr>\n",
       "    <tr>\n",
       "      <th>78683</th>\n",
       "      <td>55375</td>\n",
       "      <td>Astoria Energy</td>\n",
       "      <td>CA</td>\n",
       "      <td>NY</td>\n",
       "      <td>NYIS</td>\n",
       "      <td>1</td>\n",
       "      <td>2020</td>\n",
       "      <td>Netgen\\nDecember</td>\n",
       "      <td>0.000</td>\n",
       "      <td>12</td>\n",
       "      <td>2020-12-31</td>\n",
       "      <td>255.0</td>\n",
       "      <td>255.0</td>\n",
       "      <td>255.0</td>\n",
       "      <td>0.000000e+00</td>\n",
       "      <td>0.000000</td>\n",
       "    </tr>\n",
       "    <tr>\n",
       "      <th>78744</th>\n",
       "      <td>55375</td>\n",
       "      <td>Astoria Energy</td>\n",
       "      <td>CT</td>\n",
       "      <td>NY</td>\n",
       "      <td>NYIS</td>\n",
       "      <td>1</td>\n",
       "      <td>2020</td>\n",
       "      <td>Netgen\\nJanuary</td>\n",
       "      <td>173570.000</td>\n",
       "      <td>1</td>\n",
       "      <td>2020-01-31</td>\n",
       "      <td>340.0</td>\n",
       "      <td>340.0</td>\n",
       "      <td>340.0</td>\n",
       "      <td>1.066130e+08</td>\n",
       "      <td>96717.707078</td>\n",
       "    </tr>\n",
       "    <tr>\n",
       "      <th>78745</th>\n",
       "      <td>55375</td>\n",
       "      <td>Astoria Energy</td>\n",
       "      <td>CT</td>\n",
       "      <td>NY</td>\n",
       "      <td>NYIS</td>\n",
       "      <td>1</td>\n",
       "      <td>2020</td>\n",
       "      <td>Netgen\\nFebruary</td>\n",
       "      <td>157279.996</td>\n",
       "      <td>2</td>\n",
       "      <td>2020-02-29</td>\n",
       "      <td>340.0</td>\n",
       "      <td>340.0</td>\n",
       "      <td>340.0</td>\n",
       "      <td>9.633352e+07</td>\n",
       "      <td>87392.296067</td>\n",
       "    </tr>\n",
       "    <tr>\n",
       "      <th>78746</th>\n",
       "      <td>55375</td>\n",
       "      <td>Astoria Energy</td>\n",
       "      <td>CT</td>\n",
       "      <td>NY</td>\n",
       "      <td>NYIS</td>\n",
       "      <td>1</td>\n",
       "      <td>2020</td>\n",
       "      <td>Netgen\\nMarch</td>\n",
       "      <td>140410.002</td>\n",
       "      <td>3</td>\n",
       "      <td>2020-03-31</td>\n",
       "      <td>340.0</td>\n",
       "      <td>340.0</td>\n",
       "      <td>340.0</td>\n",
       "      <td>8.994596e+07</td>\n",
       "      <td>81597.595400</td>\n",
       "    </tr>\n",
       "    <tr>\n",
       "      <th>78747</th>\n",
       "      <td>55375</td>\n",
       "      <td>Astoria Energy</td>\n",
       "      <td>CT</td>\n",
       "      <td>NY</td>\n",
       "      <td>NYIS</td>\n",
       "      <td>1</td>\n",
       "      <td>2020</td>\n",
       "      <td>Netgen\\nApril</td>\n",
       "      <td>129127.002</td>\n",
       "      <td>4</td>\n",
       "      <td>2020-04-30</td>\n",
       "      <td>340.0</td>\n",
       "      <td>340.0</td>\n",
       "      <td>340.0</td>\n",
       "      <td>8.322790e+07</td>\n",
       "      <td>75503.080813</td>\n",
       "    </tr>\n",
       "    <tr>\n",
       "      <th>78748</th>\n",
       "      <td>55375</td>\n",
       "      <td>Astoria Energy</td>\n",
       "      <td>CT</td>\n",
       "      <td>NY</td>\n",
       "      <td>NYIS</td>\n",
       "      <td>1</td>\n",
       "      <td>2020</td>\n",
       "      <td>Netgen\\nMay</td>\n",
       "      <td>183276.000</td>\n",
       "      <td>5</td>\n",
       "      <td>2020-05-31</td>\n",
       "      <td>340.0</td>\n",
       "      <td>340.0</td>\n",
       "      <td>340.0</td>\n",
       "      <td>1.136243e+08</td>\n",
       "      <td>103078.254468</td>\n",
       "    </tr>\n",
       "    <tr>\n",
       "      <th>78749</th>\n",
       "      <td>55375</td>\n",
       "      <td>Astoria Energy</td>\n",
       "      <td>CT</td>\n",
       "      <td>NY</td>\n",
       "      <td>NYIS</td>\n",
       "      <td>1</td>\n",
       "      <td>2020</td>\n",
       "      <td>Netgen\\nJune</td>\n",
       "      <td>190394.000</td>\n",
       "      <td>6</td>\n",
       "      <td>2020-06-30</td>\n",
       "      <td>340.0</td>\n",
       "      <td>340.0</td>\n",
       "      <td>340.0</td>\n",
       "      <td>1.161566e+08</td>\n",
       "      <td>105375.445427</td>\n",
       "    </tr>\n",
       "    <tr>\n",
       "      <th>78750</th>\n",
       "      <td>55375</td>\n",
       "      <td>Astoria Energy</td>\n",
       "      <td>CT</td>\n",
       "      <td>NY</td>\n",
       "      <td>NYIS</td>\n",
       "      <td>1</td>\n",
       "      <td>2020</td>\n",
       "      <td>Netgen\\nJuly</td>\n",
       "      <td>212087.000</td>\n",
       "      <td>7</td>\n",
       "      <td>2020-07-31</td>\n",
       "      <td>340.0</td>\n",
       "      <td>340.0</td>\n",
       "      <td>340.0</td>\n",
       "      <td>1.262699e+08</td>\n",
       "      <td>114550.097519</td>\n",
       "    </tr>\n",
       "    <tr>\n",
       "      <th>78751</th>\n",
       "      <td>55375</td>\n",
       "      <td>Astoria Energy</td>\n",
       "      <td>CT</td>\n",
       "      <td>NY</td>\n",
       "      <td>NYIS</td>\n",
       "      <td>1</td>\n",
       "      <td>2020</td>\n",
       "      <td>Netgen\\nAugust</td>\n",
       "      <td>214153.000</td>\n",
       "      <td>8</td>\n",
       "      <td>2020-08-31</td>\n",
       "      <td>340.0</td>\n",
       "      <td>340.0</td>\n",
       "      <td>340.0</td>\n",
       "      <td>1.275464e+08</td>\n",
       "      <td>115708.124830</td>\n",
       "    </tr>\n",
       "    <tr>\n",
       "      <th>78752</th>\n",
       "      <td>55375</td>\n",
       "      <td>Astoria Energy</td>\n",
       "      <td>CT</td>\n",
       "      <td>NY</td>\n",
       "      <td>NYIS</td>\n",
       "      <td>1</td>\n",
       "      <td>2020</td>\n",
       "      <td>Netgen\\nSeptember</td>\n",
       "      <td>196184.998</td>\n",
       "      <td>9</td>\n",
       "      <td>2020-09-30</td>\n",
       "      <td>340.0</td>\n",
       "      <td>340.0</td>\n",
       "      <td>340.0</td>\n",
       "      <td>1.189824e+08</td>\n",
       "      <td>107939.027137</td>\n",
       "    </tr>\n",
       "    <tr>\n",
       "      <th>78753</th>\n",
       "      <td>55375</td>\n",
       "      <td>Astoria Energy</td>\n",
       "      <td>CT</td>\n",
       "      <td>NY</td>\n",
       "      <td>NYIS</td>\n",
       "      <td>1</td>\n",
       "      <td>2020</td>\n",
       "      <td>Netgen\\nOctober</td>\n",
       "      <td>10547.000</td>\n",
       "      <td>10</td>\n",
       "      <td>2020-10-31</td>\n",
       "      <td>340.0</td>\n",
       "      <td>340.0</td>\n",
       "      <td>340.0</td>\n",
       "      <td>6.630712e+06</td>\n",
       "      <td>6015.280776</td>\n",
       "    </tr>\n",
       "    <tr>\n",
       "      <th>78754</th>\n",
       "      <td>55375</td>\n",
       "      <td>Astoria Energy</td>\n",
       "      <td>CT</td>\n",
       "      <td>NY</td>\n",
       "      <td>NYIS</td>\n",
       "      <td>1</td>\n",
       "      <td>2020</td>\n",
       "      <td>Netgen\\nNovember</td>\n",
       "      <td>0.000</td>\n",
       "      <td>11</td>\n",
       "      <td>2020-11-30</td>\n",
       "      <td>340.0</td>\n",
       "      <td>340.0</td>\n",
       "      <td>340.0</td>\n",
       "      <td>0.000000e+00</td>\n",
       "      <td>0.000000</td>\n",
       "    </tr>\n",
       "    <tr>\n",
       "      <th>78755</th>\n",
       "      <td>55375</td>\n",
       "      <td>Astoria Energy</td>\n",
       "      <td>CT</td>\n",
       "      <td>NY</td>\n",
       "      <td>NYIS</td>\n",
       "      <td>1</td>\n",
       "      <td>2020</td>\n",
       "      <td>Netgen\\nDecember</td>\n",
       "      <td>0.000</td>\n",
       "      <td>12</td>\n",
       "      <td>2020-12-31</td>\n",
       "      <td>340.0</td>\n",
       "      <td>340.0</td>\n",
       "      <td>340.0</td>\n",
       "      <td>0.000000e+00</td>\n",
       "      <td>0.000000</td>\n",
       "    </tr>\n",
       "  </tbody>\n",
       "</table>\n",
       "</div>"
      ],
      "text/plain": [
       "       Plant Id      Plant Name Reported\\nPrime Mover Plant State  \\\n",
       "78672     55375  Astoria Energy                    CA          NY   \n",
       "78673     55375  Astoria Energy                    CA          NY   \n",
       "78674     55375  Astoria Energy                    CA          NY   \n",
       "78675     55375  Astoria Energy                    CA          NY   \n",
       "78676     55375  Astoria Energy                    CA          NY   \n",
       "78677     55375  Astoria Energy                    CA          NY   \n",
       "78678     55375  Astoria Energy                    CA          NY   \n",
       "78679     55375  Astoria Energy                    CA          NY   \n",
       "78680     55375  Astoria Energy                    CA          NY   \n",
       "78681     55375  Astoria Energy                    CA          NY   \n",
       "78682     55375  Astoria Energy                    CA          NY   \n",
       "78683     55375  Astoria Energy                    CA          NY   \n",
       "78744     55375  Astoria Energy                    CT          NY   \n",
       "78745     55375  Astoria Energy                    CT          NY   \n",
       "78746     55375  Astoria Energy                    CT          NY   \n",
       "78747     55375  Astoria Energy                    CT          NY   \n",
       "78748     55375  Astoria Energy                    CT          NY   \n",
       "78749     55375  Astoria Energy                    CT          NY   \n",
       "78750     55375  Astoria Energy                    CT          NY   \n",
       "78751     55375  Astoria Energy                    CT          NY   \n",
       "78752     55375  Astoria Energy                    CT          NY   \n",
       "78753     55375  Astoria Energy                    CT          NY   \n",
       "78754     55375  Astoria Energy                    CT          NY   \n",
       "78755     55375  Astoria Energy                    CT          NY   \n",
       "\n",
       "      Balancing\\nAuthority Code  RGGI_state  YEAR            level_7  \\\n",
       "78672                      NYIS           1  2020    Netgen\\nJanuary   \n",
       "78673                      NYIS           1  2020   Netgen\\nFebruary   \n",
       "78674                      NYIS           1  2020      Netgen\\nMarch   \n",
       "78675                      NYIS           1  2020      Netgen\\nApril   \n",
       "78676                      NYIS           1  2020        Netgen\\nMay   \n",
       "78677                      NYIS           1  2020       Netgen\\nJune   \n",
       "78678                      NYIS           1  2020       Netgen\\nJuly   \n",
       "78679                      NYIS           1  2020     Netgen\\nAugust   \n",
       "78680                      NYIS           1  2020  Netgen\\nSeptember   \n",
       "78681                      NYIS           1  2020    Netgen\\nOctober   \n",
       "78682                      NYIS           1  2020   Netgen\\nNovember   \n",
       "78683                      NYIS           1  2020   Netgen\\nDecember   \n",
       "78744                      NYIS           1  2020    Netgen\\nJanuary   \n",
       "78745                      NYIS           1  2020   Netgen\\nFebruary   \n",
       "78746                      NYIS           1  2020      Netgen\\nMarch   \n",
       "78747                      NYIS           1  2020      Netgen\\nApril   \n",
       "78748                      NYIS           1  2020        Netgen\\nMay   \n",
       "78749                      NYIS           1  2020       Netgen\\nJune   \n",
       "78750                      NYIS           1  2020       Netgen\\nJuly   \n",
       "78751                      NYIS           1  2020     Netgen\\nAugust   \n",
       "78752                      NYIS           1  2020  Netgen\\nSeptember   \n",
       "78753                      NYIS           1  2020    Netgen\\nOctober   \n",
       "78754                      NYIS           1  2020   Netgen\\nNovember   \n",
       "78755                      NYIS           1  2020   Netgen\\nDecember   \n",
       "\n",
       "       Generation MWh  month       Date  Nameplate Capacity (MW)  \\\n",
       "78672      100228.998      1 2020-01-31                    255.0   \n",
       "78673       89244.000      2 2020-02-29                    255.0   \n",
       "78674       83470.000      3 2020-03-31                    255.0   \n",
       "78675       78060.000      4 2020-04-30                    255.0   \n",
       "78676      111394.000      5 2020-05-31                    255.0   \n",
       "78677      117260.000      6 2020-06-30                    255.0   \n",
       "78678      129515.000      7 2020-07-31                    255.0   \n",
       "78679      133404.000      8 2020-08-31                    255.0   \n",
       "78680      119460.003      9 2020-09-30                    255.0   \n",
       "78681        6323.000     10 2020-10-31                    255.0   \n",
       "78682           0.000     11 2020-11-30                    255.0   \n",
       "78683           0.000     12 2020-12-31                    255.0   \n",
       "78744      173570.000      1 2020-01-31                    340.0   \n",
       "78745      157279.996      2 2020-02-29                    340.0   \n",
       "78746      140410.002      3 2020-03-31                    340.0   \n",
       "78747      129127.002      4 2020-04-30                    340.0   \n",
       "78748      183276.000      5 2020-05-31                    340.0   \n",
       "78749      190394.000      6 2020-06-30                    340.0   \n",
       "78750      212087.000      7 2020-07-31                    340.0   \n",
       "78751      214153.000      8 2020-08-31                    340.0   \n",
       "78752      196184.998      9 2020-09-30                    340.0   \n",
       "78753       10547.000     10 2020-10-31                    340.0   \n",
       "78754           0.000     11 2020-11-30                    340.0   \n",
       "78755           0.000     12 2020-12-31                    340.0   \n",
       "\n",
       "       Gap_fill_capacity_year  Gap_fill_capacity_overall  KgCO2_perMmbtu  \\\n",
       "78672                   255.0                      255.0    3.271954e+05   \n",
       "78673                   255.0                      255.0    3.328039e+04   \n",
       "78674                   255.0                      255.0    3.487298e+05   \n",
       "78675                   255.0                      255.0    5.253434e+05   \n",
       "78676                   255.0                      255.0    6.453962e+05   \n",
       "78677                   255.0                      255.0    2.310051e+06   \n",
       "78678                   255.0                      255.0    5.009201e+06   \n",
       "78679                   255.0                      255.0    5.898566e+06   \n",
       "78680                   255.0                      255.0    2.717246e+06   \n",
       "78681                   255.0                      255.0    4.740736e+04   \n",
       "78682                   255.0                      255.0    0.000000e+00   \n",
       "78683                   255.0                      255.0    0.000000e+00   \n",
       "78744                   340.0                      340.0    1.066130e+08   \n",
       "78745                   340.0                      340.0    9.633352e+07   \n",
       "78746                   340.0                      340.0    8.994596e+07   \n",
       "78747                   340.0                      340.0    8.322790e+07   \n",
       "78748                   340.0                      340.0    1.136243e+08   \n",
       "78749                   340.0                      340.0    1.161566e+08   \n",
       "78750                   340.0                      340.0    1.262699e+08   \n",
       "78751                   340.0                      340.0    1.275464e+08   \n",
       "78752                   340.0                      340.0    1.189824e+08   \n",
       "78753                   340.0                      340.0    6.630712e+06   \n",
       "78754                   340.0                      340.0    0.000000e+00   \n",
       "78755                   340.0                      340.0    0.000000e+00   \n",
       "\n",
       "       Emissions_stCO2  \n",
       "78672       296.826697  \n",
       "78673        30.191461  \n",
       "78674       316.362348  \n",
       "78675       476.583486  \n",
       "78676       585.493540  \n",
       "78677      2095.642561  \n",
       "78678      4544.270815  \n",
       "78679      5351.088401  \n",
       "78680      2465.043961  \n",
       "78681        43.007232  \n",
       "78682         0.000000  \n",
       "78683         0.000000  \n",
       "78744     96717.707078  \n",
       "78745     87392.296067  \n",
       "78746     81597.595400  \n",
       "78747     75503.080813  \n",
       "78748    103078.254468  \n",
       "78749    105375.445427  \n",
       "78750    114550.097519  \n",
       "78751    115708.124830  \n",
       "78752    107939.027137  \n",
       "78753      6015.280776  \n",
       "78754         0.000000  \n",
       "78755         0.000000  "
      ]
     },
     "execution_count": 64,
     "metadata": {},
     "output_type": "execute_result"
    }
   ],
   "source": [
    "rggi_or_pjm_capacity[rggi_or_pjm_capacity['Plant Id']==55375].query('YEAR==2020')"
   ]
  },
  {
   "cell_type": "code",
   "execution_count": 65,
   "metadata": {},
   "outputs": [],
   "source": [
    "#rggi_or_pjm_capacity[rggi_or_pjm_capacity['Balancing\\nAuthority Code']==\"PJM\"]"
   ]
  },
  {
   "cell_type": "code",
   "execution_count": 66,
   "metadata": {},
   "outputs": [
    {
     "data": {
      "application/vnd.plotly.v1+json": {
       "config": {
        "plotlyServerURL": "https://plot.ly"
       },
       "data": [
        {
         "alignmentgroup": "True",
         "hovertemplate": "RGGI_state=0<br>YEAR=%{x}<br>value=%{y}<extra></extra>",
         "legendgroup": "0",
         "marker": {
          "color": "#636efa",
          "pattern": {
           "shape": ""
          }
         },
         "name": "0",
         "offsetgroup": "0",
         "orientation": "v",
         "showlegend": true,
         "textposition": "auto",
         "type": "bar",
         "x": [
          2019,
          2020,
          2021,
          2022,
          2023,
          2024
         ],
         "xaxis": "x",
         "y": [
          246378751.85092983,
          230429030.255982,
          258511537.81454057,
          253112855.3694661,
          226147790.3615925,
          168858620.6783276
         ],
         "yaxis": "y"
        },
        {
         "alignmentgroup": "True",
         "hovertemplate": "RGGI_state=1<br>YEAR=%{x}<br>value=%{y}<extra></extra>",
         "legendgroup": "1",
         "marker": {
          "color": "#EF553B",
          "pattern": {
           "shape": ""
          }
         },
         "name": "1",
         "offsetgroup": "1",
         "orientation": "v",
         "showlegend": true,
         "textposition": "auto",
         "type": "bar",
         "x": [
          2019,
          2020,
          2021,
          2022,
          2023,
          2024
         ],
         "xaxis": "x",
         "y": [
          69077058.9829578,
          65118494.51142913,
          68884742.01980795,
          72339055.96202338,
          67851164.0949031,
          47049698.015601955
         ],
         "yaxis": "y"
        }
       ],
       "layout": {
        "barmode": "group",
        "legend": {
         "title": {
          "text": "RGGI_state"
         },
         "tracegroupgap": 0
        },
        "margin": {
         "t": 60
        },
        "template": {
         "data": {
          "bar": [
           {
            "error_x": {
             "color": "#2a3f5f"
            },
            "error_y": {
             "color": "#2a3f5f"
            },
            "marker": {
             "line": {
              "color": "#E5ECF6",
              "width": 0.5
             },
             "pattern": {
              "fillmode": "overlay",
              "size": 10,
              "solidity": 0.2
             }
            },
            "type": "bar"
           }
          ],
          "barpolar": [
           {
            "marker": {
             "line": {
              "color": "#E5ECF6",
              "width": 0.5
             },
             "pattern": {
              "fillmode": "overlay",
              "size": 10,
              "solidity": 0.2
             }
            },
            "type": "barpolar"
           }
          ],
          "carpet": [
           {
            "aaxis": {
             "endlinecolor": "#2a3f5f",
             "gridcolor": "white",
             "linecolor": "white",
             "minorgridcolor": "white",
             "startlinecolor": "#2a3f5f"
            },
            "baxis": {
             "endlinecolor": "#2a3f5f",
             "gridcolor": "white",
             "linecolor": "white",
             "minorgridcolor": "white",
             "startlinecolor": "#2a3f5f"
            },
            "type": "carpet"
           }
          ],
          "choropleth": [
           {
            "colorbar": {
             "outlinewidth": 0,
             "ticks": ""
            },
            "type": "choropleth"
           }
          ],
          "contour": [
           {
            "colorbar": {
             "outlinewidth": 0,
             "ticks": ""
            },
            "colorscale": [
             [
              0,
              "#0d0887"
             ],
             [
              0.1111111111111111,
              "#46039f"
             ],
             [
              0.2222222222222222,
              "#7201a8"
             ],
             [
              0.3333333333333333,
              "#9c179e"
             ],
             [
              0.4444444444444444,
              "#bd3786"
             ],
             [
              0.5555555555555556,
              "#d8576b"
             ],
             [
              0.6666666666666666,
              "#ed7953"
             ],
             [
              0.7777777777777778,
              "#fb9f3a"
             ],
             [
              0.8888888888888888,
              "#fdca26"
             ],
             [
              1,
              "#f0f921"
             ]
            ],
            "type": "contour"
           }
          ],
          "contourcarpet": [
           {
            "colorbar": {
             "outlinewidth": 0,
             "ticks": ""
            },
            "type": "contourcarpet"
           }
          ],
          "heatmap": [
           {
            "colorbar": {
             "outlinewidth": 0,
             "ticks": ""
            },
            "colorscale": [
             [
              0,
              "#0d0887"
             ],
             [
              0.1111111111111111,
              "#46039f"
             ],
             [
              0.2222222222222222,
              "#7201a8"
             ],
             [
              0.3333333333333333,
              "#9c179e"
             ],
             [
              0.4444444444444444,
              "#bd3786"
             ],
             [
              0.5555555555555556,
              "#d8576b"
             ],
             [
              0.6666666666666666,
              "#ed7953"
             ],
             [
              0.7777777777777778,
              "#fb9f3a"
             ],
             [
              0.8888888888888888,
              "#fdca26"
             ],
             [
              1,
              "#f0f921"
             ]
            ],
            "type": "heatmap"
           }
          ],
          "heatmapgl": [
           {
            "colorbar": {
             "outlinewidth": 0,
             "ticks": ""
            },
            "colorscale": [
             [
              0,
              "#0d0887"
             ],
             [
              0.1111111111111111,
              "#46039f"
             ],
             [
              0.2222222222222222,
              "#7201a8"
             ],
             [
              0.3333333333333333,
              "#9c179e"
             ],
             [
              0.4444444444444444,
              "#bd3786"
             ],
             [
              0.5555555555555556,
              "#d8576b"
             ],
             [
              0.6666666666666666,
              "#ed7953"
             ],
             [
              0.7777777777777778,
              "#fb9f3a"
             ],
             [
              0.8888888888888888,
              "#fdca26"
             ],
             [
              1,
              "#f0f921"
             ]
            ],
            "type": "heatmapgl"
           }
          ],
          "histogram": [
           {
            "marker": {
             "pattern": {
              "fillmode": "overlay",
              "size": 10,
              "solidity": 0.2
             }
            },
            "type": "histogram"
           }
          ],
          "histogram2d": [
           {
            "colorbar": {
             "outlinewidth": 0,
             "ticks": ""
            },
            "colorscale": [
             [
              0,
              "#0d0887"
             ],
             [
              0.1111111111111111,
              "#46039f"
             ],
             [
              0.2222222222222222,
              "#7201a8"
             ],
             [
              0.3333333333333333,
              "#9c179e"
             ],
             [
              0.4444444444444444,
              "#bd3786"
             ],
             [
              0.5555555555555556,
              "#d8576b"
             ],
             [
              0.6666666666666666,
              "#ed7953"
             ],
             [
              0.7777777777777778,
              "#fb9f3a"
             ],
             [
              0.8888888888888888,
              "#fdca26"
             ],
             [
              1,
              "#f0f921"
             ]
            ],
            "type": "histogram2d"
           }
          ],
          "histogram2dcontour": [
           {
            "colorbar": {
             "outlinewidth": 0,
             "ticks": ""
            },
            "colorscale": [
             [
              0,
              "#0d0887"
             ],
             [
              0.1111111111111111,
              "#46039f"
             ],
             [
              0.2222222222222222,
              "#7201a8"
             ],
             [
              0.3333333333333333,
              "#9c179e"
             ],
             [
              0.4444444444444444,
              "#bd3786"
             ],
             [
              0.5555555555555556,
              "#d8576b"
             ],
             [
              0.6666666666666666,
              "#ed7953"
             ],
             [
              0.7777777777777778,
              "#fb9f3a"
             ],
             [
              0.8888888888888888,
              "#fdca26"
             ],
             [
              1,
              "#f0f921"
             ]
            ],
            "type": "histogram2dcontour"
           }
          ],
          "mesh3d": [
           {
            "colorbar": {
             "outlinewidth": 0,
             "ticks": ""
            },
            "type": "mesh3d"
           }
          ],
          "parcoords": [
           {
            "line": {
             "colorbar": {
              "outlinewidth": 0,
              "ticks": ""
             }
            },
            "type": "parcoords"
           }
          ],
          "pie": [
           {
            "automargin": true,
            "type": "pie"
           }
          ],
          "scatter": [
           {
            "fillpattern": {
             "fillmode": "overlay",
             "size": 10,
             "solidity": 0.2
            },
            "type": "scatter"
           }
          ],
          "scatter3d": [
           {
            "line": {
             "colorbar": {
              "outlinewidth": 0,
              "ticks": ""
             }
            },
            "marker": {
             "colorbar": {
              "outlinewidth": 0,
              "ticks": ""
             }
            },
            "type": "scatter3d"
           }
          ],
          "scattercarpet": [
           {
            "marker": {
             "colorbar": {
              "outlinewidth": 0,
              "ticks": ""
             }
            },
            "type": "scattercarpet"
           }
          ],
          "scattergeo": [
           {
            "marker": {
             "colorbar": {
              "outlinewidth": 0,
              "ticks": ""
             }
            },
            "type": "scattergeo"
           }
          ],
          "scattergl": [
           {
            "marker": {
             "colorbar": {
              "outlinewidth": 0,
              "ticks": ""
             }
            },
            "type": "scattergl"
           }
          ],
          "scattermapbox": [
           {
            "marker": {
             "colorbar": {
              "outlinewidth": 0,
              "ticks": ""
             }
            },
            "type": "scattermapbox"
           }
          ],
          "scatterpolar": [
           {
            "marker": {
             "colorbar": {
              "outlinewidth": 0,
              "ticks": ""
             }
            },
            "type": "scatterpolar"
           }
          ],
          "scatterpolargl": [
           {
            "marker": {
             "colorbar": {
              "outlinewidth": 0,
              "ticks": ""
             }
            },
            "type": "scatterpolargl"
           }
          ],
          "scatterternary": [
           {
            "marker": {
             "colorbar": {
              "outlinewidth": 0,
              "ticks": ""
             }
            },
            "type": "scatterternary"
           }
          ],
          "surface": [
           {
            "colorbar": {
             "outlinewidth": 0,
             "ticks": ""
            },
            "colorscale": [
             [
              0,
              "#0d0887"
             ],
             [
              0.1111111111111111,
              "#46039f"
             ],
             [
              0.2222222222222222,
              "#7201a8"
             ],
             [
              0.3333333333333333,
              "#9c179e"
             ],
             [
              0.4444444444444444,
              "#bd3786"
             ],
             [
              0.5555555555555556,
              "#d8576b"
             ],
             [
              0.6666666666666666,
              "#ed7953"
             ],
             [
              0.7777777777777778,
              "#fb9f3a"
             ],
             [
              0.8888888888888888,
              "#fdca26"
             ],
             [
              1,
              "#f0f921"
             ]
            ],
            "type": "surface"
           }
          ],
          "table": [
           {
            "cells": {
             "fill": {
              "color": "#EBF0F8"
             },
             "line": {
              "color": "white"
             }
            },
            "header": {
             "fill": {
              "color": "#C8D4E3"
             },
             "line": {
              "color": "white"
             }
            },
            "type": "table"
           }
          ]
         },
         "layout": {
          "annotationdefaults": {
           "arrowcolor": "#2a3f5f",
           "arrowhead": 0,
           "arrowwidth": 1
          },
          "autotypenumbers": "strict",
          "coloraxis": {
           "colorbar": {
            "outlinewidth": 0,
            "ticks": ""
           }
          },
          "colorscale": {
           "diverging": [
            [
             0,
             "#8e0152"
            ],
            [
             0.1,
             "#c51b7d"
            ],
            [
             0.2,
             "#de77ae"
            ],
            [
             0.3,
             "#f1b6da"
            ],
            [
             0.4,
             "#fde0ef"
            ],
            [
             0.5,
             "#f7f7f7"
            ],
            [
             0.6,
             "#e6f5d0"
            ],
            [
             0.7,
             "#b8e186"
            ],
            [
             0.8,
             "#7fbc41"
            ],
            [
             0.9,
             "#4d9221"
            ],
            [
             1,
             "#276419"
            ]
           ],
           "sequential": [
            [
             0,
             "#0d0887"
            ],
            [
             0.1111111111111111,
             "#46039f"
            ],
            [
             0.2222222222222222,
             "#7201a8"
            ],
            [
             0.3333333333333333,
             "#9c179e"
            ],
            [
             0.4444444444444444,
             "#bd3786"
            ],
            [
             0.5555555555555556,
             "#d8576b"
            ],
            [
             0.6666666666666666,
             "#ed7953"
            ],
            [
             0.7777777777777778,
             "#fb9f3a"
            ],
            [
             0.8888888888888888,
             "#fdca26"
            ],
            [
             1,
             "#f0f921"
            ]
           ],
           "sequentialminus": [
            [
             0,
             "#0d0887"
            ],
            [
             0.1111111111111111,
             "#46039f"
            ],
            [
             0.2222222222222222,
             "#7201a8"
            ],
            [
             0.3333333333333333,
             "#9c179e"
            ],
            [
             0.4444444444444444,
             "#bd3786"
            ],
            [
             0.5555555555555556,
             "#d8576b"
            ],
            [
             0.6666666666666666,
             "#ed7953"
            ],
            [
             0.7777777777777778,
             "#fb9f3a"
            ],
            [
             0.8888888888888888,
             "#fdca26"
            ],
            [
             1,
             "#f0f921"
            ]
           ]
          },
          "colorway": [
           "#636efa",
           "#EF553B",
           "#00cc96",
           "#ab63fa",
           "#FFA15A",
           "#19d3f3",
           "#FF6692",
           "#B6E880",
           "#FF97FF",
           "#FECB52"
          ],
          "font": {
           "color": "#2a3f5f"
          },
          "geo": {
           "bgcolor": "white",
           "lakecolor": "white",
           "landcolor": "#E5ECF6",
           "showlakes": true,
           "showland": true,
           "subunitcolor": "white"
          },
          "hoverlabel": {
           "align": "left"
          },
          "hovermode": "closest",
          "mapbox": {
           "style": "light"
          },
          "paper_bgcolor": "white",
          "plot_bgcolor": "#E5ECF6",
          "polar": {
           "angularaxis": {
            "gridcolor": "white",
            "linecolor": "white",
            "ticks": ""
           },
           "bgcolor": "#E5ECF6",
           "radialaxis": {
            "gridcolor": "white",
            "linecolor": "white",
            "ticks": ""
           }
          },
          "scene": {
           "xaxis": {
            "backgroundcolor": "#E5ECF6",
            "gridcolor": "white",
            "gridwidth": 2,
            "linecolor": "white",
            "showbackground": true,
            "ticks": "",
            "zerolinecolor": "white"
           },
           "yaxis": {
            "backgroundcolor": "#E5ECF6",
            "gridcolor": "white",
            "gridwidth": 2,
            "linecolor": "white",
            "showbackground": true,
            "ticks": "",
            "zerolinecolor": "white"
           },
           "zaxis": {
            "backgroundcolor": "#E5ECF6",
            "gridcolor": "white",
            "gridwidth": 2,
            "linecolor": "white",
            "showbackground": true,
            "ticks": "",
            "zerolinecolor": "white"
           }
          },
          "shapedefaults": {
           "line": {
            "color": "#2a3f5f"
           }
          },
          "ternary": {
           "aaxis": {
            "gridcolor": "white",
            "linecolor": "white",
            "ticks": ""
           },
           "baxis": {
            "gridcolor": "white",
            "linecolor": "white",
            "ticks": ""
           },
           "bgcolor": "#E5ECF6",
           "caxis": {
            "gridcolor": "white",
            "linecolor": "white",
            "ticks": ""
           }
          },
          "title": {
           "x": 0.05
          },
          "xaxis": {
           "automargin": true,
           "gridcolor": "white",
           "linecolor": "white",
           "ticks": "",
           "title": {
            "standoff": 15
           },
           "zerolinecolor": "white",
           "zerolinewidth": 2
          },
          "yaxis": {
           "automargin": true,
           "gridcolor": "white",
           "linecolor": "white",
           "ticks": "",
           "title": {
            "standoff": 15
           },
           "zerolinecolor": "white",
           "zerolinewidth": 2
          }
         }
        },
        "xaxis": {
         "anchor": "y",
         "domain": [
          0,
          1
         ],
         "title": {
          "text": "YEAR"
         }
        },
        "yaxis": {
         "anchor": "x",
         "domain": [
          0,
          1
         ],
         "title": {
          "text": "value"
         }
        }
       }
      }
     },
     "metadata": {},
     "output_type": "display_data"
    }
   ],
   "source": [
    "px.bar(rggi_or_pjm_capacity.query('`Nameplate Capacity (MW)`>25 ').groupby(['YEAR','RGGI_state'])['Emissions_stCO2'].sum().unstack('RGGI_state'),barmode='group')"
   ]
  },
  {
   "cell_type": "code",
   "execution_count": 67,
   "metadata": {},
   "outputs": [
    {
     "data": {
      "text/plain": [
       "YEAR\n",
       "2019    69.077059\n",
       "2020    65.118495\n",
       "2021    68.884742\n",
       "2022    72.339056\n",
       "2023    67.851164\n",
       "2024    47.049698\n",
       "dtype: float64"
      ]
     },
     "execution_count": 67,
     "metadata": {},
     "output_type": "execute_result"
    }
   ],
   "source": [
    "(rggi_or_pjm_capacity.query('`Nameplate Capacity (MW)`>25 and RGGI_state==1').groupby(['Plant State','YEAR','RGGI_state'])['Emissions_stCO2'].sum().unstack('YEAR')/10**6).sort_values('RGGI_state').sum()"
   ]
  },
  {
   "cell_type": "code",
   "execution_count": 68,
   "metadata": {},
   "outputs": [
    {
     "data": {
      "application/vnd.plotly.v1+json": {
       "config": {
        "plotlyServerURL": "https://plot.ly"
       },
       "data": [
        {
         "alignmentgroup": "True",
         "hovertemplate": "variable=0<br>YEAR=%{x}<br>value=%{y}<extra></extra>",
         "legendgroup": "0",
         "marker": {
          "color": "#636efa",
          "pattern": {
           "shape": ""
          }
         },
         "name": "0",
         "offsetgroup": "0",
         "orientation": "v",
         "showlegend": true,
         "textposition": "auto",
         "type": "bar",
         "x": [
          2019,
          2020,
          2021,
          2022,
          2023,
          2024
         ],
         "xaxis": "x",
         "y": [
          2352607.7834400916,
          1046810.1516018985,
          2490735.6792872287,
          2100203.724228423,
          1151631.227481472,
          1627148.7030923963
         ],
         "yaxis": "y"
        }
       ],
       "layout": {
        "barmode": "relative",
        "legend": {
         "title": {
          "text": "variable"
         },
         "tracegroupgap": 0
        },
        "margin": {
         "t": 60
        },
        "template": {
         "data": {
          "bar": [
           {
            "error_x": {
             "color": "#2a3f5f"
            },
            "error_y": {
             "color": "#2a3f5f"
            },
            "marker": {
             "line": {
              "color": "#E5ECF6",
              "width": 0.5
             },
             "pattern": {
              "fillmode": "overlay",
              "size": 10,
              "solidity": 0.2
             }
            },
            "type": "bar"
           }
          ],
          "barpolar": [
           {
            "marker": {
             "line": {
              "color": "#E5ECF6",
              "width": 0.5
             },
             "pattern": {
              "fillmode": "overlay",
              "size": 10,
              "solidity": 0.2
             }
            },
            "type": "barpolar"
           }
          ],
          "carpet": [
           {
            "aaxis": {
             "endlinecolor": "#2a3f5f",
             "gridcolor": "white",
             "linecolor": "white",
             "minorgridcolor": "white",
             "startlinecolor": "#2a3f5f"
            },
            "baxis": {
             "endlinecolor": "#2a3f5f",
             "gridcolor": "white",
             "linecolor": "white",
             "minorgridcolor": "white",
             "startlinecolor": "#2a3f5f"
            },
            "type": "carpet"
           }
          ],
          "choropleth": [
           {
            "colorbar": {
             "outlinewidth": 0,
             "ticks": ""
            },
            "type": "choropleth"
           }
          ],
          "contour": [
           {
            "colorbar": {
             "outlinewidth": 0,
             "ticks": ""
            },
            "colorscale": [
             [
              0,
              "#0d0887"
             ],
             [
              0.1111111111111111,
              "#46039f"
             ],
             [
              0.2222222222222222,
              "#7201a8"
             ],
             [
              0.3333333333333333,
              "#9c179e"
             ],
             [
              0.4444444444444444,
              "#bd3786"
             ],
             [
              0.5555555555555556,
              "#d8576b"
             ],
             [
              0.6666666666666666,
              "#ed7953"
             ],
             [
              0.7777777777777778,
              "#fb9f3a"
             ],
             [
              0.8888888888888888,
              "#fdca26"
             ],
             [
              1,
              "#f0f921"
             ]
            ],
            "type": "contour"
           }
          ],
          "contourcarpet": [
           {
            "colorbar": {
             "outlinewidth": 0,
             "ticks": ""
            },
            "type": "contourcarpet"
           }
          ],
          "heatmap": [
           {
            "colorbar": {
             "outlinewidth": 0,
             "ticks": ""
            },
            "colorscale": [
             [
              0,
              "#0d0887"
             ],
             [
              0.1111111111111111,
              "#46039f"
             ],
             [
              0.2222222222222222,
              "#7201a8"
             ],
             [
              0.3333333333333333,
              "#9c179e"
             ],
             [
              0.4444444444444444,
              "#bd3786"
             ],
             [
              0.5555555555555556,
              "#d8576b"
             ],
             [
              0.6666666666666666,
              "#ed7953"
             ],
             [
              0.7777777777777778,
              "#fb9f3a"
             ],
             [
              0.8888888888888888,
              "#fdca26"
             ],
             [
              1,
              "#f0f921"
             ]
            ],
            "type": "heatmap"
           }
          ],
          "heatmapgl": [
           {
            "colorbar": {
             "outlinewidth": 0,
             "ticks": ""
            },
            "colorscale": [
             [
              0,
              "#0d0887"
             ],
             [
              0.1111111111111111,
              "#46039f"
             ],
             [
              0.2222222222222222,
              "#7201a8"
             ],
             [
              0.3333333333333333,
              "#9c179e"
             ],
             [
              0.4444444444444444,
              "#bd3786"
             ],
             [
              0.5555555555555556,
              "#d8576b"
             ],
             [
              0.6666666666666666,
              "#ed7953"
             ],
             [
              0.7777777777777778,
              "#fb9f3a"
             ],
             [
              0.8888888888888888,
              "#fdca26"
             ],
             [
              1,
              "#f0f921"
             ]
            ],
            "type": "heatmapgl"
           }
          ],
          "histogram": [
           {
            "marker": {
             "pattern": {
              "fillmode": "overlay",
              "size": 10,
              "solidity": 0.2
             }
            },
            "type": "histogram"
           }
          ],
          "histogram2d": [
           {
            "colorbar": {
             "outlinewidth": 0,
             "ticks": ""
            },
            "colorscale": [
             [
              0,
              "#0d0887"
             ],
             [
              0.1111111111111111,
              "#46039f"
             ],
             [
              0.2222222222222222,
              "#7201a8"
             ],
             [
              0.3333333333333333,
              "#9c179e"
             ],
             [
              0.4444444444444444,
              "#bd3786"
             ],
             [
              0.5555555555555556,
              "#d8576b"
             ],
             [
              0.6666666666666666,
              "#ed7953"
             ],
             [
              0.7777777777777778,
              "#fb9f3a"
             ],
             [
              0.8888888888888888,
              "#fdca26"
             ],
             [
              1,
              "#f0f921"
             ]
            ],
            "type": "histogram2d"
           }
          ],
          "histogram2dcontour": [
           {
            "colorbar": {
             "outlinewidth": 0,
             "ticks": ""
            },
            "colorscale": [
             [
              0,
              "#0d0887"
             ],
             [
              0.1111111111111111,
              "#46039f"
             ],
             [
              0.2222222222222222,
              "#7201a8"
             ],
             [
              0.3333333333333333,
              "#9c179e"
             ],
             [
              0.4444444444444444,
              "#bd3786"
             ],
             [
              0.5555555555555556,
              "#d8576b"
             ],
             [
              0.6666666666666666,
              "#ed7953"
             ],
             [
              0.7777777777777778,
              "#fb9f3a"
             ],
             [
              0.8888888888888888,
              "#fdca26"
             ],
             [
              1,
              "#f0f921"
             ]
            ],
            "type": "histogram2dcontour"
           }
          ],
          "mesh3d": [
           {
            "colorbar": {
             "outlinewidth": 0,
             "ticks": ""
            },
            "type": "mesh3d"
           }
          ],
          "parcoords": [
           {
            "line": {
             "colorbar": {
              "outlinewidth": 0,
              "ticks": ""
             }
            },
            "type": "parcoords"
           }
          ],
          "pie": [
           {
            "automargin": true,
            "type": "pie"
           }
          ],
          "scatter": [
           {
            "fillpattern": {
             "fillmode": "overlay",
             "size": 10,
             "solidity": 0.2
            },
            "type": "scatter"
           }
          ],
          "scatter3d": [
           {
            "line": {
             "colorbar": {
              "outlinewidth": 0,
              "ticks": ""
             }
            },
            "marker": {
             "colorbar": {
              "outlinewidth": 0,
              "ticks": ""
             }
            },
            "type": "scatter3d"
           }
          ],
          "scattercarpet": [
           {
            "marker": {
             "colorbar": {
              "outlinewidth": 0,
              "ticks": ""
             }
            },
            "type": "scattercarpet"
           }
          ],
          "scattergeo": [
           {
            "marker": {
             "colorbar": {
              "outlinewidth": 0,
              "ticks": ""
             }
            },
            "type": "scattergeo"
           }
          ],
          "scattergl": [
           {
            "marker": {
             "colorbar": {
              "outlinewidth": 0,
              "ticks": ""
             }
            },
            "type": "scattergl"
           }
          ],
          "scattermapbox": [
           {
            "marker": {
             "colorbar": {
              "outlinewidth": 0,
              "ticks": ""
             }
            },
            "type": "scattermapbox"
           }
          ],
          "scatterpolar": [
           {
            "marker": {
             "colorbar": {
              "outlinewidth": 0,
              "ticks": ""
             }
            },
            "type": "scatterpolar"
           }
          ],
          "scatterpolargl": [
           {
            "marker": {
             "colorbar": {
              "outlinewidth": 0,
              "ticks": ""
             }
            },
            "type": "scatterpolargl"
           }
          ],
          "scatterternary": [
           {
            "marker": {
             "colorbar": {
              "outlinewidth": 0,
              "ticks": ""
             }
            },
            "type": "scatterternary"
           }
          ],
          "surface": [
           {
            "colorbar": {
             "outlinewidth": 0,
             "ticks": ""
            },
            "colorscale": [
             [
              0,
              "#0d0887"
             ],
             [
              0.1111111111111111,
              "#46039f"
             ],
             [
              0.2222222222222222,
              "#7201a8"
             ],
             [
              0.3333333333333333,
              "#9c179e"
             ],
             [
              0.4444444444444444,
              "#bd3786"
             ],
             [
              0.5555555555555556,
              "#d8576b"
             ],
             [
              0.6666666666666666,
              "#ed7953"
             ],
             [
              0.7777777777777778,
              "#fb9f3a"
             ],
             [
              0.8888888888888888,
              "#fdca26"
             ],
             [
              1,
              "#f0f921"
             ]
            ],
            "type": "surface"
           }
          ],
          "table": [
           {
            "cells": {
             "fill": {
              "color": "#EBF0F8"
             },
             "line": {
              "color": "white"
             }
            },
            "header": {
             "fill": {
              "color": "#C8D4E3"
             },
             "line": {
              "color": "white"
             }
            },
            "type": "table"
           }
          ]
         },
         "layout": {
          "annotationdefaults": {
           "arrowcolor": "#2a3f5f",
           "arrowhead": 0,
           "arrowwidth": 1
          },
          "autotypenumbers": "strict",
          "coloraxis": {
           "colorbar": {
            "outlinewidth": 0,
            "ticks": ""
           }
          },
          "colorscale": {
           "diverging": [
            [
             0,
             "#8e0152"
            ],
            [
             0.1,
             "#c51b7d"
            ],
            [
             0.2,
             "#de77ae"
            ],
            [
             0.3,
             "#f1b6da"
            ],
            [
             0.4,
             "#fde0ef"
            ],
            [
             0.5,
             "#f7f7f7"
            ],
            [
             0.6,
             "#e6f5d0"
            ],
            [
             0.7,
             "#b8e186"
            ],
            [
             0.8,
             "#7fbc41"
            ],
            [
             0.9,
             "#4d9221"
            ],
            [
             1,
             "#276419"
            ]
           ],
           "sequential": [
            [
             0,
             "#0d0887"
            ],
            [
             0.1111111111111111,
             "#46039f"
            ],
            [
             0.2222222222222222,
             "#7201a8"
            ],
            [
             0.3333333333333333,
             "#9c179e"
            ],
            [
             0.4444444444444444,
             "#bd3786"
            ],
            [
             0.5555555555555556,
             "#d8576b"
            ],
            [
             0.6666666666666666,
             "#ed7953"
            ],
            [
             0.7777777777777778,
             "#fb9f3a"
            ],
            [
             0.8888888888888888,
             "#fdca26"
            ],
            [
             1,
             "#f0f921"
            ]
           ],
           "sequentialminus": [
            [
             0,
             "#0d0887"
            ],
            [
             0.1111111111111111,
             "#46039f"
            ],
            [
             0.2222222222222222,
             "#7201a8"
            ],
            [
             0.3333333333333333,
             "#9c179e"
            ],
            [
             0.4444444444444444,
             "#bd3786"
            ],
            [
             0.5555555555555556,
             "#d8576b"
            ],
            [
             0.6666666666666666,
             "#ed7953"
            ],
            [
             0.7777777777777778,
             "#fb9f3a"
            ],
            [
             0.8888888888888888,
             "#fdca26"
            ],
            [
             1,
             "#f0f921"
            ]
           ]
          },
          "colorway": [
           "#636efa",
           "#EF553B",
           "#00cc96",
           "#ab63fa",
           "#FFA15A",
           "#19d3f3",
           "#FF6692",
           "#B6E880",
           "#FF97FF",
           "#FECB52"
          ],
          "font": {
           "color": "#2a3f5f"
          },
          "geo": {
           "bgcolor": "white",
           "lakecolor": "white",
           "landcolor": "#E5ECF6",
           "showlakes": true,
           "showland": true,
           "subunitcolor": "white"
          },
          "hoverlabel": {
           "align": "left"
          },
          "hovermode": "closest",
          "mapbox": {
           "style": "light"
          },
          "paper_bgcolor": "white",
          "plot_bgcolor": "#E5ECF6",
          "polar": {
           "angularaxis": {
            "gridcolor": "white",
            "linecolor": "white",
            "ticks": ""
           },
           "bgcolor": "#E5ECF6",
           "radialaxis": {
            "gridcolor": "white",
            "linecolor": "white",
            "ticks": ""
           }
          },
          "scene": {
           "xaxis": {
            "backgroundcolor": "#E5ECF6",
            "gridcolor": "white",
            "gridwidth": 2,
            "linecolor": "white",
            "showbackground": true,
            "ticks": "",
            "zerolinecolor": "white"
           },
           "yaxis": {
            "backgroundcolor": "#E5ECF6",
            "gridcolor": "white",
            "gridwidth": 2,
            "linecolor": "white",
            "showbackground": true,
            "ticks": "",
            "zerolinecolor": "white"
           },
           "zaxis": {
            "backgroundcolor": "#E5ECF6",
            "gridcolor": "white",
            "gridwidth": 2,
            "linecolor": "white",
            "showbackground": true,
            "ticks": "",
            "zerolinecolor": "white"
           }
          },
          "shapedefaults": {
           "line": {
            "color": "#2a3f5f"
           }
          },
          "ternary": {
           "aaxis": {
            "gridcolor": "white",
            "linecolor": "white",
            "ticks": ""
           },
           "baxis": {
            "gridcolor": "white",
            "linecolor": "white",
            "ticks": ""
           },
           "bgcolor": "#E5ECF6",
           "caxis": {
            "gridcolor": "white",
            "linecolor": "white",
            "ticks": ""
           }
          },
          "title": {
           "x": 0.05
          },
          "xaxis": {
           "automargin": true,
           "gridcolor": "white",
           "linecolor": "white",
           "ticks": "",
           "title": {
            "standoff": 15
           },
           "zerolinecolor": "white",
           "zerolinewidth": 2
          },
          "yaxis": {
           "automargin": true,
           "gridcolor": "white",
           "linecolor": "white",
           "ticks": "",
           "title": {
            "standoff": 15
           },
           "zerolinecolor": "white",
           "zerolinewidth": 2
          }
         }
        },
        "xaxis": {
         "anchor": "y",
         "domain": [
          0,
          1
         ],
         "title": {
          "text": "YEAR"
         }
        },
        "yaxis": {
         "anchor": "x",
         "domain": [
          0,
          1
         ],
         "title": {
          "text": "value"
         }
        }
       }
      }
     },
     "metadata": {},
     "output_type": "display_data"
    }
   ],
   "source": [
    "px.bar(rggi_or_pjm_capacity.query('`Plant Name`==\"Brandon Shores\"').pivot_table(index='YEAR',columns='month',values='Emissions_stCO2').sum(axis=1))"
   ]
  },
  {
   "cell_type": "code",
   "execution_count": 69,
   "metadata": {},
   "outputs": [
    {
     "data": {
      "text/html": [
       "<div>\n",
       "<style scoped>\n",
       "    .dataframe tbody tr th:only-of-type {\n",
       "        vertical-align: middle;\n",
       "    }\n",
       "\n",
       "    .dataframe tbody tr th {\n",
       "        vertical-align: top;\n",
       "    }\n",
       "\n",
       "    .dataframe thead th {\n",
       "        text-align: right;\n",
       "    }\n",
       "</style>\n",
       "<table border=\"1\" class=\"dataframe\">\n",
       "  <thead>\n",
       "    <tr style=\"text-align: right;\">\n",
       "      <th></th>\n",
       "      <th>Plant Id</th>\n",
       "      <th>Plant Name</th>\n",
       "      <th>Reported\\nPrime Mover</th>\n",
       "      <th>Plant State</th>\n",
       "      <th>Balancing\\nAuthority Code</th>\n",
       "      <th>RGGI_state</th>\n",
       "      <th>YEAR</th>\n",
       "      <th>level_7</th>\n",
       "      <th>Generation MWh</th>\n",
       "      <th>month</th>\n",
       "      <th>Date</th>\n",
       "      <th>Nameplate Capacity (MW)</th>\n",
       "      <th>Gap_fill_capacity_year</th>\n",
       "      <th>Gap_fill_capacity_overall</th>\n",
       "      <th>KgCO2_perMmbtu</th>\n",
       "      <th>Emissions_stCO2</th>\n",
       "    </tr>\n",
       "  </thead>\n",
       "  <tbody>\n",
       "    <tr>\n",
       "      <th>0</th>\n",
       "      <td>54</td>\n",
       "      <td>J K Smith</td>\n",
       "      <td>GT</td>\n",
       "      <td>KY</td>\n",
       "      <td>PJM</td>\n",
       "      <td>0</td>\n",
       "      <td>2019</td>\n",
       "      <td>Netgen\\nJanuary</td>\n",
       "      <td>53058.000</td>\n",
       "      <td>1</td>\n",
       "      <td>2019-01-31</td>\n",
       "      <td>1055.0</td>\n",
       "      <td>1055.0</td>\n",
       "      <td>1055.0</td>\n",
       "      <td>41687101.17</td>\n",
       "      <td>37817.900369</td>\n",
       "    </tr>\n",
       "    <tr>\n",
       "      <th>1</th>\n",
       "      <td>54</td>\n",
       "      <td>J K Smith</td>\n",
       "      <td>GT</td>\n",
       "      <td>KY</td>\n",
       "      <td>PJM</td>\n",
       "      <td>0</td>\n",
       "      <td>2019</td>\n",
       "      <td>Netgen\\nFebruary</td>\n",
       "      <td>22469.000</td>\n",
       "      <td>2</td>\n",
       "      <td>2019-02-28</td>\n",
       "      <td>1055.0</td>\n",
       "      <td>1055.0</td>\n",
       "      <td>1055.0</td>\n",
       "      <td>11567448.75</td>\n",
       "      <td>10493.812524</td>\n",
       "    </tr>\n",
       "    <tr>\n",
       "      <th>2</th>\n",
       "      <td>54</td>\n",
       "      <td>J K Smith</td>\n",
       "      <td>GT</td>\n",
       "      <td>KY</td>\n",
       "      <td>PJM</td>\n",
       "      <td>0</td>\n",
       "      <td>2019</td>\n",
       "      <td>Netgen\\nMarch</td>\n",
       "      <td>21959.000</td>\n",
       "      <td>3</td>\n",
       "      <td>2019-03-31</td>\n",
       "      <td>1055.0</td>\n",
       "      <td>1055.0</td>\n",
       "      <td>1055.0</td>\n",
       "      <td>15713795.90</td>\n",
       "      <td>14255.315219</td>\n",
       "    </tr>\n",
       "    <tr>\n",
       "      <th>3</th>\n",
       "      <td>54</td>\n",
       "      <td>J K Smith</td>\n",
       "      <td>GT</td>\n",
       "      <td>KY</td>\n",
       "      <td>PJM</td>\n",
       "      <td>0</td>\n",
       "      <td>2019</td>\n",
       "      <td>Netgen\\nApril</td>\n",
       "      <td>10545.000</td>\n",
       "      <td>4</td>\n",
       "      <td>2019-04-30</td>\n",
       "      <td>1055.0</td>\n",
       "      <td>1055.0</td>\n",
       "      <td>1055.0</td>\n",
       "      <td>6997734.59</td>\n",
       "      <td>6348.237755</td>\n",
       "    </tr>\n",
       "    <tr>\n",
       "      <th>4</th>\n",
       "      <td>54</td>\n",
       "      <td>J K Smith</td>\n",
       "      <td>GT</td>\n",
       "      <td>KY</td>\n",
       "      <td>PJM</td>\n",
       "      <td>0</td>\n",
       "      <td>2019</td>\n",
       "      <td>Netgen\\nMay</td>\n",
       "      <td>4981.000</td>\n",
       "      <td>5</td>\n",
       "      <td>2019-05-31</td>\n",
       "      <td>1055.0</td>\n",
       "      <td>1055.0</td>\n",
       "      <td>1055.0</td>\n",
       "      <td>3051944.61</td>\n",
       "      <td>2768.677455</td>\n",
       "    </tr>\n",
       "    <tr>\n",
       "      <th>...</th>\n",
       "      <td>...</td>\n",
       "      <td>...</td>\n",
       "      <td>...</td>\n",
       "      <td>...</td>\n",
       "      <td>...</td>\n",
       "      <td>...</td>\n",
       "      <td>...</td>\n",
       "      <td>...</td>\n",
       "      <td>...</td>\n",
       "      <td>...</td>\n",
       "      <td>...</td>\n",
       "      <td>...</td>\n",
       "      <td>...</td>\n",
       "      <td>...</td>\n",
       "      <td>...</td>\n",
       "      <td>...</td>\n",
       "    </tr>\n",
       "    <tr>\n",
       "      <th>231391</th>\n",
       "      <td>99999</td>\n",
       "      <td>State-Fuel Level Increment</td>\n",
       "      <td>WT</td>\n",
       "      <td>RI</td>\n",
       "      <td>State-Fuel Level Increment</td>\n",
       "      <td>1</td>\n",
       "      <td>2024</td>\n",
       "      <td>Netgen\\nAugust</td>\n",
       "      <td>2886.634</td>\n",
       "      <td>8</td>\n",
       "      <td>2024-08-31</td>\n",
       "      <td>NaN</td>\n",
       "      <td>NaN</td>\n",
       "      <td>NaN</td>\n",
       "      <td>0.00</td>\n",
       "      <td>0.000000</td>\n",
       "    </tr>\n",
       "    <tr>\n",
       "      <th>231392</th>\n",
       "      <td>99999</td>\n",
       "      <td>State-Fuel Level Increment</td>\n",
       "      <td>WT</td>\n",
       "      <td>RI</td>\n",
       "      <td>State-Fuel Level Increment</td>\n",
       "      <td>1</td>\n",
       "      <td>2024</td>\n",
       "      <td>Netgen\\nSeptember</td>\n",
       "      <td>3108.214</td>\n",
       "      <td>9</td>\n",
       "      <td>2024-09-30</td>\n",
       "      <td>NaN</td>\n",
       "      <td>NaN</td>\n",
       "      <td>NaN</td>\n",
       "      <td>0.00</td>\n",
       "      <td>0.000000</td>\n",
       "    </tr>\n",
       "    <tr>\n",
       "      <th>231393</th>\n",
       "      <td>99999</td>\n",
       "      <td>State-Fuel Level Increment</td>\n",
       "      <td>WT</td>\n",
       "      <td>RI</td>\n",
       "      <td>State-Fuel Level Increment</td>\n",
       "      <td>1</td>\n",
       "      <td>2024</td>\n",
       "      <td>Netgen\\nOctober</td>\n",
       "      <td>0.000</td>\n",
       "      <td>10</td>\n",
       "      <td>2024-10-31</td>\n",
       "      <td>NaN</td>\n",
       "      <td>NaN</td>\n",
       "      <td>NaN</td>\n",
       "      <td>0.00</td>\n",
       "      <td>0.000000</td>\n",
       "    </tr>\n",
       "    <tr>\n",
       "      <th>231394</th>\n",
       "      <td>99999</td>\n",
       "      <td>State-Fuel Level Increment</td>\n",
       "      <td>WT</td>\n",
       "      <td>RI</td>\n",
       "      <td>State-Fuel Level Increment</td>\n",
       "      <td>1</td>\n",
       "      <td>2024</td>\n",
       "      <td>Netgen\\nNovember</td>\n",
       "      <td>0.000</td>\n",
       "      <td>11</td>\n",
       "      <td>2024-11-30</td>\n",
       "      <td>NaN</td>\n",
       "      <td>NaN</td>\n",
       "      <td>NaN</td>\n",
       "      <td>0.00</td>\n",
       "      <td>0.000000</td>\n",
       "    </tr>\n",
       "    <tr>\n",
       "      <th>231395</th>\n",
       "      <td>99999</td>\n",
       "      <td>State-Fuel Level Increment</td>\n",
       "      <td>WT</td>\n",
       "      <td>RI</td>\n",
       "      <td>State-Fuel Level Increment</td>\n",
       "      <td>1</td>\n",
       "      <td>2024</td>\n",
       "      <td>Netgen\\nDecember</td>\n",
       "      <td>0.000</td>\n",
       "      <td>12</td>\n",
       "      <td>2024-12-31</td>\n",
       "      <td>NaN</td>\n",
       "      <td>NaN</td>\n",
       "      <td>NaN</td>\n",
       "      <td>0.00</td>\n",
       "      <td>0.000000</td>\n",
       "    </tr>\n",
       "  </tbody>\n",
       "</table>\n",
       "<p>231396 rows × 16 columns</p>\n",
       "</div>"
      ],
      "text/plain": [
       "        Plant Id                  Plant Name Reported\\nPrime Mover  \\\n",
       "0             54                   J K Smith                    GT   \n",
       "1             54                   J K Smith                    GT   \n",
       "2             54                   J K Smith                    GT   \n",
       "3             54                   J K Smith                    GT   \n",
       "4             54                   J K Smith                    GT   \n",
       "...          ...                         ...                   ...   \n",
       "231391     99999  State-Fuel Level Increment                    WT   \n",
       "231392     99999  State-Fuel Level Increment                    WT   \n",
       "231393     99999  State-Fuel Level Increment                    WT   \n",
       "231394     99999  State-Fuel Level Increment                    WT   \n",
       "231395     99999  State-Fuel Level Increment                    WT   \n",
       "\n",
       "       Plant State   Balancing\\nAuthority Code  RGGI_state  YEAR  \\\n",
       "0               KY                         PJM           0  2019   \n",
       "1               KY                         PJM           0  2019   \n",
       "2               KY                         PJM           0  2019   \n",
       "3               KY                         PJM           0  2019   \n",
       "4               KY                         PJM           0  2019   \n",
       "...            ...                         ...         ...   ...   \n",
       "231391          RI  State-Fuel Level Increment           1  2024   \n",
       "231392          RI  State-Fuel Level Increment           1  2024   \n",
       "231393          RI  State-Fuel Level Increment           1  2024   \n",
       "231394          RI  State-Fuel Level Increment           1  2024   \n",
       "231395          RI  State-Fuel Level Increment           1  2024   \n",
       "\n",
       "                  level_7  Generation MWh  month       Date  \\\n",
       "0         Netgen\\nJanuary       53058.000      1 2019-01-31   \n",
       "1        Netgen\\nFebruary       22469.000      2 2019-02-28   \n",
       "2           Netgen\\nMarch       21959.000      3 2019-03-31   \n",
       "3           Netgen\\nApril       10545.000      4 2019-04-30   \n",
       "4             Netgen\\nMay        4981.000      5 2019-05-31   \n",
       "...                   ...             ...    ...        ...   \n",
       "231391     Netgen\\nAugust        2886.634      8 2024-08-31   \n",
       "231392  Netgen\\nSeptember        3108.214      9 2024-09-30   \n",
       "231393    Netgen\\nOctober           0.000     10 2024-10-31   \n",
       "231394   Netgen\\nNovember           0.000     11 2024-11-30   \n",
       "231395   Netgen\\nDecember           0.000     12 2024-12-31   \n",
       "\n",
       "        Nameplate Capacity (MW)  Gap_fill_capacity_year  \\\n",
       "0                        1055.0                  1055.0   \n",
       "1                        1055.0                  1055.0   \n",
       "2                        1055.0                  1055.0   \n",
       "3                        1055.0                  1055.0   \n",
       "4                        1055.0                  1055.0   \n",
       "...                         ...                     ...   \n",
       "231391                      NaN                     NaN   \n",
       "231392                      NaN                     NaN   \n",
       "231393                      NaN                     NaN   \n",
       "231394                      NaN                     NaN   \n",
       "231395                      NaN                     NaN   \n",
       "\n",
       "        Gap_fill_capacity_overall  KgCO2_perMmbtu  Emissions_stCO2  \n",
       "0                          1055.0     41687101.17     37817.900369  \n",
       "1                          1055.0     11567448.75     10493.812524  \n",
       "2                          1055.0     15713795.90     14255.315219  \n",
       "3                          1055.0      6997734.59      6348.237755  \n",
       "4                          1055.0      3051944.61      2768.677455  \n",
       "...                           ...             ...              ...  \n",
       "231391                        NaN            0.00         0.000000  \n",
       "231392                        NaN            0.00         0.000000  \n",
       "231393                        NaN            0.00         0.000000  \n",
       "231394                        NaN            0.00         0.000000  \n",
       "231395                        NaN            0.00         0.000000  \n",
       "\n",
       "[231396 rows x 16 columns]"
      ]
     },
     "execution_count": 69,
     "metadata": {},
     "output_type": "execute_result"
    }
   ],
   "source": [
    "rggi_or_pjm_capacity"
   ]
  },
  {
   "cell_type": "code",
   "execution_count": 70,
   "metadata": {},
   "outputs": [
    {
     "data": {
      "application/vnd.plotly.v1+json": {
       "config": {
        "plotlyServerURL": "https://plot.ly"
       },
       "data": [
        {
         "hovertemplate": "Date=%{x}<br>Emissions_stCO2=%{y}<extra></extra>",
         "legendgroup": "",
         "line": {
          "color": "#636efa",
          "dash": "solid"
         },
         "marker": {
          "symbol": "circle"
         },
         "mode": "lines",
         "name": "",
         "orientation": "v",
         "showlegend": false,
         "type": "scatter",
         "x": [
          "2019-01-31T00:00:00",
          "2019-02-28T00:00:00",
          "2019-03-31T00:00:00",
          "2019-04-30T00:00:00",
          "2019-05-31T00:00:00",
          "2019-06-30T00:00:00",
          "2019-07-31T00:00:00",
          "2019-08-31T00:00:00",
          "2019-09-30T00:00:00",
          "2019-10-31T00:00:00",
          "2019-11-30T00:00:00",
          "2019-12-31T00:00:00",
          "2020-01-31T00:00:00",
          "2020-02-29T00:00:00",
          "2020-03-31T00:00:00",
          "2020-04-30T00:00:00",
          "2020-05-31T00:00:00",
          "2020-06-30T00:00:00",
          "2020-07-31T00:00:00",
          "2020-08-31T00:00:00",
          "2020-09-30T00:00:00",
          "2020-10-31T00:00:00",
          "2020-11-30T00:00:00",
          "2020-12-31T00:00:00",
          "2021-01-31T00:00:00",
          "2021-02-28T00:00:00",
          "2021-03-31T00:00:00",
          "2021-04-30T00:00:00",
          "2021-05-31T00:00:00",
          "2021-06-30T00:00:00",
          "2021-07-31T00:00:00",
          "2021-08-31T00:00:00",
          "2021-09-30T00:00:00",
          "2021-10-31T00:00:00",
          "2021-11-30T00:00:00",
          "2021-12-31T00:00:00",
          "2022-01-31T00:00:00",
          "2022-02-28T00:00:00",
          "2022-03-31T00:00:00",
          "2022-04-30T00:00:00",
          "2022-05-31T00:00:00",
          "2022-06-30T00:00:00",
          "2022-07-31T00:00:00",
          "2022-08-31T00:00:00",
          "2022-09-30T00:00:00",
          "2022-10-31T00:00:00",
          "2022-11-30T00:00:00",
          "2022-12-31T00:00:00",
          "2023-01-31T00:00:00",
          "2023-02-28T00:00:00",
          "2023-03-31T00:00:00",
          "2023-04-30T00:00:00",
          "2023-05-31T00:00:00",
          "2023-06-30T00:00:00",
          "2023-07-31T00:00:00",
          "2023-08-31T00:00:00",
          "2023-09-30T00:00:00",
          "2023-10-31T00:00:00",
          "2023-11-30T00:00:00",
          "2023-12-31T00:00:00",
          "2024-01-31T00:00:00",
          "2024-02-29T00:00:00",
          "2024-03-31T00:00:00",
          "2024-04-30T00:00:00",
          "2024-05-31T00:00:00",
          "2024-06-30T00:00:00",
          "2024-07-31T00:00:00",
          "2024-08-31T00:00:00",
          "2024-09-30T00:00:00",
          "2024-10-31T00:00:00",
          "2024-11-30T00:00:00",
          "2024-12-31T00:00:00"
         ],
         "xaxis": "x",
         "y": [
          314330.0885226875,
          119148.06660092661,
          214100.97785897428,
          20237.53004736532,
          264068.8000209312,
          220776.67130655967,
          290318.67529427505,
          340982.6334919964,
          272487.7539941296,
          69854.04175910079,
          148646.77006518503,
          77655.77447796018,
          204.197333225688,
          15.334977594024002,
          0,
          22621.074694065715,
          56212.60910032932,
          76847.24116085672,
          249880.08286328788,
          210647.73618900735,
          163917.95807798748,
          89902.90630991432,
          5577.353845498348,
          170983.65705013185,
          230141.4233167541,
          398263.69392399327,
          130963.25798712148,
          18397.537378807065,
          82874.03306731467,
          321670.4493110084,
          417975.9347098491,
          400868.91570201213,
          244960.63140964237,
          119997.79007687904,
          54520.80722975936,
          70101.20517408785,
          468533.30100956967,
          146685.9055224069,
          100.34994109773601,
          10171.989722396753,
          119159.28283297677,
          284280.0202786447,
          340299.52796696353,
          259722.1046352902,
          223075.74753225074,
          1.5469494941339998,
          0.403552041948,
          248173.54428528983,
          28417.858175219437,
          20180.69156932693,
          24125.780515758623,
          39759.50693165905,
          9223.176620762892,
          44237.24656242318,
          329205.1143838208,
          359821.06784224365,
          251811.0583191804,
          16077.29927376281,
          0,
          28772.427287314364,
          215403.92832536067,
          21848.124862209832,
          43035.11599509653,
          90759.95640908461,
          317114.3049362008,
          252266.96502435594,
          376555.006815619,
          185556.68624115686,
          124608.61448331202,
          0,
          0,
          0
         ],
         "yaxis": "y"
        }
       ],
       "layout": {
        "legend": {
         "tracegroupgap": 0
        },
        "margin": {
         "t": 60
        },
        "template": {
         "data": {
          "bar": [
           {
            "error_x": {
             "color": "#2a3f5f"
            },
            "error_y": {
             "color": "#2a3f5f"
            },
            "marker": {
             "line": {
              "color": "#E5ECF6",
              "width": 0.5
             },
             "pattern": {
              "fillmode": "overlay",
              "size": 10,
              "solidity": 0.2
             }
            },
            "type": "bar"
           }
          ],
          "barpolar": [
           {
            "marker": {
             "line": {
              "color": "#E5ECF6",
              "width": 0.5
             },
             "pattern": {
              "fillmode": "overlay",
              "size": 10,
              "solidity": 0.2
             }
            },
            "type": "barpolar"
           }
          ],
          "carpet": [
           {
            "aaxis": {
             "endlinecolor": "#2a3f5f",
             "gridcolor": "white",
             "linecolor": "white",
             "minorgridcolor": "white",
             "startlinecolor": "#2a3f5f"
            },
            "baxis": {
             "endlinecolor": "#2a3f5f",
             "gridcolor": "white",
             "linecolor": "white",
             "minorgridcolor": "white",
             "startlinecolor": "#2a3f5f"
            },
            "type": "carpet"
           }
          ],
          "choropleth": [
           {
            "colorbar": {
             "outlinewidth": 0,
             "ticks": ""
            },
            "type": "choropleth"
           }
          ],
          "contour": [
           {
            "colorbar": {
             "outlinewidth": 0,
             "ticks": ""
            },
            "colorscale": [
             [
              0,
              "#0d0887"
             ],
             [
              0.1111111111111111,
              "#46039f"
             ],
             [
              0.2222222222222222,
              "#7201a8"
             ],
             [
              0.3333333333333333,
              "#9c179e"
             ],
             [
              0.4444444444444444,
              "#bd3786"
             ],
             [
              0.5555555555555556,
              "#d8576b"
             ],
             [
              0.6666666666666666,
              "#ed7953"
             ],
             [
              0.7777777777777778,
              "#fb9f3a"
             ],
             [
              0.8888888888888888,
              "#fdca26"
             ],
             [
              1,
              "#f0f921"
             ]
            ],
            "type": "contour"
           }
          ],
          "contourcarpet": [
           {
            "colorbar": {
             "outlinewidth": 0,
             "ticks": ""
            },
            "type": "contourcarpet"
           }
          ],
          "heatmap": [
           {
            "colorbar": {
             "outlinewidth": 0,
             "ticks": ""
            },
            "colorscale": [
             [
              0,
              "#0d0887"
             ],
             [
              0.1111111111111111,
              "#46039f"
             ],
             [
              0.2222222222222222,
              "#7201a8"
             ],
             [
              0.3333333333333333,
              "#9c179e"
             ],
             [
              0.4444444444444444,
              "#bd3786"
             ],
             [
              0.5555555555555556,
              "#d8576b"
             ],
             [
              0.6666666666666666,
              "#ed7953"
             ],
             [
              0.7777777777777778,
              "#fb9f3a"
             ],
             [
              0.8888888888888888,
              "#fdca26"
             ],
             [
              1,
              "#f0f921"
             ]
            ],
            "type": "heatmap"
           }
          ],
          "heatmapgl": [
           {
            "colorbar": {
             "outlinewidth": 0,
             "ticks": ""
            },
            "colorscale": [
             [
              0,
              "#0d0887"
             ],
             [
              0.1111111111111111,
              "#46039f"
             ],
             [
              0.2222222222222222,
              "#7201a8"
             ],
             [
              0.3333333333333333,
              "#9c179e"
             ],
             [
              0.4444444444444444,
              "#bd3786"
             ],
             [
              0.5555555555555556,
              "#d8576b"
             ],
             [
              0.6666666666666666,
              "#ed7953"
             ],
             [
              0.7777777777777778,
              "#fb9f3a"
             ],
             [
              0.8888888888888888,
              "#fdca26"
             ],
             [
              1,
              "#f0f921"
             ]
            ],
            "type": "heatmapgl"
           }
          ],
          "histogram": [
           {
            "marker": {
             "pattern": {
              "fillmode": "overlay",
              "size": 10,
              "solidity": 0.2
             }
            },
            "type": "histogram"
           }
          ],
          "histogram2d": [
           {
            "colorbar": {
             "outlinewidth": 0,
             "ticks": ""
            },
            "colorscale": [
             [
              0,
              "#0d0887"
             ],
             [
              0.1111111111111111,
              "#46039f"
             ],
             [
              0.2222222222222222,
              "#7201a8"
             ],
             [
              0.3333333333333333,
              "#9c179e"
             ],
             [
              0.4444444444444444,
              "#bd3786"
             ],
             [
              0.5555555555555556,
              "#d8576b"
             ],
             [
              0.6666666666666666,
              "#ed7953"
             ],
             [
              0.7777777777777778,
              "#fb9f3a"
             ],
             [
              0.8888888888888888,
              "#fdca26"
             ],
             [
              1,
              "#f0f921"
             ]
            ],
            "type": "histogram2d"
           }
          ],
          "histogram2dcontour": [
           {
            "colorbar": {
             "outlinewidth": 0,
             "ticks": ""
            },
            "colorscale": [
             [
              0,
              "#0d0887"
             ],
             [
              0.1111111111111111,
              "#46039f"
             ],
             [
              0.2222222222222222,
              "#7201a8"
             ],
             [
              0.3333333333333333,
              "#9c179e"
             ],
             [
              0.4444444444444444,
              "#bd3786"
             ],
             [
              0.5555555555555556,
              "#d8576b"
             ],
             [
              0.6666666666666666,
              "#ed7953"
             ],
             [
              0.7777777777777778,
              "#fb9f3a"
             ],
             [
              0.8888888888888888,
              "#fdca26"
             ],
             [
              1,
              "#f0f921"
             ]
            ],
            "type": "histogram2dcontour"
           }
          ],
          "mesh3d": [
           {
            "colorbar": {
             "outlinewidth": 0,
             "ticks": ""
            },
            "type": "mesh3d"
           }
          ],
          "parcoords": [
           {
            "line": {
             "colorbar": {
              "outlinewidth": 0,
              "ticks": ""
             }
            },
            "type": "parcoords"
           }
          ],
          "pie": [
           {
            "automargin": true,
            "type": "pie"
           }
          ],
          "scatter": [
           {
            "fillpattern": {
             "fillmode": "overlay",
             "size": 10,
             "solidity": 0.2
            },
            "type": "scatter"
           }
          ],
          "scatter3d": [
           {
            "line": {
             "colorbar": {
              "outlinewidth": 0,
              "ticks": ""
             }
            },
            "marker": {
             "colorbar": {
              "outlinewidth": 0,
              "ticks": ""
             }
            },
            "type": "scatter3d"
           }
          ],
          "scattercarpet": [
           {
            "marker": {
             "colorbar": {
              "outlinewidth": 0,
              "ticks": ""
             }
            },
            "type": "scattercarpet"
           }
          ],
          "scattergeo": [
           {
            "marker": {
             "colorbar": {
              "outlinewidth": 0,
              "ticks": ""
             }
            },
            "type": "scattergeo"
           }
          ],
          "scattergl": [
           {
            "marker": {
             "colorbar": {
              "outlinewidth": 0,
              "ticks": ""
             }
            },
            "type": "scattergl"
           }
          ],
          "scattermapbox": [
           {
            "marker": {
             "colorbar": {
              "outlinewidth": 0,
              "ticks": ""
             }
            },
            "type": "scattermapbox"
           }
          ],
          "scatterpolar": [
           {
            "marker": {
             "colorbar": {
              "outlinewidth": 0,
              "ticks": ""
             }
            },
            "type": "scatterpolar"
           }
          ],
          "scatterpolargl": [
           {
            "marker": {
             "colorbar": {
              "outlinewidth": 0,
              "ticks": ""
             }
            },
            "type": "scatterpolargl"
           }
          ],
          "scatterternary": [
           {
            "marker": {
             "colorbar": {
              "outlinewidth": 0,
              "ticks": ""
             }
            },
            "type": "scatterternary"
           }
          ],
          "surface": [
           {
            "colorbar": {
             "outlinewidth": 0,
             "ticks": ""
            },
            "colorscale": [
             [
              0,
              "#0d0887"
             ],
             [
              0.1111111111111111,
              "#46039f"
             ],
             [
              0.2222222222222222,
              "#7201a8"
             ],
             [
              0.3333333333333333,
              "#9c179e"
             ],
             [
              0.4444444444444444,
              "#bd3786"
             ],
             [
              0.5555555555555556,
              "#d8576b"
             ],
             [
              0.6666666666666666,
              "#ed7953"
             ],
             [
              0.7777777777777778,
              "#fb9f3a"
             ],
             [
              0.8888888888888888,
              "#fdca26"
             ],
             [
              1,
              "#f0f921"
             ]
            ],
            "type": "surface"
           }
          ],
          "table": [
           {
            "cells": {
             "fill": {
              "color": "#EBF0F8"
             },
             "line": {
              "color": "white"
             }
            },
            "header": {
             "fill": {
              "color": "#C8D4E3"
             },
             "line": {
              "color": "white"
             }
            },
            "type": "table"
           }
          ]
         },
         "layout": {
          "annotationdefaults": {
           "arrowcolor": "#2a3f5f",
           "arrowhead": 0,
           "arrowwidth": 1
          },
          "autotypenumbers": "strict",
          "coloraxis": {
           "colorbar": {
            "outlinewidth": 0,
            "ticks": ""
           }
          },
          "colorscale": {
           "diverging": [
            [
             0,
             "#8e0152"
            ],
            [
             0.1,
             "#c51b7d"
            ],
            [
             0.2,
             "#de77ae"
            ],
            [
             0.3,
             "#f1b6da"
            ],
            [
             0.4,
             "#fde0ef"
            ],
            [
             0.5,
             "#f7f7f7"
            ],
            [
             0.6,
             "#e6f5d0"
            ],
            [
             0.7,
             "#b8e186"
            ],
            [
             0.8,
             "#7fbc41"
            ],
            [
             0.9,
             "#4d9221"
            ],
            [
             1,
             "#276419"
            ]
           ],
           "sequential": [
            [
             0,
             "#0d0887"
            ],
            [
             0.1111111111111111,
             "#46039f"
            ],
            [
             0.2222222222222222,
             "#7201a8"
            ],
            [
             0.3333333333333333,
             "#9c179e"
            ],
            [
             0.4444444444444444,
             "#bd3786"
            ],
            [
             0.5555555555555556,
             "#d8576b"
            ],
            [
             0.6666666666666666,
             "#ed7953"
            ],
            [
             0.7777777777777778,
             "#fb9f3a"
            ],
            [
             0.8888888888888888,
             "#fdca26"
            ],
            [
             1,
             "#f0f921"
            ]
           ],
           "sequentialminus": [
            [
             0,
             "#0d0887"
            ],
            [
             0.1111111111111111,
             "#46039f"
            ],
            [
             0.2222222222222222,
             "#7201a8"
            ],
            [
             0.3333333333333333,
             "#9c179e"
            ],
            [
             0.4444444444444444,
             "#bd3786"
            ],
            [
             0.5555555555555556,
             "#d8576b"
            ],
            [
             0.6666666666666666,
             "#ed7953"
            ],
            [
             0.7777777777777778,
             "#fb9f3a"
            ],
            [
             0.8888888888888888,
             "#fdca26"
            ],
            [
             1,
             "#f0f921"
            ]
           ]
          },
          "colorway": [
           "#636efa",
           "#EF553B",
           "#00cc96",
           "#ab63fa",
           "#FFA15A",
           "#19d3f3",
           "#FF6692",
           "#B6E880",
           "#FF97FF",
           "#FECB52"
          ],
          "font": {
           "color": "#2a3f5f"
          },
          "geo": {
           "bgcolor": "white",
           "lakecolor": "white",
           "landcolor": "#E5ECF6",
           "showlakes": true,
           "showland": true,
           "subunitcolor": "white"
          },
          "hoverlabel": {
           "align": "left"
          },
          "hovermode": "closest",
          "mapbox": {
           "style": "light"
          },
          "paper_bgcolor": "white",
          "plot_bgcolor": "#E5ECF6",
          "polar": {
           "angularaxis": {
            "gridcolor": "white",
            "linecolor": "white",
            "ticks": ""
           },
           "bgcolor": "#E5ECF6",
           "radialaxis": {
            "gridcolor": "white",
            "linecolor": "white",
            "ticks": ""
           }
          },
          "scene": {
           "xaxis": {
            "backgroundcolor": "#E5ECF6",
            "gridcolor": "white",
            "gridwidth": 2,
            "linecolor": "white",
            "showbackground": true,
            "ticks": "",
            "zerolinecolor": "white"
           },
           "yaxis": {
            "backgroundcolor": "#E5ECF6",
            "gridcolor": "white",
            "gridwidth": 2,
            "linecolor": "white",
            "showbackground": true,
            "ticks": "",
            "zerolinecolor": "white"
           },
           "zaxis": {
            "backgroundcolor": "#E5ECF6",
            "gridcolor": "white",
            "gridwidth": 2,
            "linecolor": "white",
            "showbackground": true,
            "ticks": "",
            "zerolinecolor": "white"
           }
          },
          "shapedefaults": {
           "line": {
            "color": "#2a3f5f"
           }
          },
          "ternary": {
           "aaxis": {
            "gridcolor": "white",
            "linecolor": "white",
            "ticks": ""
           },
           "baxis": {
            "gridcolor": "white",
            "linecolor": "white",
            "ticks": ""
           },
           "bgcolor": "#E5ECF6",
           "caxis": {
            "gridcolor": "white",
            "linecolor": "white",
            "ticks": ""
           }
          },
          "title": {
           "x": 0.05
          },
          "xaxis": {
           "automargin": true,
           "gridcolor": "white",
           "linecolor": "white",
           "ticks": "",
           "title": {
            "standoff": 15
           },
           "zerolinecolor": "white",
           "zerolinewidth": 2
          },
          "yaxis": {
           "automargin": true,
           "gridcolor": "white",
           "linecolor": "white",
           "ticks": "",
           "title": {
            "standoff": 15
           },
           "zerolinecolor": "white",
           "zerolinewidth": 2
          }
         }
        },
        "xaxis": {
         "anchor": "y",
         "domain": [
          0,
          1
         ],
         "title": {
          "text": "Date"
         }
        },
        "yaxis": {
         "anchor": "x",
         "domain": [
          0,
          1
         ],
         "title": {
          "text": "Emissions_stCO2"
         }
        }
       }
      }
     },
     "metadata": {},
     "output_type": "display_data"
    }
   ],
   "source": [
    "px.line(rggi_or_pjm_capacity.reset_index().query('`Plant Name`==\"Brandon Shores\"'),x='Date',y='Emissions_stCO2')"
   ]
  },
  {
   "cell_type": "markdown",
   "metadata": {},
   "source": [
    "## RGGI Compliance Data Compare"
   ]
  },
  {
   "cell_type": "code",
   "execution_count": 71,
   "metadata": {},
   "outputs": [],
   "source": [
    "import os"
   ]
  },
  {
   "cell_type": "code",
   "execution_count": 75,
   "metadata": {},
   "outputs": [],
   "source": [
    "RGGI_compliance = pd.read_excel(fr'{os.environ[\"USERPROFILE\"]}\\OneDrive - Carbon Cap\\Carbon markets research\\US Markets\\RGGI\\RGGI Model.xlsx',sheet_name='R2. RGGI Emissions',header=5)"
   ]
  },
  {
   "cell_type": "code",
   "execution_count": 76,
   "metadata": {},
   "outputs": [],
   "source": [
    "RGGI_compliance = RGGI_compliance[[ 'Pland Generator ID',\n",
    "                                                                                        'Year',\n",
    "                                                                                         'Qtr',\n",
    "                                                                                 'Source Name',\n",
    "                                                                                   'ORIS Code',\n",
    "                                                                                  'Unit ID(s)',\n",
    "                                                                                       'State',\n",
    "                                                                                  'State Name',\n",
    "                                                                            'State Identifier',\n",
    "                                                                              'Control Period',\n",
    "                                                                                     'Op Time',\n",
    "                                                                                    'Op Hours',\n",
    "                                                                             'CO2 Mass (Tons)',\n",
    "                                                                          'Heat Input (mmBtu)',\n",
    "                                                       'Eligible Biomass (Tons) (State Value)',\n",
    "                                            'Eligible CHP Thermal Output (Tons) (State Value)',\n",
    "                                                                                           'N',\n",
    "                                                                 'Compliance Emissions (Tons)',\n",
    "                                                            'CO2 efficiency (tons/heat input)',\n",
    "                                                                        'IN EIA 2018 database',\n",
    "                                                                                  'Technology',\n",
    "                                                                        'Summer Capacity (MW)',\n",
    "                           'not subject to 2009-2012 RGGI CO2 allowance compliance obligation',\n",
    "                           'not subject to 2009-2020 RGGI CO2 allowance compliance obligation',\n",
    "                           'not subject to 2018-2020 RGGI CO2 allowance compliance obligation',\n",
    "                           'not subject to 2018-2022 RGGI CO2 allowance compliance obligation',\n",
    "       '(MD LIESA source - not subject to 2018-2023 RGGI CO2 allowance compliance obligation)',\n",
    "                                                                       'Quarter Auction Price']]"
   ]
  },
  {
   "cell_type": "code",
   "execution_count": 77,
   "metadata": {},
   "outputs": [
    {
     "data": {
      "text/html": [
       "<div>\n",
       "<style scoped>\n",
       "    .dataframe tbody tr th:only-of-type {\n",
       "        vertical-align: middle;\n",
       "    }\n",
       "\n",
       "    .dataframe tbody tr th {\n",
       "        vertical-align: top;\n",
       "    }\n",
       "\n",
       "    .dataframe thead th {\n",
       "        text-align: right;\n",
       "    }\n",
       "</style>\n",
       "<table border=\"1\" class=\"dataframe\">\n",
       "  <thead>\n",
       "    <tr style=\"text-align: right;\">\n",
       "      <th></th>\n",
       "      <th>Pland Generator ID</th>\n",
       "      <th>Year</th>\n",
       "      <th>Qtr</th>\n",
       "      <th>Source Name</th>\n",
       "      <th>ORIS Code</th>\n",
       "      <th>Unit ID(s)</th>\n",
       "      <th>State</th>\n",
       "      <th>State Name</th>\n",
       "      <th>State Identifier</th>\n",
       "      <th>Control Period</th>\n",
       "      <th>...</th>\n",
       "      <th>CO2 efficiency (tons/heat input)</th>\n",
       "      <th>IN EIA 2018 database</th>\n",
       "      <th>Technology</th>\n",
       "      <th>Summer Capacity (MW)</th>\n",
       "      <th>not subject to 2009-2012 RGGI CO2 allowance compliance obligation</th>\n",
       "      <th>not subject to 2009-2020 RGGI CO2 allowance compliance obligation</th>\n",
       "      <th>not subject to 2018-2020 RGGI CO2 allowance compliance obligation</th>\n",
       "      <th>not subject to 2018-2022 RGGI CO2 allowance compliance obligation</th>\n",
       "      <th>(MD LIESA source - not subject to 2018-2023 RGGI CO2 allowance compliance obligation)</th>\n",
       "      <th>Quarter Auction Price</th>\n",
       "    </tr>\n",
       "  </thead>\n",
       "  <tbody>\n",
       "    <tr>\n",
       "      <th>0</th>\n",
       "      <td>544_11</td>\n",
       "      <td>2009</td>\n",
       "      <td>1</td>\n",
       "      <td>Devon</td>\n",
       "      <td>544</td>\n",
       "      <td>11</td>\n",
       "      <td>CT</td>\n",
       "      <td>Connecticut</td>\n",
       "      <td>105-14</td>\n",
       "      <td>01/01/2009 - 12/31/2011</td>\n",
       "      <td>...</td>\n",
       "      <td>0.081132</td>\n",
       "      <td>1</td>\n",
       "      <td>Petroleum Liquids</td>\n",
       "      <td>29.2</td>\n",
       "      <td>False</td>\n",
       "      <td>False</td>\n",
       "      <td>False</td>\n",
       "      <td>False</td>\n",
       "      <td>False</td>\n",
       "      <td>3.51</td>\n",
       "    </tr>\n",
       "    <tr>\n",
       "      <th>1</th>\n",
       "      <td>544_11</td>\n",
       "      <td>2024</td>\n",
       "      <td>3</td>\n",
       "      <td>Devon</td>\n",
       "      <td>544</td>\n",
       "      <td>11</td>\n",
       "      <td>CT</td>\n",
       "      <td>Connecticut</td>\n",
       "      <td>105-14</td>\n",
       "      <td>01/01/2024 - 12/31/2026</td>\n",
       "      <td>...</td>\n",
       "      <td>0.081011</td>\n",
       "      <td>1</td>\n",
       "      <td>Petroleum Liquids</td>\n",
       "      <td>29.2</td>\n",
       "      <td>False</td>\n",
       "      <td>False</td>\n",
       "      <td>False</td>\n",
       "      <td>False</td>\n",
       "      <td>False</td>\n",
       "      <td>25.75</td>\n",
       "    </tr>\n",
       "    <tr>\n",
       "      <th>2</th>\n",
       "      <td>544_12</td>\n",
       "      <td>2024</td>\n",
       "      <td>3</td>\n",
       "      <td>Devon</td>\n",
       "      <td>544</td>\n",
       "      <td>12</td>\n",
       "      <td>CT</td>\n",
       "      <td>Connecticut</td>\n",
       "      <td>105-14</td>\n",
       "      <td>01/01/2024 - 12/31/2026</td>\n",
       "      <td>...</td>\n",
       "      <td>0.081015</td>\n",
       "      <td>1</td>\n",
       "      <td>Petroleum Liquids</td>\n",
       "      <td>29.2</td>\n",
       "      <td>False</td>\n",
       "      <td>False</td>\n",
       "      <td>False</td>\n",
       "      <td>False</td>\n",
       "      <td>False</td>\n",
       "      <td>25.75</td>\n",
       "    </tr>\n",
       "    <tr>\n",
       "      <th>3</th>\n",
       "      <td>544_13</td>\n",
       "      <td>2024</td>\n",
       "      <td>3</td>\n",
       "      <td>Devon</td>\n",
       "      <td>544</td>\n",
       "      <td>13</td>\n",
       "      <td>CT</td>\n",
       "      <td>Connecticut</td>\n",
       "      <td>105-14</td>\n",
       "      <td>01/01/2024 - 12/31/2026</td>\n",
       "      <td>...</td>\n",
       "      <td>0.081008</td>\n",
       "      <td>1</td>\n",
       "      <td>Petroleum Liquids</td>\n",
       "      <td>29.9</td>\n",
       "      <td>False</td>\n",
       "      <td>False</td>\n",
       "      <td>False</td>\n",
       "      <td>False</td>\n",
       "      <td>False</td>\n",
       "      <td>25.75</td>\n",
       "    </tr>\n",
       "    <tr>\n",
       "      <th>4</th>\n",
       "      <td>544_14</td>\n",
       "      <td>2024</td>\n",
       "      <td>3</td>\n",
       "      <td>Devon</td>\n",
       "      <td>544</td>\n",
       "      <td>14</td>\n",
       "      <td>CT</td>\n",
       "      <td>Connecticut</td>\n",
       "      <td>105-14</td>\n",
       "      <td>01/01/2024 - 12/31/2026</td>\n",
       "      <td>...</td>\n",
       "      <td>0.081006</td>\n",
       "      <td>1</td>\n",
       "      <td>Petroleum Liquids</td>\n",
       "      <td>29.7</td>\n",
       "      <td>False</td>\n",
       "      <td>False</td>\n",
       "      <td>False</td>\n",
       "      <td>False</td>\n",
       "      <td>False</td>\n",
       "      <td>25.75</td>\n",
       "    </tr>\n",
       "  </tbody>\n",
       "</table>\n",
       "<p>5 rows × 28 columns</p>\n",
       "</div>"
      ],
      "text/plain": [
       "  Pland Generator ID  Year  Qtr Source Name  ORIS Code Unit ID(s) State  \\\n",
       "0             544_11  2009    1       Devon        544         11    CT   \n",
       "1             544_11  2024    3       Devon        544         11    CT   \n",
       "2             544_12  2024    3       Devon        544         12    CT   \n",
       "3             544_13  2024    3       Devon        544         13    CT   \n",
       "4             544_14  2024    3       Devon        544         14    CT   \n",
       "\n",
       "    State Name State Identifier           Control Period  ...  \\\n",
       "0  Connecticut           105-14  01/01/2009 - 12/31/2011  ...   \n",
       "1  Connecticut           105-14  01/01/2024 - 12/31/2026  ...   \n",
       "2  Connecticut           105-14  01/01/2024 - 12/31/2026  ...   \n",
       "3  Connecticut           105-14  01/01/2024 - 12/31/2026  ...   \n",
       "4  Connecticut           105-14  01/01/2024 - 12/31/2026  ...   \n",
       "\n",
       "  CO2 efficiency (tons/heat input) IN EIA 2018 database         Technology  \\\n",
       "0                         0.081132                    1  Petroleum Liquids   \n",
       "1                         0.081011                    1  Petroleum Liquids   \n",
       "2                         0.081015                    1  Petroleum Liquids   \n",
       "3                         0.081008                    1  Petroleum Liquids   \n",
       "4                         0.081006                    1  Petroleum Liquids   \n",
       "\n",
       "  Summer Capacity (MW)  \\\n",
       "0                 29.2   \n",
       "1                 29.2   \n",
       "2                 29.2   \n",
       "3                 29.9   \n",
       "4                 29.7   \n",
       "\n",
       "  not subject to 2009-2012 RGGI CO2 allowance compliance obligation  \\\n",
       "0                                              False                  \n",
       "1                                              False                  \n",
       "2                                              False                  \n",
       "3                                              False                  \n",
       "4                                              False                  \n",
       "\n",
       "  not subject to 2009-2020 RGGI CO2 allowance compliance obligation  \\\n",
       "0                                              False                  \n",
       "1                                              False                  \n",
       "2                                              False                  \n",
       "3                                              False                  \n",
       "4                                              False                  \n",
       "\n",
       "  not subject to 2018-2020 RGGI CO2 allowance compliance obligation  \\\n",
       "0                                              False                  \n",
       "1                                              False                  \n",
       "2                                              False                  \n",
       "3                                              False                  \n",
       "4                                              False                  \n",
       "\n",
       "   not subject to 2018-2022 RGGI CO2 allowance compliance obligation  \\\n",
       "0                                              False                   \n",
       "1                                              False                   \n",
       "2                                              False                   \n",
       "3                                              False                   \n",
       "4                                              False                   \n",
       "\n",
       "   (MD LIESA source - not subject to 2018-2023 RGGI CO2 allowance compliance obligation)  \\\n",
       "0                                              False                                       \n",
       "1                                              False                                       \n",
       "2                                              False                                       \n",
       "3                                              False                                       \n",
       "4                                              False                                       \n",
       "\n",
       "   Quarter Auction Price  \n",
       "0                   3.51  \n",
       "1                  25.75  \n",
       "2                  25.75  \n",
       "3                  25.75  \n",
       "4                  25.75  \n",
       "\n",
       "[5 rows x 28 columns]"
      ]
     },
     "execution_count": 77,
     "metadata": {},
     "output_type": "execute_result"
    }
   ],
   "source": [
    "RGGI_compliance.head()"
   ]
  },
  {
   "cell_type": "code",
   "execution_count": 78,
   "metadata": {},
   "outputs": [
    {
     "data": {
      "text/html": [
       "<div>\n",
       "<style scoped>\n",
       "    .dataframe tbody tr th:only-of-type {\n",
       "        vertical-align: middle;\n",
       "    }\n",
       "\n",
       "    .dataframe tbody tr th {\n",
       "        vertical-align: top;\n",
       "    }\n",
       "\n",
       "    .dataframe thead th {\n",
       "        text-align: right;\n",
       "    }\n",
       "</style>\n",
       "<table border=\"1\" class=\"dataframe\">\n",
       "  <thead>\n",
       "    <tr style=\"text-align: right;\">\n",
       "      <th>Year</th>\n",
       "      <th>2021</th>\n",
       "      <th>2022</th>\n",
       "      <th>2023</th>\n",
       "    </tr>\n",
       "    <tr>\n",
       "      <th>ORIS Code</th>\n",
       "      <th></th>\n",
       "      <th></th>\n",
       "      <th></th>\n",
       "    </tr>\n",
       "  </thead>\n",
       "  <tbody>\n",
       "    <tr>\n",
       "      <th>60357</th>\n",
       "      <td>0.000</td>\n",
       "      <td>1817853.685</td>\n",
       "      <td>4084069.753</td>\n",
       "    </tr>\n",
       "    <tr>\n",
       "      <th>55524</th>\n",
       "      <td>0.000</td>\n",
       "      <td>1825494.528</td>\n",
       "      <td>3897636.392</td>\n",
       "    </tr>\n",
       "    <tr>\n",
       "      <th>55375</th>\n",
       "      <td>2572648.672</td>\n",
       "      <td>3207104.264</td>\n",
       "      <td>3453477.303</td>\n",
       "    </tr>\n",
       "    <tr>\n",
       "      <th>55298</th>\n",
       "      <td>0.000</td>\n",
       "      <td>1728280.508</td>\n",
       "      <td>3292674.387</td>\n",
       "    </tr>\n",
       "    <tr>\n",
       "      <th>60368</th>\n",
       "      <td>0.000</td>\n",
       "      <td>1711278.738</td>\n",
       "      <td>3199586.202</td>\n",
       "    </tr>\n",
       "    <tr>\n",
       "      <th>50006</th>\n",
       "      <td>1663089.926</td>\n",
       "      <td>2983940.236</td>\n",
       "      <td>3096556.054</td>\n",
       "    </tr>\n",
       "    <tr>\n",
       "      <th>3118</th>\n",
       "      <td>0.000</td>\n",
       "      <td>2301422.053</td>\n",
       "      <td>3069606.847</td>\n",
       "    </tr>\n",
       "    <tr>\n",
       "      <th>3136</th>\n",
       "      <td>0.000</td>\n",
       "      <td>1708322.542</td>\n",
       "      <td>3039819.772</td>\n",
       "    </tr>\n",
       "    <tr>\n",
       "      <th>55690</th>\n",
       "      <td>0.000</td>\n",
       "      <td>1147722.616</td>\n",
       "      <td>2904928.771</td>\n",
       "    </tr>\n",
       "    <tr>\n",
       "      <th>59906</th>\n",
       "      <td>0.000</td>\n",
       "      <td>477449.356</td>\n",
       "      <td>2782902.044</td>\n",
       "    </tr>\n",
       "  </tbody>\n",
       "</table>\n",
       "</div>"
      ],
      "text/plain": [
       "Year              2021         2022         2023\n",
       "ORIS Code                                       \n",
       "60357            0.000  1817853.685  4084069.753\n",
       "55524            0.000  1825494.528  3897636.392\n",
       "55375      2572648.672  3207104.264  3453477.303\n",
       "55298            0.000  1728280.508  3292674.387\n",
       "60368            0.000  1711278.738  3199586.202\n",
       "50006      1663089.926  2983940.236  3096556.054\n",
       "3118             0.000  2301422.053  3069606.847\n",
       "3136             0.000  1708322.542  3039819.772\n",
       "55690            0.000  1147722.616  2904928.771\n",
       "59906            0.000   477449.356  2782902.044"
      ]
     },
     "execution_count": 78,
     "metadata": {},
     "output_type": "execute_result"
    }
   ],
   "source": [
    "RGGI_compliance.query('State!=\"VA\"').groupby(['ORIS Code','Year'])['Compliance Emissions (Tons)'].sum().unstack('Year').iloc[:,-4:-1].fillna(0).sort_values(2023,ascending=False).head(10)"
   ]
  },
  {
   "cell_type": "code",
   "execution_count": 79,
   "metadata": {},
   "outputs": [],
   "source": [
    "rggi_or_pjm_capacity['Qtr'] = rggi_or_pjm_capacity.Date.dt.quarter"
   ]
  },
  {
   "cell_type": "code",
   "execution_count": 80,
   "metadata": {},
   "outputs": [],
   "source": [
    "test = RGGI_compliance.query('`ORIS Code`==60357 and Year>2019').sort_values(['Year','Qtr']).groupby(['Year','Qtr'])['Compliance Emissions (Tons)'].sum()\n"
   ]
  },
  {
   "cell_type": "code",
   "execution_count": 81,
   "metadata": {},
   "outputs": [
    {
     "data": {
      "text/plain": [
       "Year  Qtr\n",
       "2022  3      1069504.843\n",
       "      4       748348.842\n",
       "2023  1      1175741.265\n",
       "      2       802061.311\n",
       "      3      1156640.016\n",
       "      4       949627.161\n",
       "Name: Compliance Emissions (Tons), dtype: float64"
      ]
     },
     "execution_count": 81,
     "metadata": {},
     "output_type": "execute_result"
    }
   ],
   "source": [
    "test"
   ]
  },
  {
   "cell_type": "code",
   "execution_count": 82,
   "metadata": {},
   "outputs": [
    {
     "data": {
      "text/html": [
       "<div>\n",
       "<style scoped>\n",
       "    .dataframe tbody tr th:only-of-type {\n",
       "        vertical-align: middle;\n",
       "    }\n",
       "\n",
       "    .dataframe tbody tr th {\n",
       "        vertical-align: top;\n",
       "    }\n",
       "\n",
       "    .dataframe thead th {\n",
       "        text-align: right;\n",
       "    }\n",
       "</style>\n",
       "<table border=\"1\" class=\"dataframe\">\n",
       "  <thead>\n",
       "    <tr style=\"text-align: right;\">\n",
       "      <th></th>\n",
       "      <th>Plant Id</th>\n",
       "      <th>Plant Name</th>\n",
       "      <th>Reported\\nPrime Mover</th>\n",
       "      <th>Plant State</th>\n",
       "      <th>Balancing\\nAuthority Code</th>\n",
       "      <th>RGGI_state</th>\n",
       "      <th>YEAR</th>\n",
       "      <th>level_7</th>\n",
       "      <th>Generation MWh</th>\n",
       "      <th>month</th>\n",
       "      <th>Date</th>\n",
       "      <th>Nameplate Capacity (MW)</th>\n",
       "      <th>Gap_fill_capacity_year</th>\n",
       "      <th>Gap_fill_capacity_overall</th>\n",
       "      <th>KgCO2_perMmbtu</th>\n",
       "      <th>Emissions_stCO2</th>\n",
       "      <th>Qtr</th>\n",
       "    </tr>\n",
       "  </thead>\n",
       "  <tbody>\n",
       "    <tr>\n",
       "      <th>78684</th>\n",
       "      <td>55375</td>\n",
       "      <td>Astoria Energy</td>\n",
       "      <td>CA</td>\n",
       "      <td>NY</td>\n",
       "      <td>NYIS</td>\n",
       "      <td>1</td>\n",
       "      <td>2021</td>\n",
       "      <td>Netgen\\nJanuary</td>\n",
       "      <td>0.000</td>\n",
       "      <td>1</td>\n",
       "      <td>2021-01-31</td>\n",
       "      <td>255.0</td>\n",
       "      <td>255.0</td>\n",
       "      <td>255.0</td>\n",
       "      <td>0.00</td>\n",
       "      <td>0.000000</td>\n",
       "      <td>1</td>\n",
       "    </tr>\n",
       "    <tr>\n",
       "      <th>78685</th>\n",
       "      <td>55375</td>\n",
       "      <td>Astoria Energy</td>\n",
       "      <td>CA</td>\n",
       "      <td>NY</td>\n",
       "      <td>NYIS</td>\n",
       "      <td>1</td>\n",
       "      <td>2021</td>\n",
       "      <td>Netgen\\nFebruary</td>\n",
       "      <td>0.000</td>\n",
       "      <td>2</td>\n",
       "      <td>2021-02-28</td>\n",
       "      <td>255.0</td>\n",
       "      <td>255.0</td>\n",
       "      <td>255.0</td>\n",
       "      <td>0.00</td>\n",
       "      <td>0.000000</td>\n",
       "      <td>1</td>\n",
       "    </tr>\n",
       "    <tr>\n",
       "      <th>78686</th>\n",
       "      <td>55375</td>\n",
       "      <td>Astoria Energy</td>\n",
       "      <td>CA</td>\n",
       "      <td>NY</td>\n",
       "      <td>NYIS</td>\n",
       "      <td>1</td>\n",
       "      <td>2021</td>\n",
       "      <td>Netgen\\nMarch</td>\n",
       "      <td>78214.000</td>\n",
       "      <td>3</td>\n",
       "      <td>2021-03-31</td>\n",
       "      <td>255.0</td>\n",
       "      <td>255.0</td>\n",
       "      <td>255.0</td>\n",
       "      <td>886824.51</td>\n",
       "      <td>804.513627</td>\n",
       "      <td>1</td>\n",
       "    </tr>\n",
       "    <tr>\n",
       "      <th>78756</th>\n",
       "      <td>55375</td>\n",
       "      <td>Astoria Energy</td>\n",
       "      <td>CT</td>\n",
       "      <td>NY</td>\n",
       "      <td>NYIS</td>\n",
       "      <td>1</td>\n",
       "      <td>2021</td>\n",
       "      <td>Netgen\\nJanuary</td>\n",
       "      <td>0.000</td>\n",
       "      <td>1</td>\n",
       "      <td>2021-01-31</td>\n",
       "      <td>340.0</td>\n",
       "      <td>340.0</td>\n",
       "      <td>340.0</td>\n",
       "      <td>0.00</td>\n",
       "      <td>0.000000</td>\n",
       "      <td>1</td>\n",
       "    </tr>\n",
       "    <tr>\n",
       "      <th>78757</th>\n",
       "      <td>55375</td>\n",
       "      <td>Astoria Energy</td>\n",
       "      <td>CT</td>\n",
       "      <td>NY</td>\n",
       "      <td>NYIS</td>\n",
       "      <td>1</td>\n",
       "      <td>2021</td>\n",
       "      <td>Netgen\\nFebruary</td>\n",
       "      <td>-947.000</td>\n",
       "      <td>2</td>\n",
       "      <td>2021-02-28</td>\n",
       "      <td>340.0</td>\n",
       "      <td>340.0</td>\n",
       "      <td>340.0</td>\n",
       "      <td>172880.95</td>\n",
       "      <td>156.834953</td>\n",
       "      <td>1</td>\n",
       "    </tr>\n",
       "    <tr>\n",
       "      <th>78758</th>\n",
       "      <td>55375</td>\n",
       "      <td>Astoria Energy</td>\n",
       "      <td>CT</td>\n",
       "      <td>NY</td>\n",
       "      <td>NYIS</td>\n",
       "      <td>1</td>\n",
       "      <td>2021</td>\n",
       "      <td>Netgen\\nMarch</td>\n",
       "      <td>133482.005</td>\n",
       "      <td>3</td>\n",
       "      <td>2021-03-31</td>\n",
       "      <td>340.0</td>\n",
       "      <td>340.0</td>\n",
       "      <td>340.0</td>\n",
       "      <td>82162890.04</td>\n",
       "      <td>74536.916752</td>\n",
       "      <td>1</td>\n",
       "    </tr>\n",
       "  </tbody>\n",
       "</table>\n",
       "</div>"
      ],
      "text/plain": [
       "       Plant Id      Plant Name Reported\\nPrime Mover Plant State  \\\n",
       "78684     55375  Astoria Energy                    CA          NY   \n",
       "78685     55375  Astoria Energy                    CA          NY   \n",
       "78686     55375  Astoria Energy                    CA          NY   \n",
       "78756     55375  Astoria Energy                    CT          NY   \n",
       "78757     55375  Astoria Energy                    CT          NY   \n",
       "78758     55375  Astoria Energy                    CT          NY   \n",
       "\n",
       "      Balancing\\nAuthority Code  RGGI_state  YEAR           level_7  \\\n",
       "78684                      NYIS           1  2021   Netgen\\nJanuary   \n",
       "78685                      NYIS           1  2021  Netgen\\nFebruary   \n",
       "78686                      NYIS           1  2021     Netgen\\nMarch   \n",
       "78756                      NYIS           1  2021   Netgen\\nJanuary   \n",
       "78757                      NYIS           1  2021  Netgen\\nFebruary   \n",
       "78758                      NYIS           1  2021     Netgen\\nMarch   \n",
       "\n",
       "       Generation MWh  month       Date  Nameplate Capacity (MW)  \\\n",
       "78684           0.000      1 2021-01-31                    255.0   \n",
       "78685           0.000      2 2021-02-28                    255.0   \n",
       "78686       78214.000      3 2021-03-31                    255.0   \n",
       "78756           0.000      1 2021-01-31                    340.0   \n",
       "78757        -947.000      2 2021-02-28                    340.0   \n",
       "78758      133482.005      3 2021-03-31                    340.0   \n",
       "\n",
       "       Gap_fill_capacity_year  Gap_fill_capacity_overall  KgCO2_perMmbtu  \\\n",
       "78684                   255.0                      255.0            0.00   \n",
       "78685                   255.0                      255.0            0.00   \n",
       "78686                   255.0                      255.0       886824.51   \n",
       "78756                   340.0                      340.0            0.00   \n",
       "78757                   340.0                      340.0       172880.95   \n",
       "78758                   340.0                      340.0     82162890.04   \n",
       "\n",
       "       Emissions_stCO2  Qtr  \n",
       "78684         0.000000    1  \n",
       "78685         0.000000    1  \n",
       "78686       804.513627    1  \n",
       "78756         0.000000    1  \n",
       "78757       156.834953    1  \n",
       "78758     74536.916752    1  "
      ]
     },
     "execution_count": 82,
     "metadata": {},
     "output_type": "execute_result"
    }
   ],
   "source": [
    "rggi_or_pjm_capacity.query('`Plant Id`==55375 and YEAR==2021 and Qtr==1')"
   ]
  },
  {
   "cell_type": "code",
   "execution_count": 83,
   "metadata": {},
   "outputs": [],
   "source": [
    "compare = rggi_or_pjm_capacity.query('`Plant Id`==60357 and YEAR>2019').set_index('Date').groupby(['YEAR','Qtr'])[['Generation MWh','Emissions_stCO2']].sum().reset_index().join(test,on=['YEAR','Qtr'])"
   ]
  },
  {
   "cell_type": "code",
   "execution_count": 84,
   "metadata": {},
   "outputs": [
    {
     "data": {
      "text/html": [
       "<div>\n",
       "<style scoped>\n",
       "    .dataframe tbody tr th:only-of-type {\n",
       "        vertical-align: middle;\n",
       "    }\n",
       "\n",
       "    .dataframe tbody tr th {\n",
       "        vertical-align: top;\n",
       "    }\n",
       "\n",
       "    .dataframe thead th {\n",
       "        text-align: right;\n",
       "    }\n",
       "</style>\n",
       "<table border=\"1\" class=\"dataframe\">\n",
       "  <thead>\n",
       "    <tr style=\"text-align: right;\">\n",
       "      <th></th>\n",
       "      <th>YEAR</th>\n",
       "      <th>Qtr</th>\n",
       "      <th>Generation MWh</th>\n",
       "      <th>Emissions_stCO2</th>\n",
       "      <th>Compliance Emissions (Tons)</th>\n",
       "    </tr>\n",
       "  </thead>\n",
       "  <tbody>\n",
       "    <tr>\n",
       "      <th>0</th>\n",
       "      <td>2020</td>\n",
       "      <td>1</td>\n",
       "      <td>2389041.0</td>\n",
       "      <td>770254.239114</td>\n",
       "      <td>NaN</td>\n",
       "    </tr>\n",
       "    <tr>\n",
       "      <th>1</th>\n",
       "      <td>2020</td>\n",
       "      <td>2</td>\n",
       "      <td>1785554.0</td>\n",
       "      <td>572313.887394</td>\n",
       "      <td>NaN</td>\n",
       "    </tr>\n",
       "    <tr>\n",
       "      <th>2</th>\n",
       "      <td>2020</td>\n",
       "      <td>3</td>\n",
       "      <td>2608856.0</td>\n",
       "      <td>832990.558306</td>\n",
       "      <td>NaN</td>\n",
       "    </tr>\n",
       "    <tr>\n",
       "      <th>3</th>\n",
       "      <td>2020</td>\n",
       "      <td>4</td>\n",
       "      <td>2442891.0</td>\n",
       "      <td>764962.381655</td>\n",
       "      <td>NaN</td>\n",
       "    </tr>\n",
       "    <tr>\n",
       "      <th>4</th>\n",
       "      <td>2021</td>\n",
       "      <td>1</td>\n",
       "      <td>3069031.0</td>\n",
       "      <td>950114.945834</td>\n",
       "      <td>NaN</td>\n",
       "    </tr>\n",
       "    <tr>\n",
       "      <th>5</th>\n",
       "      <td>2021</td>\n",
       "      <td>2</td>\n",
       "      <td>2026436.0</td>\n",
       "      <td>630396.017735</td>\n",
       "      <td>NaN</td>\n",
       "    </tr>\n",
       "    <tr>\n",
       "      <th>6</th>\n",
       "      <td>2021</td>\n",
       "      <td>3</td>\n",
       "      <td>2793979.0</td>\n",
       "      <td>873085.202000</td>\n",
       "      <td>NaN</td>\n",
       "    </tr>\n",
       "    <tr>\n",
       "      <th>7</th>\n",
       "      <td>2021</td>\n",
       "      <td>4</td>\n",
       "      <td>2665876.0</td>\n",
       "      <td>828493.422649</td>\n",
       "      <td>NaN</td>\n",
       "    </tr>\n",
       "    <tr>\n",
       "      <th>8</th>\n",
       "      <td>2022</td>\n",
       "      <td>1</td>\n",
       "      <td>2848297.0</td>\n",
       "      <td>891287.580807</td>\n",
       "      <td>NaN</td>\n",
       "    </tr>\n",
       "    <tr>\n",
       "      <th>9</th>\n",
       "      <td>2022</td>\n",
       "      <td>2</td>\n",
       "      <td>1692924.0</td>\n",
       "      <td>579010.775752</td>\n",
       "      <td>NaN</td>\n",
       "    </tr>\n",
       "    <tr>\n",
       "      <th>10</th>\n",
       "      <td>2022</td>\n",
       "      <td>3</td>\n",
       "      <td>2717949.0</td>\n",
       "      <td>856618.040192</td>\n",
       "      <td>1069504.843</td>\n",
       "    </tr>\n",
       "    <tr>\n",
       "      <th>11</th>\n",
       "      <td>2022</td>\n",
       "      <td>4</td>\n",
       "      <td>1889274.0</td>\n",
       "      <td>601079.389487</td>\n",
       "      <td>748348.842</td>\n",
       "    </tr>\n",
       "    <tr>\n",
       "      <th>12</th>\n",
       "      <td>2023</td>\n",
       "      <td>1</td>\n",
       "      <td>3020196.0</td>\n",
       "      <td>924083.378898</td>\n",
       "      <td>1175741.265</td>\n",
       "    </tr>\n",
       "    <tr>\n",
       "      <th>13</th>\n",
       "      <td>2023</td>\n",
       "      <td>2</td>\n",
       "      <td>2034150.0</td>\n",
       "      <td>621754.876112</td>\n",
       "      <td>802061.311</td>\n",
       "    </tr>\n",
       "    <tr>\n",
       "      <th>14</th>\n",
       "      <td>2023</td>\n",
       "      <td>3</td>\n",
       "      <td>2969499.0</td>\n",
       "      <td>886081.065824</td>\n",
       "      <td>1156640.016</td>\n",
       "    </tr>\n",
       "    <tr>\n",
       "      <th>15</th>\n",
       "      <td>2023</td>\n",
       "      <td>4</td>\n",
       "      <td>2444653.0</td>\n",
       "      <td>730223.722274</td>\n",
       "      <td>949627.161</td>\n",
       "    </tr>\n",
       "    <tr>\n",
       "      <th>16</th>\n",
       "      <td>2024</td>\n",
       "      <td>1</td>\n",
       "      <td>2650296.0</td>\n",
       "      <td>799831.406707</td>\n",
       "      <td>NaN</td>\n",
       "    </tr>\n",
       "    <tr>\n",
       "      <th>17</th>\n",
       "      <td>2024</td>\n",
       "      <td>2</td>\n",
       "      <td>2419522.0</td>\n",
       "      <td>729186.748800</td>\n",
       "      <td>NaN</td>\n",
       "    </tr>\n",
       "    <tr>\n",
       "      <th>18</th>\n",
       "      <td>2024</td>\n",
       "      <td>3</td>\n",
       "      <td>2805741.0</td>\n",
       "      <td>848607.223308</td>\n",
       "      <td>NaN</td>\n",
       "    </tr>\n",
       "    <tr>\n",
       "      <th>19</th>\n",
       "      <td>2024</td>\n",
       "      <td>4</td>\n",
       "      <td>0.0</td>\n",
       "      <td>0.000000</td>\n",
       "      <td>NaN</td>\n",
       "    </tr>\n",
       "  </tbody>\n",
       "</table>\n",
       "</div>"
      ],
      "text/plain": [
       "    YEAR  Qtr  Generation MWh  Emissions_stCO2  Compliance Emissions (Tons)\n",
       "0   2020    1       2389041.0    770254.239114                          NaN\n",
       "1   2020    2       1785554.0    572313.887394                          NaN\n",
       "2   2020    3       2608856.0    832990.558306                          NaN\n",
       "3   2020    4       2442891.0    764962.381655                          NaN\n",
       "4   2021    1       3069031.0    950114.945834                          NaN\n",
       "5   2021    2       2026436.0    630396.017735                          NaN\n",
       "6   2021    3       2793979.0    873085.202000                          NaN\n",
       "7   2021    4       2665876.0    828493.422649                          NaN\n",
       "8   2022    1       2848297.0    891287.580807                          NaN\n",
       "9   2022    2       1692924.0    579010.775752                          NaN\n",
       "10  2022    3       2717949.0    856618.040192                  1069504.843\n",
       "11  2022    4       1889274.0    601079.389487                   748348.842\n",
       "12  2023    1       3020196.0    924083.378898                  1175741.265\n",
       "13  2023    2       2034150.0    621754.876112                   802061.311\n",
       "14  2023    3       2969499.0    886081.065824                  1156640.016\n",
       "15  2023    4       2444653.0    730223.722274                   949627.161\n",
       "16  2024    1       2650296.0    799831.406707                          NaN\n",
       "17  2024    2       2419522.0    729186.748800                          NaN\n",
       "18  2024    3       2805741.0    848607.223308                          NaN\n",
       "19  2024    4             0.0         0.000000                          NaN"
      ]
     },
     "execution_count": 84,
     "metadata": {},
     "output_type": "execute_result"
    }
   ],
   "source": [
    "compare"
   ]
  },
  {
   "cell_type": "code",
   "execution_count": 85,
   "metadata": {},
   "outputs": [
    {
     "data": {
      "application/vnd.plotly.v1+json": {
       "config": {
        "plotlyServerURL": "https://plot.ly"
       },
       "data": [
        {
         "customdata": [
          [
           2020,
           1
          ],
          [
           2020,
           2
          ],
          [
           2020,
           3
          ],
          [
           2020,
           4
          ],
          [
           2021,
           1
          ],
          [
           2021,
           2
          ],
          [
           2021,
           3
          ],
          [
           2021,
           4
          ],
          [
           2022,
           1
          ],
          [
           2022,
           2
          ],
          [
           2022,
           3
          ],
          [
           2022,
           4
          ],
          [
           2023,
           1
          ],
          [
           2023,
           2
          ],
          [
           2023,
           3
          ],
          [
           2023,
           4
          ],
          [
           2024,
           1
          ],
          [
           2024,
           2
          ],
          [
           2024,
           3
          ],
          [
           2024,
           4
          ]
         ],
         "hovertemplate": "Emissions_stCO2=%{x}<br>Compliance Emissions (Tons)=%{y}<br>YEAR=%{customdata[0]}<br>Qtr=%{customdata[1]}<extra></extra>",
         "legendgroup": "",
         "marker": {
          "color": "#636efa",
          "symbol": "circle"
         },
         "mode": "markers",
         "name": "",
         "orientation": "v",
         "showlegend": false,
         "type": "scatter",
         "x": [
          770254.2391140382,
          572313.8873939689,
          832990.5583057515,
          764962.3816550914,
          950114.9458338658,
          630396.0177345424,
          873085.2019996392,
          828493.4226487963,
          891287.5808071945,
          579010.7757515023,
          856618.0401917697,
          601079.3894872951,
          924083.3788977445,
          621754.8761118355,
          886081.0658235718,
          730223.7222744997,
          799831.4067066505,
          729186.7488004267,
          848607.2233080708,
          0
         ],
         "xaxis": "x",
         "y": [
          null,
          null,
          null,
          null,
          null,
          null,
          null,
          null,
          null,
          null,
          1069504.8429999999,
          748348.8420000001,
          1175741.2650000001,
          802061.311,
          1156640.016,
          949627.1610000001,
          null,
          null,
          null,
          null
         ],
         "yaxis": "y"
        },
        {
         "hovertemplate": "<b>OLS trendline</b><br>Compliance Emissions (Tons) = 1.29256 * Emissions_stCO2 + -11584.5<br>R<sup>2</sup>=0.988096<br><br>Emissions_stCO2=%{x}<br>Compliance Emissions (Tons)=%{y} <b>(trend)</b><extra></extra>",
         "legendgroup": "",
         "marker": {
          "color": "#636efa",
          "symbol": "circle"
         },
         "mode": "lines",
         "name": "",
         "showlegend": false,
         "type": "scatter",
         "x": [
          601079.3894872951,
          621754.8761118355,
          730223.7222744997,
          856618.0401917697,
          886081.0658235718,
          924083.3788977445
         ],
         "xaxis": "x",
         "y": [
          765347.9142505537,
          792072.2621505567,
          932274.9685633917,
          1095647.4582147584,
          1133730.2449210414,
          1182850.5898996978
         ],
         "yaxis": "y"
        }
       ],
       "layout": {
        "legend": {
         "tracegroupgap": 0
        },
        "margin": {
         "t": 60
        },
        "template": {
         "data": {
          "bar": [
           {
            "error_x": {
             "color": "#2a3f5f"
            },
            "error_y": {
             "color": "#2a3f5f"
            },
            "marker": {
             "line": {
              "color": "#E5ECF6",
              "width": 0.5
             },
             "pattern": {
              "fillmode": "overlay",
              "size": 10,
              "solidity": 0.2
             }
            },
            "type": "bar"
           }
          ],
          "barpolar": [
           {
            "marker": {
             "line": {
              "color": "#E5ECF6",
              "width": 0.5
             },
             "pattern": {
              "fillmode": "overlay",
              "size": 10,
              "solidity": 0.2
             }
            },
            "type": "barpolar"
           }
          ],
          "carpet": [
           {
            "aaxis": {
             "endlinecolor": "#2a3f5f",
             "gridcolor": "white",
             "linecolor": "white",
             "minorgridcolor": "white",
             "startlinecolor": "#2a3f5f"
            },
            "baxis": {
             "endlinecolor": "#2a3f5f",
             "gridcolor": "white",
             "linecolor": "white",
             "minorgridcolor": "white",
             "startlinecolor": "#2a3f5f"
            },
            "type": "carpet"
           }
          ],
          "choropleth": [
           {
            "colorbar": {
             "outlinewidth": 0,
             "ticks": ""
            },
            "type": "choropleth"
           }
          ],
          "contour": [
           {
            "colorbar": {
             "outlinewidth": 0,
             "ticks": ""
            },
            "colorscale": [
             [
              0,
              "#0d0887"
             ],
             [
              0.1111111111111111,
              "#46039f"
             ],
             [
              0.2222222222222222,
              "#7201a8"
             ],
             [
              0.3333333333333333,
              "#9c179e"
             ],
             [
              0.4444444444444444,
              "#bd3786"
             ],
             [
              0.5555555555555556,
              "#d8576b"
             ],
             [
              0.6666666666666666,
              "#ed7953"
             ],
             [
              0.7777777777777778,
              "#fb9f3a"
             ],
             [
              0.8888888888888888,
              "#fdca26"
             ],
             [
              1,
              "#f0f921"
             ]
            ],
            "type": "contour"
           }
          ],
          "contourcarpet": [
           {
            "colorbar": {
             "outlinewidth": 0,
             "ticks": ""
            },
            "type": "contourcarpet"
           }
          ],
          "heatmap": [
           {
            "colorbar": {
             "outlinewidth": 0,
             "ticks": ""
            },
            "colorscale": [
             [
              0,
              "#0d0887"
             ],
             [
              0.1111111111111111,
              "#46039f"
             ],
             [
              0.2222222222222222,
              "#7201a8"
             ],
             [
              0.3333333333333333,
              "#9c179e"
             ],
             [
              0.4444444444444444,
              "#bd3786"
             ],
             [
              0.5555555555555556,
              "#d8576b"
             ],
             [
              0.6666666666666666,
              "#ed7953"
             ],
             [
              0.7777777777777778,
              "#fb9f3a"
             ],
             [
              0.8888888888888888,
              "#fdca26"
             ],
             [
              1,
              "#f0f921"
             ]
            ],
            "type": "heatmap"
           }
          ],
          "heatmapgl": [
           {
            "colorbar": {
             "outlinewidth": 0,
             "ticks": ""
            },
            "colorscale": [
             [
              0,
              "#0d0887"
             ],
             [
              0.1111111111111111,
              "#46039f"
             ],
             [
              0.2222222222222222,
              "#7201a8"
             ],
             [
              0.3333333333333333,
              "#9c179e"
             ],
             [
              0.4444444444444444,
              "#bd3786"
             ],
             [
              0.5555555555555556,
              "#d8576b"
             ],
             [
              0.6666666666666666,
              "#ed7953"
             ],
             [
              0.7777777777777778,
              "#fb9f3a"
             ],
             [
              0.8888888888888888,
              "#fdca26"
             ],
             [
              1,
              "#f0f921"
             ]
            ],
            "type": "heatmapgl"
           }
          ],
          "histogram": [
           {
            "marker": {
             "pattern": {
              "fillmode": "overlay",
              "size": 10,
              "solidity": 0.2
             }
            },
            "type": "histogram"
           }
          ],
          "histogram2d": [
           {
            "colorbar": {
             "outlinewidth": 0,
             "ticks": ""
            },
            "colorscale": [
             [
              0,
              "#0d0887"
             ],
             [
              0.1111111111111111,
              "#46039f"
             ],
             [
              0.2222222222222222,
              "#7201a8"
             ],
             [
              0.3333333333333333,
              "#9c179e"
             ],
             [
              0.4444444444444444,
              "#bd3786"
             ],
             [
              0.5555555555555556,
              "#d8576b"
             ],
             [
              0.6666666666666666,
              "#ed7953"
             ],
             [
              0.7777777777777778,
              "#fb9f3a"
             ],
             [
              0.8888888888888888,
              "#fdca26"
             ],
             [
              1,
              "#f0f921"
             ]
            ],
            "type": "histogram2d"
           }
          ],
          "histogram2dcontour": [
           {
            "colorbar": {
             "outlinewidth": 0,
             "ticks": ""
            },
            "colorscale": [
             [
              0,
              "#0d0887"
             ],
             [
              0.1111111111111111,
              "#46039f"
             ],
             [
              0.2222222222222222,
              "#7201a8"
             ],
             [
              0.3333333333333333,
              "#9c179e"
             ],
             [
              0.4444444444444444,
              "#bd3786"
             ],
             [
              0.5555555555555556,
              "#d8576b"
             ],
             [
              0.6666666666666666,
              "#ed7953"
             ],
             [
              0.7777777777777778,
              "#fb9f3a"
             ],
             [
              0.8888888888888888,
              "#fdca26"
             ],
             [
              1,
              "#f0f921"
             ]
            ],
            "type": "histogram2dcontour"
           }
          ],
          "mesh3d": [
           {
            "colorbar": {
             "outlinewidth": 0,
             "ticks": ""
            },
            "type": "mesh3d"
           }
          ],
          "parcoords": [
           {
            "line": {
             "colorbar": {
              "outlinewidth": 0,
              "ticks": ""
             }
            },
            "type": "parcoords"
           }
          ],
          "pie": [
           {
            "automargin": true,
            "type": "pie"
           }
          ],
          "scatter": [
           {
            "fillpattern": {
             "fillmode": "overlay",
             "size": 10,
             "solidity": 0.2
            },
            "type": "scatter"
           }
          ],
          "scatter3d": [
           {
            "line": {
             "colorbar": {
              "outlinewidth": 0,
              "ticks": ""
             }
            },
            "marker": {
             "colorbar": {
              "outlinewidth": 0,
              "ticks": ""
             }
            },
            "type": "scatter3d"
           }
          ],
          "scattercarpet": [
           {
            "marker": {
             "colorbar": {
              "outlinewidth": 0,
              "ticks": ""
             }
            },
            "type": "scattercarpet"
           }
          ],
          "scattergeo": [
           {
            "marker": {
             "colorbar": {
              "outlinewidth": 0,
              "ticks": ""
             }
            },
            "type": "scattergeo"
           }
          ],
          "scattergl": [
           {
            "marker": {
             "colorbar": {
              "outlinewidth": 0,
              "ticks": ""
             }
            },
            "type": "scattergl"
           }
          ],
          "scattermapbox": [
           {
            "marker": {
             "colorbar": {
              "outlinewidth": 0,
              "ticks": ""
             }
            },
            "type": "scattermapbox"
           }
          ],
          "scatterpolar": [
           {
            "marker": {
             "colorbar": {
              "outlinewidth": 0,
              "ticks": ""
             }
            },
            "type": "scatterpolar"
           }
          ],
          "scatterpolargl": [
           {
            "marker": {
             "colorbar": {
              "outlinewidth": 0,
              "ticks": ""
             }
            },
            "type": "scatterpolargl"
           }
          ],
          "scatterternary": [
           {
            "marker": {
             "colorbar": {
              "outlinewidth": 0,
              "ticks": ""
             }
            },
            "type": "scatterternary"
           }
          ],
          "surface": [
           {
            "colorbar": {
             "outlinewidth": 0,
             "ticks": ""
            },
            "colorscale": [
             [
              0,
              "#0d0887"
             ],
             [
              0.1111111111111111,
              "#46039f"
             ],
             [
              0.2222222222222222,
              "#7201a8"
             ],
             [
              0.3333333333333333,
              "#9c179e"
             ],
             [
              0.4444444444444444,
              "#bd3786"
             ],
             [
              0.5555555555555556,
              "#d8576b"
             ],
             [
              0.6666666666666666,
              "#ed7953"
             ],
             [
              0.7777777777777778,
              "#fb9f3a"
             ],
             [
              0.8888888888888888,
              "#fdca26"
             ],
             [
              1,
              "#f0f921"
             ]
            ],
            "type": "surface"
           }
          ],
          "table": [
           {
            "cells": {
             "fill": {
              "color": "#EBF0F8"
             },
             "line": {
              "color": "white"
             }
            },
            "header": {
             "fill": {
              "color": "#C8D4E3"
             },
             "line": {
              "color": "white"
             }
            },
            "type": "table"
           }
          ]
         },
         "layout": {
          "annotationdefaults": {
           "arrowcolor": "#2a3f5f",
           "arrowhead": 0,
           "arrowwidth": 1
          },
          "autotypenumbers": "strict",
          "coloraxis": {
           "colorbar": {
            "outlinewidth": 0,
            "ticks": ""
           }
          },
          "colorscale": {
           "diverging": [
            [
             0,
             "#8e0152"
            ],
            [
             0.1,
             "#c51b7d"
            ],
            [
             0.2,
             "#de77ae"
            ],
            [
             0.3,
             "#f1b6da"
            ],
            [
             0.4,
             "#fde0ef"
            ],
            [
             0.5,
             "#f7f7f7"
            ],
            [
             0.6,
             "#e6f5d0"
            ],
            [
             0.7,
             "#b8e186"
            ],
            [
             0.8,
             "#7fbc41"
            ],
            [
             0.9,
             "#4d9221"
            ],
            [
             1,
             "#276419"
            ]
           ],
           "sequential": [
            [
             0,
             "#0d0887"
            ],
            [
             0.1111111111111111,
             "#46039f"
            ],
            [
             0.2222222222222222,
             "#7201a8"
            ],
            [
             0.3333333333333333,
             "#9c179e"
            ],
            [
             0.4444444444444444,
             "#bd3786"
            ],
            [
             0.5555555555555556,
             "#d8576b"
            ],
            [
             0.6666666666666666,
             "#ed7953"
            ],
            [
             0.7777777777777778,
             "#fb9f3a"
            ],
            [
             0.8888888888888888,
             "#fdca26"
            ],
            [
             1,
             "#f0f921"
            ]
           ],
           "sequentialminus": [
            [
             0,
             "#0d0887"
            ],
            [
             0.1111111111111111,
             "#46039f"
            ],
            [
             0.2222222222222222,
             "#7201a8"
            ],
            [
             0.3333333333333333,
             "#9c179e"
            ],
            [
             0.4444444444444444,
             "#bd3786"
            ],
            [
             0.5555555555555556,
             "#d8576b"
            ],
            [
             0.6666666666666666,
             "#ed7953"
            ],
            [
             0.7777777777777778,
             "#fb9f3a"
            ],
            [
             0.8888888888888888,
             "#fdca26"
            ],
            [
             1,
             "#f0f921"
            ]
           ]
          },
          "colorway": [
           "#636efa",
           "#EF553B",
           "#00cc96",
           "#ab63fa",
           "#FFA15A",
           "#19d3f3",
           "#FF6692",
           "#B6E880",
           "#FF97FF",
           "#FECB52"
          ],
          "font": {
           "color": "#2a3f5f"
          },
          "geo": {
           "bgcolor": "white",
           "lakecolor": "white",
           "landcolor": "#E5ECF6",
           "showlakes": true,
           "showland": true,
           "subunitcolor": "white"
          },
          "hoverlabel": {
           "align": "left"
          },
          "hovermode": "closest",
          "mapbox": {
           "style": "light"
          },
          "paper_bgcolor": "white",
          "plot_bgcolor": "#E5ECF6",
          "polar": {
           "angularaxis": {
            "gridcolor": "white",
            "linecolor": "white",
            "ticks": ""
           },
           "bgcolor": "#E5ECF6",
           "radialaxis": {
            "gridcolor": "white",
            "linecolor": "white",
            "ticks": ""
           }
          },
          "scene": {
           "xaxis": {
            "backgroundcolor": "#E5ECF6",
            "gridcolor": "white",
            "gridwidth": 2,
            "linecolor": "white",
            "showbackground": true,
            "ticks": "",
            "zerolinecolor": "white"
           },
           "yaxis": {
            "backgroundcolor": "#E5ECF6",
            "gridcolor": "white",
            "gridwidth": 2,
            "linecolor": "white",
            "showbackground": true,
            "ticks": "",
            "zerolinecolor": "white"
           },
           "zaxis": {
            "backgroundcolor": "#E5ECF6",
            "gridcolor": "white",
            "gridwidth": 2,
            "linecolor": "white",
            "showbackground": true,
            "ticks": "",
            "zerolinecolor": "white"
           }
          },
          "shapedefaults": {
           "line": {
            "color": "#2a3f5f"
           }
          },
          "ternary": {
           "aaxis": {
            "gridcolor": "white",
            "linecolor": "white",
            "ticks": ""
           },
           "baxis": {
            "gridcolor": "white",
            "linecolor": "white",
            "ticks": ""
           },
           "bgcolor": "#E5ECF6",
           "caxis": {
            "gridcolor": "white",
            "linecolor": "white",
            "ticks": ""
           }
          },
          "title": {
           "x": 0.05
          },
          "xaxis": {
           "automargin": true,
           "gridcolor": "white",
           "linecolor": "white",
           "ticks": "",
           "title": {
            "standoff": 15
           },
           "zerolinecolor": "white",
           "zerolinewidth": 2
          },
          "yaxis": {
           "automargin": true,
           "gridcolor": "white",
           "linecolor": "white",
           "ticks": "",
           "title": {
            "standoff": 15
           },
           "zerolinecolor": "white",
           "zerolinewidth": 2
          }
         }
        },
        "xaxis": {
         "anchor": "y",
         "domain": [
          0,
          1
         ],
         "title": {
          "text": "Emissions_stCO2"
         }
        },
        "yaxis": {
         "anchor": "x",
         "domain": [
          0,
          1
         ],
         "title": {
          "text": "Compliance Emissions (Tons)"
         }
        }
       }
      }
     },
     "metadata": {},
     "output_type": "display_data"
    }
   ],
   "source": [
    "px.scatter(compare,x='Emissions_stCO2',y='Compliance Emissions (Tons)',hover_data=['YEAR','Qtr'],trendline='ols')"
   ]
  },
  {
   "cell_type": "code",
   "execution_count": 86,
   "metadata": {},
   "outputs": [
    {
     "data": {
      "application/vnd.plotly.v1+json": {
       "config": {
        "plotlyServerURL": "https://plot.ly"
       },
       "data": [
        {
         "alignmentgroup": "True",
         "hovertemplate": "variable=Emissions_stCO2<br>index=%{x}<br>value=%{y}<extra></extra>",
         "legendgroup": "Emissions_stCO2",
         "marker": {
          "color": "#636efa",
          "pattern": {
           "shape": ""
          }
         },
         "name": "Emissions_stCO2",
         "offsetgroup": "Emissions_stCO2",
         "orientation": "v",
         "showlegend": true,
         "textposition": "auto",
         "type": "bar",
         "x": [
          0,
          1,
          2,
          3,
          4,
          5,
          6,
          7,
          8,
          9,
          10,
          11,
          12,
          13,
          14,
          15,
          16,
          17,
          18,
          19
         ],
         "xaxis": "x",
         "y": [
          770254.2391140382,
          572313.8873939689,
          832990.5583057515,
          764962.3816550914,
          950114.9458338658,
          630396.0177345424,
          873085.2019996392,
          828493.4226487963,
          891287.5808071945,
          579010.7757515023,
          856618.0401917697,
          601079.3894872951,
          924083.3788977445,
          621754.8761118355,
          886081.0658235718,
          730223.7222744997,
          799831.4067066505,
          729186.7488004267,
          848607.2233080708,
          0
         ],
         "yaxis": "y"
        },
        {
         "alignmentgroup": "True",
         "hovertemplate": "variable=Compliance Emissions (Tons)<br>index=%{x}<br>value=%{y}<extra></extra>",
         "legendgroup": "Compliance Emissions (Tons)",
         "marker": {
          "color": "#EF553B",
          "pattern": {
           "shape": ""
          }
         },
         "name": "Compliance Emissions (Tons)",
         "offsetgroup": "Compliance Emissions (Tons)",
         "orientation": "v",
         "showlegend": true,
         "textposition": "auto",
         "type": "bar",
         "x": [
          0,
          1,
          2,
          3,
          4,
          5,
          6,
          7,
          8,
          9,
          10,
          11,
          12,
          13,
          14,
          15,
          16,
          17,
          18,
          19
         ],
         "xaxis": "x",
         "y": [
          null,
          null,
          null,
          null,
          null,
          null,
          null,
          null,
          null,
          null,
          1069504.8429999999,
          748348.8420000001,
          1175741.2650000001,
          802061.311,
          1156640.016,
          949627.1610000001,
          null,
          null,
          null,
          null
         ],
         "yaxis": "y"
        }
       ],
       "layout": {
        "barmode": "group",
        "legend": {
         "title": {
          "text": "variable"
         },
         "tracegroupgap": 0
        },
        "margin": {
         "t": 60
        },
        "template": {
         "data": {
          "bar": [
           {
            "error_x": {
             "color": "#2a3f5f"
            },
            "error_y": {
             "color": "#2a3f5f"
            },
            "marker": {
             "line": {
              "color": "#E5ECF6",
              "width": 0.5
             },
             "pattern": {
              "fillmode": "overlay",
              "size": 10,
              "solidity": 0.2
             }
            },
            "type": "bar"
           }
          ],
          "barpolar": [
           {
            "marker": {
             "line": {
              "color": "#E5ECF6",
              "width": 0.5
             },
             "pattern": {
              "fillmode": "overlay",
              "size": 10,
              "solidity": 0.2
             }
            },
            "type": "barpolar"
           }
          ],
          "carpet": [
           {
            "aaxis": {
             "endlinecolor": "#2a3f5f",
             "gridcolor": "white",
             "linecolor": "white",
             "minorgridcolor": "white",
             "startlinecolor": "#2a3f5f"
            },
            "baxis": {
             "endlinecolor": "#2a3f5f",
             "gridcolor": "white",
             "linecolor": "white",
             "minorgridcolor": "white",
             "startlinecolor": "#2a3f5f"
            },
            "type": "carpet"
           }
          ],
          "choropleth": [
           {
            "colorbar": {
             "outlinewidth": 0,
             "ticks": ""
            },
            "type": "choropleth"
           }
          ],
          "contour": [
           {
            "colorbar": {
             "outlinewidth": 0,
             "ticks": ""
            },
            "colorscale": [
             [
              0,
              "#0d0887"
             ],
             [
              0.1111111111111111,
              "#46039f"
             ],
             [
              0.2222222222222222,
              "#7201a8"
             ],
             [
              0.3333333333333333,
              "#9c179e"
             ],
             [
              0.4444444444444444,
              "#bd3786"
             ],
             [
              0.5555555555555556,
              "#d8576b"
             ],
             [
              0.6666666666666666,
              "#ed7953"
             ],
             [
              0.7777777777777778,
              "#fb9f3a"
             ],
             [
              0.8888888888888888,
              "#fdca26"
             ],
             [
              1,
              "#f0f921"
             ]
            ],
            "type": "contour"
           }
          ],
          "contourcarpet": [
           {
            "colorbar": {
             "outlinewidth": 0,
             "ticks": ""
            },
            "type": "contourcarpet"
           }
          ],
          "heatmap": [
           {
            "colorbar": {
             "outlinewidth": 0,
             "ticks": ""
            },
            "colorscale": [
             [
              0,
              "#0d0887"
             ],
             [
              0.1111111111111111,
              "#46039f"
             ],
             [
              0.2222222222222222,
              "#7201a8"
             ],
             [
              0.3333333333333333,
              "#9c179e"
             ],
             [
              0.4444444444444444,
              "#bd3786"
             ],
             [
              0.5555555555555556,
              "#d8576b"
             ],
             [
              0.6666666666666666,
              "#ed7953"
             ],
             [
              0.7777777777777778,
              "#fb9f3a"
             ],
             [
              0.8888888888888888,
              "#fdca26"
             ],
             [
              1,
              "#f0f921"
             ]
            ],
            "type": "heatmap"
           }
          ],
          "heatmapgl": [
           {
            "colorbar": {
             "outlinewidth": 0,
             "ticks": ""
            },
            "colorscale": [
             [
              0,
              "#0d0887"
             ],
             [
              0.1111111111111111,
              "#46039f"
             ],
             [
              0.2222222222222222,
              "#7201a8"
             ],
             [
              0.3333333333333333,
              "#9c179e"
             ],
             [
              0.4444444444444444,
              "#bd3786"
             ],
             [
              0.5555555555555556,
              "#d8576b"
             ],
             [
              0.6666666666666666,
              "#ed7953"
             ],
             [
              0.7777777777777778,
              "#fb9f3a"
             ],
             [
              0.8888888888888888,
              "#fdca26"
             ],
             [
              1,
              "#f0f921"
             ]
            ],
            "type": "heatmapgl"
           }
          ],
          "histogram": [
           {
            "marker": {
             "pattern": {
              "fillmode": "overlay",
              "size": 10,
              "solidity": 0.2
             }
            },
            "type": "histogram"
           }
          ],
          "histogram2d": [
           {
            "colorbar": {
             "outlinewidth": 0,
             "ticks": ""
            },
            "colorscale": [
             [
              0,
              "#0d0887"
             ],
             [
              0.1111111111111111,
              "#46039f"
             ],
             [
              0.2222222222222222,
              "#7201a8"
             ],
             [
              0.3333333333333333,
              "#9c179e"
             ],
             [
              0.4444444444444444,
              "#bd3786"
             ],
             [
              0.5555555555555556,
              "#d8576b"
             ],
             [
              0.6666666666666666,
              "#ed7953"
             ],
             [
              0.7777777777777778,
              "#fb9f3a"
             ],
             [
              0.8888888888888888,
              "#fdca26"
             ],
             [
              1,
              "#f0f921"
             ]
            ],
            "type": "histogram2d"
           }
          ],
          "histogram2dcontour": [
           {
            "colorbar": {
             "outlinewidth": 0,
             "ticks": ""
            },
            "colorscale": [
             [
              0,
              "#0d0887"
             ],
             [
              0.1111111111111111,
              "#46039f"
             ],
             [
              0.2222222222222222,
              "#7201a8"
             ],
             [
              0.3333333333333333,
              "#9c179e"
             ],
             [
              0.4444444444444444,
              "#bd3786"
             ],
             [
              0.5555555555555556,
              "#d8576b"
             ],
             [
              0.6666666666666666,
              "#ed7953"
             ],
             [
              0.7777777777777778,
              "#fb9f3a"
             ],
             [
              0.8888888888888888,
              "#fdca26"
             ],
             [
              1,
              "#f0f921"
             ]
            ],
            "type": "histogram2dcontour"
           }
          ],
          "mesh3d": [
           {
            "colorbar": {
             "outlinewidth": 0,
             "ticks": ""
            },
            "type": "mesh3d"
           }
          ],
          "parcoords": [
           {
            "line": {
             "colorbar": {
              "outlinewidth": 0,
              "ticks": ""
             }
            },
            "type": "parcoords"
           }
          ],
          "pie": [
           {
            "automargin": true,
            "type": "pie"
           }
          ],
          "scatter": [
           {
            "fillpattern": {
             "fillmode": "overlay",
             "size": 10,
             "solidity": 0.2
            },
            "type": "scatter"
           }
          ],
          "scatter3d": [
           {
            "line": {
             "colorbar": {
              "outlinewidth": 0,
              "ticks": ""
             }
            },
            "marker": {
             "colorbar": {
              "outlinewidth": 0,
              "ticks": ""
             }
            },
            "type": "scatter3d"
           }
          ],
          "scattercarpet": [
           {
            "marker": {
             "colorbar": {
              "outlinewidth": 0,
              "ticks": ""
             }
            },
            "type": "scattercarpet"
           }
          ],
          "scattergeo": [
           {
            "marker": {
             "colorbar": {
              "outlinewidth": 0,
              "ticks": ""
             }
            },
            "type": "scattergeo"
           }
          ],
          "scattergl": [
           {
            "marker": {
             "colorbar": {
              "outlinewidth": 0,
              "ticks": ""
             }
            },
            "type": "scattergl"
           }
          ],
          "scattermapbox": [
           {
            "marker": {
             "colorbar": {
              "outlinewidth": 0,
              "ticks": ""
             }
            },
            "type": "scattermapbox"
           }
          ],
          "scatterpolar": [
           {
            "marker": {
             "colorbar": {
              "outlinewidth": 0,
              "ticks": ""
             }
            },
            "type": "scatterpolar"
           }
          ],
          "scatterpolargl": [
           {
            "marker": {
             "colorbar": {
              "outlinewidth": 0,
              "ticks": ""
             }
            },
            "type": "scatterpolargl"
           }
          ],
          "scatterternary": [
           {
            "marker": {
             "colorbar": {
              "outlinewidth": 0,
              "ticks": ""
             }
            },
            "type": "scatterternary"
           }
          ],
          "surface": [
           {
            "colorbar": {
             "outlinewidth": 0,
             "ticks": ""
            },
            "colorscale": [
             [
              0,
              "#0d0887"
             ],
             [
              0.1111111111111111,
              "#46039f"
             ],
             [
              0.2222222222222222,
              "#7201a8"
             ],
             [
              0.3333333333333333,
              "#9c179e"
             ],
             [
              0.4444444444444444,
              "#bd3786"
             ],
             [
              0.5555555555555556,
              "#d8576b"
             ],
             [
              0.6666666666666666,
              "#ed7953"
             ],
             [
              0.7777777777777778,
              "#fb9f3a"
             ],
             [
              0.8888888888888888,
              "#fdca26"
             ],
             [
              1,
              "#f0f921"
             ]
            ],
            "type": "surface"
           }
          ],
          "table": [
           {
            "cells": {
             "fill": {
              "color": "#EBF0F8"
             },
             "line": {
              "color": "white"
             }
            },
            "header": {
             "fill": {
              "color": "#C8D4E3"
             },
             "line": {
              "color": "white"
             }
            },
            "type": "table"
           }
          ]
         },
         "layout": {
          "annotationdefaults": {
           "arrowcolor": "#2a3f5f",
           "arrowhead": 0,
           "arrowwidth": 1
          },
          "autotypenumbers": "strict",
          "coloraxis": {
           "colorbar": {
            "outlinewidth": 0,
            "ticks": ""
           }
          },
          "colorscale": {
           "diverging": [
            [
             0,
             "#8e0152"
            ],
            [
             0.1,
             "#c51b7d"
            ],
            [
             0.2,
             "#de77ae"
            ],
            [
             0.3,
             "#f1b6da"
            ],
            [
             0.4,
             "#fde0ef"
            ],
            [
             0.5,
             "#f7f7f7"
            ],
            [
             0.6,
             "#e6f5d0"
            ],
            [
             0.7,
             "#b8e186"
            ],
            [
             0.8,
             "#7fbc41"
            ],
            [
             0.9,
             "#4d9221"
            ],
            [
             1,
             "#276419"
            ]
           ],
           "sequential": [
            [
             0,
             "#0d0887"
            ],
            [
             0.1111111111111111,
             "#46039f"
            ],
            [
             0.2222222222222222,
             "#7201a8"
            ],
            [
             0.3333333333333333,
             "#9c179e"
            ],
            [
             0.4444444444444444,
             "#bd3786"
            ],
            [
             0.5555555555555556,
             "#d8576b"
            ],
            [
             0.6666666666666666,
             "#ed7953"
            ],
            [
             0.7777777777777778,
             "#fb9f3a"
            ],
            [
             0.8888888888888888,
             "#fdca26"
            ],
            [
             1,
             "#f0f921"
            ]
           ],
           "sequentialminus": [
            [
             0,
             "#0d0887"
            ],
            [
             0.1111111111111111,
             "#46039f"
            ],
            [
             0.2222222222222222,
             "#7201a8"
            ],
            [
             0.3333333333333333,
             "#9c179e"
            ],
            [
             0.4444444444444444,
             "#bd3786"
            ],
            [
             0.5555555555555556,
             "#d8576b"
            ],
            [
             0.6666666666666666,
             "#ed7953"
            ],
            [
             0.7777777777777778,
             "#fb9f3a"
            ],
            [
             0.8888888888888888,
             "#fdca26"
            ],
            [
             1,
             "#f0f921"
            ]
           ]
          },
          "colorway": [
           "#636efa",
           "#EF553B",
           "#00cc96",
           "#ab63fa",
           "#FFA15A",
           "#19d3f3",
           "#FF6692",
           "#B6E880",
           "#FF97FF",
           "#FECB52"
          ],
          "font": {
           "color": "#2a3f5f"
          },
          "geo": {
           "bgcolor": "white",
           "lakecolor": "white",
           "landcolor": "#E5ECF6",
           "showlakes": true,
           "showland": true,
           "subunitcolor": "white"
          },
          "hoverlabel": {
           "align": "left"
          },
          "hovermode": "closest",
          "mapbox": {
           "style": "light"
          },
          "paper_bgcolor": "white",
          "plot_bgcolor": "#E5ECF6",
          "polar": {
           "angularaxis": {
            "gridcolor": "white",
            "linecolor": "white",
            "ticks": ""
           },
           "bgcolor": "#E5ECF6",
           "radialaxis": {
            "gridcolor": "white",
            "linecolor": "white",
            "ticks": ""
           }
          },
          "scene": {
           "xaxis": {
            "backgroundcolor": "#E5ECF6",
            "gridcolor": "white",
            "gridwidth": 2,
            "linecolor": "white",
            "showbackground": true,
            "ticks": "",
            "zerolinecolor": "white"
           },
           "yaxis": {
            "backgroundcolor": "#E5ECF6",
            "gridcolor": "white",
            "gridwidth": 2,
            "linecolor": "white",
            "showbackground": true,
            "ticks": "",
            "zerolinecolor": "white"
           },
           "zaxis": {
            "backgroundcolor": "#E5ECF6",
            "gridcolor": "white",
            "gridwidth": 2,
            "linecolor": "white",
            "showbackground": true,
            "ticks": "",
            "zerolinecolor": "white"
           }
          },
          "shapedefaults": {
           "line": {
            "color": "#2a3f5f"
           }
          },
          "ternary": {
           "aaxis": {
            "gridcolor": "white",
            "linecolor": "white",
            "ticks": ""
           },
           "baxis": {
            "gridcolor": "white",
            "linecolor": "white",
            "ticks": ""
           },
           "bgcolor": "#E5ECF6",
           "caxis": {
            "gridcolor": "white",
            "linecolor": "white",
            "ticks": ""
           }
          },
          "title": {
           "x": 0.05
          },
          "xaxis": {
           "automargin": true,
           "gridcolor": "white",
           "linecolor": "white",
           "ticks": "",
           "title": {
            "standoff": 15
           },
           "zerolinecolor": "white",
           "zerolinewidth": 2
          },
          "yaxis": {
           "automargin": true,
           "gridcolor": "white",
           "linecolor": "white",
           "ticks": "",
           "title": {
            "standoff": 15
           },
           "zerolinecolor": "white",
           "zerolinewidth": 2
          }
         }
        },
        "xaxis": {
         "anchor": "y",
         "domain": [
          0,
          1
         ],
         "title": {
          "text": "index"
         }
        },
        "yaxis": {
         "anchor": "x",
         "domain": [
          0,
          1
         ],
         "title": {
          "text": "value"
         }
        }
       }
      }
     },
     "metadata": {},
     "output_type": "display_data"
    }
   ],
   "source": [
    "px.bar(compare[['Emissions_stCO2','Compliance Emissions (Tons)']],barmode='group')"
   ]
  },
  {
   "cell_type": "code",
   "execution_count": null,
   "metadata": {},
   "outputs": [],
   "source": []
  },
  {
   "cell_type": "markdown",
   "metadata": {},
   "source": [
    "### PJM Compare"
   ]
  },
  {
   "cell_type": "code",
   "execution_count": 87,
   "metadata": {},
   "outputs": [],
   "source": [
    "pjm = rggi_or_pjm_capacity[rggi_or_pjm_capacity['Balancing\\nAuthority Code']=='PJM']"
   ]
  },
  {
   "cell_type": "code",
   "execution_count": 88,
   "metadata": {},
   "outputs": [
    {
     "name": "stderr",
     "output_type": "stream",
     "text": [
      "C:\\Users\\Alex Child\\AppData\\Local\\Temp\\ipykernel_19200\\2863188609.py:1: SettingWithCopyWarning:\n",
      "\n",
      "\n",
      "A value is trying to be set on a copy of a slice from a DataFrame.\n",
      "Try using .loc[row_indexer,col_indexer] = value instead\n",
      "\n",
      "See the caveats in the documentation: https://pandas.pydata.org/pandas-docs/stable/user_guide/indexing.html#returning-a-view-versus-a-copy\n",
      "\n"
     ]
    }
   ],
   "source": [
    "pjm['In_RGGI'] = np.where((pjm['RGGI_state']==1) ,1,0 ) #& (pjm['Nameplate Capacity (MW)']>=25)"
   ]
  },
  {
   "cell_type": "code",
   "execution_count": null,
   "metadata": {},
   "outputs": [],
   "source": [
    "px.bar(pjm.groupby(['Date','In_RGGI'])['Emissions_stCO2'].sum().unstack())"
   ]
  },
  {
   "cell_type": "code",
   "execution_count": null,
   "metadata": {},
   "outputs": [],
   "source": [
    "pjm.columns"
   ]
  },
  {
   "cell_type": "code",
   "execution_count": null,
   "metadata": {},
   "outputs": [],
   "source": [
    "px.bar(pjm.query('Emissions_stCO2>0').groupby(['Date','In_RGGI'])['Nameplate Capacity (MW)'].count().unstack())"
   ]
  },
  {
   "cell_type": "code",
   "execution_count": null,
   "metadata": {},
   "outputs": [],
   "source": [
    "list(pjm.query('YEAR==2023 and Emissions_stCO2>0')['Plant Id'][~(pjm.query('YEAR==2023 and Emissions_stCO2>0')['Plant Id'].isin(pjm.query('YEAR==2024 and Emissions_stCO2>0')['Plant Id'].unique()))].unique())"
   ]
  },
  {
   "cell_type": "code",
   "execution_count": null,
   "metadata": {},
   "outputs": [],
   "source": [
    "pjm.query('YEAR==2023 and `Plant Id`==1353')"
   ]
  },
  {
   "cell_type": "code",
   "execution_count": null,
   "metadata": {},
   "outputs": [],
   "source": [
    "pjm.query('YEAR==2024 and `Plant Id`==1353')"
   ]
  },
  {
   "cell_type": "code",
   "execution_count": null,
   "metadata": {},
   "outputs": [],
   "source": [
    "mega_gen_fuel_df.query('RGGI_state==1 or `Balancing\\nAuthority Code`==\"PJM\" ')"
   ]
  },
  {
   "cell_type": "code",
   "execution_count": null,
   "metadata": {},
   "outputs": [],
   "source": [
    "mega_gen_fuel_df[gen_cols] = mega_gen_fuel_df[gen_cols].replace('...',0).replace('.',0)"
   ]
  },
  {
   "cell_type": "code",
   "execution_count": null,
   "metadata": {},
   "outputs": [],
   "source": [
    "PJM_compare = mega_gen_fuel_df[mega_gen_fuel_df['Balancing\\nAuthority Code']=='PJM'].groupby(['RGGI_state','YEAR','Reported\\nFuel Type Code'])[gen_cols].mean()"
   ]
  },
  {
   "cell_type": "code",
   "execution_count": null,
   "metadata": {},
   "outputs": [],
   "source": [
    "PJM_compare.columns = [x.split('\\n')[-1] for x in PJM_compare.columns]"
   ]
  },
  {
   "cell_type": "code",
   "execution_count": null,
   "metadata": {},
   "outputs": [],
   "source": [
    "PJM_compare = PJM_compare.stack().to_frame('Generation').reset_index()"
   ]
  },
  {
   "cell_type": "code",
   "execution_count": null,
   "metadata": {},
   "outputs": [],
   "source": [
    "PJM_compare['full_date'] = '01/'+PJM_compare['level_3']+'/'+PJM_compare['YEAR'].astype(str) "
   ]
  },
  {
   "cell_type": "code",
   "execution_count": null,
   "metadata": {},
   "outputs": [],
   "source": [
    "PJM_compare['date'] = pd.to_datetime(PJM_compare['full_date'],format='%d/%B/%Y')"
   ]
  },
  {
   "cell_type": "code",
   "execution_count": null,
   "metadata": {},
   "outputs": [],
   "source": [
    "PJM_compare_pivot = PJM_compare.pivot_table(index='date',columns=['Reported\\nFuel Type Code','RGGI_state'],values='Generation')"
   ]
  },
  {
   "cell_type": "code",
   "execution_count": null,
   "metadata": {},
   "outputs": [],
   "source": [
    "PJM_compare_pivot.columns.get_level_values(0).unique()"
   ]
  },
  {
   "cell_type": "code",
   "execution_count": null,
   "metadata": {},
   "outputs": [],
   "source": [
    "px.line(PJM_compare_pivot['BIT'].cumsum())"
   ]
  },
  {
   "cell_type": "code",
   "execution_count": null,
   "metadata": {},
   "outputs": [],
   "source": [
    "gen_cols.append('YEAR')"
   ]
  },
  {
   "cell_type": "code",
   "execution_count": null,
   "metadata": {},
   "outputs": [],
   "source": [
    "px.line(mega_gen_fuel_df.query('`Plant Name`==\"Brandon Shores\"')[gen_cols].groupby('YEAR').sum().transpose().replace('...',0).cumsum())"
   ]
  },
  {
   "cell_type": "code",
   "execution_count": null,
   "metadata": {},
   "outputs": [],
   "source": []
  }
 ],
 "metadata": {
  "kernelspec": {
   "display_name": "Python 3",
   "language": "python",
   "name": "python3"
  },
  "language_info": {
   "codemirror_mode": {
    "name": "ipython",
    "version": 3
   },
   "file_extension": ".py",
   "mimetype": "text/x-python",
   "name": "python",
   "nbconvert_exporter": "python",
   "pygments_lexer": "ipython3",
   "version": "3.9.13"
  }
 },
 "nbformat": 4,
 "nbformat_minor": 2
}
