{
 "cells": [
  {
   "cell_type": "code",
   "execution_count": null,
   "metadata": {},
   "outputs": [],
   "source": [
    "import pandas as pd\n",
    "import numpy as np\n",
    "import plotly.express as px\n",
    "from bs4 import BeautifulSoup \n",
    "import requests\n",
    "from datetime import datetime as dt\n",
    "import plotly.subplots as sp\n",
    "from pandas.tseries.offsets import MonthEnd\n",
    "\n",
    "from zipfile import ZipFile\n",
    "from io import BytesIO\n",
    "from urllib.request import urlopen\n",
    "\n",
    "from RGGI_plant_analysis import RGGI_capacity"
   ]
  },
  {
   "cell_type": "code",
   "execution_count": 2,
   "metadata": {},
   "outputs": [],
   "source": [
    "eia_html = requests.get('https://www.eia.gov/electricity/data/eia923/')\n",
    "soup = BeautifulSoup(eia_html.content,'html.parser')\n",
    "release_dates= soup.find_all('div',class_='release-dates')\n"
   ]
  },
  {
   "cell_type": "code",
   "execution_count": 3,
   "metadata": {},
   "outputs": [],
   "source": [
    "next_update_time = release_dates[0].find_all('span',class_='date')[-1].text"
   ]
  },
  {
   "cell_type": "code",
   "execution_count": 4,
   "metadata": {},
   "outputs": [],
   "source": [
    "monthly_report_links = {}"
   ]
  },
  {
   "cell_type": "code",
   "execution_count": 5,
   "metadata": {},
   "outputs": [],
   "source": [
    "this_year =dt.today().year"
   ]
  },
  {
   "cell_type": "code",
   "execution_count": 6,
   "metadata": {},
   "outputs": [],
   "source": [
    "dates_to_observe = range(this_year-5,this_year+1)"
   ]
  },
  {
   "cell_type": "code",
   "execution_count": 7,
   "metadata": {},
   "outputs": [],
   "source": [
    "for x in soup.find_all('a', href=True):\n",
    "    try:\n",
    "        if int(x.attrs['title']) in dates_to_observe:\n",
    "            monthly_report_links[x.attrs['title']] = x.attrs['href']\n",
    "    except:\n",
    "        pass"
   ]
  },
  {
   "cell_type": "code",
   "execution_count": 8,
   "metadata": {},
   "outputs": [],
   "source": [
    "link_df = pd.DataFrame.from_dict(monthly_report_links,orient='index').sort_index()"
   ]
  },
  {
   "cell_type": "code",
   "execution_count": null,
   "metadata": {},
   "outputs": [],
   "source": []
  },
  {
   "cell_type": "code",
   "execution_count": 10,
   "metadata": {},
   "outputs": [
    {
     "name": "stdout",
     "output_type": "stream",
     "text": [
      "EIA923_Schedules_2_3_4_5_M_12_2019_Final_Revision.xlsx\n",
      "Page 1 Energy Storage\n",
      "Page 1 Generation and Fuel Data\n",
      "Page 1 Puerto Rico\n",
      "Page 2 Coal Stocks Data\n",
      "Page 2 Oil Stocks Data\n",
      "Page 2 Petcoke Stocks Data\n",
      "Page 2 Stocks Data\n",
      "Page 3 Boiler Fuel Data\n",
      "Page 4 Generator Data\n",
      "Page 5 Fuel Receipts and Costs\n",
      "Page 6 Plant Frame\n",
      "Page 6 Plant Frame Puerto Rico\n",
      "EIA923_Schedules_2_3_4_5_M_12_2020_Final_Revision.xlsx\n",
      "Page 1 Generation and Fuel Data\n",
      "Page 1 Energy Storage\n",
      "Page 1 Puerto Rico\n",
      "Page 2 Coal Stocks Data\n",
      "Page 2 Oil Stocks Data\n",
      "Page 2 Petcoke Stocks Data\n",
      "Page 2 Stocks Data\n",
      "Page 3 Boiler Fuel Data\n",
      "Page 4 Generator Data\n",
      "Page 5 Fuel Receipts and Costs\n",
      "Page 6 Plant Frame\n",
      "Page 6 Plant Frame Puerto Rico\n",
      "EIA923_Schedules_2_3_4_5_M_12_2021_Final_Revision.xlsx\n",
      "Page 1 Energy Storage\n",
      "Page 1 Generation and Fuel Data\n",
      "Page 1 Puerto Rico\n",
      "Page 2 Coal Stocks Data\n",
      "Page 2 Oil Stocks Data\n",
      "Page 2 Petcoke Stocks Data\n",
      "Page 2 Stocks Data\n",
      "Page 3 Boiler Fuel Data\n",
      "Page 4 Generator Data\n",
      "Page 5 Fuel Receipts and Costs\n",
      "Page 6 Plant Frame\n",
      "Page 6 Plant Frame Puerto Rico\n",
      "EIA923_Schedules_2_3_4_5_M_12_2022_Final_Revision.xlsx\n",
      "Page 1 Energy Storage\n",
      "Page 1 Generation and Fuel Data\n",
      "Page 1 Puerto Rico\n",
      "Page 2 Coal Stocks Data\n",
      "Page 2 Oil Stocks Data\n",
      "Page 2 Stocks Data\n",
      "Page 3 Boiler Fuel Data\n",
      "Page 4 Generator Data\n",
      "Page 5 Fuel Receipts and Costs\n",
      "Page 6 Plant Frame\n",
      "Page 6 Plant Frame Puerto Rico\n",
      "EIA923_Schedules_2_3_4_5_M_12_2023_Final.xlsx\n",
      "Page 1 Energy Storage\n",
      "Page 1 Generation and Fuel Data\n",
      "Page 1 Puerto Rico\n",
      "Page 2 Oil Stocks Data\n",
      "Page 2 Stocks Data\n",
      "Page 3 Boiler Fuel Data\n",
      "Page 4 Generator Data\n",
      "Page 5 Fuel Receipts and Costs\n",
      "Page 6 Plant Frame\n",
      "Page 6 Plant Frame Puerto Rico\n",
      "EIA923_Schedules_2_3_4_5_M_09_2024_19NOV2024.xlsx\n",
      "Page 1 Energy Storage\n",
      "Page 1 Generation and Fuel Data\n",
      "Page 1 Puerto Rico\n",
      "Page 2 Oil Stocks Data\n",
      "Page 2 Stocks Data\n",
      "Page 3 Boiler Fuel Data\n",
      "Page 4 Generator Data\n",
      "Page 5 Fuel Receipts and Costs\n",
      "Page 6 Plant Frame\n",
      "Page 6 Plant Frame Puerto Rico\n"
     ]
    }
   ],
   "source": [
    "mega_gen_fuel_df = pd.DataFrame()\n",
    "for year in link_df.index:\n",
    "    resp = urlopen('https://www.eia.gov/electricity/data/eia923/'+link_df.loc[year][0])\n",
    "    myzip = ZipFile(BytesIO(resp.read()))\n",
    "    for  x in myzip.filelist:\n",
    "        if 'EIA923_Schedules_2_3_4_5_M' in x.filename:\n",
    "            print(x.filename)\n",
    "            gen_file = pd.ExcelFile(myzip.open(x))\n",
    "            gen_fuel_df = pd.read_excel(gen_file,sheet_name='Page 1 Generation and Fuel Data',header=5)\n",
    "            gen_fuel_df = gen_fuel_df.dropna(subset=['Plant Name'])\n",
    "\n",
    "            mega_gen_fuel_df = pd.concat([mega_gen_fuel_df,gen_fuel_df],axis=0)"
   ]
  },
  {
   "cell_type": "code",
   "execution_count": 11,
   "metadata": {},
   "outputs": [],
   "source": [
    "### Capacity\n",
    "def save_historical_capacity_per_plant():\n",
    "    time_series_historical_capacity = pd.DataFrame()\n",
    "    for x in range(1,12*6):\n",
    "        next_update_time,recent_report,report_month,report_year  =RGGI_capacity().scrape_recent_EIA_860m(lagged_report=x)\n",
    "        capacity = RGGI_capacity().analyse_all_capacity(recent_report,report_month,report_year)\n",
    "        time_series_historical_capacity = pd.concat([time_series_historical_capacity,capacity],axis=0)\n",
    "\n",
    "    time_series_historical_capacity.to_pickle('full_capacity_series.pkl')\n",
    "\n",
    "    return time_series_historical_capacity"
   ]
  },
  {
   "cell_type": "code",
   "execution_count": 12,
   "metadata": {},
   "outputs": [],
   "source": [
    "#time_series_historical_capacity = save_historical_capacity_per_plant()"
   ]
  },
  {
   "cell_type": "code",
   "execution_count": 13,
   "metadata": {},
   "outputs": [],
   "source": [
    "time_series_historical_capacity = pd.read_pickle('full_capacity_series.pkl')"
   ]
  },
  {
   "cell_type": "code",
   "execution_count": 14,
   "metadata": {},
   "outputs": [
    {
     "data": {
      "text/html": [
       "<div>\n",
       "<style scoped>\n",
       "    .dataframe tbody tr th:only-of-type {\n",
       "        vertical-align: middle;\n",
       "    }\n",
       "\n",
       "    .dataframe tbody tr th {\n",
       "        vertical-align: top;\n",
       "    }\n",
       "\n",
       "    .dataframe thead th {\n",
       "        text-align: right;\n",
       "    }\n",
       "</style>\n",
       "<table border=\"1\" class=\"dataframe\">\n",
       "  <thead>\n",
       "    <tr style=\"text-align: right;\">\n",
       "      <th></th>\n",
       "      <th></th>\n",
       "      <th></th>\n",
       "      <th></th>\n",
       "      <th></th>\n",
       "      <th></th>\n",
       "      <th>Nameplate Capacity (MW)</th>\n",
       "    </tr>\n",
       "    <tr>\n",
       "      <th>Plant ID</th>\n",
       "      <th>Energy Source Code</th>\n",
       "      <th>Prime Mover Code</th>\n",
       "      <th>Plant State</th>\n",
       "      <th>report_month</th>\n",
       "      <th>report_year</th>\n",
       "      <th></th>\n",
       "    </tr>\n",
       "  </thead>\n",
       "  <tbody>\n",
       "    <tr>\n",
       "      <th rowspan=\"2\" valign=\"top\">1.0</th>\n",
       "      <th>DFO</th>\n",
       "      <th>IC</th>\n",
       "      <th>AK</th>\n",
       "      <th>9</th>\n",
       "      <th>2024</th>\n",
       "      <td>2.7</td>\n",
       "    </tr>\n",
       "    <tr>\n",
       "      <th>WND</th>\n",
       "      <th>WT</th>\n",
       "      <th>AK</th>\n",
       "      <th>9</th>\n",
       "      <th>2024</th>\n",
       "      <td>1.0</td>\n",
       "    </tr>\n",
       "    <tr>\n",
       "      <th>2.0</th>\n",
       "      <th>WAT</th>\n",
       "      <th>HY</th>\n",
       "      <th>AL</th>\n",
       "      <th>9</th>\n",
       "      <th>2024</th>\n",
       "      <td>53.9</td>\n",
       "    </tr>\n",
       "    <tr>\n",
       "      <th rowspan=\"2\" valign=\"top\">3.0</th>\n",
       "      <th>BIT</th>\n",
       "      <th>ST</th>\n",
       "      <th>AL</th>\n",
       "      <th>9</th>\n",
       "      <th>2024</th>\n",
       "      <td>1192.5</td>\n",
       "    </tr>\n",
       "    <tr>\n",
       "      <th>NG</th>\n",
       "      <th>CA</th>\n",
       "      <th>AL</th>\n",
       "      <th>9</th>\n",
       "      <th>2024</th>\n",
       "      <td>700.4</td>\n",
       "    </tr>\n",
       "    <tr>\n",
       "      <th>...</th>\n",
       "      <th>...</th>\n",
       "      <th>...</th>\n",
       "      <th>...</th>\n",
       "      <th>...</th>\n",
       "      <th>...</th>\n",
       "      <td>...</td>\n",
       "    </tr>\n",
       "    <tr>\n",
       "      <th>62264.0</th>\n",
       "      <th>SUN</th>\n",
       "      <th>PV</th>\n",
       "      <th>MA</th>\n",
       "      <th>11</th>\n",
       "      <th>2018</th>\n",
       "      <td>1.2</td>\n",
       "    </tr>\n",
       "    <tr>\n",
       "      <th>62265.0</th>\n",
       "      <th>SUN</th>\n",
       "      <th>PV</th>\n",
       "      <th>MA</th>\n",
       "      <th>11</th>\n",
       "      <th>2018</th>\n",
       "      <td>1.9</td>\n",
       "    </tr>\n",
       "    <tr>\n",
       "      <th>62266.0</th>\n",
       "      <th>SUN</th>\n",
       "      <th>PV</th>\n",
       "      <th>MA</th>\n",
       "      <th>11</th>\n",
       "      <th>2018</th>\n",
       "      <td>1.1</td>\n",
       "    </tr>\n",
       "    <tr>\n",
       "      <th>62270.0</th>\n",
       "      <th>DFO</th>\n",
       "      <th>IC</th>\n",
       "      <th>NY</th>\n",
       "      <th>11</th>\n",
       "      <th>2018</th>\n",
       "      <td>8.0</td>\n",
       "    </tr>\n",
       "    <tr>\n",
       "      <th>62271.0</th>\n",
       "      <th>DFO</th>\n",
       "      <th>IC</th>\n",
       "      <th>NY</th>\n",
       "      <th>11</th>\n",
       "      <th>2018</th>\n",
       "      <td>4.5</td>\n",
       "    </tr>\n",
       "  </tbody>\n",
       "</table>\n",
       "<p>879099 rows × 1 columns</p>\n",
       "</div>"
      ],
      "text/plain": [
       "                                                                                   Nameplate Capacity (MW)\n",
       "Plant ID Energy Source Code Prime Mover Code Plant State report_month report_year                         \n",
       "1.0      DFO                IC               AK          9            2024                             2.7\n",
       "         WND                WT               AK          9            2024                             1.0\n",
       "2.0      WAT                HY               AL          9            2024                            53.9\n",
       "3.0      BIT                ST               AL          9            2024                          1192.5\n",
       "         NG                 CA               AL          9            2024                           700.4\n",
       "...                                                                                                    ...\n",
       "62264.0  SUN                PV               MA          11           2018                             1.2\n",
       "62265.0  SUN                PV               MA          11           2018                             1.9\n",
       "62266.0  SUN                PV               MA          11           2018                             1.1\n",
       "62270.0  DFO                IC               NY          11           2018                             8.0\n",
       "62271.0  DFO                IC               NY          11           2018                             4.5\n",
       "\n",
       "[879099 rows x 1 columns]"
      ]
     },
     "execution_count": 14,
     "metadata": {},
     "output_type": "execute_result"
    }
   ],
   "source": [
    "time_series_historical_capacity"
   ]
  },
  {
   "cell_type": "code",
   "execution_count": 15,
   "metadata": {},
   "outputs": [],
   "source": [
    "gen_cols = list(mega_gen_fuel_df.columns[['Netgen' in x for x in mega_gen_fuel_df.columns]])"
   ]
  },
  {
   "cell_type": "code",
   "execution_count": 17,
   "metadata": {},
   "outputs": [],
   "source": [
    "#gen_cols.append('YEAR')"
   ]
  },
  {
   "cell_type": "code",
   "execution_count": 18,
   "metadata": {},
   "outputs": [
    {
     "data": {
      "text/plain": [
       "['Netgen\\nJanuary',\n",
       " 'Netgen\\nFebruary',\n",
       " 'Netgen\\nMarch',\n",
       " 'Netgen\\nApril',\n",
       " 'Netgen\\nMay',\n",
       " 'Netgen\\nJune',\n",
       " 'Netgen\\nJuly',\n",
       " 'Netgen\\nAugust',\n",
       " 'Netgen\\nSeptember',\n",
       " 'Netgen\\nOctober',\n",
       " 'Netgen\\nNovember',\n",
       " 'Netgen\\nDecember']"
      ]
     },
     "execution_count": 18,
     "metadata": {},
     "output_type": "execute_result"
    }
   ],
   "source": [
    "gen_cols"
   ]
  },
  {
   "cell_type": "code",
   "execution_count": 19,
   "metadata": {},
   "outputs": [],
   "source": [
    "RGGI_states = ['CT', 'DE', 'ME', 'MD', 'MA', 'NH', 'NJ', 'NY', 'RI', 'VT'] "
   ]
  },
  {
   "cell_type": "code",
   "execution_count": 20,
   "metadata": {},
   "outputs": [],
   "source": [
    "mega_gen_fuel_df['RGGI_state'] = np.where(mega_gen_fuel_df['Plant State'].isin(RGGI_states),1,0)"
   ]
  },
  {
   "cell_type": "code",
   "execution_count": 21,
   "metadata": {},
   "outputs": [
    {
     "data": {
      "text/plain": [
       "array(['IC', 'WT', 'HY', 'CA', 'CT', 'ST', 'GT', 'PS', 'CS', 'PV', 'BA',\n",
       "       'CE', 'BT', 'OT', 'FC', 'CP', 'FW', 'WS', 'WY'], dtype=object)"
      ]
     },
     "execution_count": 21,
     "metadata": {},
     "output_type": "execute_result"
    }
   ],
   "source": [
    "mega_gen_fuel_df['Reported\\nPrime Mover'].unique()"
   ]
  },
  {
   "cell_type": "code",
   "execution_count": 22,
   "metadata": {},
   "outputs": [
    {
     "data": {
      "text/plain": [
       "array(['DFO', 'WND', 'WAT', 'NG', 'BIT', 'SUB', 'NUC', 'LIG', 'PG', 'RC',\n",
       "       'AB', 'WDS', 'RFO', 'LFG', 'PC', 'SUN', 'OBG', 'GEO', 'MWH', 'OG',\n",
       "       'WO', 'JF', 'KER', 'OTH', 'WC', 'SGC', 'OBS', 'TDF', 'BFG', 'MSB',\n",
       "       'MSN', 'SC', 'BLQ', 'WH', 'OBL', 'SLW', 'PUR', 'WDL', 'SGP', 'ANT',\n",
       "       'H2'], dtype=object)"
      ]
     },
     "execution_count": 22,
     "metadata": {},
     "output_type": "execute_result"
    }
   ],
   "source": [
    "mega_gen_fuel_df['Reported\\nFuel Type Code'].unique()"
   ]
  },
  {
   "cell_type": "code",
   "execution_count": 23,
   "metadata": {},
   "outputs": [],
   "source": [
    "PJM_tech_dict = {'DFO':'Oil', \n",
    "                 'RFO':'Oil',\n",
    "                 'WND':'Wind', \n",
    "                 'LFG':'Other Renewables', \n",
    "                 'PC':'Coal', \n",
    "                 'SUN':'Solar', \n",
    "                 'OBG':'Other Renewables', \n",
    "                 'GEO':'Other Renewables', \n",
    "                 'MWH':'Other', \n",
    "                 'OG':'Gas',\n",
    "                'WO':'Oil', \n",
    "       'JF':'Oil', \n",
    "       'KER':'Oil', \n",
    "       'OTH':'Other', \n",
    "       'WC':'Coal', \n",
    "       'SGC':'Gas', \n",
    "       'OBS':'Other Renewables',\n",
    "        'AB':'Other Renewables', \n",
    "        'TDF':'Other', \n",
    "        'BFG':'Gas',\n",
    "        'MSB':'Other',\n",
    "       'MSN':'Other Renewables', \n",
    "       'SC':'Coal',\n",
    "       'SUB':'Coal',\n",
    "       'LIG':'Coal',\n",
    "       'BIT':'Coal','RC':'Coal','ANT':'Coal','NG':'Gas','PG':'Gas',\n",
    "       'BLQ':'Other Renewables',\n",
    "       'WH':'Other', 'WDS':'Other Renewables',\n",
    "       'OBL':'Other Renewables', 'SLW':'Other Renewables', \n",
    "       'PUR':'Other', 'WDL':'Other Renewables', 'SGP':'Gas',\n",
    "       'H2':'Hydro','WAT':'Hydro','BAT':'Storage','PS':'Storage','NUC':'Nuclear'}\n",
    "\n",
    "Fossil_tech = ['Coal','Gas','Oil']"
   ]
  },
  {
   "cell_type": "code",
   "execution_count": 24,
   "metadata": {},
   "outputs": [
    {
     "data": {
      "text/plain": [
       "Index(['DFO', 'WND', 'WAT', 'BIT', 'NG', 'NUC', 'SUB', 'MWH', 'SUN', 'GEO',\n",
       "       'KER', 'RFO', 'WDS', 'JF', 'SGC', 'OG', 'PC', 'MSW', 'LFG', 'RC', 'LIG',\n",
       "       'WC', 'WO', 'PG', 'OTH', 'WH', 'BLQ', 'OBG', 'BFG', 'WDL', 'AB', 'PUR',\n",
       "       'OBL', 'OBS', 'SGP', 'TDF'],\n",
       "      dtype='object', name='Energy Source Code')"
      ]
     },
     "execution_count": 24,
     "metadata": {},
     "output_type": "execute_result"
    }
   ],
   "source": [
    "time_series_historical_capacity.index.get_level_values(1).unique()"
   ]
  },
  {
   "cell_type": "code",
   "execution_count": 25,
   "metadata": {},
   "outputs": [],
   "source": [
    "rggi_or_pjm = mega_gen_fuel_df[(mega_gen_fuel_df['RGGI_state']==1)| (mega_gen_fuel_df['Balancing\\nAuthority Code']=='PJM')]"
   ]
  },
  {
   "cell_type": "code",
   "execution_count": 26,
   "metadata": {},
   "outputs": [
    {
     "data": {
      "text/plain": [
       "array(['KY', 'NY', 'IL', 'CT', 'MA', 'VT', 'DE', 'MD', 'ME', 'IN', 'MI',\n",
       "       'NH', 'NJ', 'NC', 'OH', 'PA', 'RI', 'VA', 'WV', 'TN', 'DC', 'MN'],\n",
       "      dtype=object)"
      ]
     },
     "execution_count": 26,
     "metadata": {},
     "output_type": "execute_result"
    }
   ],
   "source": [
    "rggi_or_pjm['Plant State'].unique()"
   ]
  },
  {
   "cell_type": "code",
   "execution_count": 27,
   "metadata": {},
   "outputs": [
    {
     "data": {
      "text/plain": [
       "['Netgen\\nJanuary',\n",
       " 'Netgen\\nFebruary',\n",
       " 'Netgen\\nMarch',\n",
       " 'Netgen\\nApril',\n",
       " 'Netgen\\nMay',\n",
       " 'Netgen\\nJune',\n",
       " 'Netgen\\nJuly',\n",
       " 'Netgen\\nAugust',\n",
       " 'Netgen\\nSeptember',\n",
       " 'Netgen\\nOctober',\n",
       " 'Netgen\\nNovember',\n",
       " 'Netgen\\nDecember']"
      ]
     },
     "execution_count": 27,
     "metadata": {},
     "output_type": "execute_result"
    }
   ],
   "source": [
    "gen_cols"
   ]
  },
  {
   "cell_type": "code",
   "execution_count": 28,
   "metadata": {},
   "outputs": [
    {
     "data": {
      "text/plain": [
       "Index(['Plant Id', 'Combined Heat And\\nPower Plant', 'Nuclear Unit Id',\n",
       "       'Plant Name', 'Operator Name', 'Operator Id', 'Plant State',\n",
       "       'Census Region', 'NERC Region', 'Reserved', 'NAICS Code',\n",
       "       'EIA Sector Number', 'Sector Name', 'Reported\\nPrime Mover',\n",
       "       'Reported\\nFuel Type Code', 'AER\\nFuel Type Code',\n",
       "       'Balancing\\nAuthority Code', 'Respondent\\nFrequency',\n",
       "       'Physical\\nUnit Label', 'Quantity\\nJanuary', 'Quantity\\nFebruary',\n",
       "       'Quantity\\nMarch', 'Quantity\\nApril', 'Quantity\\nMay', 'Quantity\\nJune',\n",
       "       'Quantity\\nJuly', 'Quantity\\nAugust', 'Quantity\\nSeptember',\n",
       "       'Quantity\\nOctober', 'Quantity\\nNovember', 'Quantity\\nDecember',\n",
       "       'Elec_Quantity\\nJanuary', 'Elec_Quantity\\nFebruary',\n",
       "       'Elec_Quantity\\nMarch', 'Elec_Quantity\\nApril', 'Elec_Quantity\\nMay',\n",
       "       'Elec_Quantity\\nJune', 'Elec_Quantity\\nJuly', 'Elec_Quantity\\nAugust',\n",
       "       'Elec_Quantity\\nSeptember', 'Elec_Quantity\\nOctober',\n",
       "       'Elec_Quantity\\nNovember', 'Elec_Quantity\\nDecember',\n",
       "       'MMBtuPer_Unit\\nJanuary', 'MMBtuPer_Unit\\nFebruary',\n",
       "       'MMBtuPer_Unit\\nMarch', 'MMBtuPer_Unit\\nApril', 'MMBtuPer_Unit\\nMay',\n",
       "       'MMBtuPer_Unit\\nJune', 'MMBtuPer_Unit\\nJuly', 'MMBtuPer_Unit\\nAugust',\n",
       "       'MMBtuPer_Unit\\nSeptember', 'MMBtuPer_Unit\\nOctober',\n",
       "       'MMBtuPer_Unit\\nNovember', 'MMBtuPer_Unit\\nDecember',\n",
       "       'Tot_MMBtu\\nJanuary', 'Tot_MMBtu\\nFebruary', 'Tot_MMBtu\\nMarch',\n",
       "       'Tot_MMBtu\\nApril', 'Tot_MMBtu\\nMay', 'Tot_MMBtu\\nJune',\n",
       "       'Tot_MMBtu\\nJuly', 'Tot_MMBtu\\nAugust', 'Tot_MMBtu\\nSeptember',\n",
       "       'Tot_MMBtu\\nOctober', 'Tot_MMBtu\\nNovember', 'Tot_MMBtu\\nDecember',\n",
       "       'Elec_MMBtu\\nJanuary', 'Elec_MMBtu\\nFebruary', 'Elec_MMBtu\\nMarch',\n",
       "       'Elec_MMBtu\\nApril', 'Elec_MMBtu\\nMay', 'Elec_MMBtu\\nJune',\n",
       "       'Elec_MMBtu\\nJuly', 'Elec_MMBtu\\nAugust', 'Elec_MMBtu\\nSeptember',\n",
       "       'Elec_MMBtu\\nOctober', 'Elec_MMBtu\\nNovember', 'Elec_MMBtu\\nDecember',\n",
       "       'Netgen\\nJanuary', 'Netgen\\nFebruary', 'Netgen\\nMarch', 'Netgen\\nApril',\n",
       "       'Netgen\\nMay', 'Netgen\\nJune', 'Netgen\\nJuly', 'Netgen\\nAugust',\n",
       "       'Netgen\\nSeptember', 'Netgen\\nOctober', 'Netgen\\nNovember',\n",
       "       'Netgen\\nDecember', 'Total Fuel Consumption\\nQuantity',\n",
       "       'Electric Fuel Consumption\\nQuantity', 'Total Fuel Consumption\\nMMBtu',\n",
       "       'Elec Fuel Consumption\\nMMBtu', 'Net Generation\\n(Megawatthours)',\n",
       "       'YEAR', 'MER\\nFuel Type Code', 'Reserved.1', 'RGGI_state'],\n",
       "      dtype='object')"
      ]
     },
     "execution_count": 28,
     "metadata": {},
     "output_type": "execute_result"
    }
   ],
   "source": [
    "rggi_or_pjm.columns"
   ]
  },
  {
   "cell_type": "code",
   "execution_count": 29,
   "metadata": {},
   "outputs": [],
   "source": [
    "fuel_cons_columns = ['Quantity\\nJanuary', 'Quantity\\nFebruary',\n",
    "       'Quantity\\nMarch', 'Quantity\\nApril', 'Quantity\\nMay', 'Quantity\\nJune',\n",
    "       'Quantity\\nJuly', 'Quantity\\nAugust', 'Quantity\\nSeptember',\n",
    "       'Quantity\\nOctober', 'Quantity\\nNovember', 'Quantity\\nDecember']\n",
    "\n",
    "mmbtu_cols = ['Tot_MMBtu\\nJanuary', 'Tot_MMBtu\\nFebruary', 'Tot_MMBtu\\nMarch',\n",
    "       'Tot_MMBtu\\nApril', 'Tot_MMBtu\\nMay', 'Tot_MMBtu\\nJune',\n",
    "       'Tot_MMBtu\\nJuly', 'Tot_MMBtu\\nAugust', 'Tot_MMBtu\\nSeptember',\n",
    "       'Tot_MMBtu\\nOctober', 'Tot_MMBtu\\nNovember', 'Tot_MMBtu\\nDecember']"
   ]
  },
  {
   "cell_type": "code",
   "execution_count": 30,
   "metadata": {},
   "outputs": [
    {
     "name": "stderr",
     "output_type": "stream",
     "text": [
      "C:\\Users\\Alex Child\\AppData\\Local\\Temp\\ipykernel_39220\\3169541333.py:1: SettingWithCopyWarning: \n",
      "A value is trying to be set on a copy of a slice from a DataFrame.\n",
      "Try using .loc[row_indexer,col_indexer] = value instead\n",
      "\n",
      "See the caveats in the documentation: https://pandas.pydata.org/pandas-docs/stable/user_guide/indexing.html#returning-a-view-versus-a-copy\n",
      "  rggi_or_pjm[gen_cols] = rggi_or_pjm[gen_cols].replace('.',0)\n",
      "C:\\Users\\Alex Child\\AppData\\Local\\Temp\\ipykernel_39220\\3169541333.py:2: SettingWithCopyWarning: \n",
      "A value is trying to be set on a copy of a slice from a DataFrame.\n",
      "Try using .loc[row_indexer,col_indexer] = value instead\n",
      "\n",
      "See the caveats in the documentation: https://pandas.pydata.org/pandas-docs/stable/user_guide/indexing.html#returning-a-view-versus-a-copy\n",
      "  rggi_or_pjm[fuel_cons_columns] = rggi_or_pjm[fuel_cons_columns].replace('.',0)\n",
      "C:\\Users\\Alex Child\\AppData\\Local\\Temp\\ipykernel_39220\\3169541333.py:3: SettingWithCopyWarning: \n",
      "A value is trying to be set on a copy of a slice from a DataFrame.\n",
      "Try using .loc[row_indexer,col_indexer] = value instead\n",
      "\n",
      "See the caveats in the documentation: https://pandas.pydata.org/pandas-docs/stable/user_guide/indexing.html#returning-a-view-versus-a-copy\n",
      "  rggi_or_pjm[mmbtu_cols] = rggi_or_pjm[mmbtu_cols].replace('.',0)\n"
     ]
    }
   ],
   "source": [
    "rggi_or_pjm[gen_cols] = rggi_or_pjm[gen_cols].replace('.',0)\n",
    "rggi_or_pjm[fuel_cons_columns] = rggi_or_pjm[fuel_cons_columns].replace('.',0)\n",
    "rggi_or_pjm[mmbtu_cols] = rggi_or_pjm[mmbtu_cols].replace('.',0)"
   ]
  },
  {
   "cell_type": "code",
   "execution_count": 31,
   "metadata": {},
   "outputs": [],
   "source": [
    "mmbtu_df = rggi_or_pjm.groupby(['Plant Id','Plant State','Reported\\nFuel Type Code','YEAR'])[mmbtu_cols].sum().stack().to_frame('Fuel_consumed_Mmbtu')\n",
    "mmbtu_df['month'] = [x[-1] for x in mmbtu_df.reset_index()['level_4'].str.split('\\n')]\n",
    "mmbtu_df=mmbtu_df.reset_index()\n",
    "mmbtu_df['Date'] = pd.to_datetime('01/'+mmbtu_df['month']+'/'+mmbtu_df['YEAR'].astype(str))+MonthEnd(0)\n",
    "mmbtu_df['month'] = mmbtu_df['Date'].dt.month"
   ]
  },
  {
   "cell_type": "code",
   "execution_count": 32,
   "metadata": {},
   "outputs": [
    {
     "data": {
      "text/plain": [
       "\"\\nfuel_cons_df = rggi_or_pjm.groupby(['Plant Id','Plant State','Reported\\nPrime Mover','Reported\\nFuel Type Code','Physical\\nUnit Label','YEAR'])[fuel_cons_columns].sum().stack().to_frame('Fuel_consumed_q')\\nfuel_cons_df['month'] = [x[-1] for x in fuel_cons_df.reset_index()['level_6'].str.split('\\n')]\\nfuel_cons_df=fuel_cons_df.reset_index()\\nfuel_cons_df['Date'] = pd.to_datetime('01/'+fuel_cons_df['month']+'/'+fuel_cons_df['YEAR'].astype(str))+MonthEnd(0)\\nfuel_cons_df['month'] = fuel_cons_df['Date'].dt.month\""
      ]
     },
     "execution_count": 32,
     "metadata": {},
     "output_type": "execute_result"
    }
   ],
   "source": [
    "\"\"\"\n",
    "fuel_cons_df = rggi_or_pjm.groupby(['Plant Id','Plant State','Reported\\nPrime Mover','Reported\\nFuel Type Code','Physical\\nUnit Label','YEAR'])[fuel_cons_columns].sum().stack().to_frame('Fuel_consumed_q')\n",
    "fuel_cons_df['month'] = [x[-1] for x in fuel_cons_df.reset_index()['level_6'].str.split('\\n')]\n",
    "fuel_cons_df=fuel_cons_df.reset_index()\n",
    "fuel_cons_df['Date'] = pd.to_datetime('01/'+fuel_cons_df['month']+'/'+fuel_cons_df['YEAR'].astype(str))+MonthEnd(0)\n",
    "fuel_cons_df['month'] = fuel_cons_df['Date'].dt.month\"\"\""
   ]
  },
  {
   "cell_type": "code",
   "execution_count": 33,
   "metadata": {},
   "outputs": [],
   "source": [
    "mmbtu_df = mmbtu_df.groupby(['Plant Id','Plant State','Date','Reported\\nFuel Type Code'])['Fuel_consumed_Mmbtu'].sum().unstack('Reported\\nFuel Type Code').fillna(0)#.add_suffix('_mmbtu')"
   ]
  },
  {
   "cell_type": "code",
   "execution_count": 36,
   "metadata": {},
   "outputs": [],
   "source": [
    "from EIA_emissions_factors import download_EF_from_EIA"
   ]
  },
  {
   "cell_type": "code",
   "execution_count": 37,
   "metadata": {},
   "outputs": [],
   "source": [
    "EF_df = download_EF_from_EIA(fuels_list=mmbtu_df.columns)"
   ]
  },
  {
   "cell_type": "code",
   "execution_count": 38,
   "metadata": {},
   "outputs": [
    {
     "data": {
      "text/html": [
       "<div>\n",
       "<style scoped>\n",
       "    .dataframe tbody tr th:only-of-type {\n",
       "        vertical-align: middle;\n",
       "    }\n",
       "\n",
       "    .dataframe tbody tr th {\n",
       "        vertical-align: top;\n",
       "    }\n",
       "\n",
       "    .dataframe thead th {\n",
       "        text-align: right;\n",
       "    }\n",
       "</style>\n",
       "<table border=\"1\" class=\"dataframe\">\n",
       "  <thead>\n",
       "    <tr style=\"text-align: right;\">\n",
       "      <th></th>\n",
       "      <th>KgCO2_perMmbtu</th>\n",
       "    </tr>\n",
       "    <tr>\n",
       "      <th>Reported\n",
       "Fuel Type Code</th>\n",
       "      <th></th>\n",
       "    </tr>\n",
       "  </thead>\n",
       "  <tbody>\n",
       "    <tr>\n",
       "      <th>AB</th>\n",
       "      <td>0</td>\n",
       "    </tr>\n",
       "    <tr>\n",
       "      <th>ANT</th>\n",
       "      <td>103.69</td>\n",
       "    </tr>\n",
       "    <tr>\n",
       "      <th>BFG</th>\n",
       "      <td>52.91</td>\n",
       "    </tr>\n",
       "    <tr>\n",
       "      <th>BIT</th>\n",
       "      <td>93.24</td>\n",
       "    </tr>\n",
       "    <tr>\n",
       "      <th>BLQ</th>\n",
       "      <td>0</td>\n",
       "    </tr>\n",
       "    <tr>\n",
       "      <th>DFO</th>\n",
       "      <td>74.14</td>\n",
       "    </tr>\n",
       "    <tr>\n",
       "      <th>JF</th>\n",
       "      <td>72.23</td>\n",
       "    </tr>\n",
       "    <tr>\n",
       "      <th>KER</th>\n",
       "      <td>73.19</td>\n",
       "    </tr>\n",
       "    <tr>\n",
       "      <th>LFG</th>\n",
       "      <td>0</td>\n",
       "    </tr>\n",
       "    <tr>\n",
       "      <th>LIG</th>\n",
       "      <td>98.27</td>\n",
       "    </tr>\n",
       "    <tr>\n",
       "      <th>MSB</th>\n",
       "      <td>0</td>\n",
       "    </tr>\n",
       "    <tr>\n",
       "      <th>MSN</th>\n",
       "      <td>0</td>\n",
       "    </tr>\n",
       "    <tr>\n",
       "      <th>MWH</th>\n",
       "      <td>0</td>\n",
       "    </tr>\n",
       "    <tr>\n",
       "      <th>NG</th>\n",
       "      <td>52.91</td>\n",
       "    </tr>\n",
       "    <tr>\n",
       "      <th>NUC</th>\n",
       "      <td>0</td>\n",
       "    </tr>\n",
       "    <tr>\n",
       "      <th>OBG</th>\n",
       "      <td>0</td>\n",
       "    </tr>\n",
       "    <tr>\n",
       "      <th>OBL</th>\n",
       "      <td>0</td>\n",
       "    </tr>\n",
       "    <tr>\n",
       "      <th>OBS</th>\n",
       "      <td>0</td>\n",
       "    </tr>\n",
       "    <tr>\n",
       "      <th>OG</th>\n",
       "      <td>52.91</td>\n",
       "    </tr>\n",
       "    <tr>\n",
       "      <th>OTH</th>\n",
       "      <td>0</td>\n",
       "    </tr>\n",
       "    <tr>\n",
       "      <th>PC</th>\n",
       "      <td>102.12</td>\n",
       "    </tr>\n",
       "    <tr>\n",
       "      <th>PG</th>\n",
       "      <td>62.88</td>\n",
       "    </tr>\n",
       "    <tr>\n",
       "      <th>PUR</th>\n",
       "      <td>0</td>\n",
       "    </tr>\n",
       "    <tr>\n",
       "      <th>RC</th>\n",
       "      <td>97.13</td>\n",
       "    </tr>\n",
       "    <tr>\n",
       "      <th>RFO</th>\n",
       "      <td>75.09</td>\n",
       "    </tr>\n",
       "    <tr>\n",
       "      <th>SC</th>\n",
       "      <td>97.13</td>\n",
       "    </tr>\n",
       "    <tr>\n",
       "      <th>SLW</th>\n",
       "      <td>0</td>\n",
       "    </tr>\n",
       "    <tr>\n",
       "      <th>SUB</th>\n",
       "      <td>97.13</td>\n",
       "    </tr>\n",
       "    <tr>\n",
       "      <th>SUN</th>\n",
       "      <td>0</td>\n",
       "    </tr>\n",
       "    <tr>\n",
       "      <th>TDF</th>\n",
       "      <td>85.97</td>\n",
       "    </tr>\n",
       "    <tr>\n",
       "      <th>WAT</th>\n",
       "      <td>0</td>\n",
       "    </tr>\n",
       "    <tr>\n",
       "      <th>WC</th>\n",
       "      <td>95.99</td>\n",
       "    </tr>\n",
       "    <tr>\n",
       "      <th>WDL</th>\n",
       "      <td>0</td>\n",
       "    </tr>\n",
       "    <tr>\n",
       "      <th>WDS</th>\n",
       "      <td>0</td>\n",
       "    </tr>\n",
       "    <tr>\n",
       "      <th>WH</th>\n",
       "      <td>0</td>\n",
       "    </tr>\n",
       "    <tr>\n",
       "      <th>WND</th>\n",
       "      <td>0</td>\n",
       "    </tr>\n",
       "    <tr>\n",
       "      <th>WO</th>\n",
       "      <td>74.00</td>\n",
       "    </tr>\n",
       "  </tbody>\n",
       "</table>\n",
       "</div>"
      ],
      "text/plain": [
       "                         KgCO2_perMmbtu\n",
       "Reported\\nFuel Type Code               \n",
       "AB                                    0\n",
       "ANT                              103.69\n",
       "BFG                               52.91\n",
       "BIT                               93.24\n",
       "BLQ                                   0\n",
       "DFO                               74.14\n",
       "JF                                72.23\n",
       "KER                               73.19\n",
       "LFG                                   0\n",
       "LIG                               98.27\n",
       "MSB                                   0\n",
       "MSN                                   0\n",
       "MWH                                   0\n",
       "NG                                52.91\n",
       "NUC                                   0\n",
       "OBG                                   0\n",
       "OBL                                   0\n",
       "OBS                                   0\n",
       "OG                                52.91\n",
       "OTH                                   0\n",
       "PC                               102.12\n",
       "PG                                62.88\n",
       "PUR                                   0\n",
       "RC                                97.13\n",
       "RFO                               75.09\n",
       "SC                                97.13\n",
       "SLW                                   0\n",
       "SUB                               97.13\n",
       "SUN                                   0\n",
       "TDF                               85.97\n",
       "WAT                                   0\n",
       "WC                                95.99\n",
       "WDL                                   0\n",
       "WDS                                   0\n",
       "WH                                    0\n",
       "WND                                   0\n",
       "WO                                74.00"
      ]
     },
     "execution_count": 38,
     "metadata": {},
     "output_type": "execute_result"
    }
   ],
   "source": [
    "EF_df"
   ]
  },
  {
   "cell_type": "code",
   "execution_count": 39,
   "metadata": {},
   "outputs": [],
   "source": [
    "plant_emissions = mmbtu_df.copy()\n",
    "\n",
    "for x in mmbtu_df.columns:\n",
    "    plant_emissions[x] = mmbtu_df[x]*float(EF_df.loc[x].values[0])"
   ]
  },
  {
   "cell_type": "code",
   "execution_count": 40,
   "metadata": {},
   "outputs": [],
   "source": [
    "plant_emissions = (plant_emissions/1000)* 0.9071847"
   ]
  },
  {
   "cell_type": "code",
   "execution_count": 41,
   "metadata": {},
   "outputs": [],
   "source": [
    "plant_emissions = plant_emissions.stack().to_frame('Emissions_stCO2')"
   ]
  },
  {
   "cell_type": "code",
   "execution_count": 42,
   "metadata": {},
   "outputs": [],
   "source": [
    "rggi_or_pjm = rggi_or_pjm.groupby(['Plant Id','Plant Name','Reported\\nFuel Type Code','Plant State', 'Balancing\\nAuthority Code','RGGI_state','YEAR'])[gen_cols].sum().stack().to_frame('Generation MWh')"
   ]
  },
  {
   "cell_type": "code",
   "execution_count": 44,
   "metadata": {},
   "outputs": [],
   "source": [
    "rggi_or_pjm['month'] = [x[-1] for x in rggi_or_pjm.reset_index()['level_7'].str.split('\\n')]"
   ]
  },
  {
   "cell_type": "code",
   "execution_count": 45,
   "metadata": {},
   "outputs": [],
   "source": [
    "rggi_or_pjm = rggi_or_pjm.reset_index()"
   ]
  },
  {
   "cell_type": "code",
   "execution_count": 46,
   "metadata": {},
   "outputs": [],
   "source": [
    "rggi_or_pjm['Date'] = pd.to_datetime('01/'+rggi_or_pjm['month']+'/'+rggi_or_pjm['YEAR'].astype(str),format='%d/%B/%Y')+MonthEnd(0)"
   ]
  },
  {
   "cell_type": "code",
   "execution_count": 49,
   "metadata": {},
   "outputs": [],
   "source": [
    "rggi_or_pjm['month'] = rggi_or_pjm['Date'].dt.month"
   ]
  },
  {
   "cell_type": "code",
   "execution_count": 50,
   "metadata": {},
   "outputs": [
    {
     "name": "stderr",
     "output_type": "stream",
     "text": [
      "C:\\Users\\Alex Child\\AppData\\Local\\Temp\\ipykernel_39220\\1925802119.py:1: FutureWarning: The default value of numeric_only in DataFrameGroupBy.sum is deprecated. In a future version, numeric_only will default to False. Either specify numeric_only or select only columns which should be valid for the function.\n",
      "  time_series_historical_capacity_byprime_mover = time_series_historical_capacity.reset_index().groupby(['Plant ID', 'Energy Source Code','Plant State','report_month','report_year']).sum()\n"
     ]
    }
   ],
   "source": [
    "time_series_historical_capacity_byprime_mover = time_series_historical_capacity.reset_index().groupby(['Plant ID', 'Energy Source Code','Plant State','report_month','report_year']).sum()"
   ]
  },
  {
   "cell_type": "code",
   "execution_count": 51,
   "metadata": {},
   "outputs": [],
   "source": [
    "rggi_or_pjm_capacity = rggi_or_pjm.merge(time_series_historical_capacity_byprime_mover,left_on=['Plant Id','Reported\\nFuel Type Code','Plant State','month','YEAR'],right_index=True,how='left')"
   ]
  },
  {
   "cell_type": "code",
   "execution_count": 52,
   "metadata": {},
   "outputs": [],
   "source": [
    "gap_fill = rggi_or_pjm_capacity.groupby(['Plant Id','Reported\\nFuel Type Code','YEAR'])['Nameplate Capacity (MW)'].mean().to_frame('Gap_fill_capacity_year')"
   ]
  },
  {
   "cell_type": "code",
   "execution_count": 53,
   "metadata": {},
   "outputs": [],
   "source": [
    "rggi_or_pjm_capacity = rggi_or_pjm_capacity.merge(gap_fill,left_on=['Plant Id','Reported\\nFuel Type Code','YEAR'],right_index=True,how='left')"
   ]
  },
  {
   "cell_type": "code",
   "execution_count": 54,
   "metadata": {},
   "outputs": [],
   "source": [
    "rggi_or_pjm_capacity['Nameplate Capacity (MW)'] = np.where((rggi_or_pjm_capacity['Generation MWh']>0) & (pd.isna(rggi_or_pjm_capacity['Nameplate Capacity (MW)'])),\n",
    "                                                           rggi_or_pjm_capacity['Gap_fill_capacity_year'],rggi_or_pjm_capacity['Nameplate Capacity (MW)'])\n"
   ]
  },
  {
   "cell_type": "code",
   "execution_count": 55,
   "metadata": {},
   "outputs": [],
   "source": [
    "gap_fill = rggi_or_pjm_capacity.groupby(['Plant Id','Reported\\nFuel Type Code'])['Nameplate Capacity (MW)'].mean().to_frame('Gap_fill_capacity_overall')"
   ]
  },
  {
   "cell_type": "code",
   "execution_count": 56,
   "metadata": {},
   "outputs": [],
   "source": [
    "rggi_or_pjm_capacity = rggi_or_pjm_capacity.merge(gap_fill,left_on=['Plant Id','Reported\\nFuel Type Code'],right_index=True,how='left')\n",
    "\n",
    "rggi_or_pjm_capacity['Nameplate Capacity (MW)'] = np.where((rggi_or_pjm_capacity['Generation MWh']>0) & (pd.isna(rggi_or_pjm_capacity['Nameplate Capacity (MW)'])),\n",
    "                                                           rggi_or_pjm_capacity['Gap_fill_capacity_overall'],rggi_or_pjm_capacity['Nameplate Capacity (MW)'])\n"
   ]
  },
  {
   "cell_type": "code",
   "execution_count": 57,
   "metadata": {},
   "outputs": [],
   "source": [
    "rggi_or_pjm_capacity = rggi_or_pjm_capacity.join(plant_emissions,on=['Plant Id','Plant State','Date','Reported\\nFuel Type Code'])"
   ]
  },
  {
   "cell_type": "code",
   "execution_count": 58,
   "metadata": {},
   "outputs": [],
   "source": [
    "rggi_or_pjm_capacity['PJM_tech'] = rggi_or_pjm_capacity['Reported\\nFuel Type Code'].map(PJM_tech_dict)"
   ]
  },
  {
   "cell_type": "code",
   "execution_count": 59,
   "metadata": {},
   "outputs": [],
   "source": [
    "rggi_or_pjm_capacity['Generation MWh_clipped'] = rggi_or_pjm_capacity['Generation MWh'].clip(0,9999999999999999999999999999999999)"
   ]
  },
  {
   "cell_type": "code",
   "execution_count": 93,
   "metadata": {},
   "outputs": [],
   "source": [
    "coal_dual_fuel = ((rggi_or_pjm_capacity.groupby(['Plant Id','Date','PJM_tech'])['Generation MWh_clipped'].sum().unstack('PJM_tech')[Fossil_tech].divide(rggi_or_pjm_capacity.groupby(['Plant Id','Date','PJM_tech'])['Generation MWh_clipped'].sum().unstack('PJM_tech')[Fossil_tech].sum(axis=1),axis=0)<0.9) &\n",
    "             (rggi_or_pjm_capacity.groupby(['Plant Id','Date','PJM_tech'])['Generation MWh_clipped'].sum().unstack('PJM_tech')[Fossil_tech].divide(rggi_or_pjm_capacity.groupby(['Plant Id','Date','PJM_tech'])['Generation MWh_clipped'].sum().unstack('PJM_tech')[Fossil_tech].sum(axis=1),axis=0)>0.1))['Coal']\n",
    "\n",
    "gas_dual_fuel = ((rggi_or_pjm_capacity.groupby(['Plant Id','Date','PJM_tech'])['Generation MWh_clipped'].sum().unstack('PJM_tech')[Fossil_tech].divide(rggi_or_pjm_capacity.groupby(['Plant Id','Date','PJM_tech'])['Generation MWh_clipped'].sum().unstack('PJM_tech')[Fossil_tech].sum(axis=1),axis=0)<0.9) &\n",
    "             (rggi_or_pjm_capacity.groupby(['Plant Id','Date','PJM_tech'])['Generation MWh_clipped'].sum().unstack('PJM_tech')[Fossil_tech].divide(rggi_or_pjm_capacity.groupby(['Plant Id','Date','PJM_tech'])['Generation MWh_clipped'].sum().unstack('PJM_tech')[Fossil_tech].sum(axis=1),axis=0)>0.1))['Gas']"
   ]
  },
  {
   "cell_type": "code",
   "execution_count": 113,
   "metadata": {},
   "outputs": [],
   "source": [
    "dual_fuel_df = rggi_or_pjm_capacity.groupby(['Plant Id','Date','PJM_tech'])['Generation MWh'].sum().unstack('PJM_tech')[coal_dual_fuel | gas_dual_fuel]"
   ]
  },
  {
   "cell_type": "code",
   "execution_count": 114,
   "metadata": {},
   "outputs": [],
   "source": [
    "dual_fuel_df['Dual_fuel']=1"
   ]
  },
  {
   "cell_type": "code",
   "execution_count": 117,
   "metadata": {},
   "outputs": [],
   "source": [
    "rggi_or_pjm_capacity = rggi_or_pjm_capacity.join(dual_fuel_df['Dual_fuel'],on=['Plant Id','Date'])"
   ]
  },
  {
   "cell_type": "code",
   "execution_count": 119,
   "metadata": {},
   "outputs": [],
   "source": [
    "rggi_or_pjm_capacity['PJM_tech'] = np.where(rggi_or_pjm_capacity['Dual_fuel']==1,'Multiple Fuels',rggi_or_pjm_capacity['PJM_tech'])"
   ]
  },
  {
   "cell_type": "code",
   "execution_count": 63,
   "metadata": {},
   "outputs": [
    {
     "data": {
      "application/vnd.plotly.v1+json": {
       "config": {
        "plotlyServerURL": "https://plot.ly"
       },
       "data": [
        {
         "alignmentgroup": "True",
         "hovertemplate": "RGGI_state=0<br>YEAR=%{x}<br>value=%{y}<extra></extra>",
         "legendgroup": "0",
         "marker": {
          "color": "#636efa",
          "pattern": {
           "shape": ""
          }
         },
         "name": "0",
         "offsetgroup": "0",
         "orientation": "v",
         "showlegend": true,
         "textposition": "auto",
         "type": "bar",
         "x": [
          2019,
          2020,
          2021,
          2022,
          2023,
          2024
         ],
         "xaxis": "x",
         "y": [
          243125627.9195975,
          227891101.95306775,
          255802755.1668515,
          249486366.43839702,
          224037057.8900826,
          167254277.89244062
         ],
         "yaxis": "y"
        },
        {
         "alignmentgroup": "True",
         "hovertemplate": "RGGI_state=1<br>YEAR=%{x}<br>value=%{y}<extra></extra>",
         "legendgroup": "1",
         "marker": {
          "color": "#EF553B",
          "pattern": {
           "shape": ""
          }
         },
         "name": "1",
         "offsetgroup": "1",
         "orientation": "v",
         "showlegend": true,
         "textposition": "auto",
         "type": "bar",
         "x": [
          2019,
          2020,
          2021,
          2022,
          2023,
          2024
         ],
         "xaxis": "x",
         "y": [
          68586071.8456922,
          64941581.74293194,
          68155616.51191683,
          70755733.77634135,
          67391281.07794221,
          46652007.058041915
         ],
         "yaxis": "y"
        }
       ],
       "layout": {
        "barmode": "group",
        "legend": {
         "title": {
          "text": "RGGI_state"
         },
         "tracegroupgap": 0
        },
        "margin": {
         "t": 60
        },
        "template": {
         "data": {
          "bar": [
           {
            "error_x": {
             "color": "#2a3f5f"
            },
            "error_y": {
             "color": "#2a3f5f"
            },
            "marker": {
             "line": {
              "color": "#E5ECF6",
              "width": 0.5
             },
             "pattern": {
              "fillmode": "overlay",
              "size": 10,
              "solidity": 0.2
             }
            },
            "type": "bar"
           }
          ],
          "barpolar": [
           {
            "marker": {
             "line": {
              "color": "#E5ECF6",
              "width": 0.5
             },
             "pattern": {
              "fillmode": "overlay",
              "size": 10,
              "solidity": 0.2
             }
            },
            "type": "barpolar"
           }
          ],
          "carpet": [
           {
            "aaxis": {
             "endlinecolor": "#2a3f5f",
             "gridcolor": "white",
             "linecolor": "white",
             "minorgridcolor": "white",
             "startlinecolor": "#2a3f5f"
            },
            "baxis": {
             "endlinecolor": "#2a3f5f",
             "gridcolor": "white",
             "linecolor": "white",
             "minorgridcolor": "white",
             "startlinecolor": "#2a3f5f"
            },
            "type": "carpet"
           }
          ],
          "choropleth": [
           {
            "colorbar": {
             "outlinewidth": 0,
             "ticks": ""
            },
            "type": "choropleth"
           }
          ],
          "contour": [
           {
            "colorbar": {
             "outlinewidth": 0,
             "ticks": ""
            },
            "colorscale": [
             [
              0,
              "#0d0887"
             ],
             [
              0.1111111111111111,
              "#46039f"
             ],
             [
              0.2222222222222222,
              "#7201a8"
             ],
             [
              0.3333333333333333,
              "#9c179e"
             ],
             [
              0.4444444444444444,
              "#bd3786"
             ],
             [
              0.5555555555555556,
              "#d8576b"
             ],
             [
              0.6666666666666666,
              "#ed7953"
             ],
             [
              0.7777777777777778,
              "#fb9f3a"
             ],
             [
              0.8888888888888888,
              "#fdca26"
             ],
             [
              1,
              "#f0f921"
             ]
            ],
            "type": "contour"
           }
          ],
          "contourcarpet": [
           {
            "colorbar": {
             "outlinewidth": 0,
             "ticks": ""
            },
            "type": "contourcarpet"
           }
          ],
          "heatmap": [
           {
            "colorbar": {
             "outlinewidth": 0,
             "ticks": ""
            },
            "colorscale": [
             [
              0,
              "#0d0887"
             ],
             [
              0.1111111111111111,
              "#46039f"
             ],
             [
              0.2222222222222222,
              "#7201a8"
             ],
             [
              0.3333333333333333,
              "#9c179e"
             ],
             [
              0.4444444444444444,
              "#bd3786"
             ],
             [
              0.5555555555555556,
              "#d8576b"
             ],
             [
              0.6666666666666666,
              "#ed7953"
             ],
             [
              0.7777777777777778,
              "#fb9f3a"
             ],
             [
              0.8888888888888888,
              "#fdca26"
             ],
             [
              1,
              "#f0f921"
             ]
            ],
            "type": "heatmap"
           }
          ],
          "heatmapgl": [
           {
            "colorbar": {
             "outlinewidth": 0,
             "ticks": ""
            },
            "colorscale": [
             [
              0,
              "#0d0887"
             ],
             [
              0.1111111111111111,
              "#46039f"
             ],
             [
              0.2222222222222222,
              "#7201a8"
             ],
             [
              0.3333333333333333,
              "#9c179e"
             ],
             [
              0.4444444444444444,
              "#bd3786"
             ],
             [
              0.5555555555555556,
              "#d8576b"
             ],
             [
              0.6666666666666666,
              "#ed7953"
             ],
             [
              0.7777777777777778,
              "#fb9f3a"
             ],
             [
              0.8888888888888888,
              "#fdca26"
             ],
             [
              1,
              "#f0f921"
             ]
            ],
            "type": "heatmapgl"
           }
          ],
          "histogram": [
           {
            "marker": {
             "pattern": {
              "fillmode": "overlay",
              "size": 10,
              "solidity": 0.2
             }
            },
            "type": "histogram"
           }
          ],
          "histogram2d": [
           {
            "colorbar": {
             "outlinewidth": 0,
             "ticks": ""
            },
            "colorscale": [
             [
              0,
              "#0d0887"
             ],
             [
              0.1111111111111111,
              "#46039f"
             ],
             [
              0.2222222222222222,
              "#7201a8"
             ],
             [
              0.3333333333333333,
              "#9c179e"
             ],
             [
              0.4444444444444444,
              "#bd3786"
             ],
             [
              0.5555555555555556,
              "#d8576b"
             ],
             [
              0.6666666666666666,
              "#ed7953"
             ],
             [
              0.7777777777777778,
              "#fb9f3a"
             ],
             [
              0.8888888888888888,
              "#fdca26"
             ],
             [
              1,
              "#f0f921"
             ]
            ],
            "type": "histogram2d"
           }
          ],
          "histogram2dcontour": [
           {
            "colorbar": {
             "outlinewidth": 0,
             "ticks": ""
            },
            "colorscale": [
             [
              0,
              "#0d0887"
             ],
             [
              0.1111111111111111,
              "#46039f"
             ],
             [
              0.2222222222222222,
              "#7201a8"
             ],
             [
              0.3333333333333333,
              "#9c179e"
             ],
             [
              0.4444444444444444,
              "#bd3786"
             ],
             [
              0.5555555555555556,
              "#d8576b"
             ],
             [
              0.6666666666666666,
              "#ed7953"
             ],
             [
              0.7777777777777778,
              "#fb9f3a"
             ],
             [
              0.8888888888888888,
              "#fdca26"
             ],
             [
              1,
              "#f0f921"
             ]
            ],
            "type": "histogram2dcontour"
           }
          ],
          "mesh3d": [
           {
            "colorbar": {
             "outlinewidth": 0,
             "ticks": ""
            },
            "type": "mesh3d"
           }
          ],
          "parcoords": [
           {
            "line": {
             "colorbar": {
              "outlinewidth": 0,
              "ticks": ""
             }
            },
            "type": "parcoords"
           }
          ],
          "pie": [
           {
            "automargin": true,
            "type": "pie"
           }
          ],
          "scatter": [
           {
            "fillpattern": {
             "fillmode": "overlay",
             "size": 10,
             "solidity": 0.2
            },
            "type": "scatter"
           }
          ],
          "scatter3d": [
           {
            "line": {
             "colorbar": {
              "outlinewidth": 0,
              "ticks": ""
             }
            },
            "marker": {
             "colorbar": {
              "outlinewidth": 0,
              "ticks": ""
             }
            },
            "type": "scatter3d"
           }
          ],
          "scattercarpet": [
           {
            "marker": {
             "colorbar": {
              "outlinewidth": 0,
              "ticks": ""
             }
            },
            "type": "scattercarpet"
           }
          ],
          "scattergeo": [
           {
            "marker": {
             "colorbar": {
              "outlinewidth": 0,
              "ticks": ""
             }
            },
            "type": "scattergeo"
           }
          ],
          "scattergl": [
           {
            "marker": {
             "colorbar": {
              "outlinewidth": 0,
              "ticks": ""
             }
            },
            "type": "scattergl"
           }
          ],
          "scattermapbox": [
           {
            "marker": {
             "colorbar": {
              "outlinewidth": 0,
              "ticks": ""
             }
            },
            "type": "scattermapbox"
           }
          ],
          "scatterpolar": [
           {
            "marker": {
             "colorbar": {
              "outlinewidth": 0,
              "ticks": ""
             }
            },
            "type": "scatterpolar"
           }
          ],
          "scatterpolargl": [
           {
            "marker": {
             "colorbar": {
              "outlinewidth": 0,
              "ticks": ""
             }
            },
            "type": "scatterpolargl"
           }
          ],
          "scatterternary": [
           {
            "marker": {
             "colorbar": {
              "outlinewidth": 0,
              "ticks": ""
             }
            },
            "type": "scatterternary"
           }
          ],
          "surface": [
           {
            "colorbar": {
             "outlinewidth": 0,
             "ticks": ""
            },
            "colorscale": [
             [
              0,
              "#0d0887"
             ],
             [
              0.1111111111111111,
              "#46039f"
             ],
             [
              0.2222222222222222,
              "#7201a8"
             ],
             [
              0.3333333333333333,
              "#9c179e"
             ],
             [
              0.4444444444444444,
              "#bd3786"
             ],
             [
              0.5555555555555556,
              "#d8576b"
             ],
             [
              0.6666666666666666,
              "#ed7953"
             ],
             [
              0.7777777777777778,
              "#fb9f3a"
             ],
             [
              0.8888888888888888,
              "#fdca26"
             ],
             [
              1,
              "#f0f921"
             ]
            ],
            "type": "surface"
           }
          ],
          "table": [
           {
            "cells": {
             "fill": {
              "color": "#EBF0F8"
             },
             "line": {
              "color": "white"
             }
            },
            "header": {
             "fill": {
              "color": "#C8D4E3"
             },
             "line": {
              "color": "white"
             }
            },
            "type": "table"
           }
          ]
         },
         "layout": {
          "annotationdefaults": {
           "arrowcolor": "#2a3f5f",
           "arrowhead": 0,
           "arrowwidth": 1
          },
          "autotypenumbers": "strict",
          "coloraxis": {
           "colorbar": {
            "outlinewidth": 0,
            "ticks": ""
           }
          },
          "colorscale": {
           "diverging": [
            [
             0,
             "#8e0152"
            ],
            [
             0.1,
             "#c51b7d"
            ],
            [
             0.2,
             "#de77ae"
            ],
            [
             0.3,
             "#f1b6da"
            ],
            [
             0.4,
             "#fde0ef"
            ],
            [
             0.5,
             "#f7f7f7"
            ],
            [
             0.6,
             "#e6f5d0"
            ],
            [
             0.7,
             "#b8e186"
            ],
            [
             0.8,
             "#7fbc41"
            ],
            [
             0.9,
             "#4d9221"
            ],
            [
             1,
             "#276419"
            ]
           ],
           "sequential": [
            [
             0,
             "#0d0887"
            ],
            [
             0.1111111111111111,
             "#46039f"
            ],
            [
             0.2222222222222222,
             "#7201a8"
            ],
            [
             0.3333333333333333,
             "#9c179e"
            ],
            [
             0.4444444444444444,
             "#bd3786"
            ],
            [
             0.5555555555555556,
             "#d8576b"
            ],
            [
             0.6666666666666666,
             "#ed7953"
            ],
            [
             0.7777777777777778,
             "#fb9f3a"
            ],
            [
             0.8888888888888888,
             "#fdca26"
            ],
            [
             1,
             "#f0f921"
            ]
           ],
           "sequentialminus": [
            [
             0,
             "#0d0887"
            ],
            [
             0.1111111111111111,
             "#46039f"
            ],
            [
             0.2222222222222222,
             "#7201a8"
            ],
            [
             0.3333333333333333,
             "#9c179e"
            ],
            [
             0.4444444444444444,
             "#bd3786"
            ],
            [
             0.5555555555555556,
             "#d8576b"
            ],
            [
             0.6666666666666666,
             "#ed7953"
            ],
            [
             0.7777777777777778,
             "#fb9f3a"
            ],
            [
             0.8888888888888888,
             "#fdca26"
            ],
            [
             1,
             "#f0f921"
            ]
           ]
          },
          "colorway": [
           "#636efa",
           "#EF553B",
           "#00cc96",
           "#ab63fa",
           "#FFA15A",
           "#19d3f3",
           "#FF6692",
           "#B6E880",
           "#FF97FF",
           "#FECB52"
          ],
          "font": {
           "color": "#2a3f5f"
          },
          "geo": {
           "bgcolor": "white",
           "lakecolor": "white",
           "landcolor": "#E5ECF6",
           "showlakes": true,
           "showland": true,
           "subunitcolor": "white"
          },
          "hoverlabel": {
           "align": "left"
          },
          "hovermode": "closest",
          "mapbox": {
           "style": "light"
          },
          "paper_bgcolor": "white",
          "plot_bgcolor": "#E5ECF6",
          "polar": {
           "angularaxis": {
            "gridcolor": "white",
            "linecolor": "white",
            "ticks": ""
           },
           "bgcolor": "#E5ECF6",
           "radialaxis": {
            "gridcolor": "white",
            "linecolor": "white",
            "ticks": ""
           }
          },
          "scene": {
           "xaxis": {
            "backgroundcolor": "#E5ECF6",
            "gridcolor": "white",
            "gridwidth": 2,
            "linecolor": "white",
            "showbackground": true,
            "ticks": "",
            "zerolinecolor": "white"
           },
           "yaxis": {
            "backgroundcolor": "#E5ECF6",
            "gridcolor": "white",
            "gridwidth": 2,
            "linecolor": "white",
            "showbackground": true,
            "ticks": "",
            "zerolinecolor": "white"
           },
           "zaxis": {
            "backgroundcolor": "#E5ECF6",
            "gridcolor": "white",
            "gridwidth": 2,
            "linecolor": "white",
            "showbackground": true,
            "ticks": "",
            "zerolinecolor": "white"
           }
          },
          "shapedefaults": {
           "line": {
            "color": "#2a3f5f"
           }
          },
          "ternary": {
           "aaxis": {
            "gridcolor": "white",
            "linecolor": "white",
            "ticks": ""
           },
           "baxis": {
            "gridcolor": "white",
            "linecolor": "white",
            "ticks": ""
           },
           "bgcolor": "#E5ECF6",
           "caxis": {
            "gridcolor": "white",
            "linecolor": "white",
            "ticks": ""
           }
          },
          "title": {
           "x": 0.05
          },
          "xaxis": {
           "automargin": true,
           "gridcolor": "white",
           "linecolor": "white",
           "ticks": "",
           "title": {
            "standoff": 15
           },
           "zerolinecolor": "white",
           "zerolinewidth": 2
          },
          "yaxis": {
           "automargin": true,
           "gridcolor": "white",
           "linecolor": "white",
           "ticks": "",
           "title": {
            "standoff": 15
           },
           "zerolinecolor": "white",
           "zerolinewidth": 2
          }
         }
        },
        "xaxis": {
         "anchor": "y",
         "domain": [
          0,
          1
         ],
         "title": {
          "text": "YEAR"
         }
        },
        "yaxis": {
         "anchor": "x",
         "domain": [
          0,
          1
         ],
         "title": {
          "text": "value"
         }
        }
       }
      }
     },
     "metadata": {},
     "output_type": "display_data"
    }
   ],
   "source": [
    "px.bar(rggi_or_pjm_capacity.query('`Nameplate Capacity (MW)`>25 ').groupby(['YEAR','RGGI_state'])['Emissions_stCO2'].sum().unstack('RGGI_state'),barmode='group')"
   ]
  },
  {
   "cell_type": "code",
   "execution_count": 64,
   "metadata": {},
   "outputs": [
    {
     "data": {
      "text/plain": [
       "YEAR\n",
       "2019    68.586072\n",
       "2020    64.941582\n",
       "2021    68.155617\n",
       "2022    70.755734\n",
       "2023    67.391281\n",
       "2024    46.652007\n",
       "dtype: float64"
      ]
     },
     "execution_count": 64,
     "metadata": {},
     "output_type": "execute_result"
    }
   ],
   "source": [
    "(rggi_or_pjm_capacity.query('`Nameplate Capacity (MW)`>25 and RGGI_state==1').groupby(['Plant State','YEAR','RGGI_state'])['Emissions_stCO2'].sum().unstack('YEAR')/10**6).sort_values('RGGI_state').sum()"
   ]
  },
  {
   "cell_type": "code",
   "execution_count": 65,
   "metadata": {},
   "outputs": [
    {
     "data": {
      "application/vnd.plotly.v1+json": {
       "config": {
        "plotlyServerURL": "https://plot.ly"
       },
       "data": [
        {
         "alignmentgroup": "True",
         "hovertemplate": "variable=0<br>YEAR=%{x}<br>value=%{y}<extra></extra>",
         "legendgroup": "0",
         "marker": {
          "color": "#636efa",
          "pattern": {
           "shape": ""
          }
         },
         "name": "0",
         "offsetgroup": "0",
         "orientation": "v",
         "showlegend": true,
         "textposition": "auto",
         "type": "bar",
         "x": [
          2019,
          2020,
          2021,
          2022,
          2023,
          2024
         ],
         "xaxis": "x",
         "y": [
          784202.5944800305,
          348936.71720063296,
          830245.2264290765,
          700067.908076141,
          383877.07582715736,
          542382.9010307988
         ],
         "yaxis": "y"
        }
       ],
       "layout": {
        "barmode": "relative",
        "legend": {
         "title": {
          "text": "variable"
         },
         "tracegroupgap": 0
        },
        "margin": {
         "t": 60
        },
        "template": {
         "data": {
          "bar": [
           {
            "error_x": {
             "color": "#2a3f5f"
            },
            "error_y": {
             "color": "#2a3f5f"
            },
            "marker": {
             "line": {
              "color": "#E5ECF6",
              "width": 0.5
             },
             "pattern": {
              "fillmode": "overlay",
              "size": 10,
              "solidity": 0.2
             }
            },
            "type": "bar"
           }
          ],
          "barpolar": [
           {
            "marker": {
             "line": {
              "color": "#E5ECF6",
              "width": 0.5
             },
             "pattern": {
              "fillmode": "overlay",
              "size": 10,
              "solidity": 0.2
             }
            },
            "type": "barpolar"
           }
          ],
          "carpet": [
           {
            "aaxis": {
             "endlinecolor": "#2a3f5f",
             "gridcolor": "white",
             "linecolor": "white",
             "minorgridcolor": "white",
             "startlinecolor": "#2a3f5f"
            },
            "baxis": {
             "endlinecolor": "#2a3f5f",
             "gridcolor": "white",
             "linecolor": "white",
             "minorgridcolor": "white",
             "startlinecolor": "#2a3f5f"
            },
            "type": "carpet"
           }
          ],
          "choropleth": [
           {
            "colorbar": {
             "outlinewidth": 0,
             "ticks": ""
            },
            "type": "choropleth"
           }
          ],
          "contour": [
           {
            "colorbar": {
             "outlinewidth": 0,
             "ticks": ""
            },
            "colorscale": [
             [
              0,
              "#0d0887"
             ],
             [
              0.1111111111111111,
              "#46039f"
             ],
             [
              0.2222222222222222,
              "#7201a8"
             ],
             [
              0.3333333333333333,
              "#9c179e"
             ],
             [
              0.4444444444444444,
              "#bd3786"
             ],
             [
              0.5555555555555556,
              "#d8576b"
             ],
             [
              0.6666666666666666,
              "#ed7953"
             ],
             [
              0.7777777777777778,
              "#fb9f3a"
             ],
             [
              0.8888888888888888,
              "#fdca26"
             ],
             [
              1,
              "#f0f921"
             ]
            ],
            "type": "contour"
           }
          ],
          "contourcarpet": [
           {
            "colorbar": {
             "outlinewidth": 0,
             "ticks": ""
            },
            "type": "contourcarpet"
           }
          ],
          "heatmap": [
           {
            "colorbar": {
             "outlinewidth": 0,
             "ticks": ""
            },
            "colorscale": [
             [
              0,
              "#0d0887"
             ],
             [
              0.1111111111111111,
              "#46039f"
             ],
             [
              0.2222222222222222,
              "#7201a8"
             ],
             [
              0.3333333333333333,
              "#9c179e"
             ],
             [
              0.4444444444444444,
              "#bd3786"
             ],
             [
              0.5555555555555556,
              "#d8576b"
             ],
             [
              0.6666666666666666,
              "#ed7953"
             ],
             [
              0.7777777777777778,
              "#fb9f3a"
             ],
             [
              0.8888888888888888,
              "#fdca26"
             ],
             [
              1,
              "#f0f921"
             ]
            ],
            "type": "heatmap"
           }
          ],
          "heatmapgl": [
           {
            "colorbar": {
             "outlinewidth": 0,
             "ticks": ""
            },
            "colorscale": [
             [
              0,
              "#0d0887"
             ],
             [
              0.1111111111111111,
              "#46039f"
             ],
             [
              0.2222222222222222,
              "#7201a8"
             ],
             [
              0.3333333333333333,
              "#9c179e"
             ],
             [
              0.4444444444444444,
              "#bd3786"
             ],
             [
              0.5555555555555556,
              "#d8576b"
             ],
             [
              0.6666666666666666,
              "#ed7953"
             ],
             [
              0.7777777777777778,
              "#fb9f3a"
             ],
             [
              0.8888888888888888,
              "#fdca26"
             ],
             [
              1,
              "#f0f921"
             ]
            ],
            "type": "heatmapgl"
           }
          ],
          "histogram": [
           {
            "marker": {
             "pattern": {
              "fillmode": "overlay",
              "size": 10,
              "solidity": 0.2
             }
            },
            "type": "histogram"
           }
          ],
          "histogram2d": [
           {
            "colorbar": {
             "outlinewidth": 0,
             "ticks": ""
            },
            "colorscale": [
             [
              0,
              "#0d0887"
             ],
             [
              0.1111111111111111,
              "#46039f"
             ],
             [
              0.2222222222222222,
              "#7201a8"
             ],
             [
              0.3333333333333333,
              "#9c179e"
             ],
             [
              0.4444444444444444,
              "#bd3786"
             ],
             [
              0.5555555555555556,
              "#d8576b"
             ],
             [
              0.6666666666666666,
              "#ed7953"
             ],
             [
              0.7777777777777778,
              "#fb9f3a"
             ],
             [
              0.8888888888888888,
              "#fdca26"
             ],
             [
              1,
              "#f0f921"
             ]
            ],
            "type": "histogram2d"
           }
          ],
          "histogram2dcontour": [
           {
            "colorbar": {
             "outlinewidth": 0,
             "ticks": ""
            },
            "colorscale": [
             [
              0,
              "#0d0887"
             ],
             [
              0.1111111111111111,
              "#46039f"
             ],
             [
              0.2222222222222222,
              "#7201a8"
             ],
             [
              0.3333333333333333,
              "#9c179e"
             ],
             [
              0.4444444444444444,
              "#bd3786"
             ],
             [
              0.5555555555555556,
              "#d8576b"
             ],
             [
              0.6666666666666666,
              "#ed7953"
             ],
             [
              0.7777777777777778,
              "#fb9f3a"
             ],
             [
              0.8888888888888888,
              "#fdca26"
             ],
             [
              1,
              "#f0f921"
             ]
            ],
            "type": "histogram2dcontour"
           }
          ],
          "mesh3d": [
           {
            "colorbar": {
             "outlinewidth": 0,
             "ticks": ""
            },
            "type": "mesh3d"
           }
          ],
          "parcoords": [
           {
            "line": {
             "colorbar": {
              "outlinewidth": 0,
              "ticks": ""
             }
            },
            "type": "parcoords"
           }
          ],
          "pie": [
           {
            "automargin": true,
            "type": "pie"
           }
          ],
          "scatter": [
           {
            "fillpattern": {
             "fillmode": "overlay",
             "size": 10,
             "solidity": 0.2
            },
            "type": "scatter"
           }
          ],
          "scatter3d": [
           {
            "line": {
             "colorbar": {
              "outlinewidth": 0,
              "ticks": ""
             }
            },
            "marker": {
             "colorbar": {
              "outlinewidth": 0,
              "ticks": ""
             }
            },
            "type": "scatter3d"
           }
          ],
          "scattercarpet": [
           {
            "marker": {
             "colorbar": {
              "outlinewidth": 0,
              "ticks": ""
             }
            },
            "type": "scattercarpet"
           }
          ],
          "scattergeo": [
           {
            "marker": {
             "colorbar": {
              "outlinewidth": 0,
              "ticks": ""
             }
            },
            "type": "scattergeo"
           }
          ],
          "scattergl": [
           {
            "marker": {
             "colorbar": {
              "outlinewidth": 0,
              "ticks": ""
             }
            },
            "type": "scattergl"
           }
          ],
          "scattermapbox": [
           {
            "marker": {
             "colorbar": {
              "outlinewidth": 0,
              "ticks": ""
             }
            },
            "type": "scattermapbox"
           }
          ],
          "scatterpolar": [
           {
            "marker": {
             "colorbar": {
              "outlinewidth": 0,
              "ticks": ""
             }
            },
            "type": "scatterpolar"
           }
          ],
          "scatterpolargl": [
           {
            "marker": {
             "colorbar": {
              "outlinewidth": 0,
              "ticks": ""
             }
            },
            "type": "scatterpolargl"
           }
          ],
          "scatterternary": [
           {
            "marker": {
             "colorbar": {
              "outlinewidth": 0,
              "ticks": ""
             }
            },
            "type": "scatterternary"
           }
          ],
          "surface": [
           {
            "colorbar": {
             "outlinewidth": 0,
             "ticks": ""
            },
            "colorscale": [
             [
              0,
              "#0d0887"
             ],
             [
              0.1111111111111111,
              "#46039f"
             ],
             [
              0.2222222222222222,
              "#7201a8"
             ],
             [
              0.3333333333333333,
              "#9c179e"
             ],
             [
              0.4444444444444444,
              "#bd3786"
             ],
             [
              0.5555555555555556,
              "#d8576b"
             ],
             [
              0.6666666666666666,
              "#ed7953"
             ],
             [
              0.7777777777777778,
              "#fb9f3a"
             ],
             [
              0.8888888888888888,
              "#fdca26"
             ],
             [
              1,
              "#f0f921"
             ]
            ],
            "type": "surface"
           }
          ],
          "table": [
           {
            "cells": {
             "fill": {
              "color": "#EBF0F8"
             },
             "line": {
              "color": "white"
             }
            },
            "header": {
             "fill": {
              "color": "#C8D4E3"
             },
             "line": {
              "color": "white"
             }
            },
            "type": "table"
           }
          ]
         },
         "layout": {
          "annotationdefaults": {
           "arrowcolor": "#2a3f5f",
           "arrowhead": 0,
           "arrowwidth": 1
          },
          "autotypenumbers": "strict",
          "coloraxis": {
           "colorbar": {
            "outlinewidth": 0,
            "ticks": ""
           }
          },
          "colorscale": {
           "diverging": [
            [
             0,
             "#8e0152"
            ],
            [
             0.1,
             "#c51b7d"
            ],
            [
             0.2,
             "#de77ae"
            ],
            [
             0.3,
             "#f1b6da"
            ],
            [
             0.4,
             "#fde0ef"
            ],
            [
             0.5,
             "#f7f7f7"
            ],
            [
             0.6,
             "#e6f5d0"
            ],
            [
             0.7,
             "#b8e186"
            ],
            [
             0.8,
             "#7fbc41"
            ],
            [
             0.9,
             "#4d9221"
            ],
            [
             1,
             "#276419"
            ]
           ],
           "sequential": [
            [
             0,
             "#0d0887"
            ],
            [
             0.1111111111111111,
             "#46039f"
            ],
            [
             0.2222222222222222,
             "#7201a8"
            ],
            [
             0.3333333333333333,
             "#9c179e"
            ],
            [
             0.4444444444444444,
             "#bd3786"
            ],
            [
             0.5555555555555556,
             "#d8576b"
            ],
            [
             0.6666666666666666,
             "#ed7953"
            ],
            [
             0.7777777777777778,
             "#fb9f3a"
            ],
            [
             0.8888888888888888,
             "#fdca26"
            ],
            [
             1,
             "#f0f921"
            ]
           ],
           "sequentialminus": [
            [
             0,
             "#0d0887"
            ],
            [
             0.1111111111111111,
             "#46039f"
            ],
            [
             0.2222222222222222,
             "#7201a8"
            ],
            [
             0.3333333333333333,
             "#9c179e"
            ],
            [
             0.4444444444444444,
             "#bd3786"
            ],
            [
             0.5555555555555556,
             "#d8576b"
            ],
            [
             0.6666666666666666,
             "#ed7953"
            ],
            [
             0.7777777777777778,
             "#fb9f3a"
            ],
            [
             0.8888888888888888,
             "#fdca26"
            ],
            [
             1,
             "#f0f921"
            ]
           ]
          },
          "colorway": [
           "#636efa",
           "#EF553B",
           "#00cc96",
           "#ab63fa",
           "#FFA15A",
           "#19d3f3",
           "#FF6692",
           "#B6E880",
           "#FF97FF",
           "#FECB52"
          ],
          "font": {
           "color": "#2a3f5f"
          },
          "geo": {
           "bgcolor": "white",
           "lakecolor": "white",
           "landcolor": "#E5ECF6",
           "showlakes": true,
           "showland": true,
           "subunitcolor": "white"
          },
          "hoverlabel": {
           "align": "left"
          },
          "hovermode": "closest",
          "mapbox": {
           "style": "light"
          },
          "paper_bgcolor": "white",
          "plot_bgcolor": "#E5ECF6",
          "polar": {
           "angularaxis": {
            "gridcolor": "white",
            "linecolor": "white",
            "ticks": ""
           },
           "bgcolor": "#E5ECF6",
           "radialaxis": {
            "gridcolor": "white",
            "linecolor": "white",
            "ticks": ""
           }
          },
          "scene": {
           "xaxis": {
            "backgroundcolor": "#E5ECF6",
            "gridcolor": "white",
            "gridwidth": 2,
            "linecolor": "white",
            "showbackground": true,
            "ticks": "",
            "zerolinecolor": "white"
           },
           "yaxis": {
            "backgroundcolor": "#E5ECF6",
            "gridcolor": "white",
            "gridwidth": 2,
            "linecolor": "white",
            "showbackground": true,
            "ticks": "",
            "zerolinecolor": "white"
           },
           "zaxis": {
            "backgroundcolor": "#E5ECF6",
            "gridcolor": "white",
            "gridwidth": 2,
            "linecolor": "white",
            "showbackground": true,
            "ticks": "",
            "zerolinecolor": "white"
           }
          },
          "shapedefaults": {
           "line": {
            "color": "#2a3f5f"
           }
          },
          "ternary": {
           "aaxis": {
            "gridcolor": "white",
            "linecolor": "white",
            "ticks": ""
           },
           "baxis": {
            "gridcolor": "white",
            "linecolor": "white",
            "ticks": ""
           },
           "bgcolor": "#E5ECF6",
           "caxis": {
            "gridcolor": "white",
            "linecolor": "white",
            "ticks": ""
           }
          },
          "title": {
           "x": 0.05
          },
          "xaxis": {
           "automargin": true,
           "gridcolor": "white",
           "linecolor": "white",
           "ticks": "",
           "title": {
            "standoff": 15
           },
           "zerolinecolor": "white",
           "zerolinewidth": 2
          },
          "yaxis": {
           "automargin": true,
           "gridcolor": "white",
           "linecolor": "white",
           "ticks": "",
           "title": {
            "standoff": 15
           },
           "zerolinecolor": "white",
           "zerolinewidth": 2
          }
         }
        },
        "xaxis": {
         "anchor": "y",
         "domain": [
          0,
          1
         ],
         "title": {
          "text": "YEAR"
         }
        },
        "yaxis": {
         "anchor": "x",
         "domain": [
          0,
          1
         ],
         "title": {
          "text": "value"
         }
        }
       }
      }
     },
     "metadata": {},
     "output_type": "display_data"
    }
   ],
   "source": [
    "px.bar(rggi_or_pjm_capacity.query('`Plant Name`==\"Brandon Shores\"').pivot_table(index='YEAR',columns='month',values='Emissions_stCO2').sum(axis=1))"
   ]
  },
  {
   "cell_type": "code",
   "execution_count": 66,
   "metadata": {},
   "outputs": [
    {
     "data": {
      "text/html": [
       "<div>\n",
       "<style scoped>\n",
       "    .dataframe tbody tr th:only-of-type {\n",
       "        vertical-align: middle;\n",
       "    }\n",
       "\n",
       "    .dataframe tbody tr th {\n",
       "        vertical-align: top;\n",
       "    }\n",
       "\n",
       "    .dataframe thead th {\n",
       "        text-align: right;\n",
       "    }\n",
       "</style>\n",
       "<table border=\"1\" class=\"dataframe\">\n",
       "  <thead>\n",
       "    <tr style=\"text-align: right;\">\n",
       "      <th></th>\n",
       "      <th>Plant Id</th>\n",
       "      <th>Plant Name</th>\n",
       "      <th>Reported\\nFuel Type Code</th>\n",
       "      <th>Plant State</th>\n",
       "      <th>Balancing\\nAuthority Code</th>\n",
       "      <th>RGGI_state</th>\n",
       "      <th>YEAR</th>\n",
       "      <th>level_7</th>\n",
       "      <th>Generation MWh</th>\n",
       "      <th>month</th>\n",
       "      <th>Date</th>\n",
       "      <th>Nameplate Capacity (MW)</th>\n",
       "      <th>Gap_fill_capacity_year</th>\n",
       "      <th>Gap_fill_capacity_overall</th>\n",
       "      <th>Emissions_stCO2</th>\n",
       "      <th>PJM_tech</th>\n",
       "      <th>Generation MWh_clipped</th>\n",
       "    </tr>\n",
       "  </thead>\n",
       "  <tbody>\n",
       "    <tr>\n",
       "      <th>0</th>\n",
       "      <td>54</td>\n",
       "      <td>J K Smith</td>\n",
       "      <td>BIT</td>\n",
       "      <td>KY</td>\n",
       "      <td>PJM</td>\n",
       "      <td>0</td>\n",
       "      <td>2020</td>\n",
       "      <td>Netgen\\nJanuary</td>\n",
       "      <td>0.000</td>\n",
       "      <td>1</td>\n",
       "      <td>2020-01-31</td>\n",
       "      <td>NaN</td>\n",
       "      <td>NaN</td>\n",
       "      <td>NaN</td>\n",
       "      <td>0.0</td>\n",
       "      <td>Coal</td>\n",
       "      <td>0.000</td>\n",
       "    </tr>\n",
       "    <tr>\n",
       "      <th>1</th>\n",
       "      <td>54</td>\n",
       "      <td>J K Smith</td>\n",
       "      <td>BIT</td>\n",
       "      <td>KY</td>\n",
       "      <td>PJM</td>\n",
       "      <td>0</td>\n",
       "      <td>2020</td>\n",
       "      <td>Netgen\\nFebruary</td>\n",
       "      <td>0.000</td>\n",
       "      <td>2</td>\n",
       "      <td>2020-02-29</td>\n",
       "      <td>NaN</td>\n",
       "      <td>NaN</td>\n",
       "      <td>NaN</td>\n",
       "      <td>0.0</td>\n",
       "      <td>Coal</td>\n",
       "      <td>0.000</td>\n",
       "    </tr>\n",
       "    <tr>\n",
       "      <th>2</th>\n",
       "      <td>54</td>\n",
       "      <td>J K Smith</td>\n",
       "      <td>BIT</td>\n",
       "      <td>KY</td>\n",
       "      <td>PJM</td>\n",
       "      <td>0</td>\n",
       "      <td>2020</td>\n",
       "      <td>Netgen\\nMarch</td>\n",
       "      <td>0.000</td>\n",
       "      <td>3</td>\n",
       "      <td>2020-03-31</td>\n",
       "      <td>NaN</td>\n",
       "      <td>NaN</td>\n",
       "      <td>NaN</td>\n",
       "      <td>0.0</td>\n",
       "      <td>Coal</td>\n",
       "      <td>0.000</td>\n",
       "    </tr>\n",
       "    <tr>\n",
       "      <th>3</th>\n",
       "      <td>54</td>\n",
       "      <td>J K Smith</td>\n",
       "      <td>BIT</td>\n",
       "      <td>KY</td>\n",
       "      <td>PJM</td>\n",
       "      <td>0</td>\n",
       "      <td>2020</td>\n",
       "      <td>Netgen\\nApril</td>\n",
       "      <td>0.000</td>\n",
       "      <td>4</td>\n",
       "      <td>2020-04-30</td>\n",
       "      <td>NaN</td>\n",
       "      <td>NaN</td>\n",
       "      <td>NaN</td>\n",
       "      <td>0.0</td>\n",
       "      <td>Coal</td>\n",
       "      <td>0.000</td>\n",
       "    </tr>\n",
       "    <tr>\n",
       "      <th>4</th>\n",
       "      <td>54</td>\n",
       "      <td>J K Smith</td>\n",
       "      <td>BIT</td>\n",
       "      <td>KY</td>\n",
       "      <td>PJM</td>\n",
       "      <td>0</td>\n",
       "      <td>2020</td>\n",
       "      <td>Netgen\\nMay</td>\n",
       "      <td>0.000</td>\n",
       "      <td>5</td>\n",
       "      <td>2020-05-31</td>\n",
       "      <td>NaN</td>\n",
       "      <td>NaN</td>\n",
       "      <td>NaN</td>\n",
       "      <td>0.0</td>\n",
       "      <td>Coal</td>\n",
       "      <td>0.000</td>\n",
       "    </tr>\n",
       "    <tr>\n",
       "      <th>...</th>\n",
       "      <td>...</td>\n",
       "      <td>...</td>\n",
       "      <td>...</td>\n",
       "      <td>...</td>\n",
       "      <td>...</td>\n",
       "      <td>...</td>\n",
       "      <td>...</td>\n",
       "      <td>...</td>\n",
       "      <td>...</td>\n",
       "      <td>...</td>\n",
       "      <td>...</td>\n",
       "      <td>...</td>\n",
       "      <td>...</td>\n",
       "      <td>...</td>\n",
       "      <td>...</td>\n",
       "      <td>...</td>\n",
       "      <td>...</td>\n",
       "    </tr>\n",
       "    <tr>\n",
       "      <th>268903</th>\n",
       "      <td>99999</td>\n",
       "      <td>State-Fuel Level Increment</td>\n",
       "      <td>WND</td>\n",
       "      <td>RI</td>\n",
       "      <td>State-Fuel Level Increment</td>\n",
       "      <td>1</td>\n",
       "      <td>2024</td>\n",
       "      <td>Netgen\\nAugust</td>\n",
       "      <td>2886.634</td>\n",
       "      <td>8</td>\n",
       "      <td>2024-08-31</td>\n",
       "      <td>NaN</td>\n",
       "      <td>NaN</td>\n",
       "      <td>NaN</td>\n",
       "      <td>0.0</td>\n",
       "      <td>Wind</td>\n",
       "      <td>2886.634</td>\n",
       "    </tr>\n",
       "    <tr>\n",
       "      <th>268904</th>\n",
       "      <td>99999</td>\n",
       "      <td>State-Fuel Level Increment</td>\n",
       "      <td>WND</td>\n",
       "      <td>RI</td>\n",
       "      <td>State-Fuel Level Increment</td>\n",
       "      <td>1</td>\n",
       "      <td>2024</td>\n",
       "      <td>Netgen\\nSeptember</td>\n",
       "      <td>3108.214</td>\n",
       "      <td>9</td>\n",
       "      <td>2024-09-30</td>\n",
       "      <td>NaN</td>\n",
       "      <td>NaN</td>\n",
       "      <td>NaN</td>\n",
       "      <td>0.0</td>\n",
       "      <td>Wind</td>\n",
       "      <td>3108.214</td>\n",
       "    </tr>\n",
       "    <tr>\n",
       "      <th>268905</th>\n",
       "      <td>99999</td>\n",
       "      <td>State-Fuel Level Increment</td>\n",
       "      <td>WND</td>\n",
       "      <td>RI</td>\n",
       "      <td>State-Fuel Level Increment</td>\n",
       "      <td>1</td>\n",
       "      <td>2024</td>\n",
       "      <td>Netgen\\nOctober</td>\n",
       "      <td>0.000</td>\n",
       "      <td>10</td>\n",
       "      <td>2024-10-31</td>\n",
       "      <td>NaN</td>\n",
       "      <td>NaN</td>\n",
       "      <td>NaN</td>\n",
       "      <td>0.0</td>\n",
       "      <td>Wind</td>\n",
       "      <td>0.000</td>\n",
       "    </tr>\n",
       "    <tr>\n",
       "      <th>268906</th>\n",
       "      <td>99999</td>\n",
       "      <td>State-Fuel Level Increment</td>\n",
       "      <td>WND</td>\n",
       "      <td>RI</td>\n",
       "      <td>State-Fuel Level Increment</td>\n",
       "      <td>1</td>\n",
       "      <td>2024</td>\n",
       "      <td>Netgen\\nNovember</td>\n",
       "      <td>0.000</td>\n",
       "      <td>11</td>\n",
       "      <td>2024-11-30</td>\n",
       "      <td>NaN</td>\n",
       "      <td>NaN</td>\n",
       "      <td>NaN</td>\n",
       "      <td>0.0</td>\n",
       "      <td>Wind</td>\n",
       "      <td>0.000</td>\n",
       "    </tr>\n",
       "    <tr>\n",
       "      <th>268907</th>\n",
       "      <td>99999</td>\n",
       "      <td>State-Fuel Level Increment</td>\n",
       "      <td>WND</td>\n",
       "      <td>RI</td>\n",
       "      <td>State-Fuel Level Increment</td>\n",
       "      <td>1</td>\n",
       "      <td>2024</td>\n",
       "      <td>Netgen\\nDecember</td>\n",
       "      <td>0.000</td>\n",
       "      <td>12</td>\n",
       "      <td>2024-12-31</td>\n",
       "      <td>NaN</td>\n",
       "      <td>NaN</td>\n",
       "      <td>NaN</td>\n",
       "      <td>0.0</td>\n",
       "      <td>Wind</td>\n",
       "      <td>0.000</td>\n",
       "    </tr>\n",
       "  </tbody>\n",
       "</table>\n",
       "<p>268908 rows × 17 columns</p>\n",
       "</div>"
      ],
      "text/plain": [
       "        Plant Id                  Plant Name Reported\\nFuel Type Code  \\\n",
       "0             54                   J K Smith                      BIT   \n",
       "1             54                   J K Smith                      BIT   \n",
       "2             54                   J K Smith                      BIT   \n",
       "3             54                   J K Smith                      BIT   \n",
       "4             54                   J K Smith                      BIT   \n",
       "...          ...                         ...                      ...   \n",
       "268903     99999  State-Fuel Level Increment                      WND   \n",
       "268904     99999  State-Fuel Level Increment                      WND   \n",
       "268905     99999  State-Fuel Level Increment                      WND   \n",
       "268906     99999  State-Fuel Level Increment                      WND   \n",
       "268907     99999  State-Fuel Level Increment                      WND   \n",
       "\n",
       "       Plant State   Balancing\\nAuthority Code  RGGI_state  YEAR  \\\n",
       "0               KY                         PJM           0  2020   \n",
       "1               KY                         PJM           0  2020   \n",
       "2               KY                         PJM           0  2020   \n",
       "3               KY                         PJM           0  2020   \n",
       "4               KY                         PJM           0  2020   \n",
       "...            ...                         ...         ...   ...   \n",
       "268903          RI  State-Fuel Level Increment           1  2024   \n",
       "268904          RI  State-Fuel Level Increment           1  2024   \n",
       "268905          RI  State-Fuel Level Increment           1  2024   \n",
       "268906          RI  State-Fuel Level Increment           1  2024   \n",
       "268907          RI  State-Fuel Level Increment           1  2024   \n",
       "\n",
       "                  level_7  Generation MWh  month       Date  \\\n",
       "0         Netgen\\nJanuary           0.000      1 2020-01-31   \n",
       "1        Netgen\\nFebruary           0.000      2 2020-02-29   \n",
       "2           Netgen\\nMarch           0.000      3 2020-03-31   \n",
       "3           Netgen\\nApril           0.000      4 2020-04-30   \n",
       "4             Netgen\\nMay           0.000      5 2020-05-31   \n",
       "...                   ...             ...    ...        ...   \n",
       "268903     Netgen\\nAugust        2886.634      8 2024-08-31   \n",
       "268904  Netgen\\nSeptember        3108.214      9 2024-09-30   \n",
       "268905    Netgen\\nOctober           0.000     10 2024-10-31   \n",
       "268906   Netgen\\nNovember           0.000     11 2024-11-30   \n",
       "268907   Netgen\\nDecember           0.000     12 2024-12-31   \n",
       "\n",
       "        Nameplate Capacity (MW)  Gap_fill_capacity_year  \\\n",
       "0                           NaN                     NaN   \n",
       "1                           NaN                     NaN   \n",
       "2                           NaN                     NaN   \n",
       "3                           NaN                     NaN   \n",
       "4                           NaN                     NaN   \n",
       "...                         ...                     ...   \n",
       "268903                      NaN                     NaN   \n",
       "268904                      NaN                     NaN   \n",
       "268905                      NaN                     NaN   \n",
       "268906                      NaN                     NaN   \n",
       "268907                      NaN                     NaN   \n",
       "\n",
       "        Gap_fill_capacity_overall  Emissions_stCO2 PJM_tech  \\\n",
       "0                             NaN              0.0     Coal   \n",
       "1                             NaN              0.0     Coal   \n",
       "2                             NaN              0.0     Coal   \n",
       "3                             NaN              0.0     Coal   \n",
       "4                             NaN              0.0     Coal   \n",
       "...                           ...              ...      ...   \n",
       "268903                        NaN              0.0     Wind   \n",
       "268904                        NaN              0.0     Wind   \n",
       "268905                        NaN              0.0     Wind   \n",
       "268906                        NaN              0.0     Wind   \n",
       "268907                        NaN              0.0     Wind   \n",
       "\n",
       "        Generation MWh_clipped  \n",
       "0                        0.000  \n",
       "1                        0.000  \n",
       "2                        0.000  \n",
       "3                        0.000  \n",
       "4                        0.000  \n",
       "...                        ...  \n",
       "268903                2886.634  \n",
       "268904                3108.214  \n",
       "268905                   0.000  \n",
       "268906                   0.000  \n",
       "268907                   0.000  \n",
       "\n",
       "[268908 rows x 17 columns]"
      ]
     },
     "execution_count": 66,
     "metadata": {},
     "output_type": "execute_result"
    }
   ],
   "source": [
    "rggi_or_pjm_capacity"
   ]
  },
  {
   "cell_type": "code",
   "execution_count": 67,
   "metadata": {},
   "outputs": [
    {
     "data": {
      "text/html": [
       "<div>\n",
       "<style scoped>\n",
       "    .dataframe tbody tr th:only-of-type {\n",
       "        vertical-align: middle;\n",
       "    }\n",
       "\n",
       "    .dataframe tbody tr th {\n",
       "        vertical-align: top;\n",
       "    }\n",
       "\n",
       "    .dataframe thead th {\n",
       "        text-align: right;\n",
       "    }\n",
       "</style>\n",
       "<table border=\"1\" class=\"dataframe\">\n",
       "  <thead>\n",
       "    <tr style=\"text-align: right;\">\n",
       "      <th></th>\n",
       "      <th>index</th>\n",
       "      <th>Plant Id</th>\n",
       "      <th>Plant Name</th>\n",
       "      <th>Reported\\nFuel Type Code</th>\n",
       "      <th>Plant State</th>\n",
       "      <th>Balancing\\nAuthority Code</th>\n",
       "      <th>RGGI_state</th>\n",
       "      <th>YEAR</th>\n",
       "      <th>level_7</th>\n",
       "      <th>Generation MWh</th>\n",
       "      <th>month</th>\n",
       "      <th>Date</th>\n",
       "      <th>Nameplate Capacity (MW)</th>\n",
       "      <th>Gap_fill_capacity_year</th>\n",
       "      <th>Gap_fill_capacity_overall</th>\n",
       "      <th>Emissions_stCO2</th>\n",
       "      <th>PJM_tech</th>\n",
       "      <th>Generation MWh_clipped</th>\n",
       "    </tr>\n",
       "  </thead>\n",
       "  <tbody>\n",
       "    <tr>\n",
       "      <th>8748</th>\n",
       "      <td>8748</td>\n",
       "      <td>1556</td>\n",
       "      <td>Perryman</td>\n",
       "      <td>DFO</td>\n",
       "      <td>MD</td>\n",
       "      <td>PJM</td>\n",
       "      <td>1</td>\n",
       "      <td>2019</td>\n",
       "      <td>Netgen\\nJanuary</td>\n",
       "      <td>2340.266</td>\n",
       "      <td>1</td>\n",
       "      <td>2019-01-31</td>\n",
       "      <td>159.3</td>\n",
       "      <td>159.3</td>\n",
       "      <td>159.3</td>\n",
       "      <td>1557.643623</td>\n",
       "      <td>Oil</td>\n",
       "      <td>2340.266</td>\n",
       "    </tr>\n",
       "    <tr>\n",
       "      <th>8749</th>\n",
       "      <td>8749</td>\n",
       "      <td>1556</td>\n",
       "      <td>Perryman</td>\n",
       "      <td>DFO</td>\n",
       "      <td>MD</td>\n",
       "      <td>PJM</td>\n",
       "      <td>1</td>\n",
       "      <td>2019</td>\n",
       "      <td>Netgen\\nFebruary</td>\n",
       "      <td>5087.871</td>\n",
       "      <td>2</td>\n",
       "      <td>2019-02-28</td>\n",
       "      <td>159.3</td>\n",
       "      <td>159.3</td>\n",
       "      <td>159.3</td>\n",
       "      <td>3760.970514</td>\n",
       "      <td>Oil</td>\n",
       "      <td>5087.871</td>\n",
       "    </tr>\n",
       "    <tr>\n",
       "      <th>8750</th>\n",
       "      <td>8750</td>\n",
       "      <td>1556</td>\n",
       "      <td>Perryman</td>\n",
       "      <td>DFO</td>\n",
       "      <td>MD</td>\n",
       "      <td>PJM</td>\n",
       "      <td>1</td>\n",
       "      <td>2019</td>\n",
       "      <td>Netgen\\nMarch</td>\n",
       "      <td>1729.526</td>\n",
       "      <td>3</td>\n",
       "      <td>2019-03-31</td>\n",
       "      <td>159.3</td>\n",
       "      <td>159.3</td>\n",
       "      <td>159.3</td>\n",
       "      <td>1623.557123</td>\n",
       "      <td>Oil</td>\n",
       "      <td>1729.526</td>\n",
       "    </tr>\n",
       "    <tr>\n",
       "      <th>8751</th>\n",
       "      <td>8751</td>\n",
       "      <td>1556</td>\n",
       "      <td>Perryman</td>\n",
       "      <td>DFO</td>\n",
       "      <td>MD</td>\n",
       "      <td>PJM</td>\n",
       "      <td>1</td>\n",
       "      <td>2019</td>\n",
       "      <td>Netgen\\nApril</td>\n",
       "      <td>573.245</td>\n",
       "      <td>4</td>\n",
       "      <td>2019-04-30</td>\n",
       "      <td>159.3</td>\n",
       "      <td>159.3</td>\n",
       "      <td>159.3</td>\n",
       "      <td>426.352732</td>\n",
       "      <td>Oil</td>\n",
       "      <td>573.245</td>\n",
       "    </tr>\n",
       "    <tr>\n",
       "      <th>8752</th>\n",
       "      <td>8752</td>\n",
       "      <td>1556</td>\n",
       "      <td>Perryman</td>\n",
       "      <td>DFO</td>\n",
       "      <td>MD</td>\n",
       "      <td>PJM</td>\n",
       "      <td>1</td>\n",
       "      <td>2019</td>\n",
       "      <td>Netgen\\nMay</td>\n",
       "      <td>0.000</td>\n",
       "      <td>5</td>\n",
       "      <td>2019-05-31</td>\n",
       "      <td>159.3</td>\n",
       "      <td>159.3</td>\n",
       "      <td>159.3</td>\n",
       "      <td>0.000000</td>\n",
       "      <td>Oil</td>\n",
       "      <td>0.000</td>\n",
       "    </tr>\n",
       "    <tr>\n",
       "      <th>...</th>\n",
       "      <td>...</td>\n",
       "      <td>...</td>\n",
       "      <td>...</td>\n",
       "      <td>...</td>\n",
       "      <td>...</td>\n",
       "      <td>...</td>\n",
       "      <td>...</td>\n",
       "      <td>...</td>\n",
       "      <td>...</td>\n",
       "      <td>...</td>\n",
       "      <td>...</td>\n",
       "      <td>...</td>\n",
       "      <td>...</td>\n",
       "      <td>...</td>\n",
       "      <td>...</td>\n",
       "      <td>...</td>\n",
       "      <td>...</td>\n",
       "      <td>...</td>\n",
       "    </tr>\n",
       "    <tr>\n",
       "      <th>8887</th>\n",
       "      <td>8887</td>\n",
       "      <td>1556</td>\n",
       "      <td>Perryman</td>\n",
       "      <td>NG</td>\n",
       "      <td>MD</td>\n",
       "      <td>PJM</td>\n",
       "      <td>1</td>\n",
       "      <td>2024</td>\n",
       "      <td>Netgen\\nAugust</td>\n",
       "      <td>21664.146</td>\n",
       "      <td>8</td>\n",
       "      <td>2024-08-31</td>\n",
       "      <td>333.0</td>\n",
       "      <td>333.0</td>\n",
       "      <td>333.0</td>\n",
       "      <td>13661.515932</td>\n",
       "      <td>Gas</td>\n",
       "      <td>21664.146</td>\n",
       "    </tr>\n",
       "    <tr>\n",
       "      <th>8888</th>\n",
       "      <td>8888</td>\n",
       "      <td>1556</td>\n",
       "      <td>Perryman</td>\n",
       "      <td>NG</td>\n",
       "      <td>MD</td>\n",
       "      <td>PJM</td>\n",
       "      <td>1</td>\n",
       "      <td>2024</td>\n",
       "      <td>Netgen\\nSeptember</td>\n",
       "      <td>6998.742</td>\n",
       "      <td>9</td>\n",
       "      <td>2024-09-30</td>\n",
       "      <td>333.0</td>\n",
       "      <td>333.0</td>\n",
       "      <td>333.0</td>\n",
       "      <td>4002.072501</td>\n",
       "      <td>Gas</td>\n",
       "      <td>6998.742</td>\n",
       "    </tr>\n",
       "    <tr>\n",
       "      <th>8889</th>\n",
       "      <td>8889</td>\n",
       "      <td>1556</td>\n",
       "      <td>Perryman</td>\n",
       "      <td>NG</td>\n",
       "      <td>MD</td>\n",
       "      <td>PJM</td>\n",
       "      <td>1</td>\n",
       "      <td>2024</td>\n",
       "      <td>Netgen\\nOctober</td>\n",
       "      <td>0.000</td>\n",
       "      <td>10</td>\n",
       "      <td>2024-10-31</td>\n",
       "      <td>NaN</td>\n",
       "      <td>333.0</td>\n",
       "      <td>333.0</td>\n",
       "      <td>0.000000</td>\n",
       "      <td>Gas</td>\n",
       "      <td>0.000</td>\n",
       "    </tr>\n",
       "    <tr>\n",
       "      <th>8890</th>\n",
       "      <td>8890</td>\n",
       "      <td>1556</td>\n",
       "      <td>Perryman</td>\n",
       "      <td>NG</td>\n",
       "      <td>MD</td>\n",
       "      <td>PJM</td>\n",
       "      <td>1</td>\n",
       "      <td>2024</td>\n",
       "      <td>Netgen\\nNovember</td>\n",
       "      <td>0.000</td>\n",
       "      <td>11</td>\n",
       "      <td>2024-11-30</td>\n",
       "      <td>NaN</td>\n",
       "      <td>333.0</td>\n",
       "      <td>333.0</td>\n",
       "      <td>0.000000</td>\n",
       "      <td>Gas</td>\n",
       "      <td>0.000</td>\n",
       "    </tr>\n",
       "    <tr>\n",
       "      <th>8891</th>\n",
       "      <td>8891</td>\n",
       "      <td>1556</td>\n",
       "      <td>Perryman</td>\n",
       "      <td>NG</td>\n",
       "      <td>MD</td>\n",
       "      <td>PJM</td>\n",
       "      <td>1</td>\n",
       "      <td>2024</td>\n",
       "      <td>Netgen\\nDecember</td>\n",
       "      <td>0.000</td>\n",
       "      <td>12</td>\n",
       "      <td>2024-12-31</td>\n",
       "      <td>NaN</td>\n",
       "      <td>333.0</td>\n",
       "      <td>333.0</td>\n",
       "      <td>0.000000</td>\n",
       "      <td>Gas</td>\n",
       "      <td>0.000</td>\n",
       "    </tr>\n",
       "  </tbody>\n",
       "</table>\n",
       "<p>144 rows × 18 columns</p>\n",
       "</div>"
      ],
      "text/plain": [
       "      index  Plant Id Plant Name Reported\\nFuel Type Code Plant State  \\\n",
       "8748   8748      1556   Perryman                      DFO          MD   \n",
       "8749   8749      1556   Perryman                      DFO          MD   \n",
       "8750   8750      1556   Perryman                      DFO          MD   \n",
       "8751   8751      1556   Perryman                      DFO          MD   \n",
       "8752   8752      1556   Perryman                      DFO          MD   \n",
       "...     ...       ...        ...                      ...         ...   \n",
       "8887   8887      1556   Perryman                       NG          MD   \n",
       "8888   8888      1556   Perryman                       NG          MD   \n",
       "8889   8889      1556   Perryman                       NG          MD   \n",
       "8890   8890      1556   Perryman                       NG          MD   \n",
       "8891   8891      1556   Perryman                       NG          MD   \n",
       "\n",
       "     Balancing\\nAuthority Code  RGGI_state  YEAR            level_7  \\\n",
       "8748                       PJM           1  2019    Netgen\\nJanuary   \n",
       "8749                       PJM           1  2019   Netgen\\nFebruary   \n",
       "8750                       PJM           1  2019      Netgen\\nMarch   \n",
       "8751                       PJM           1  2019      Netgen\\nApril   \n",
       "8752                       PJM           1  2019        Netgen\\nMay   \n",
       "...                        ...         ...   ...                ...   \n",
       "8887                       PJM           1  2024     Netgen\\nAugust   \n",
       "8888                       PJM           1  2024  Netgen\\nSeptember   \n",
       "8889                       PJM           1  2024    Netgen\\nOctober   \n",
       "8890                       PJM           1  2024   Netgen\\nNovember   \n",
       "8891                       PJM           1  2024   Netgen\\nDecember   \n",
       "\n",
       "      Generation MWh  month       Date  Nameplate Capacity (MW)  \\\n",
       "8748        2340.266      1 2019-01-31                    159.3   \n",
       "8749        5087.871      2 2019-02-28                    159.3   \n",
       "8750        1729.526      3 2019-03-31                    159.3   \n",
       "8751         573.245      4 2019-04-30                    159.3   \n",
       "8752           0.000      5 2019-05-31                    159.3   \n",
       "...              ...    ...        ...                      ...   \n",
       "8887       21664.146      8 2024-08-31                    333.0   \n",
       "8888        6998.742      9 2024-09-30                    333.0   \n",
       "8889           0.000     10 2024-10-31                      NaN   \n",
       "8890           0.000     11 2024-11-30                      NaN   \n",
       "8891           0.000     12 2024-12-31                      NaN   \n",
       "\n",
       "      Gap_fill_capacity_year  Gap_fill_capacity_overall  Emissions_stCO2  \\\n",
       "8748                   159.3                      159.3      1557.643623   \n",
       "8749                   159.3                      159.3      3760.970514   \n",
       "8750                   159.3                      159.3      1623.557123   \n",
       "8751                   159.3                      159.3       426.352732   \n",
       "8752                   159.3                      159.3         0.000000   \n",
       "...                      ...                        ...              ...   \n",
       "8887                   333.0                      333.0     13661.515932   \n",
       "8888                   333.0                      333.0      4002.072501   \n",
       "8889                   333.0                      333.0         0.000000   \n",
       "8890                   333.0                      333.0         0.000000   \n",
       "8891                   333.0                      333.0         0.000000   \n",
       "\n",
       "     PJM_tech  Generation MWh_clipped  \n",
       "8748      Oil                2340.266  \n",
       "8749      Oil                5087.871  \n",
       "8750      Oil                1729.526  \n",
       "8751      Oil                 573.245  \n",
       "8752      Oil                   0.000  \n",
       "...       ...                     ...  \n",
       "8887      Gas               21664.146  \n",
       "8888      Gas                6998.742  \n",
       "8889      Gas                   0.000  \n",
       "8890      Gas                   0.000  \n",
       "8891      Gas                   0.000  \n",
       "\n",
       "[144 rows x 18 columns]"
      ]
     },
     "execution_count": 67,
     "metadata": {},
     "output_type": "execute_result"
    }
   ],
   "source": [
    "rggi_or_pjm_capacity.reset_index().query('`Plant Id`==1556')"
   ]
  },
  {
   "cell_type": "code",
   "execution_count": 68,
   "metadata": {},
   "outputs": [
    {
     "data": {
      "application/vnd.plotly.v1+json": {
       "config": {
        "plotlyServerURL": "https://plot.ly"
       },
       "data": [
        {
         "hovertemplate": "Reported\nFuel Type Code=DFO<br>Date=%{x}<br>Emissions_stCO2=%{y}<extra></extra>",
         "legendgroup": "DFO",
         "line": {
          "color": "#636efa",
          "dash": "solid"
         },
         "marker": {
          "symbol": "circle"
         },
         "mode": "lines",
         "name": "DFO",
         "orientation": "v",
         "showlegend": true,
         "type": "scatter",
         "x": [
          "2019-01-31T00:00:00",
          "2019-02-28T00:00:00",
          "2019-03-31T00:00:00",
          "2019-04-30T00:00:00",
          "2019-05-31T00:00:00",
          "2019-06-30T00:00:00",
          "2019-07-31T00:00:00",
          "2019-08-31T00:00:00",
          "2019-09-30T00:00:00",
          "2019-10-31T00:00:00",
          "2019-11-30T00:00:00",
          "2019-12-31T00:00:00",
          "2020-01-31T00:00:00",
          "2020-02-29T00:00:00",
          "2020-03-31T00:00:00",
          "2020-04-30T00:00:00",
          "2020-05-31T00:00:00",
          "2020-06-30T00:00:00",
          "2020-07-31T00:00:00",
          "2020-08-31T00:00:00",
          "2020-09-30T00:00:00",
          "2020-10-31T00:00:00",
          "2020-11-30T00:00:00",
          "2020-12-31T00:00:00",
          "2021-01-31T00:00:00",
          "2021-02-28T00:00:00",
          "2021-03-31T00:00:00",
          "2021-04-30T00:00:00",
          "2021-05-31T00:00:00",
          "2021-06-30T00:00:00",
          "2021-07-31T00:00:00",
          "2021-08-31T00:00:00",
          "2021-09-30T00:00:00",
          "2021-10-31T00:00:00",
          "2021-11-30T00:00:00",
          "2021-12-31T00:00:00",
          "2022-01-31T00:00:00",
          "2022-02-28T00:00:00",
          "2022-03-31T00:00:00",
          "2022-04-30T00:00:00",
          "2022-05-31T00:00:00",
          "2022-06-30T00:00:00",
          "2022-07-31T00:00:00",
          "2022-08-31T00:00:00",
          "2022-09-30T00:00:00",
          "2022-10-31T00:00:00",
          "2022-11-30T00:00:00",
          "2022-12-31T00:00:00",
          "2023-01-31T00:00:00",
          "2023-02-28T00:00:00",
          "2023-03-31T00:00:00",
          "2023-04-30T00:00:00",
          "2023-05-31T00:00:00",
          "2023-06-30T00:00:00",
          "2023-07-31T00:00:00",
          "2023-08-31T00:00:00",
          "2023-09-30T00:00:00",
          "2023-10-31T00:00:00",
          "2023-11-30T00:00:00",
          "2023-12-31T00:00:00",
          "2024-01-31T00:00:00",
          "2024-02-29T00:00:00",
          "2024-03-31T00:00:00",
          "2024-04-30T00:00:00",
          "2024-05-31T00:00:00",
          "2024-06-30T00:00:00",
          "2024-07-31T00:00:00",
          "2024-08-31T00:00:00",
          "2024-09-30T00:00:00",
          "2024-10-31T00:00:00",
          "2024-11-30T00:00:00",
          "2024-12-31T00:00:00"
         ],
         "xaxis": "x",
         "y": [
          1557.643623245622,
          3760.970513608044,
          1623.5571234304618,
          426.352732318062,
          0,
          77.75102674864799,
          0,
          1171.444319101386,
          413.708101670358,
          858.55696924437,
          128.195031992148,
          303.269359523922,
          5436.85488514443,
          972.1568690527321,
          0,
          137.8802809989,
          0,
          825.801995172924,
          4748.731394949431,
          1782.354851937,
          0,
          1158.19436039076,
          1406.7151595570701,
          1771.795240172694,
          1267.4224464113518,
          1760.8993350400979,
          422.85528128784597,
          2686.31142590052,
          161.689851473832,
          891.782754031422,
          915.525065832696,
          1281.7485439005059,
          0,
          414.582464427912,
          344.229891781644,
          371.26787859215995,
          2313.496597814226,
          259.48396297256403,
          95.50731659435999,
          0,
          124.22677024632598,
          998.185975758378,
          1016.816628361644,
          1910.953435971096,
          0,
          0,
          602.032387912758,
          12372.90560612568,
          211.46126998075198,
          0,
          576.2050572280859,
          0,
          1410.1453519136278,
          1971.1499488950058,
          0,
          162.295179536754,
          308.784570763878,
          1226.12562078534,
          443.57095277451,
          219.66682816702797,
          1261.3019071084739,
          137.813022325242,
          440.4770537862419,
          510.89688510616804,
          497.31063302725204,
          1478.278388329182,
          314.299782003834,
          1058.4497473559459,
          76.33859460183,
          0,
          0,
          0
         ],
         "yaxis": "y"
        },
        {
         "hovertemplate": "Reported\nFuel Type Code=NG<br>Date=%{x}<br>Emissions_stCO2=%{y}<extra></extra>",
         "legendgroup": "NG",
         "line": {
          "color": "#EF553B",
          "dash": "solid"
         },
         "marker": {
          "symbol": "circle"
         },
         "mode": "lines",
         "name": "NG",
         "orientation": "v",
         "showlegend": true,
         "type": "scatter",
         "x": [
          "2019-01-31T00:00:00",
          "2019-02-28T00:00:00",
          "2019-03-31T00:00:00",
          "2019-04-30T00:00:00",
          "2019-05-31T00:00:00",
          "2019-06-30T00:00:00",
          "2019-07-31T00:00:00",
          "2019-08-31T00:00:00",
          "2019-09-30T00:00:00",
          "2019-10-31T00:00:00",
          "2019-11-30T00:00:00",
          "2019-12-31T00:00:00",
          "2020-01-31T00:00:00",
          "2020-02-29T00:00:00",
          "2020-03-31T00:00:00",
          "2020-04-30T00:00:00",
          "2020-05-31T00:00:00",
          "2020-06-30T00:00:00",
          "2020-07-31T00:00:00",
          "2020-08-31T00:00:00",
          "2020-09-30T00:00:00",
          "2020-10-31T00:00:00",
          "2020-11-30T00:00:00",
          "2020-12-31T00:00:00",
          "2021-01-31T00:00:00",
          "2021-02-28T00:00:00",
          "2021-03-31T00:00:00",
          "2021-04-30T00:00:00",
          "2021-05-31T00:00:00",
          "2021-06-30T00:00:00",
          "2021-07-31T00:00:00",
          "2021-08-31T00:00:00",
          "2021-09-30T00:00:00",
          "2021-10-31T00:00:00",
          "2021-11-30T00:00:00",
          "2021-12-31T00:00:00",
          "2022-01-31T00:00:00",
          "2022-02-28T00:00:00",
          "2022-03-31T00:00:00",
          "2022-04-30T00:00:00",
          "2022-05-31T00:00:00",
          "2022-06-30T00:00:00",
          "2022-07-31T00:00:00",
          "2022-08-31T00:00:00",
          "2022-09-30T00:00:00",
          "2022-10-31T00:00:00",
          "2022-11-30T00:00:00",
          "2022-12-31T00:00:00",
          "2023-01-31T00:00:00",
          "2023-02-28T00:00:00",
          "2023-03-31T00:00:00",
          "2023-04-30T00:00:00",
          "2023-05-31T00:00:00",
          "2023-06-30T00:00:00",
          "2023-07-31T00:00:00",
          "2023-08-31T00:00:00",
          "2023-09-30T00:00:00",
          "2023-10-31T00:00:00",
          "2023-11-30T00:00:00",
          "2023-12-31T00:00:00",
          "2024-01-31T00:00:00",
          "2024-02-29T00:00:00",
          "2024-03-31T00:00:00",
          "2024-04-30T00:00:00",
          "2024-05-31T00:00:00",
          "2024-06-30T00:00:00",
          "2024-07-31T00:00:00",
          "2024-08-31T00:00:00",
          "2024-09-30T00:00:00",
          "2024-10-31T00:00:00",
          "2024-11-30T00:00:00",
          "2024-12-31T00:00:00"
         ],
         "xaxis": "x",
         "y": [
          1798.2398737583276,
          3685.3741593840596,
          4070.0392871947374,
          1142.5715875225078,
          7432.283219423634,
          7325.197132557447,
          21353.66650859785,
          13360.225314475609,
          18588.91590192265,
          9296.473914945358,
          2980.5067521093147,
          2115.6102038162517,
          1684.6739026577459,
          908.14377566484,
          0,
          0.4799914247699999,
          2995.674481132047,
          4271.923680452999,
          30803.017692332447,
          21506.59177652957,
          22634.28362988421,
          2926.0277253979193,
          1148.571480332133,
          1687.3618546364578,
          8968.255778687633,
          3783.3404091796165,
          8283.02002068598,
          11131.577130126023,
          4566.4944178343485,
          8368.45849429504,
          14150.291199647028,
          17923.215794909138,
          10268.408550962133,
          21445.344870728917,
          13425.360150816898,
          2578.9459261467327,
          2691.4079169703436,
          1111.3721449124578,
          4162.485635605439,
          8973.055692935332,
          17620.533202449176,
          25842.930306186703,
          29597.66322645003,
          25276.58842410058,
          19160.44169139629,
          12704.461029954835,
          3086.7288544109156,
          7578.58460569353,
          3740.0451826653625,
          3109.720443657399,
          4000.200534890702,
          7459.642730635524,
          10260.056700171133,
          11274.470577280052,
          20524.817316305012,
          19152.617831172538,
          16141.919618445192,
          29100.440109530788,
          2878.8445683430286,
          636.9966198122669,
          1510.4370154662358,
          1158.795297679734,
          2185.5929535477176,
          4119.334406518617,
          10342.087234664326,
          9811.840707720907,
          23176.09795016459,
          13661.515931803739,
          4002.072501447305,
          0,
          0,
          0
         ],
         "yaxis": "y"
        }
       ],
       "layout": {
        "legend": {
         "title": {
          "text": "Reported\nFuel Type Code"
         },
         "tracegroupgap": 0
        },
        "margin": {
         "t": 60
        },
        "template": {
         "data": {
          "bar": [
           {
            "error_x": {
             "color": "#2a3f5f"
            },
            "error_y": {
             "color": "#2a3f5f"
            },
            "marker": {
             "line": {
              "color": "#E5ECF6",
              "width": 0.5
             },
             "pattern": {
              "fillmode": "overlay",
              "size": 10,
              "solidity": 0.2
             }
            },
            "type": "bar"
           }
          ],
          "barpolar": [
           {
            "marker": {
             "line": {
              "color": "#E5ECF6",
              "width": 0.5
             },
             "pattern": {
              "fillmode": "overlay",
              "size": 10,
              "solidity": 0.2
             }
            },
            "type": "barpolar"
           }
          ],
          "carpet": [
           {
            "aaxis": {
             "endlinecolor": "#2a3f5f",
             "gridcolor": "white",
             "linecolor": "white",
             "minorgridcolor": "white",
             "startlinecolor": "#2a3f5f"
            },
            "baxis": {
             "endlinecolor": "#2a3f5f",
             "gridcolor": "white",
             "linecolor": "white",
             "minorgridcolor": "white",
             "startlinecolor": "#2a3f5f"
            },
            "type": "carpet"
           }
          ],
          "choropleth": [
           {
            "colorbar": {
             "outlinewidth": 0,
             "ticks": ""
            },
            "type": "choropleth"
           }
          ],
          "contour": [
           {
            "colorbar": {
             "outlinewidth": 0,
             "ticks": ""
            },
            "colorscale": [
             [
              0,
              "#0d0887"
             ],
             [
              0.1111111111111111,
              "#46039f"
             ],
             [
              0.2222222222222222,
              "#7201a8"
             ],
             [
              0.3333333333333333,
              "#9c179e"
             ],
             [
              0.4444444444444444,
              "#bd3786"
             ],
             [
              0.5555555555555556,
              "#d8576b"
             ],
             [
              0.6666666666666666,
              "#ed7953"
             ],
             [
              0.7777777777777778,
              "#fb9f3a"
             ],
             [
              0.8888888888888888,
              "#fdca26"
             ],
             [
              1,
              "#f0f921"
             ]
            ],
            "type": "contour"
           }
          ],
          "contourcarpet": [
           {
            "colorbar": {
             "outlinewidth": 0,
             "ticks": ""
            },
            "type": "contourcarpet"
           }
          ],
          "heatmap": [
           {
            "colorbar": {
             "outlinewidth": 0,
             "ticks": ""
            },
            "colorscale": [
             [
              0,
              "#0d0887"
             ],
             [
              0.1111111111111111,
              "#46039f"
             ],
             [
              0.2222222222222222,
              "#7201a8"
             ],
             [
              0.3333333333333333,
              "#9c179e"
             ],
             [
              0.4444444444444444,
              "#bd3786"
             ],
             [
              0.5555555555555556,
              "#d8576b"
             ],
             [
              0.6666666666666666,
              "#ed7953"
             ],
             [
              0.7777777777777778,
              "#fb9f3a"
             ],
             [
              0.8888888888888888,
              "#fdca26"
             ],
             [
              1,
              "#f0f921"
             ]
            ],
            "type": "heatmap"
           }
          ],
          "heatmapgl": [
           {
            "colorbar": {
             "outlinewidth": 0,
             "ticks": ""
            },
            "colorscale": [
             [
              0,
              "#0d0887"
             ],
             [
              0.1111111111111111,
              "#46039f"
             ],
             [
              0.2222222222222222,
              "#7201a8"
             ],
             [
              0.3333333333333333,
              "#9c179e"
             ],
             [
              0.4444444444444444,
              "#bd3786"
             ],
             [
              0.5555555555555556,
              "#d8576b"
             ],
             [
              0.6666666666666666,
              "#ed7953"
             ],
             [
              0.7777777777777778,
              "#fb9f3a"
             ],
             [
              0.8888888888888888,
              "#fdca26"
             ],
             [
              1,
              "#f0f921"
             ]
            ],
            "type": "heatmapgl"
           }
          ],
          "histogram": [
           {
            "marker": {
             "pattern": {
              "fillmode": "overlay",
              "size": 10,
              "solidity": 0.2
             }
            },
            "type": "histogram"
           }
          ],
          "histogram2d": [
           {
            "colorbar": {
             "outlinewidth": 0,
             "ticks": ""
            },
            "colorscale": [
             [
              0,
              "#0d0887"
             ],
             [
              0.1111111111111111,
              "#46039f"
             ],
             [
              0.2222222222222222,
              "#7201a8"
             ],
             [
              0.3333333333333333,
              "#9c179e"
             ],
             [
              0.4444444444444444,
              "#bd3786"
             ],
             [
              0.5555555555555556,
              "#d8576b"
             ],
             [
              0.6666666666666666,
              "#ed7953"
             ],
             [
              0.7777777777777778,
              "#fb9f3a"
             ],
             [
              0.8888888888888888,
              "#fdca26"
             ],
             [
              1,
              "#f0f921"
             ]
            ],
            "type": "histogram2d"
           }
          ],
          "histogram2dcontour": [
           {
            "colorbar": {
             "outlinewidth": 0,
             "ticks": ""
            },
            "colorscale": [
             [
              0,
              "#0d0887"
             ],
             [
              0.1111111111111111,
              "#46039f"
             ],
             [
              0.2222222222222222,
              "#7201a8"
             ],
             [
              0.3333333333333333,
              "#9c179e"
             ],
             [
              0.4444444444444444,
              "#bd3786"
             ],
             [
              0.5555555555555556,
              "#d8576b"
             ],
             [
              0.6666666666666666,
              "#ed7953"
             ],
             [
              0.7777777777777778,
              "#fb9f3a"
             ],
             [
              0.8888888888888888,
              "#fdca26"
             ],
             [
              1,
              "#f0f921"
             ]
            ],
            "type": "histogram2dcontour"
           }
          ],
          "mesh3d": [
           {
            "colorbar": {
             "outlinewidth": 0,
             "ticks": ""
            },
            "type": "mesh3d"
           }
          ],
          "parcoords": [
           {
            "line": {
             "colorbar": {
              "outlinewidth": 0,
              "ticks": ""
             }
            },
            "type": "parcoords"
           }
          ],
          "pie": [
           {
            "automargin": true,
            "type": "pie"
           }
          ],
          "scatter": [
           {
            "fillpattern": {
             "fillmode": "overlay",
             "size": 10,
             "solidity": 0.2
            },
            "type": "scatter"
           }
          ],
          "scatter3d": [
           {
            "line": {
             "colorbar": {
              "outlinewidth": 0,
              "ticks": ""
             }
            },
            "marker": {
             "colorbar": {
              "outlinewidth": 0,
              "ticks": ""
             }
            },
            "type": "scatter3d"
           }
          ],
          "scattercarpet": [
           {
            "marker": {
             "colorbar": {
              "outlinewidth": 0,
              "ticks": ""
             }
            },
            "type": "scattercarpet"
           }
          ],
          "scattergeo": [
           {
            "marker": {
             "colorbar": {
              "outlinewidth": 0,
              "ticks": ""
             }
            },
            "type": "scattergeo"
           }
          ],
          "scattergl": [
           {
            "marker": {
             "colorbar": {
              "outlinewidth": 0,
              "ticks": ""
             }
            },
            "type": "scattergl"
           }
          ],
          "scattermapbox": [
           {
            "marker": {
             "colorbar": {
              "outlinewidth": 0,
              "ticks": ""
             }
            },
            "type": "scattermapbox"
           }
          ],
          "scatterpolar": [
           {
            "marker": {
             "colorbar": {
              "outlinewidth": 0,
              "ticks": ""
             }
            },
            "type": "scatterpolar"
           }
          ],
          "scatterpolargl": [
           {
            "marker": {
             "colorbar": {
              "outlinewidth": 0,
              "ticks": ""
             }
            },
            "type": "scatterpolargl"
           }
          ],
          "scatterternary": [
           {
            "marker": {
             "colorbar": {
              "outlinewidth": 0,
              "ticks": ""
             }
            },
            "type": "scatterternary"
           }
          ],
          "surface": [
           {
            "colorbar": {
             "outlinewidth": 0,
             "ticks": ""
            },
            "colorscale": [
             [
              0,
              "#0d0887"
             ],
             [
              0.1111111111111111,
              "#46039f"
             ],
             [
              0.2222222222222222,
              "#7201a8"
             ],
             [
              0.3333333333333333,
              "#9c179e"
             ],
             [
              0.4444444444444444,
              "#bd3786"
             ],
             [
              0.5555555555555556,
              "#d8576b"
             ],
             [
              0.6666666666666666,
              "#ed7953"
             ],
             [
              0.7777777777777778,
              "#fb9f3a"
             ],
             [
              0.8888888888888888,
              "#fdca26"
             ],
             [
              1,
              "#f0f921"
             ]
            ],
            "type": "surface"
           }
          ],
          "table": [
           {
            "cells": {
             "fill": {
              "color": "#EBF0F8"
             },
             "line": {
              "color": "white"
             }
            },
            "header": {
             "fill": {
              "color": "#C8D4E3"
             },
             "line": {
              "color": "white"
             }
            },
            "type": "table"
           }
          ]
         },
         "layout": {
          "annotationdefaults": {
           "arrowcolor": "#2a3f5f",
           "arrowhead": 0,
           "arrowwidth": 1
          },
          "autotypenumbers": "strict",
          "coloraxis": {
           "colorbar": {
            "outlinewidth": 0,
            "ticks": ""
           }
          },
          "colorscale": {
           "diverging": [
            [
             0,
             "#8e0152"
            ],
            [
             0.1,
             "#c51b7d"
            ],
            [
             0.2,
             "#de77ae"
            ],
            [
             0.3,
             "#f1b6da"
            ],
            [
             0.4,
             "#fde0ef"
            ],
            [
             0.5,
             "#f7f7f7"
            ],
            [
             0.6,
             "#e6f5d0"
            ],
            [
             0.7,
             "#b8e186"
            ],
            [
             0.8,
             "#7fbc41"
            ],
            [
             0.9,
             "#4d9221"
            ],
            [
             1,
             "#276419"
            ]
           ],
           "sequential": [
            [
             0,
             "#0d0887"
            ],
            [
             0.1111111111111111,
             "#46039f"
            ],
            [
             0.2222222222222222,
             "#7201a8"
            ],
            [
             0.3333333333333333,
             "#9c179e"
            ],
            [
             0.4444444444444444,
             "#bd3786"
            ],
            [
             0.5555555555555556,
             "#d8576b"
            ],
            [
             0.6666666666666666,
             "#ed7953"
            ],
            [
             0.7777777777777778,
             "#fb9f3a"
            ],
            [
             0.8888888888888888,
             "#fdca26"
            ],
            [
             1,
             "#f0f921"
            ]
           ],
           "sequentialminus": [
            [
             0,
             "#0d0887"
            ],
            [
             0.1111111111111111,
             "#46039f"
            ],
            [
             0.2222222222222222,
             "#7201a8"
            ],
            [
             0.3333333333333333,
             "#9c179e"
            ],
            [
             0.4444444444444444,
             "#bd3786"
            ],
            [
             0.5555555555555556,
             "#d8576b"
            ],
            [
             0.6666666666666666,
             "#ed7953"
            ],
            [
             0.7777777777777778,
             "#fb9f3a"
            ],
            [
             0.8888888888888888,
             "#fdca26"
            ],
            [
             1,
             "#f0f921"
            ]
           ]
          },
          "colorway": [
           "#636efa",
           "#EF553B",
           "#00cc96",
           "#ab63fa",
           "#FFA15A",
           "#19d3f3",
           "#FF6692",
           "#B6E880",
           "#FF97FF",
           "#FECB52"
          ],
          "font": {
           "color": "#2a3f5f"
          },
          "geo": {
           "bgcolor": "white",
           "lakecolor": "white",
           "landcolor": "#E5ECF6",
           "showlakes": true,
           "showland": true,
           "subunitcolor": "white"
          },
          "hoverlabel": {
           "align": "left"
          },
          "hovermode": "closest",
          "mapbox": {
           "style": "light"
          },
          "paper_bgcolor": "white",
          "plot_bgcolor": "#E5ECF6",
          "polar": {
           "angularaxis": {
            "gridcolor": "white",
            "linecolor": "white",
            "ticks": ""
           },
           "bgcolor": "#E5ECF6",
           "radialaxis": {
            "gridcolor": "white",
            "linecolor": "white",
            "ticks": ""
           }
          },
          "scene": {
           "xaxis": {
            "backgroundcolor": "#E5ECF6",
            "gridcolor": "white",
            "gridwidth": 2,
            "linecolor": "white",
            "showbackground": true,
            "ticks": "",
            "zerolinecolor": "white"
           },
           "yaxis": {
            "backgroundcolor": "#E5ECF6",
            "gridcolor": "white",
            "gridwidth": 2,
            "linecolor": "white",
            "showbackground": true,
            "ticks": "",
            "zerolinecolor": "white"
           },
           "zaxis": {
            "backgroundcolor": "#E5ECF6",
            "gridcolor": "white",
            "gridwidth": 2,
            "linecolor": "white",
            "showbackground": true,
            "ticks": "",
            "zerolinecolor": "white"
           }
          },
          "shapedefaults": {
           "line": {
            "color": "#2a3f5f"
           }
          },
          "ternary": {
           "aaxis": {
            "gridcolor": "white",
            "linecolor": "white",
            "ticks": ""
           },
           "baxis": {
            "gridcolor": "white",
            "linecolor": "white",
            "ticks": ""
           },
           "bgcolor": "#E5ECF6",
           "caxis": {
            "gridcolor": "white",
            "linecolor": "white",
            "ticks": ""
           }
          },
          "title": {
           "x": 0.05
          },
          "xaxis": {
           "automargin": true,
           "gridcolor": "white",
           "linecolor": "white",
           "ticks": "",
           "title": {
            "standoff": 15
           },
           "zerolinecolor": "white",
           "zerolinewidth": 2
          },
          "yaxis": {
           "automargin": true,
           "gridcolor": "white",
           "linecolor": "white",
           "ticks": "",
           "title": {
            "standoff": 15
           },
           "zerolinecolor": "white",
           "zerolinewidth": 2
          }
         }
        },
        "xaxis": {
         "anchor": "y",
         "domain": [
          0,
          1
         ],
         "title": {
          "text": "Date"
         }
        },
        "yaxis": {
         "anchor": "x",
         "domain": [
          0,
          1
         ],
         "title": {
          "text": "Emissions_stCO2"
         }
        }
       }
      }
     },
     "metadata": {},
     "output_type": "display_data"
    }
   ],
   "source": [
    "px.line(rggi_or_pjm_capacity.reset_index().query('`Plant Id`==1556'),x='Date',y='Emissions_stCO2',color='Reported\\nFuel Type Code')"
   ]
  },
  {
   "cell_type": "markdown",
   "metadata": {},
   "source": [
    "### PJM proportions"
   ]
  },
  {
   "cell_type": "code",
   "execution_count": 267,
   "metadata": {},
   "outputs": [],
   "source": [
    "pjm = rggi_or_pjm_capacity[rggi_or_pjm_capacity['Balancing\\nAuthority Code']==\"PJM\"]"
   ]
  },
  {
   "cell_type": "code",
   "execution_count": 268,
   "metadata": {},
   "outputs": [],
   "source": [
    "total_pjm_gen = pjm.groupby(['Date','PJM_tech'])['Generation MWh_clipped'].sum().to_frame('Total_PJM_generation')"
   ]
  },
  {
   "cell_type": "code",
   "execution_count": 269,
   "metadata": {},
   "outputs": [],
   "source": [
    "pjm = pjm.join(total_pjm_gen,on=['Date','PJM_tech'])"
   ]
  },
  {
   "cell_type": "code",
   "execution_count": 270,
   "metadata": {},
   "outputs": [],
   "source": [
    "pjm['Generation_share_PJM'] = pjm['Generation MWh_clipped']/pjm['Total_PJM_generation']"
   ]
  },
  {
   "cell_type": "code",
   "execution_count": 272,
   "metadata": {},
   "outputs": [],
   "source": [
    "rggi_share = pjm.groupby(['YEAR','month','Date','PJM_tech','RGGI_state'])['Generation MWh_clipped'].sum().unstack('RGGI_state')"
   ]
  },
  {
   "cell_type": "code",
   "execution_count": 273,
   "metadata": {},
   "outputs": [
    {
     "data": {
      "text/plain": [
       "<AxesSubplot:xlabel='YEAR,month,Date'>"
      ]
     },
     "execution_count": 273,
     "metadata": {},
     "output_type": "execute_result"
    },
    {
     "data": {
      "image/png": "[encoded data removed]",
      "text/plain": [
       "<Figure size 640x480 with 1 Axes>"
      ]
     },
     "metadata": {},
     "output_type": "display_data"
    }
   ],
   "source": [
    "rggi_share.unstack('PJM_tech')[1]['Gas'].plot()"
   ]
  },
  {
   "cell_type": "code",
   "execution_count": 274,
   "metadata": {},
   "outputs": [],
   "source": [
    "rggi_share['RGGI_share'] = rggi_share[1]/rggi_share[[0,1]].sum(axis=1)"
   ]
  },
  {
   "cell_type": "code",
   "execution_count": 275,
   "metadata": {},
   "outputs": [
    {
     "data": {
      "text/html": [
       "<div>\n",
       "<style scoped>\n",
       "    .dataframe tbody tr th:only-of-type {\n",
       "        vertical-align: middle;\n",
       "    }\n",
       "\n",
       "    .dataframe tbody tr th {\n",
       "        vertical-align: top;\n",
       "    }\n",
       "\n",
       "    .dataframe thead th {\n",
       "        text-align: right;\n",
       "    }\n",
       "</style>\n",
       "<table border=\"1\" class=\"dataframe\">\n",
       "  <thead>\n",
       "    <tr style=\"text-align: right;\">\n",
       "      <th></th>\n",
       "      <th></th>\n",
       "      <th></th>\n",
       "      <th>RGGI_state</th>\n",
       "      <th>0</th>\n",
       "      <th>1</th>\n",
       "      <th>RGGI_share</th>\n",
       "    </tr>\n",
       "    <tr>\n",
       "      <th>YEAR</th>\n",
       "      <th>month</th>\n",
       "      <th>Date</th>\n",
       "      <th>PJM_tech</th>\n",
       "      <th></th>\n",
       "      <th></th>\n",
       "      <th></th>\n",
       "    </tr>\n",
       "  </thead>\n",
       "  <tbody>\n",
       "    <tr>\n",
       "      <th rowspan=\"5\" valign=\"top\">2019</th>\n",
       "      <th rowspan=\"5\" valign=\"top\">1</th>\n",
       "      <th rowspan=\"5\" valign=\"top\">2019-01-31</th>\n",
       "      <th>Coal</th>\n",
       "      <td>1.974834e+07</td>\n",
       "      <td>764637.382</td>\n",
       "      <td>0.037276</td>\n",
       "    </tr>\n",
       "    <tr>\n",
       "      <th>Gas</th>\n",
       "      <td>2.021688e+07</td>\n",
       "      <td>3635099.750</td>\n",
       "      <td>0.152402</td>\n",
       "    </tr>\n",
       "    <tr>\n",
       "      <th>Hydro</th>\n",
       "      <td>9.722349e+05</td>\n",
       "      <td>298751.514</td>\n",
       "      <td>0.235055</td>\n",
       "    </tr>\n",
       "    <tr>\n",
       "      <th>Multiple Fuels</th>\n",
       "      <td>8.839821e+05</td>\n",
       "      <td>169011.424</td>\n",
       "      <td>0.160506</td>\n",
       "    </tr>\n",
       "    <tr>\n",
       "      <th>Nuclear</th>\n",
       "      <td>2.152816e+07</td>\n",
       "      <td>3983530.000</td>\n",
       "      <td>0.156145</td>\n",
       "    </tr>\n",
       "    <tr>\n",
       "      <th>...</th>\n",
       "      <th>...</th>\n",
       "      <th>...</th>\n",
       "      <th>...</th>\n",
       "      <td>...</td>\n",
       "      <td>...</td>\n",
       "      <td>...</td>\n",
       "    </tr>\n",
       "    <tr>\n",
       "      <th rowspan=\"5\" valign=\"top\">2024</th>\n",
       "      <th rowspan=\"5\" valign=\"top\">12</th>\n",
       "      <th rowspan=\"5\" valign=\"top\">2024-12-31</th>\n",
       "      <th>Oil</th>\n",
       "      <td>0.000000e+00</td>\n",
       "      <td>0.000</td>\n",
       "      <td>NaN</td>\n",
       "    </tr>\n",
       "    <tr>\n",
       "      <th>Other</th>\n",
       "      <td>0.000000e+00</td>\n",
       "      <td>0.000</td>\n",
       "      <td>NaN</td>\n",
       "    </tr>\n",
       "    <tr>\n",
       "      <th>Other Renewables</th>\n",
       "      <td>0.000000e+00</td>\n",
       "      <td>0.000</td>\n",
       "      <td>NaN</td>\n",
       "    </tr>\n",
       "    <tr>\n",
       "      <th>Solar</th>\n",
       "      <td>0.000000e+00</td>\n",
       "      <td>0.000</td>\n",
       "      <td>NaN</td>\n",
       "    </tr>\n",
       "    <tr>\n",
       "      <th>Wind</th>\n",
       "      <td>0.000000e+00</td>\n",
       "      <td>0.000</td>\n",
       "      <td>NaN</td>\n",
       "    </tr>\n",
       "  </tbody>\n",
       "</table>\n",
       "<p>717 rows × 3 columns</p>\n",
       "</div>"
      ],
      "text/plain": [
       "RGGI_state                                         0            1  RGGI_share\n",
       "YEAR month Date       PJM_tech                                               \n",
       "2019 1     2019-01-31 Coal              1.974834e+07   764637.382    0.037276\n",
       "                      Gas               2.021688e+07  3635099.750    0.152402\n",
       "                      Hydro             9.722349e+05   298751.514    0.235055\n",
       "                      Multiple Fuels    8.839821e+05   169011.424    0.160506\n",
       "                      Nuclear           2.152816e+07  3983530.000    0.156145\n",
       "...                                              ...          ...         ...\n",
       "2024 12    2024-12-31 Oil               0.000000e+00        0.000         NaN\n",
       "                      Other             0.000000e+00        0.000         NaN\n",
       "                      Other Renewables  0.000000e+00        0.000         NaN\n",
       "                      Solar             0.000000e+00        0.000         NaN\n",
       "                      Wind              0.000000e+00        0.000         NaN\n",
       "\n",
       "[717 rows x 3 columns]"
      ]
     },
     "execution_count": 275,
     "metadata": {},
     "output_type": "execute_result"
    }
   ],
   "source": [
    "rggi_share"
   ]
  },
  {
   "cell_type": "code",
   "execution_count": 276,
   "metadata": {},
   "outputs": [
    {
     "data": {
      "text/html": [
       "<div>\n",
       "<style scoped>\n",
       "    .dataframe tbody tr th:only-of-type {\n",
       "        vertical-align: middle;\n",
       "    }\n",
       "\n",
       "    .dataframe tbody tr th {\n",
       "        vertical-align: top;\n",
       "    }\n",
       "\n",
       "    .dataframe thead th {\n",
       "        text-align: right;\n",
       "    }\n",
       "</style>\n",
       "<table border=\"1\" class=\"dataframe\">\n",
       "  <thead>\n",
       "    <tr style=\"text-align: right;\">\n",
       "      <th></th>\n",
       "      <th></th>\n",
       "      <th></th>\n",
       "      <th>RGGI_state</th>\n",
       "      <th>0</th>\n",
       "      <th>1</th>\n",
       "    </tr>\n",
       "    <tr>\n",
       "      <th>YEAR</th>\n",
       "      <th>month</th>\n",
       "      <th>Date</th>\n",
       "      <th>PJM_tech</th>\n",
       "      <th></th>\n",
       "      <th></th>\n",
       "    </tr>\n",
       "  </thead>\n",
       "  <tbody>\n",
       "    <tr>\n",
       "      <th rowspan=\"5\" valign=\"top\">2019</th>\n",
       "      <th rowspan=\"5\" valign=\"top\">1</th>\n",
       "      <th rowspan=\"5\" valign=\"top\">2019-01-31</th>\n",
       "      <th>Coal</th>\n",
       "      <td>0.962724</td>\n",
       "      <td>0.037276</td>\n",
       "    </tr>\n",
       "    <tr>\n",
       "      <th>Gas</th>\n",
       "      <td>0.847598</td>\n",
       "      <td>0.152402</td>\n",
       "    </tr>\n",
       "    <tr>\n",
       "      <th>Hydro</th>\n",
       "      <td>0.764945</td>\n",
       "      <td>0.235055</td>\n",
       "    </tr>\n",
       "    <tr>\n",
       "      <th>Multiple Fuels</th>\n",
       "      <td>0.839494</td>\n",
       "      <td>0.160506</td>\n",
       "    </tr>\n",
       "    <tr>\n",
       "      <th>Nuclear</th>\n",
       "      <td>0.843855</td>\n",
       "      <td>0.156145</td>\n",
       "    </tr>\n",
       "    <tr>\n",
       "      <th>...</th>\n",
       "      <th>...</th>\n",
       "      <th>...</th>\n",
       "      <th>...</th>\n",
       "      <td>...</td>\n",
       "      <td>...</td>\n",
       "    </tr>\n",
       "    <tr>\n",
       "      <th rowspan=\"5\" valign=\"top\">2024</th>\n",
       "      <th rowspan=\"5\" valign=\"top\">12</th>\n",
       "      <th rowspan=\"5\" valign=\"top\">2024-12-31</th>\n",
       "      <th>Oil</th>\n",
       "      <td>0.000000</td>\n",
       "      <td>0.000000</td>\n",
       "    </tr>\n",
       "    <tr>\n",
       "      <th>Other</th>\n",
       "      <td>0.000000</td>\n",
       "      <td>0.000000</td>\n",
       "    </tr>\n",
       "    <tr>\n",
       "      <th>Other Renewables</th>\n",
       "      <td>0.000000</td>\n",
       "      <td>0.000000</td>\n",
       "    </tr>\n",
       "    <tr>\n",
       "      <th>Solar</th>\n",
       "      <td>0.000000</td>\n",
       "      <td>0.000000</td>\n",
       "    </tr>\n",
       "    <tr>\n",
       "      <th>Wind</th>\n",
       "      <td>0.000000</td>\n",
       "      <td>0.000000</td>\n",
       "    </tr>\n",
       "  </tbody>\n",
       "</table>\n",
       "<p>717 rows × 2 columns</p>\n",
       "</div>"
      ],
      "text/plain": [
       "RGGI_state                                     0         1\n",
       "YEAR month Date       PJM_tech                            \n",
       "2019 1     2019-01-31 Coal              0.962724  0.037276\n",
       "                      Gas               0.847598  0.152402\n",
       "                      Hydro             0.764945  0.235055\n",
       "                      Multiple Fuels    0.839494  0.160506\n",
       "                      Nuclear           0.843855  0.156145\n",
       "...                                          ...       ...\n",
       "2024 12    2024-12-31 Oil               0.000000  0.000000\n",
       "                      Other             0.000000  0.000000\n",
       "                      Other Renewables  0.000000  0.000000\n",
       "                      Solar             0.000000  0.000000\n",
       "                      Wind              0.000000  0.000000\n",
       "\n",
       "[717 rows x 2 columns]"
      ]
     },
     "execution_count": 276,
     "metadata": {},
     "output_type": "execute_result"
    }
   ],
   "source": [
    "pjm.groupby(['YEAR','month','Date','PJM_tech','RGGI_state'])['Generation_share_PJM'].sum().unstack('RGGI_state')"
   ]
  },
  {
   "cell_type": "code",
   "execution_count": 191,
   "metadata": {},
   "outputs": [],
   "source": [
    "rggi_share.dropna(subset=['RGGI_share']).fillna(0).to_csv('RGGI_share_pjm.csv')"
   ]
  },
  {
   "cell_type": "markdown",
   "metadata": {},
   "source": [
    "## RGGI Compliance Data Compare"
   ]
  },
  {
   "cell_type": "code",
   "execution_count": 69,
   "metadata": {},
   "outputs": [],
   "source": [
    "import os"
   ]
  },
  {
   "cell_type": "code",
   "execution_count": 70,
   "metadata": {},
   "outputs": [],
   "source": [
    "RGGI_compliance = pd.read_excel(fr'{os.environ[\"USERPROFILE\"]}\\OneDrive - Carbon Cap\\Carbon markets research\\US Markets\\RGGI\\RGGI Model.xlsx',sheet_name='R2. RGGI Emissions',header=5)"
   ]
  },
  {
   "cell_type": "code",
   "execution_count": 71,
   "metadata": {},
   "outputs": [],
   "source": [
    "RGGI_compliance = RGGI_compliance[[ 'Pland Generator ID',\n",
    "                                                                                        'Year',\n",
    "                                                                                         'Qtr',\n",
    "                                                                                 'Source Name',\n",
    "                                                                                   'ORIS Code',\n",
    "                                                                                  'Unit ID(s)',\n",
    "                                                                                       'State',\n",
    "                                                                                  'State Name',\n",
    "                                                                            'State Identifier',\n",
    "                                                                              'Control Period',\n",
    "                                                                                     'Op Time',\n",
    "                                                                                    'Op Hours',\n",
    "                                                                             'CO2 Mass (Tons)',\n",
    "                                                                          'Heat Input (mmBtu)',\n",
    "                                                       'Eligible Biomass (Tons) (State Value)',\n",
    "                                            'Eligible CHP Thermal Output (Tons) (State Value)',\n",
    "                                                                                           'N',\n",
    "                                                                 'Compliance Emissions (Tons)',\n",
    "                                                            'CO2 efficiency (tons/heat input)',\n",
    "                                                                        'IN EIA 2018 database',\n",
    "                                                                                  'Technology',\n",
    "                                                                        'Summer Capacity (MW)',\n",
    "                           'not subject to 2009-2012 RGGI CO2 allowance compliance obligation',\n",
    "                           'not subject to 2009-2020 RGGI CO2 allowance compliance obligation',\n",
    "                           'not subject to 2018-2020 RGGI CO2 allowance compliance obligation',\n",
    "                           'not subject to 2018-2022 RGGI CO2 allowance compliance obligation',\n",
    "       '(MD LIESA source - not subject to 2018-2023 RGGI CO2 allowance compliance obligation)',\n",
    "                                                                       'Quarter Auction Price']]"
   ]
  },
  {
   "cell_type": "code",
   "execution_count": null,
   "metadata": {},
   "outputs": [
    {
     "data": {
      "text/html": [
       "<div>\n",
       "<style scoped>\n",
       "    .dataframe tbody tr th:only-of-type {\n",
       "        vertical-align: middle;\n",
       "    }\n",
       "\n",
       "    .dataframe tbody tr th {\n",
       "        vertical-align: top;\n",
       "    }\n",
       "\n",
       "    .dataframe thead th {\n",
       "        text-align: right;\n",
       "    }\n",
       "</style>\n",
       "<table border=\"1\" class=\"dataframe\">\n",
       "  <thead>\n",
       "    <tr style=\"text-align: right;\">\n",
       "      <th></th>\n",
       "      <th>Pland Generator ID</th>\n",
       "      <th>Year</th>\n",
       "      <th>Qtr</th>\n",
       "      <th>Source Name</th>\n",
       "      <th>ORIS Code</th>\n",
       "      <th>Unit ID(s)</th>\n",
       "      <th>State</th>\n",
       "      <th>State Name</th>\n",
       "      <th>State Identifier</th>\n",
       "      <th>Control Period</th>\n",
       "      <th>...</th>\n",
       "      <th>CO2 efficiency (tons/heat input)</th>\n",
       "      <th>IN EIA 2018 database</th>\n",
       "      <th>Technology</th>\n",
       "      <th>Summer Capacity (MW)</th>\n",
       "      <th>not subject to 2009-2012 RGGI CO2 allowance compliance obligation</th>\n",
       "      <th>not subject to 2009-2020 RGGI CO2 allowance compliance obligation</th>\n",
       "      <th>not subject to 2018-2020 RGGI CO2 allowance compliance obligation</th>\n",
       "      <th>not subject to 2018-2022 RGGI CO2 allowance compliance obligation</th>\n",
       "      <th>(MD LIESA source - not subject to 2018-2023 RGGI CO2 allowance compliance obligation)</th>\n",
       "      <th>Quarter Auction Price</th>\n",
       "    </tr>\n",
       "  </thead>\n",
       "  <tbody>\n",
       "    <tr>\n",
       "      <th>0</th>\n",
       "      <td>544_11</td>\n",
       "      <td>2009</td>\n",
       "      <td>1</td>\n",
       "      <td>Devon</td>\n",
       "      <td>544</td>\n",
       "      <td>11</td>\n",
       "      <td>CT</td>\n",
       "      <td>Connecticut</td>\n",
       "      <td>105-14</td>\n",
       "      <td>01/01/2009 - 12/31/2011</td>\n",
       "      <td>...</td>\n",
       "      <td>0.081132</td>\n",
       "      <td>1</td>\n",
       "      <td>Petroleum Liquids</td>\n",
       "      <td>29.2</td>\n",
       "      <td>False</td>\n",
       "      <td>False</td>\n",
       "      <td>False</td>\n",
       "      <td>False</td>\n",
       "      <td>False</td>\n",
       "      <td>3.51</td>\n",
       "    </tr>\n",
       "    <tr>\n",
       "      <th>1</th>\n",
       "      <td>544_11</td>\n",
       "      <td>2024</td>\n",
       "      <td>3</td>\n",
       "      <td>Devon</td>\n",
       "      <td>544</td>\n",
       "      <td>11</td>\n",
       "      <td>CT</td>\n",
       "      <td>Connecticut</td>\n",
       "      <td>105-14</td>\n",
       "      <td>01/01/2024 - 12/31/2026</td>\n",
       "      <td>...</td>\n",
       "      <td>0.081011</td>\n",
       "      <td>1</td>\n",
       "      <td>Petroleum Liquids</td>\n",
       "      <td>29.2</td>\n",
       "      <td>False</td>\n",
       "      <td>False</td>\n",
       "      <td>False</td>\n",
       "      <td>False</td>\n",
       "      <td>False</td>\n",
       "      <td>25.75</td>\n",
       "    </tr>\n",
       "    <tr>\n",
       "      <th>2</th>\n",
       "      <td>544_12</td>\n",
       "      <td>2024</td>\n",
       "      <td>3</td>\n",
       "      <td>Devon</td>\n",
       "      <td>544</td>\n",
       "      <td>12</td>\n",
       "      <td>CT</td>\n",
       "      <td>Connecticut</td>\n",
       "      <td>105-14</td>\n",
       "      <td>01/01/2024 - 12/31/2026</td>\n",
       "      <td>...</td>\n",
       "      <td>0.081015</td>\n",
       "      <td>1</td>\n",
       "      <td>Petroleum Liquids</td>\n",
       "      <td>29.2</td>\n",
       "      <td>False</td>\n",
       "      <td>False</td>\n",
       "      <td>False</td>\n",
       "      <td>False</td>\n",
       "      <td>False</td>\n",
       "      <td>25.75</td>\n",
       "    </tr>\n",
       "    <tr>\n",
       "      <th>3</th>\n",
       "      <td>544_13</td>\n",
       "      <td>2024</td>\n",
       "      <td>3</td>\n",
       "      <td>Devon</td>\n",
       "      <td>544</td>\n",
       "      <td>13</td>\n",
       "      <td>CT</td>\n",
       "      <td>Connecticut</td>\n",
       "      <td>105-14</td>\n",
       "      <td>01/01/2024 - 12/31/2026</td>\n",
       "      <td>...</td>\n",
       "      <td>0.081008</td>\n",
       "      <td>1</td>\n",
       "      <td>Petroleum Liquids</td>\n",
       "      <td>29.9</td>\n",
       "      <td>False</td>\n",
       "      <td>False</td>\n",
       "      <td>False</td>\n",
       "      <td>False</td>\n",
       "      <td>False</td>\n",
       "      <td>25.75</td>\n",
       "    </tr>\n",
       "    <tr>\n",
       "      <th>4</th>\n",
       "      <td>544_14</td>\n",
       "      <td>2024</td>\n",
       "      <td>3</td>\n",
       "      <td>Devon</td>\n",
       "      <td>544</td>\n",
       "      <td>14</td>\n",
       "      <td>CT</td>\n",
       "      <td>Connecticut</td>\n",
       "      <td>105-14</td>\n",
       "      <td>01/01/2024 - 12/31/2026</td>\n",
       "      <td>...</td>\n",
       "      <td>0.081006</td>\n",
       "      <td>1</td>\n",
       "      <td>Petroleum Liquids</td>\n",
       "      <td>29.7</td>\n",
       "      <td>False</td>\n",
       "      <td>False</td>\n",
       "      <td>False</td>\n",
       "      <td>False</td>\n",
       "      <td>False</td>\n",
       "      <td>25.75</td>\n",
       "    </tr>\n",
       "  </tbody>\n",
       "</table>\n",
       "<p>5 rows × 28 columns</p>\n",
       "</div>"
      ],
      "text/plain": [
       "  Pland Generator ID  Year  Qtr Source Name  ORIS Code Unit ID(s) State  \\\n",
       "0             544_11  2009    1       Devon        544         11    CT   \n",
       "1             544_11  2024    3       Devon        544         11    CT   \n",
       "2             544_12  2024    3       Devon        544         12    CT   \n",
       "3             544_13  2024    3       Devon        544         13    CT   \n",
       "4             544_14  2024    3       Devon        544         14    CT   \n",
       "\n",
       "    State Name State Identifier           Control Period  ...  \\\n",
       "0  Connecticut           105-14  01/01/2009 - 12/31/2011  ...   \n",
       "1  Connecticut           105-14  01/01/2024 - 12/31/2026  ...   \n",
       "2  Connecticut           105-14  01/01/2024 - 12/31/2026  ...   \n",
       "3  Connecticut           105-14  01/01/2024 - 12/31/2026  ...   \n",
       "4  Connecticut           105-14  01/01/2024 - 12/31/2026  ...   \n",
       "\n",
       "  CO2 efficiency (tons/heat input) IN EIA 2018 database         Technology  \\\n",
       "0                         0.081132                    1  Petroleum Liquids   \n",
       "1                         0.081011                    1  Petroleum Liquids   \n",
       "2                         0.081015                    1  Petroleum Liquids   \n",
       "3                         0.081008                    1  Petroleum Liquids   \n",
       "4                         0.081006                    1  Petroleum Liquids   \n",
       "\n",
       "  Summer Capacity (MW)  \\\n",
       "0                 29.2   \n",
       "1                 29.2   \n",
       "2                 29.2   \n",
       "3                 29.9   \n",
       "4                 29.7   \n",
       "\n",
       "  not subject to 2009-2012 RGGI CO2 allowance compliance obligation  \\\n",
       "0                                              False                  \n",
       "1                                              False                  \n",
       "2                                              False                  \n",
       "3                                              False                  \n",
       "4                                              False                  \n",
       "\n",
       "  not subject to 2009-2020 RGGI CO2 allowance compliance obligation  \\\n",
       "0                                              False                  \n",
       "1                                              False                  \n",
       "2                                              False                  \n",
       "3                                              False                  \n",
       "4                                              False                  \n",
       "\n",
       "  not subject to 2018-2020 RGGI CO2 allowance compliance obligation  \\\n",
       "0                                              False                  \n",
       "1                                              False                  \n",
       "2                                              False                  \n",
       "3                                              False                  \n",
       "4                                              False                  \n",
       "\n",
       "   not subject to 2018-2022 RGGI CO2 allowance compliance obligation  \\\n",
       "0                                              False                   \n",
       "1                                              False                   \n",
       "2                                              False                   \n",
       "3                                              False                   \n",
       "4                                              False                   \n",
       "\n",
       "   (MD LIESA source - not subject to 2018-2023 RGGI CO2 allowance compliance obligation)  \\\n",
       "0                                              False                                       \n",
       "1                                              False                                       \n",
       "2                                              False                                       \n",
       "3                                              False                                       \n",
       "4                                              False                                       \n",
       "\n",
       "   Quarter Auction Price  \n",
       "0                   3.51  \n",
       "1                  25.75  \n",
       "2                  25.75  \n",
       "3                  25.75  \n",
       "4                  25.75  \n",
       "\n",
       "[5 rows x 28 columns]"
      ]
     },
     "execution_count": 72,
     "metadata": {},
     "output_type": "execute_result"
    }
   ],
   "source": [
    "RGGI_compliance.groupby(['Year','ORIS Code'])['']"
   ]
  },
  {
   "cell_type": "code",
   "execution_count": 231,
   "metadata": {},
   "outputs": [],
   "source": [
    "top_ten_facilities = RGGI_compliance.query('State!=\"VA\"').groupby(['ORIS Code','Year'])['Compliance Emissions (Tons)'].sum().unstack('Year').iloc[:,-5:-1].fillna(0).mean(axis=1).sort_values(ascending=False).head(100).index"
   ]
  },
  {
   "cell_type": "code",
   "execution_count": 232,
   "metadata": {},
   "outputs": [],
   "source": [
    "rggi_or_pjm_capacity['Qtr'] = rggi_or_pjm_capacity.Date.dt.quarter"
   ]
  },
  {
   "cell_type": "code",
   "execution_count": 233,
   "metadata": {},
   "outputs": [],
   "source": [
    "def generate_comparison(ID):\n",
    "    test = RGGI_compliance.query(f'`ORIS Code`=={ID} and Year>2019').sort_values(['Year','Qtr']).groupby(['Year','Qtr'])['Compliance Emissions (Tons)'].sum()\n",
    "    compare = rggi_or_pjm_capacity.query(f'`Plant Id`=={ID} and YEAR>2019').set_index('Date').groupby(['YEAR','Qtr'])[['Generation MWh','Emissions_stCO2']].sum().reset_index().join(test,on=['YEAR','Qtr'])\n",
    "\n",
    "    fig = px.scatter(compare,x='Emissions_stCO2',y='Compliance Emissions (Tons)',hover_data=['YEAR','Qtr'],trendline='ols')\n",
    "    rsqr = px.get_trendline_results(fig).iloc[0][0].rsquared_adj\n",
    "    \n",
    "    bar_fig = px.bar(compare[['Emissions_stCO2','Compliance Emissions (Tons)']],barmode='group')\n",
    "\n",
    "    return fig, rsqr, bar_fig\n"
   ]
  },
  {
   "cell_type": "code",
   "execution_count": 234,
   "metadata": {},
   "outputs": [
    {
     "name": "stderr",
     "output_type": "stream",
     "text": [
      "C:\\Users\\Alex Child\\AppData\\Local\\Packages\\PythonSoftwareFoundation.Python.3.9_qbz5n2kfra8p0\\LocalCache\\local-packages\\Python39\\site-packages\\statsmodels\\regression\\linear_model.py:1752: RuntimeWarning:\n",
      "\n",
      "invalid value encountered in scalar divide\n",
      "\n"
     ]
    }
   ],
   "source": [
    "res_dict = {'ID':['fig','r_sqr','bar_fig']}\n",
    "for x in top_ten_facilities:\n",
    "        fig, rsqr, bar_fig = generate_comparison(x)\n",
    "        res_dict[x]= [fig, rsqr, bar_fig]"
   ]
  },
  {
   "cell_type": "markdown",
   "metadata": {},
   "source": [
    "res_df = pd.DataFrame.from_dict(res_dict).transpose()\n",
    "res_df.columns= res_df.iloc[0]\n",
    "res_df = res_df.iloc[1:]"
   ]
  },
  {
   "cell_type": "code",
   "execution_count": 249,
   "metadata": {},
   "outputs": [
    {
     "data": {
      "application/vnd.plotly.v1+json": {
       "config": {
        "plotlyServerURL": "https://plot.ly"
       },
       "data": [
        {
         "customdata": [
          [
           2020,
           1
          ],
          [
           2020,
           2
          ],
          [
           2020,
           3
          ],
          [
           2020,
           4
          ],
          [
           2021,
           1
          ],
          [
           2021,
           2
          ],
          [
           2021,
           3
          ],
          [
           2021,
           4
          ],
          [
           2022,
           1
          ],
          [
           2022,
           2
          ],
          [
           2022,
           3
          ],
          [
           2022,
           4
          ],
          [
           2023,
           1
          ],
          [
           2023,
           2
          ],
          [
           2023,
           3
          ],
          [
           2023,
           4
          ],
          [
           2024,
           1
          ],
          [
           2024,
           2
          ],
          [
           2024,
           3
          ],
          [
           2024,
           4
          ]
         ],
         "hovertemplate": "Emissions_stCO2=%{x}<br>Compliance Emissions (Tons)=%{y}<br>YEAR=%{customdata[0]}<br>Qtr=%{customdata[1]}<extra></extra>",
         "legendgroup": "",
         "marker": {
          "color": "#636efa",
          "symbol": "circle"
         },
         "mode": "markers",
         "name": "",
         "orientation": "v",
         "showlegend": false,
         "type": "scatter",
         "x": [
          399770.16995333496,
          428850.88241530774,
          444618.74471642973,
          418981.5867340418,
          340645.4982381611,
          461849.1408888258,
          450496.3357110233,
          434618.8433684838,
          203280.9283086303,
          475736.58878426877,
          457236.03930364625,
          420478.631988757,
          260586.52852221087,
          422545.715059529,
          383659.68977321225,
          423523.1215977882,
          335175.2279666273,
          422192.53736918326,
          475545.4561989254,
          0
         ],
         "xaxis": "x",
         "y": [
          513662.66000000003,
          543327.78,
          564281.84,
          526779.6699999999,
          435254.80000000005,
          588232.5700000001,
          571048.38,
          548840.764,
          260280.84600000002,
          609254.212,
          578523.797,
          536514.718,
          322984.997,
          511564.296,
          453943.92000000004,
          533769.8400000001,
          419510.046,
          539558.381,
          599768.964,
          null
         ],
         "yaxis": "y"
        },
        {
         "hovertemplate": "<b>OLS trendline</b><br>Compliance Emissions (Tons) = 1.2796 * Emissions_stCO2 + -7600.06<br>R<sup>2</sup>=0.988753<br><br>Emissions_stCO2=%{x}<br>Compliance Emissions (Tons)=%{y} <b>(trend)</b><extra></extra>",
         "legendgroup": "",
         "marker": {
          "color": "#636efa",
          "symbol": "circle"
         },
         "mode": "lines",
         "name": "",
         "showlegend": false,
         "type": "scatter",
         "x": [
          203280.9283086303,
          260586.52852221087,
          335175.2279666273,
          340645.4982381611,
          383659.68977321225,
          399770.16995333496,
          418981.5867340418,
          420478.631988757,
          422192.53736918326,
          422545.715059529,
          423523.1215977882,
          428850.88241530774,
          434618.8433684838,
          444618.74471642973,
          450496.3357110233,
          457236.03930364625,
          461849.1408888258,
          475545.4561989254,
          475736.58878426877
         ],
         "xaxis": "x",
         "y": [
          252519.12130972857,
          325847.62389055616,
          421291.65762068843,
          428291.4399496227,
          483332.59200517205,
          503947.6345675661,
          528530.649486439,
          530446.2752963923,
          532639.3962940517,
          533091.3240477352,
          534342.0178297763,
          541159.4444233631,
          548540.1530812378,
          561336.0716139452,
          568857.063363613,
          577481.2182532522,
          583384.1636937276,
          600910.0300806301,
          601154.604192504
         ],
         "yaxis": "y"
        }
       ],
       "layout": {
        "legend": {
         "tracegroupgap": 0
        },
        "margin": {
         "t": 60
        },
        "template": {
         "data": {
          "bar": [
           {
            "error_x": {
             "color": "#2a3f5f"
            },
            "error_y": {
             "color": "#2a3f5f"
            },
            "marker": {
             "line": {
              "color": "#E5ECF6",
              "width": 0.5
             },
             "pattern": {
              "fillmode": "overlay",
              "size": 10,
              "solidity": 0.2
             }
            },
            "type": "bar"
           }
          ],
          "barpolar": [
           {
            "marker": {
             "line": {
              "color": "#E5ECF6",
              "width": 0.5
             },
             "pattern": {
              "fillmode": "overlay",
              "size": 10,
              "solidity": 0.2
             }
            },
            "type": "barpolar"
           }
          ],
          "carpet": [
           {
            "aaxis": {
             "endlinecolor": "#2a3f5f",
             "gridcolor": "white",
             "linecolor": "white",
             "minorgridcolor": "white",
             "startlinecolor": "#2a3f5f"
            },
            "baxis": {
             "endlinecolor": "#2a3f5f",
             "gridcolor": "white",
             "linecolor": "white",
             "minorgridcolor": "white",
             "startlinecolor": "#2a3f5f"
            },
            "type": "carpet"
           }
          ],
          "choropleth": [
           {
            "colorbar": {
             "outlinewidth": 0,
             "ticks": ""
            },
            "type": "choropleth"
           }
          ],
          "contour": [
           {
            "colorbar": {
             "outlinewidth": 0,
             "ticks": ""
            },
            "colorscale": [
             [
              0,
              "#0d0887"
             ],
             [
              0.1111111111111111,
              "#46039f"
             ],
             [
              0.2222222222222222,
              "#7201a8"
             ],
             [
              0.3333333333333333,
              "#9c179e"
             ],
             [
              0.4444444444444444,
              "#bd3786"
             ],
             [
              0.5555555555555556,
              "#d8576b"
             ],
             [
              0.6666666666666666,
              "#ed7953"
             ],
             [
              0.7777777777777778,
              "#fb9f3a"
             ],
             [
              0.8888888888888888,
              "#fdca26"
             ],
             [
              1,
              "#f0f921"
             ]
            ],
            "type": "contour"
           }
          ],
          "contourcarpet": [
           {
            "colorbar": {
             "outlinewidth": 0,
             "ticks": ""
            },
            "type": "contourcarpet"
           }
          ],
          "heatmap": [
           {
            "colorbar": {
             "outlinewidth": 0,
             "ticks": ""
            },
            "colorscale": [
             [
              0,
              "#0d0887"
             ],
             [
              0.1111111111111111,
              "#46039f"
             ],
             [
              0.2222222222222222,
              "#7201a8"
             ],
             [
              0.3333333333333333,
              "#9c179e"
             ],
             [
              0.4444444444444444,
              "#bd3786"
             ],
             [
              0.5555555555555556,
              "#d8576b"
             ],
             [
              0.6666666666666666,
              "#ed7953"
             ],
             [
              0.7777777777777778,
              "#fb9f3a"
             ],
             [
              0.8888888888888888,
              "#fdca26"
             ],
             [
              1,
              "#f0f921"
             ]
            ],
            "type": "heatmap"
           }
          ],
          "heatmapgl": [
           {
            "colorbar": {
             "outlinewidth": 0,
             "ticks": ""
            },
            "colorscale": [
             [
              0,
              "#0d0887"
             ],
             [
              0.1111111111111111,
              "#46039f"
             ],
             [
              0.2222222222222222,
              "#7201a8"
             ],
             [
              0.3333333333333333,
              "#9c179e"
             ],
             [
              0.4444444444444444,
              "#bd3786"
             ],
             [
              0.5555555555555556,
              "#d8576b"
             ],
             [
              0.6666666666666666,
              "#ed7953"
             ],
             [
              0.7777777777777778,
              "#fb9f3a"
             ],
             [
              0.8888888888888888,
              "#fdca26"
             ],
             [
              1,
              "#f0f921"
             ]
            ],
            "type": "heatmapgl"
           }
          ],
          "histogram": [
           {
            "marker": {
             "pattern": {
              "fillmode": "overlay",
              "size": 10,
              "solidity": 0.2
             }
            },
            "type": "histogram"
           }
          ],
          "histogram2d": [
           {
            "colorbar": {
             "outlinewidth": 0,
             "ticks": ""
            },
            "colorscale": [
             [
              0,
              "#0d0887"
             ],
             [
              0.1111111111111111,
              "#46039f"
             ],
             [
              0.2222222222222222,
              "#7201a8"
             ],
             [
              0.3333333333333333,
              "#9c179e"
             ],
             [
              0.4444444444444444,
              "#bd3786"
             ],
             [
              0.5555555555555556,
              "#d8576b"
             ],
             [
              0.6666666666666666,
              "#ed7953"
             ],
             [
              0.7777777777777778,
              "#fb9f3a"
             ],
             [
              0.8888888888888888,
              "#fdca26"
             ],
             [
              1,
              "#f0f921"
             ]
            ],
            "type": "histogram2d"
           }
          ],
          "histogram2dcontour": [
           {
            "colorbar": {
             "outlinewidth": 0,
             "ticks": ""
            },
            "colorscale": [
             [
              0,
              "#0d0887"
             ],
             [
              0.1111111111111111,
              "#46039f"
             ],
             [
              0.2222222222222222,
              "#7201a8"
             ],
             [
              0.3333333333333333,
              "#9c179e"
             ],
             [
              0.4444444444444444,
              "#bd3786"
             ],
             [
              0.5555555555555556,
              "#d8576b"
             ],
             [
              0.6666666666666666,
              "#ed7953"
             ],
             [
              0.7777777777777778,
              "#fb9f3a"
             ],
             [
              0.8888888888888888,
              "#fdca26"
             ],
             [
              1,
              "#f0f921"
             ]
            ],
            "type": "histogram2dcontour"
           }
          ],
          "mesh3d": [
           {
            "colorbar": {
             "outlinewidth": 0,
             "ticks": ""
            },
            "type": "mesh3d"
           }
          ],
          "parcoords": [
           {
            "line": {
             "colorbar": {
              "outlinewidth": 0,
              "ticks": ""
             }
            },
            "type": "parcoords"
           }
          ],
          "pie": [
           {
            "automargin": true,
            "type": "pie"
           }
          ],
          "scatter": [
           {
            "fillpattern": {
             "fillmode": "overlay",
             "size": 10,
             "solidity": 0.2
            },
            "type": "scatter"
           }
          ],
          "scatter3d": [
           {
            "line": {
             "colorbar": {
              "outlinewidth": 0,
              "ticks": ""
             }
            },
            "marker": {
             "colorbar": {
              "outlinewidth": 0,
              "ticks": ""
             }
            },
            "type": "scatter3d"
           }
          ],
          "scattercarpet": [
           {
            "marker": {
             "colorbar": {
              "outlinewidth": 0,
              "ticks": ""
             }
            },
            "type": "scattercarpet"
           }
          ],
          "scattergeo": [
           {
            "marker": {
             "colorbar": {
              "outlinewidth": 0,
              "ticks": ""
             }
            },
            "type": "scattergeo"
           }
          ],
          "scattergl": [
           {
            "marker": {
             "colorbar": {
              "outlinewidth": 0,
              "ticks": ""
             }
            },
            "type": "scattergl"
           }
          ],
          "scattermapbox": [
           {
            "marker": {
             "colorbar": {
              "outlinewidth": 0,
              "ticks": ""
             }
            },
            "type": "scattermapbox"
           }
          ],
          "scatterpolar": [
           {
            "marker": {
             "colorbar": {
              "outlinewidth": 0,
              "ticks": ""
             }
            },
            "type": "scatterpolar"
           }
          ],
          "scatterpolargl": [
           {
            "marker": {
             "colorbar": {
              "outlinewidth": 0,
              "ticks": ""
             }
            },
            "type": "scatterpolargl"
           }
          ],
          "scatterternary": [
           {
            "marker": {
             "colorbar": {
              "outlinewidth": 0,
              "ticks": ""
             }
            },
            "type": "scatterternary"
           }
          ],
          "surface": [
           {
            "colorbar": {
             "outlinewidth": 0,
             "ticks": ""
            },
            "colorscale": [
             [
              0,
              "#0d0887"
             ],
             [
              0.1111111111111111,
              "#46039f"
             ],
             [
              0.2222222222222222,
              "#7201a8"
             ],
             [
              0.3333333333333333,
              "#9c179e"
             ],
             [
              0.4444444444444444,
              "#bd3786"
             ],
             [
              0.5555555555555556,
              "#d8576b"
             ],
             [
              0.6666666666666666,
              "#ed7953"
             ],
             [
              0.7777777777777778,
              "#fb9f3a"
             ],
             [
              0.8888888888888888,
              "#fdca26"
             ],
             [
              1,
              "#f0f921"
             ]
            ],
            "type": "surface"
           }
          ],
          "table": [
           {
            "cells": {
             "fill": {
              "color": "#EBF0F8"
             },
             "line": {
              "color": "white"
             }
            },
            "header": {
             "fill": {
              "color": "#C8D4E3"
             },
             "line": {
              "color": "white"
             }
            },
            "type": "table"
           }
          ]
         },
         "layout": {
          "annotationdefaults": {
           "arrowcolor": "#2a3f5f",
           "arrowhead": 0,
           "arrowwidth": 1
          },
          "autotypenumbers": "strict",
          "coloraxis": {
           "colorbar": {
            "outlinewidth": 0,
            "ticks": ""
           }
          },
          "colorscale": {
           "diverging": [
            [
             0,
             "#8e0152"
            ],
            [
             0.1,
             "#c51b7d"
            ],
            [
             0.2,
             "#de77ae"
            ],
            [
             0.3,
             "#f1b6da"
            ],
            [
             0.4,
             "#fde0ef"
            ],
            [
             0.5,
             "#f7f7f7"
            ],
            [
             0.6,
             "#e6f5d0"
            ],
            [
             0.7,
             "#b8e186"
            ],
            [
             0.8,
             "#7fbc41"
            ],
            [
             0.9,
             "#4d9221"
            ],
            [
             1,
             "#276419"
            ]
           ],
           "sequential": [
            [
             0,
             "#0d0887"
            ],
            [
             0.1111111111111111,
             "#46039f"
            ],
            [
             0.2222222222222222,
             "#7201a8"
            ],
            [
             0.3333333333333333,
             "#9c179e"
            ],
            [
             0.4444444444444444,
             "#bd3786"
            ],
            [
             0.5555555555555556,
             "#d8576b"
            ],
            [
             0.6666666666666666,
             "#ed7953"
            ],
            [
             0.7777777777777778,
             "#fb9f3a"
            ],
            [
             0.8888888888888888,
             "#fdca26"
            ],
            [
             1,
             "#f0f921"
            ]
           ],
           "sequentialminus": [
            [
             0,
             "#0d0887"
            ],
            [
             0.1111111111111111,
             "#46039f"
            ],
            [
             0.2222222222222222,
             "#7201a8"
            ],
            [
             0.3333333333333333,
             "#9c179e"
            ],
            [
             0.4444444444444444,
             "#bd3786"
            ],
            [
             0.5555555555555556,
             "#d8576b"
            ],
            [
             0.6666666666666666,
             "#ed7953"
            ],
            [
             0.7777777777777778,
             "#fb9f3a"
            ],
            [
             0.8888888888888888,
             "#fdca26"
            ],
            [
             1,
             "#f0f921"
            ]
           ]
          },
          "colorway": [
           "#636efa",
           "#EF553B",
           "#00cc96",
           "#ab63fa",
           "#FFA15A",
           "#19d3f3",
           "#FF6692",
           "#B6E880",
           "#FF97FF",
           "#FECB52"
          ],
          "font": {
           "color": "#2a3f5f"
          },
          "geo": {
           "bgcolor": "white",
           "lakecolor": "white",
           "landcolor": "#E5ECF6",
           "showlakes": true,
           "showland": true,
           "subunitcolor": "white"
          },
          "hoverlabel": {
           "align": "left"
          },
          "hovermode": "closest",
          "mapbox": {
           "style": "light"
          },
          "paper_bgcolor": "white",
          "plot_bgcolor": "#E5ECF6",
          "polar": {
           "angularaxis": {
            "gridcolor": "white",
            "linecolor": "white",
            "ticks": ""
           },
           "bgcolor": "#E5ECF6",
           "radialaxis": {
            "gridcolor": "white",
            "linecolor": "white",
            "ticks": ""
           }
          },
          "scene": {
           "xaxis": {
            "backgroundcolor": "#E5ECF6",
            "gridcolor": "white",
            "gridwidth": 2,
            "linecolor": "white",
            "showbackground": true,
            "ticks": "",
            "zerolinecolor": "white"
           },
           "yaxis": {
            "backgroundcolor": "#E5ECF6",
            "gridcolor": "white",
            "gridwidth": 2,
            "linecolor": "white",
            "showbackground": true,
            "ticks": "",
            "zerolinecolor": "white"
           },
           "zaxis": {
            "backgroundcolor": "#E5ECF6",
            "gridcolor": "white",
            "gridwidth": 2,
            "linecolor": "white",
            "showbackground": true,
            "ticks": "",
            "zerolinecolor": "white"
           }
          },
          "shapedefaults": {
           "line": {
            "color": "#2a3f5f"
           }
          },
          "ternary": {
           "aaxis": {
            "gridcolor": "white",
            "linecolor": "white",
            "ticks": ""
           },
           "baxis": {
            "gridcolor": "white",
            "linecolor": "white",
            "ticks": ""
           },
           "bgcolor": "#E5ECF6",
           "caxis": {
            "gridcolor": "white",
            "linecolor": "white",
            "ticks": ""
           }
          },
          "title": {
           "x": 0.05
          },
          "xaxis": {
           "automargin": true,
           "gridcolor": "white",
           "linecolor": "white",
           "ticks": "",
           "title": {
            "standoff": 15
           },
           "zerolinecolor": "white",
           "zerolinewidth": 2
          },
          "yaxis": {
           "automargin": true,
           "gridcolor": "white",
           "linecolor": "white",
           "ticks": "",
           "title": {
            "standoff": 15
           },
           "zerolinecolor": "white",
           "zerolinewidth": 2
          }
         }
        },
        "xaxis": {
         "anchor": "y",
         "domain": [
          0,
          1
         ],
         "title": {
          "text": "Emissions_stCO2"
         }
        },
        "yaxis": {
         "anchor": "x",
         "domain": [
          0,
          1
         ],
         "title": {
          "text": "Compliance Emissions (Tons)"
         }
        }
       }
      }
     },
     "metadata": {},
     "output_type": "display_data"
    }
   ],
   "source": [
    "res_df.iloc[7]['fig']"
   ]
  },
  {
   "cell_type": "code",
   "execution_count": 75,
   "metadata": {},
   "outputs": [],
   "source": [
    "test = RGGI_compliance.query('`ORIS Code`==1556 and Year>2019').sort_values(['Year','Qtr']).groupby(['Year','Qtr'])['Compliance Emissions (Tons)'].sum()\n"
   ]
  },
  {
   "cell_type": "code",
   "execution_count": 78,
   "metadata": {},
   "outputs": [],
   "source": [
    "compare = rggi_or_pjm_capacity.query('`Plant Id`==1556 and YEAR>2019').set_index('Date').groupby(['YEAR','Qtr'])[['Generation MWh','Emissions_stCO2']].sum().reset_index().join(test,on=['YEAR','Qtr'])"
   ]
  },
  {
   "cell_type": "code",
   "execution_count": 202,
   "metadata": {},
   "outputs": [],
   "source": [
    "fig = px.scatter(compare,x='Emissions_stCO2',y='Compliance Emissions (Tons)',hover_data=['YEAR','Qtr'],trendline='ols')"
   ]
  },
  {
   "cell_type": "code",
   "execution_count": 208,
   "metadata": {},
   "outputs": [],
   "source": [
    "rsqr = px.get_trendline_results(fig).iloc[0][0].rsquared_adj"
   ]
  },
  {
   "cell_type": "code",
   "execution_count": 209,
   "metadata": {},
   "outputs": [
    {
     "data": {
      "text/plain": [
       "0.9910721221086272"
      ]
     },
     "execution_count": 209,
     "metadata": {},
     "output_type": "execute_result"
    }
   ],
   "source": [
    "rsqr"
   ]
  },
  {
   "cell_type": "code",
   "execution_count": 81,
   "metadata": {},
   "outputs": [
    {
     "data": {
      "application/vnd.plotly.v1+json": {
       "config": {
        "plotlyServerURL": "https://plot.ly"
       },
       "data": [
        {
         "alignmentgroup": "True",
         "hovertemplate": "variable=Emissions_stCO2<br>index=%{x}<br>value=%{y}<extra></extra>",
         "legendgroup": "Emissions_stCO2",
         "marker": {
          "color": "#636efa",
          "pattern": {
           "shape": ""
          }
         },
         "name": "Emissions_stCO2",
         "offsetgroup": "Emissions_stCO2",
         "orientation": "v",
         "showlegend": true,
         "textposition": "auto",
         "type": "bar",
         "x": [
          0,
          1,
          2,
          3,
          4,
          5,
          6,
          7,
          8,
          9,
          10,
          11,
          12,
          13,
          14,
          15,
          16,
          17,
          18,
          19
         ],
         "xaxis": "x",
         "y": [
          9001.829432519748,
          8231.760429181639,
          81474.97934563266,
          10098.665820487035,
          24485.793271292525,
          27806.314073661186,
          44539.1891552515,
          38579.731182494266,
          10633.75357486939,
          53558.93194757591,
          76962.46340627964,
          36344.71248409772,
          11637.632488422301,
          32375.465308895342,
          56290.43451622337,
          34505.64469941296,
          6694.417249913645,
          26759.748255366452,
          42288.774507377246,
          0
         ],
         "yaxis": "y"
        },
        {
         "alignmentgroup": "True",
         "hovertemplate": "variable=Compliance Emissions (Tons)<br>index=%{x}<br>value=%{y}<extra></extra>",
         "legendgroup": "Compliance Emissions (Tons)",
         "marker": {
          "color": "#EF553B",
          "pattern": {
           "shape": ""
          }
         },
         "name": "Compliance Emissions (Tons)",
         "offsetgroup": "Compliance Emissions (Tons)",
         "orientation": "v",
         "showlegend": true,
         "textposition": "auto",
         "type": "bar",
         "x": [
          0,
          1,
          2,
          3,
          4,
          5,
          6,
          7,
          8,
          9,
          10,
          11,
          12,
          13,
          14,
          15,
          16,
          17,
          18,
          19
         ],
         "xaxis": "x",
         "y": [
          15877.423,
          10084.557,
          101252.85,
          13448.428,
          21318.737,
          35572.352,
          54584.177,
          47559.867,
          13392.748,
          67285.391,
          95046.522,
          45060.119999999995,
          13115.626,
          39836.027,
          72257.002,
          42969.294,
          7432.763999999999,
          33031.982,
          50615.903,
          null
         ],
         "yaxis": "y"
        }
       ],
       "layout": {
        "barmode": "group",
        "legend": {
         "title": {
          "text": "variable"
         },
         "tracegroupgap": 0
        },
        "margin": {
         "t": 60
        },
        "template": {
         "data": {
          "bar": [
           {
            "error_x": {
             "color": "#2a3f5f"
            },
            "error_y": {
             "color": "#2a3f5f"
            },
            "marker": {
             "line": {
              "color": "#E5ECF6",
              "width": 0.5
             },
             "pattern": {
              "fillmode": "overlay",
              "size": 10,
              "solidity": 0.2
             }
            },
            "type": "bar"
           }
          ],
          "barpolar": [
           {
            "marker": {
             "line": {
              "color": "#E5ECF6",
              "width": 0.5
             },
             "pattern": {
              "fillmode": "overlay",
              "size": 10,
              "solidity": 0.2
             }
            },
            "type": "barpolar"
           }
          ],
          "carpet": [
           {
            "aaxis": {
             "endlinecolor": "#2a3f5f",
             "gridcolor": "white",
             "linecolor": "white",
             "minorgridcolor": "white",
             "startlinecolor": "#2a3f5f"
            },
            "baxis": {
             "endlinecolor": "#2a3f5f",
             "gridcolor": "white",
             "linecolor": "white",
             "minorgridcolor": "white",
             "startlinecolor": "#2a3f5f"
            },
            "type": "carpet"
           }
          ],
          "choropleth": [
           {
            "colorbar": {
             "outlinewidth": 0,
             "ticks": ""
            },
            "type": "choropleth"
           }
          ],
          "contour": [
           {
            "colorbar": {
             "outlinewidth": 0,
             "ticks": ""
            },
            "colorscale": [
             [
              0,
              "#0d0887"
             ],
             [
              0.1111111111111111,
              "#46039f"
             ],
             [
              0.2222222222222222,
              "#7201a8"
             ],
             [
              0.3333333333333333,
              "#9c179e"
             ],
             [
              0.4444444444444444,
              "#bd3786"
             ],
             [
              0.5555555555555556,
              "#d8576b"
             ],
             [
              0.6666666666666666,
              "#ed7953"
             ],
             [
              0.7777777777777778,
              "#fb9f3a"
             ],
             [
              0.8888888888888888,
              "#fdca26"
             ],
             [
              1,
              "#f0f921"
             ]
            ],
            "type": "contour"
           }
          ],
          "contourcarpet": [
           {
            "colorbar": {
             "outlinewidth": 0,
             "ticks": ""
            },
            "type": "contourcarpet"
           }
          ],
          "heatmap": [
           {
            "colorbar": {
             "outlinewidth": 0,
             "ticks": ""
            },
            "colorscale": [
             [
              0,
              "#0d0887"
             ],
             [
              0.1111111111111111,
              "#46039f"
             ],
             [
              0.2222222222222222,
              "#7201a8"
             ],
             [
              0.3333333333333333,
              "#9c179e"
             ],
             [
              0.4444444444444444,
              "#bd3786"
             ],
             [
              0.5555555555555556,
              "#d8576b"
             ],
             [
              0.6666666666666666,
              "#ed7953"
             ],
             [
              0.7777777777777778,
              "#fb9f3a"
             ],
             [
              0.8888888888888888,
              "#fdca26"
             ],
             [
              1,
              "#f0f921"
             ]
            ],
            "type": "heatmap"
           }
          ],
          "heatmapgl": [
           {
            "colorbar": {
             "outlinewidth": 0,
             "ticks": ""
            },
            "colorscale": [
             [
              0,
              "#0d0887"
             ],
             [
              0.1111111111111111,
              "#46039f"
             ],
             [
              0.2222222222222222,
              "#7201a8"
             ],
             [
              0.3333333333333333,
              "#9c179e"
             ],
             [
              0.4444444444444444,
              "#bd3786"
             ],
             [
              0.5555555555555556,
              "#d8576b"
             ],
             [
              0.6666666666666666,
              "#ed7953"
             ],
             [
              0.7777777777777778,
              "#fb9f3a"
             ],
             [
              0.8888888888888888,
              "#fdca26"
             ],
             [
              1,
              "#f0f921"
             ]
            ],
            "type": "heatmapgl"
           }
          ],
          "histogram": [
           {
            "marker": {
             "pattern": {
              "fillmode": "overlay",
              "size": 10,
              "solidity": 0.2
             }
            },
            "type": "histogram"
           }
          ],
          "histogram2d": [
           {
            "colorbar": {
             "outlinewidth": 0,
             "ticks": ""
            },
            "colorscale": [
             [
              0,
              "#0d0887"
             ],
             [
              0.1111111111111111,
              "#46039f"
             ],
             [
              0.2222222222222222,
              "#7201a8"
             ],
             [
              0.3333333333333333,
              "#9c179e"
             ],
             [
              0.4444444444444444,
              "#bd3786"
             ],
             [
              0.5555555555555556,
              "#d8576b"
             ],
             [
              0.6666666666666666,
              "#ed7953"
             ],
             [
              0.7777777777777778,
              "#fb9f3a"
             ],
             [
              0.8888888888888888,
              "#fdca26"
             ],
             [
              1,
              "#f0f921"
             ]
            ],
            "type": "histogram2d"
           }
          ],
          "histogram2dcontour": [
           {
            "colorbar": {
             "outlinewidth": 0,
             "ticks": ""
            },
            "colorscale": [
             [
              0,
              "#0d0887"
             ],
             [
              0.1111111111111111,
              "#46039f"
             ],
             [
              0.2222222222222222,
              "#7201a8"
             ],
             [
              0.3333333333333333,
              "#9c179e"
             ],
             [
              0.4444444444444444,
              "#bd3786"
             ],
             [
              0.5555555555555556,
              "#d8576b"
             ],
             [
              0.6666666666666666,
              "#ed7953"
             ],
             [
              0.7777777777777778,
              "#fb9f3a"
             ],
             [
              0.8888888888888888,
              "#fdca26"
             ],
             [
              1,
              "#f0f921"
             ]
            ],
            "type": "histogram2dcontour"
           }
          ],
          "mesh3d": [
           {
            "colorbar": {
             "outlinewidth": 0,
             "ticks": ""
            },
            "type": "mesh3d"
           }
          ],
          "parcoords": [
           {
            "line": {
             "colorbar": {
              "outlinewidth": 0,
              "ticks": ""
             }
            },
            "type": "parcoords"
           }
          ],
          "pie": [
           {
            "automargin": true,
            "type": "pie"
           }
          ],
          "scatter": [
           {
            "fillpattern": {
             "fillmode": "overlay",
             "size": 10,
             "solidity": 0.2
            },
            "type": "scatter"
           }
          ],
          "scatter3d": [
           {
            "line": {
             "colorbar": {
              "outlinewidth": 0,
              "ticks": ""
             }
            },
            "marker": {
             "colorbar": {
              "outlinewidth": 0,
              "ticks": ""
             }
            },
            "type": "scatter3d"
           }
          ],
          "scattercarpet": [
           {
            "marker": {
             "colorbar": {
              "outlinewidth": 0,
              "ticks": ""
             }
            },
            "type": "scattercarpet"
           }
          ],
          "scattergeo": [
           {
            "marker": {
             "colorbar": {
              "outlinewidth": 0,
              "ticks": ""
             }
            },
            "type": "scattergeo"
           }
          ],
          "scattergl": [
           {
            "marker": {
             "colorbar": {
              "outlinewidth": 0,
              "ticks": ""
             }
            },
            "type": "scattergl"
           }
          ],
          "scattermapbox": [
           {
            "marker": {
             "colorbar": {
              "outlinewidth": 0,
              "ticks": ""
             }
            },
            "type": "scattermapbox"
           }
          ],
          "scatterpolar": [
           {
            "marker": {
             "colorbar": {
              "outlinewidth": 0,
              "ticks": ""
             }
            },
            "type": "scatterpolar"
           }
          ],
          "scatterpolargl": [
           {
            "marker": {
             "colorbar": {
              "outlinewidth": 0,
              "ticks": ""
             }
            },
            "type": "scatterpolargl"
           }
          ],
          "scatterternary": [
           {
            "marker": {
             "colorbar": {
              "outlinewidth": 0,
              "ticks": ""
             }
            },
            "type": "scatterternary"
           }
          ],
          "surface": [
           {
            "colorbar": {
             "outlinewidth": 0,
             "ticks": ""
            },
            "colorscale": [
             [
              0,
              "#0d0887"
             ],
             [
              0.1111111111111111,
              "#46039f"
             ],
             [
              0.2222222222222222,
              "#7201a8"
             ],
             [
              0.3333333333333333,
              "#9c179e"
             ],
             [
              0.4444444444444444,
              "#bd3786"
             ],
             [
              0.5555555555555556,
              "#d8576b"
             ],
             [
              0.6666666666666666,
              "#ed7953"
             ],
             [
              0.7777777777777778,
              "#fb9f3a"
             ],
             [
              0.8888888888888888,
              "#fdca26"
             ],
             [
              1,
              "#f0f921"
             ]
            ],
            "type": "surface"
           }
          ],
          "table": [
           {
            "cells": {
             "fill": {
              "color": "#EBF0F8"
             },
             "line": {
              "color": "white"
             }
            },
            "header": {
             "fill": {
              "color": "#C8D4E3"
             },
             "line": {
              "color": "white"
             }
            },
            "type": "table"
           }
          ]
         },
         "layout": {
          "annotationdefaults": {
           "arrowcolor": "#2a3f5f",
           "arrowhead": 0,
           "arrowwidth": 1
          },
          "autotypenumbers": "strict",
          "coloraxis": {
           "colorbar": {
            "outlinewidth": 0,
            "ticks": ""
           }
          },
          "colorscale": {
           "diverging": [
            [
             0,
             "#8e0152"
            ],
            [
             0.1,
             "#c51b7d"
            ],
            [
             0.2,
             "#de77ae"
            ],
            [
             0.3,
             "#f1b6da"
            ],
            [
             0.4,
             "#fde0ef"
            ],
            [
             0.5,
             "#f7f7f7"
            ],
            [
             0.6,
             "#e6f5d0"
            ],
            [
             0.7,
             "#b8e186"
            ],
            [
             0.8,
             "#7fbc41"
            ],
            [
             0.9,
             "#4d9221"
            ],
            [
             1,
             "#276419"
            ]
           ],
           "sequential": [
            [
             0,
             "#0d0887"
            ],
            [
             0.1111111111111111,
             "#46039f"
            ],
            [
             0.2222222222222222,
             "#7201a8"
            ],
            [
             0.3333333333333333,
             "#9c179e"
            ],
            [
             0.4444444444444444,
             "#bd3786"
            ],
            [
             0.5555555555555556,
             "#d8576b"
            ],
            [
             0.6666666666666666,
             "#ed7953"
            ],
            [
             0.7777777777777778,
             "#fb9f3a"
            ],
            [
             0.8888888888888888,
             "#fdca26"
            ],
            [
             1,
             "#f0f921"
            ]
           ],
           "sequentialminus": [
            [
             0,
             "#0d0887"
            ],
            [
             0.1111111111111111,
             "#46039f"
            ],
            [
             0.2222222222222222,
             "#7201a8"
            ],
            [
             0.3333333333333333,
             "#9c179e"
            ],
            [
             0.4444444444444444,
             "#bd3786"
            ],
            [
             0.5555555555555556,
             "#d8576b"
            ],
            [
             0.6666666666666666,
             "#ed7953"
            ],
            [
             0.7777777777777778,
             "#fb9f3a"
            ],
            [
             0.8888888888888888,
             "#fdca26"
            ],
            [
             1,
             "#f0f921"
            ]
           ]
          },
          "colorway": [
           "#636efa",
           "#EF553B",
           "#00cc96",
           "#ab63fa",
           "#FFA15A",
           "#19d3f3",
           "#FF6692",
           "#B6E880",
           "#FF97FF",
           "#FECB52"
          ],
          "font": {
           "color": "#2a3f5f"
          },
          "geo": {
           "bgcolor": "white",
           "lakecolor": "white",
           "landcolor": "#E5ECF6",
           "showlakes": true,
           "showland": true,
           "subunitcolor": "white"
          },
          "hoverlabel": {
           "align": "left"
          },
          "hovermode": "closest",
          "mapbox": {
           "style": "light"
          },
          "paper_bgcolor": "white",
          "plot_bgcolor": "#E5ECF6",
          "polar": {
           "angularaxis": {
            "gridcolor": "white",
            "linecolor": "white",
            "ticks": ""
           },
           "bgcolor": "#E5ECF6",
           "radialaxis": {
            "gridcolor": "white",
            "linecolor": "white",
            "ticks": ""
           }
          },
          "scene": {
           "xaxis": {
            "backgroundcolor": "#E5ECF6",
            "gridcolor": "white",
            "gridwidth": 2,
            "linecolor": "white",
            "showbackground": true,
            "ticks": "",
            "zerolinecolor": "white"
           },
           "yaxis": {
            "backgroundcolor": "#E5ECF6",
            "gridcolor": "white",
            "gridwidth": 2,
            "linecolor": "white",
            "showbackground": true,
            "ticks": "",
            "zerolinecolor": "white"
           },
           "zaxis": {
            "backgroundcolor": "#E5ECF6",
            "gridcolor": "white",
            "gridwidth": 2,
            "linecolor": "white",
            "showbackground": true,
            "ticks": "",
            "zerolinecolor": "white"
           }
          },
          "shapedefaults": {
           "line": {
            "color": "#2a3f5f"
           }
          },
          "ternary": {
           "aaxis": {
            "gridcolor": "white",
            "linecolor": "white",
            "ticks": ""
           },
           "baxis": {
            "gridcolor": "white",
            "linecolor": "white",
            "ticks": ""
           },
           "bgcolor": "#E5ECF6",
           "caxis": {
            "gridcolor": "white",
            "linecolor": "white",
            "ticks": ""
           }
          },
          "title": {
           "x": 0.05
          },
          "xaxis": {
           "automargin": true,
           "gridcolor": "white",
           "linecolor": "white",
           "ticks": "",
           "title": {
            "standoff": 15
           },
           "zerolinecolor": "white",
           "zerolinewidth": 2
          },
          "yaxis": {
           "automargin": true,
           "gridcolor": "white",
           "linecolor": "white",
           "ticks": "",
           "title": {
            "standoff": 15
           },
           "zerolinecolor": "white",
           "zerolinewidth": 2
          }
         }
        },
        "xaxis": {
         "anchor": "y",
         "domain": [
          0,
          1
         ],
         "title": {
          "text": "index"
         }
        },
        "yaxis": {
         "anchor": "x",
         "domain": [
          0,
          1
         ],
         "title": {
          "text": "value"
         }
        }
       }
      }
     },
     "metadata": {},
     "output_type": "display_data"
    }
   ],
   "source": [
    "px.bar(compare[['Emissions_stCO2','Compliance Emissions (Tons)']],barmode='group')"
   ]
  },
  {
   "cell_type": "code",
   "execution_count": null,
   "metadata": {},
   "outputs": [],
   "source": []
  },
  {
   "cell_type": "markdown",
   "metadata": {},
   "source": [
    "### PJM Compare"
   ]
  },
  {
   "cell_type": "code",
   "execution_count": 82,
   "metadata": {},
   "outputs": [],
   "source": [
    "pjm = rggi_or_pjm_capacity[rggi_or_pjm_capacity['Balancing\\nAuthority Code']=='PJM']"
   ]
  },
  {
   "cell_type": "code",
   "execution_count": 83,
   "metadata": {},
   "outputs": [
    {
     "name": "stderr",
     "output_type": "stream",
     "text": [
      "C:\\Users\\Alex Child\\AppData\\Local\\Temp\\ipykernel_39220\\2863188609.py:1: SettingWithCopyWarning:\n",
      "\n",
      "\n",
      "A value is trying to be set on a copy of a slice from a DataFrame.\n",
      "Try using .loc[row_indexer,col_indexer] = value instead\n",
      "\n",
      "See the caveats in the documentation: https://pandas.pydata.org/pandas-docs/stable/user_guide/indexing.html#returning-a-view-versus-a-copy\n",
      "\n"
     ]
    }
   ],
   "source": [
    "pjm['In_RGGI'] = np.where((pjm['RGGI_state']==1) ,1,0 ) #& (pjm['Nameplate Capacity (MW)']>=25)"
   ]
  },
  {
   "cell_type": "code",
   "execution_count": 84,
   "metadata": {},
   "outputs": [
    {
     "ename": "KeyError",
     "evalue": "'Reported\\nPrime Mover'",
     "output_type": "error",
     "traceback": [
      "\u001b[1;31m---------------------------------------------------------------------------\u001b[0m",
      "\u001b[1;31mKeyError\u001b[0m                                  Traceback (most recent call last)",
      "Cell \u001b[1;32mIn[84], line 1\u001b[0m\n\u001b[1;32m----> 1\u001b[0m \u001b[43mpjm\u001b[49m\u001b[38;5;241;43m.\u001b[39;49m\u001b[43mgroupby\u001b[49m\u001b[43m(\u001b[49m\u001b[43m[\u001b[49m\u001b[38;5;124;43m'\u001b[39;49m\u001b[38;5;124;43mYEAR\u001b[39;49m\u001b[38;5;124;43m'\u001b[39;49m\u001b[43m,\u001b[49m\u001b[38;5;124;43m'\u001b[39;49m\u001b[38;5;124;43mmonth\u001b[39;49m\u001b[38;5;124;43m'\u001b[39;49m\u001b[43m,\u001b[49m\u001b[38;5;124;43m'\u001b[39;49m\u001b[38;5;124;43mReported\u001b[39;49m\u001b[38;5;130;43;01m\\n\u001b[39;49;00m\u001b[38;5;124;43mPrime Mover\u001b[39;49m\u001b[38;5;124;43m'\u001b[39;49m\u001b[43m,\u001b[49m\u001b[38;5;124;43m'\u001b[39;49m\u001b[38;5;124;43mRGGI_state\u001b[39;49m\u001b[38;5;124;43m'\u001b[39;49m\u001b[43m]\u001b[49m\u001b[43m)\u001b[49m[[\u001b[38;5;124m'\u001b[39m\u001b[38;5;124mNameplate Capacity (MW)\u001b[39m\u001b[38;5;124m'\u001b[39m,\u001b[38;5;124m'\u001b[39m\u001b[38;5;124mGeneration MWh\u001b[39m\u001b[38;5;124m'\u001b[39m]]\u001b[38;5;241m.\u001b[39msum()\u001b[38;5;241m.\u001b[39mloc[\u001b[38;5;241m2023\u001b[39m]\u001b[38;5;241m.\u001b[39munstack(\u001b[38;5;124m'\u001b[39m\u001b[38;5;124mRGGI_state\u001b[39m\u001b[38;5;124m'\u001b[39m)\u001b[38;5;241m.\u001b[39mtail(\u001b[38;5;241m20\u001b[39m)\n",
      "File \u001b[1;32m~\\AppData\\Local\\Packages\\PythonSoftwareFoundation.Python.3.9_qbz5n2kfra8p0\\LocalCache\\local-packages\\Python39\\site-packages\\pandas\\core\\frame.py:8402\u001b[0m, in \u001b[0;36mDataFrame.groupby\u001b[1;34m(self, by, axis, level, as_index, sort, group_keys, squeeze, observed, dropna)\u001b[0m\n\u001b[0;32m   8399\u001b[0m     \u001b[38;5;28;01mraise\u001b[39;00m \u001b[38;5;167;01mTypeError\u001b[39;00m(\u001b[38;5;124m\"\u001b[39m\u001b[38;5;124mYou have to supply one of \u001b[39m\u001b[38;5;124m'\u001b[39m\u001b[38;5;124mby\u001b[39m\u001b[38;5;124m'\u001b[39m\u001b[38;5;124m and \u001b[39m\u001b[38;5;124m'\u001b[39m\u001b[38;5;124mlevel\u001b[39m\u001b[38;5;124m'\u001b[39m\u001b[38;5;124m\"\u001b[39m)\n\u001b[0;32m   8400\u001b[0m axis \u001b[38;5;241m=\u001b[39m \u001b[38;5;28mself\u001b[39m\u001b[38;5;241m.\u001b[39m_get_axis_number(axis)\n\u001b[1;32m-> 8402\u001b[0m \u001b[38;5;28;01mreturn\u001b[39;00m \u001b[43mDataFrameGroupBy\u001b[49m\u001b[43m(\u001b[49m\n\u001b[0;32m   8403\u001b[0m \u001b[43m    \u001b[49m\u001b[43mobj\u001b[49m\u001b[38;5;241;43m=\u001b[39;49m\u001b[38;5;28;43mself\u001b[39;49m\u001b[43m,\u001b[49m\n\u001b[0;32m   8404\u001b[0m \u001b[43m    \u001b[49m\u001b[43mkeys\u001b[49m\u001b[38;5;241;43m=\u001b[39;49m\u001b[43mby\u001b[49m\u001b[43m,\u001b[49m\n\u001b[0;32m   8405\u001b[0m \u001b[43m    \u001b[49m\u001b[43maxis\u001b[49m\u001b[38;5;241;43m=\u001b[39;49m\u001b[43maxis\u001b[49m\u001b[43m,\u001b[49m\n\u001b[0;32m   8406\u001b[0m \u001b[43m    \u001b[49m\u001b[43mlevel\u001b[49m\u001b[38;5;241;43m=\u001b[39;49m\u001b[43mlevel\u001b[49m\u001b[43m,\u001b[49m\n\u001b[0;32m   8407\u001b[0m \u001b[43m    \u001b[49m\u001b[43mas_index\u001b[49m\u001b[38;5;241;43m=\u001b[39;49m\u001b[43mas_index\u001b[49m\u001b[43m,\u001b[49m\n\u001b[0;32m   8408\u001b[0m \u001b[43m    \u001b[49m\u001b[43msort\u001b[49m\u001b[38;5;241;43m=\u001b[39;49m\u001b[43msort\u001b[49m\u001b[43m,\u001b[49m\n\u001b[0;32m   8409\u001b[0m \u001b[43m    \u001b[49m\u001b[43mgroup_keys\u001b[49m\u001b[38;5;241;43m=\u001b[39;49m\u001b[43mgroup_keys\u001b[49m\u001b[43m,\u001b[49m\n\u001b[0;32m   8410\u001b[0m \u001b[43m    \u001b[49m\u001b[43msqueeze\u001b[49m\u001b[38;5;241;43m=\u001b[39;49m\u001b[43msqueeze\u001b[49m\u001b[43m,\u001b[49m\n\u001b[0;32m   8411\u001b[0m \u001b[43m    \u001b[49m\u001b[43mobserved\u001b[49m\u001b[38;5;241;43m=\u001b[39;49m\u001b[43mobserved\u001b[49m\u001b[43m,\u001b[49m\n\u001b[0;32m   8412\u001b[0m \u001b[43m    \u001b[49m\u001b[43mdropna\u001b[49m\u001b[38;5;241;43m=\u001b[39;49m\u001b[43mdropna\u001b[49m\u001b[43m,\u001b[49m\n\u001b[0;32m   8413\u001b[0m \u001b[43m\u001b[49m\u001b[43m)\u001b[49m\n",
      "File \u001b[1;32m~\\AppData\\Local\\Packages\\PythonSoftwareFoundation.Python.3.9_qbz5n2kfra8p0\\LocalCache\\local-packages\\Python39\\site-packages\\pandas\\core\\groupby\\groupby.py:965\u001b[0m, in \u001b[0;36mGroupBy.__init__\u001b[1;34m(self, obj, keys, axis, level, grouper, exclusions, selection, as_index, sort, group_keys, squeeze, observed, mutated, dropna)\u001b[0m\n\u001b[0;32m    962\u001b[0m \u001b[38;5;28;01mif\u001b[39;00m grouper \u001b[38;5;129;01mis\u001b[39;00m \u001b[38;5;28;01mNone\u001b[39;00m:\n\u001b[0;32m    963\u001b[0m     \u001b[38;5;28;01mfrom\u001b[39;00m \u001b[38;5;21;01mpandas\u001b[39;00m\u001b[38;5;21;01m.\u001b[39;00m\u001b[38;5;21;01mcore\u001b[39;00m\u001b[38;5;21;01m.\u001b[39;00m\u001b[38;5;21;01mgroupby\u001b[39;00m\u001b[38;5;21;01m.\u001b[39;00m\u001b[38;5;21;01mgrouper\u001b[39;00m \u001b[38;5;28;01mimport\u001b[39;00m get_grouper\n\u001b[1;32m--> 965\u001b[0m     grouper, exclusions, obj \u001b[38;5;241m=\u001b[39m \u001b[43mget_grouper\u001b[49m\u001b[43m(\u001b[49m\n\u001b[0;32m    966\u001b[0m \u001b[43m        \u001b[49m\u001b[43mobj\u001b[49m\u001b[43m,\u001b[49m\n\u001b[0;32m    967\u001b[0m \u001b[43m        \u001b[49m\u001b[43mkeys\u001b[49m\u001b[43m,\u001b[49m\n\u001b[0;32m    968\u001b[0m \u001b[43m        \u001b[49m\u001b[43maxis\u001b[49m\u001b[38;5;241;43m=\u001b[39;49m\u001b[43maxis\u001b[49m\u001b[43m,\u001b[49m\n\u001b[0;32m    969\u001b[0m \u001b[43m        \u001b[49m\u001b[43mlevel\u001b[49m\u001b[38;5;241;43m=\u001b[39;49m\u001b[43mlevel\u001b[49m\u001b[43m,\u001b[49m\n\u001b[0;32m    970\u001b[0m \u001b[43m        \u001b[49m\u001b[43msort\u001b[49m\u001b[38;5;241;43m=\u001b[39;49m\u001b[43msort\u001b[49m\u001b[43m,\u001b[49m\n\u001b[0;32m    971\u001b[0m \u001b[43m        \u001b[49m\u001b[43mobserved\u001b[49m\u001b[38;5;241;43m=\u001b[39;49m\u001b[43mobserved\u001b[49m\u001b[43m,\u001b[49m\n\u001b[0;32m    972\u001b[0m \u001b[43m        \u001b[49m\u001b[43mmutated\u001b[49m\u001b[38;5;241;43m=\u001b[39;49m\u001b[38;5;28;43mself\u001b[39;49m\u001b[38;5;241;43m.\u001b[39;49m\u001b[43mmutated\u001b[49m\u001b[43m,\u001b[49m\n\u001b[0;32m    973\u001b[0m \u001b[43m        \u001b[49m\u001b[43mdropna\u001b[49m\u001b[38;5;241;43m=\u001b[39;49m\u001b[38;5;28;43mself\u001b[39;49m\u001b[38;5;241;43m.\u001b[39;49m\u001b[43mdropna\u001b[49m\u001b[43m,\u001b[49m\n\u001b[0;32m    974\u001b[0m \u001b[43m    \u001b[49m\u001b[43m)\u001b[49m\n\u001b[0;32m    976\u001b[0m \u001b[38;5;28mself\u001b[39m\u001b[38;5;241m.\u001b[39mobj \u001b[38;5;241m=\u001b[39m obj\n\u001b[0;32m    977\u001b[0m \u001b[38;5;28mself\u001b[39m\u001b[38;5;241m.\u001b[39maxis \u001b[38;5;241m=\u001b[39m obj\u001b[38;5;241m.\u001b[39m_get_axis_number(axis)\n",
      "File \u001b[1;32m~\\AppData\\Local\\Packages\\PythonSoftwareFoundation.Python.3.9_qbz5n2kfra8p0\\LocalCache\\local-packages\\Python39\\site-packages\\pandas\\core\\groupby\\grouper.py:888\u001b[0m, in \u001b[0;36mget_grouper\u001b[1;34m(obj, key, axis, level, sort, observed, mutated, validate, dropna)\u001b[0m\n\u001b[0;32m    886\u001b[0m         in_axis, level, gpr \u001b[38;5;241m=\u001b[39m \u001b[38;5;28;01mFalse\u001b[39;00m, gpr, \u001b[38;5;28;01mNone\u001b[39;00m\n\u001b[0;32m    887\u001b[0m     \u001b[38;5;28;01melse\u001b[39;00m:\n\u001b[1;32m--> 888\u001b[0m         \u001b[38;5;28;01mraise\u001b[39;00m \u001b[38;5;167;01mKeyError\u001b[39;00m(gpr)\n\u001b[0;32m    889\u001b[0m \u001b[38;5;28;01melif\u001b[39;00m \u001b[38;5;28misinstance\u001b[39m(gpr, Grouper) \u001b[38;5;129;01mand\u001b[39;00m gpr\u001b[38;5;241m.\u001b[39mkey \u001b[38;5;129;01mis\u001b[39;00m \u001b[38;5;129;01mnot\u001b[39;00m \u001b[38;5;28;01mNone\u001b[39;00m:\n\u001b[0;32m    890\u001b[0m     \u001b[38;5;66;03m# Add key to exclusions\u001b[39;00m\n\u001b[0;32m    891\u001b[0m     exclusions\u001b[38;5;241m.\u001b[39madd(gpr\u001b[38;5;241m.\u001b[39mkey)\n",
      "\u001b[1;31mKeyError\u001b[0m: 'Reported\\nPrime Mover'"
     ]
    }
   ],
   "source": [
    "pjm.groupby(['YEAR','month','Reported\\nPrime Mover','RGGI_state'])[['Nameplate Capacity (MW)','Generation MWh']].sum().loc[2023].unstack('RGGI_state').tail(20)"
   ]
  },
  {
   "cell_type": "code",
   "execution_count": null,
   "metadata": {},
   "outputs": [],
   "source": [
    "6001.4/28784.7"
   ]
  },
  {
   "cell_type": "code",
   "execution_count": null,
   "metadata": {},
   "outputs": [],
   "source": [
    "177179.934/1.314021e+06"
   ]
  },
  {
   "cell_type": "code",
   "execution_count": null,
   "metadata": {},
   "outputs": [],
   "source": [
    "px.bar(pjm.groupby(['Date','In_RGGI'])['Emissions_stCO2'].sum().unstack())"
   ]
  },
  {
   "cell_type": "code",
   "execution_count": null,
   "metadata": {},
   "outputs": [],
   "source": [
    "pjm.columns"
   ]
  },
  {
   "cell_type": "code",
   "execution_count": null,
   "metadata": {},
   "outputs": [],
   "source": [
    "px.bar(pjm.query('Emissions_stCO2>0').groupby(['Date','In_RGGI'])['Nameplate Capacity (MW)'].count().unstack())"
   ]
  },
  {
   "cell_type": "code",
   "execution_count": null,
   "metadata": {},
   "outputs": [],
   "source": [
    "list(pjm.query('YEAR==2023 and Emissions_stCO2>0')['Plant Id'][~(pjm.query('YEAR==2023 and Emissions_stCO2>0')['Plant Id'].isin(pjm.query('YEAR==2024 and Emissions_stCO2>0')['Plant Id'].unique()))].unique())"
   ]
  },
  {
   "cell_type": "code",
   "execution_count": null,
   "metadata": {},
   "outputs": [],
   "source": [
    "pjm.query('YEAR==2023 and `Plant Id`==1353')"
   ]
  },
  {
   "cell_type": "code",
   "execution_count": null,
   "metadata": {},
   "outputs": [],
   "source": [
    "pjm.query('YEAR==2024 and `Plant Id`==1353')"
   ]
  },
  {
   "cell_type": "code",
   "execution_count": null,
   "metadata": {},
   "outputs": [],
   "source": [
    "mega_gen_fuel_df.query('RGGI_state==1 or `Balancing\\nAuthority Code`==\"PJM\" ')"
   ]
  },
  {
   "cell_type": "code",
   "execution_count": null,
   "metadata": {},
   "outputs": [],
   "source": [
    "mega_gen_fuel_df[gen_cols] = mega_gen_fuel_df[gen_cols].replace('...',0).replace('.',0)"
   ]
  },
  {
   "cell_type": "code",
   "execution_count": null,
   "metadata": {},
   "outputs": [],
   "source": [
    "PJM_compare = mega_gen_fuel_df[mega_gen_fuel_df['Balancing\\nAuthority Code']=='PJM'].groupby(['RGGI_state','YEAR','Reported\\nFuel Type Code'])[gen_cols].mean()"
   ]
  },
  {
   "cell_type": "code",
   "execution_count": null,
   "metadata": {},
   "outputs": [],
   "source": [
    "PJM_compare.columns = [x.split('\\n')[-1] for x in PJM_compare.columns]"
   ]
  },
  {
   "cell_type": "code",
   "execution_count": null,
   "metadata": {},
   "outputs": [],
   "source": [
    "PJM_compare = PJM_compare.stack().to_frame('Generation').reset_index()"
   ]
  },
  {
   "cell_type": "code",
   "execution_count": null,
   "metadata": {},
   "outputs": [],
   "source": [
    "PJM_compare['full_date'] = '01/'+PJM_compare['level_3']+'/'+PJM_compare['YEAR'].astype(str) "
   ]
  },
  {
   "cell_type": "code",
   "execution_count": null,
   "metadata": {},
   "outputs": [],
   "source": [
    "PJM_compare['date'] = pd.to_datetime(PJM_compare['full_date'],format='%d/%B/%Y')"
   ]
  },
  {
   "cell_type": "code",
   "execution_count": null,
   "metadata": {},
   "outputs": [],
   "source": [
    "PJM_compare_pivot = PJM_compare.pivot_table(index='date',columns=['Reported\\nFuel Type Code','RGGI_state'],values='Generation')"
   ]
  },
  {
   "cell_type": "code",
   "execution_count": null,
   "metadata": {},
   "outputs": [],
   "source": [
    "PJM_compare_pivot.columns.get_level_values(0).unique()"
   ]
  },
  {
   "cell_type": "code",
   "execution_count": null,
   "metadata": {},
   "outputs": [],
   "source": [
    "px.line(PJM_compare_pivot['BIT'].cumsum())"
   ]
  },
  {
   "cell_type": "code",
   "execution_count": null,
   "metadata": {},
   "outputs": [],
   "source": [
    "gen_cols.append('YEAR')"
   ]
  },
  {
   "cell_type": "code",
   "execution_count": null,
   "metadata": {},
   "outputs": [],
   "source": [
    "px.line(mega_gen_fuel_df.query('`Plant Name`==\"Brandon Shores\"')[gen_cols].groupby('YEAR').sum().transpose().replace('...',0).cumsum())"
   ]
  },
  {
   "cell_type": "code",
   "execution_count": null,
   "metadata": {},
   "outputs": [],
   "source": []
  }
 ],
 "metadata": {
  "kernelspec": {
   "display_name": "Python 3",
   "language": "python",
   "name": "python3"
  },
  "language_info": {
   "codemirror_mode": {
    "name": "ipython",
    "version": 3
   },
   "file_extension": ".py",
   "mimetype": "text/x-python",
   "name": "python",
   "nbconvert_exporter": "python",
   "pygments_lexer": "ipython3",
   "version": "3.9.13"
  }
 },
 "nbformat": 4,
 "nbformat_minor": 2
}
